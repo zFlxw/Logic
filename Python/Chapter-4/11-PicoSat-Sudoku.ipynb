{
 "cells": [
  {
   "cell_type": "code",
   "execution_count": null,
   "metadata": {},
   "outputs": [],
   "source": [
    "from IPython.display import HTML\n",
    "HTML(open('../style.css').read())"
   ]
  },
  {
   "cell_type": "markdown",
   "metadata": {},
   "source": [
    "# PicoSat"
   ]
  },
  {
   "cell_type": "markdown",
   "metadata": {},
   "source": [
    "[PicoSat](https://fmv.jku.at/picosat/) is a SAT solver by [Armine Biere](https://cca.informatik.uni-freiburg.de/biere/).\n",
    "A [Python API](https://github.com/conda/pycosat) to this solver is available as [pycosat](https://pypi.org/project/pycosat/).  We can install it via `pip`."
   ]
  },
  {
   "cell_type": "code",
   "execution_count": null,
   "metadata": {},
   "outputs": [],
   "source": [
    "pip install pycosat"
   ]
  },
  {
   "cell_type": "code",
   "execution_count": null,
   "metadata": {},
   "outputs": [],
   "source": [
    "import pycosat"
   ]
  },
  {
   "cell_type": "markdown",
   "metadata": {},
   "source": [
    "In *PicoSat* propositional variables are represented as follows:\n",
    "* A propositional variable $p$ is represented as a positive natural number.\n",
    "* If $n$ is the natural number representing the propositional variable $p$, then $\\neg p$ is represented as the integer $-n$.\n",
    "* A clause is represented as a list of integers.\n",
    "* A formula in CNF is represented as a list of clauses and hence as a list of list of integers.\n",
    "\n",
    "For example, if the propositional variables $p$, $q$, and $r$ are represented as the natural numbers\n",
    "$1$, $2$, and $3$ respectively, then \n",
    "* $p \\vee \\neg q \\vee r$ is represented as the list `[1, -2, 3]`,\n",
    "* $\\neg p \\vee q \\vee \\neg r$ is represented as the list `[-1, 2, -3]`,\n",
    "* $\\neg p \\vee \\neg q \\vee r$ is represented as the list `[-1, -2, 3]`, and\n",
    "* $p \\vee q \\vee \\neg r$ is represented as the list `[1, 2, -3]`.\n",
    "\n",
    "Finally, the formula \n",
    "$$ (p \\vee \\neg q \\vee r) \\wedge (\\neg p \\vee q \\vee \\neg r) \\wedge (\\neg p \\vee \\neg q \\vee r) \\wedge (p \\vee q \\vee \\neg r), $$\n",
    "which is in conjunctive normal form, is represented as follows:\n",
    "```\n",
    "   [ [1, -2, 3], [-1, 2, -3], [-1, -2, 3], [1, 2, -3] ]\n",
    "```"
   ]
  },
  {
   "cell_type": "code",
   "execution_count": null,
   "metadata": {},
   "outputs": [],
   "source": [
    "f = [ [1, -2, 3], [-1, 2, -3], [-1, -2, 3], [1, 2, -3] ]"
   ]
  },
  {
   "cell_type": "markdown",
   "metadata": {},
   "source": [
    "In order to check whether this formula is satifiable, we can use the method `pycosat.solve` as follows:"
   ]
  },
  {
   "cell_type": "code",
   "execution_count": null,
   "metadata": {},
   "outputs": [],
   "source": [
    "pycosat.solve(f)"
   ]
  },
  {
   "cell_type": "markdown",
   "metadata": {},
   "source": [
    "This shows that the formula `f` is satisfiable and that the  propositional valuation \n",
    "$$ \\mathcal{I} = \\{ p \\mapsto \\texttt{False}, q \\mapsto \\texttt{False}, r \\mapsto \\texttt{False} \\} $$\n",
    "is a solution for `f`, i.e. we have\n",
    "$$ \\mathcal{I}(\\texttt{f}) = \\texttt{True}. $$"
   ]
  },
  {
   "cell_type": "markdown",
   "metadata": {},
   "source": [
    "## Transforming Clauses into PyCoSat Format"
   ]
  },
  {
   "cell_type": "markdown",
   "metadata": {},
   "source": [
    "In order to use *PicoSat* for the examples discussed in our lecture, we need a function that transforms a formula that is in conjunctive normal form\n",
    "into the format of *PicoSat*.  Furthermore, we need a function that can translate a solution found by *PicoSat* back into our format."
   ]
  },
  {
   "cell_type": "markdown",
   "metadata": {},
   "source": [
    "The function `findVariables` takes a set of `Clauses` and returns the set of all propositional variables\n",
    "occurring in this set.  "
   ]
  },
  {
   "cell_type": "code",
   "execution_count": null,
   "metadata": {},
   "outputs": [],
   "source": [
    "def findVariables(Clauses):\n",
    "    Variables = set()\n",
    "    for Clause in Clauses:\n",
    "        for literal in Clause:\n",
    "            match literal:\n",
    "                case ('¬', var): Variables |= { var }\n",
    "                case var       : Variables |= { var }\n",
    "    return Variables"
   ]
  },
  {
   "cell_type": "markdown",
   "metadata": {},
   "source": [
    "The function `numberVariables(Clauses)` takes a set of `Clauses` as input.  It returns two dictionaries:\n",
    "* The dictionary `Var2Int` maps every propositional variable occurring in `Clauses` to a unique natural number.\n",
    "* The dictionary `Int2Var` is the mapping that is inverse to the dictionary `Var2Int`."
   ]
  },
  {
   "cell_type": "code",
   "execution_count": null,
   "metadata": {},
   "outputs": [],
   "source": [
    "def numberVariables(Clauses):\n",
    "    Variables = findVariables(Clauses)\n",
    "    count     = 1\n",
    "    Var2Int   = {}\n",
    "    Int2Var   = {}\n",
    "    for variable in Variables:\n",
    "        Var2Int[variable] = count\n",
    "        Int2Var[count   ] = variable\n",
    "        count += 1\n",
    "    return Var2Int, Int2Var"
   ]
  },
  {
   "cell_type": "markdown",
   "metadata": {},
   "source": [
    "The function `literal2int` takes a literal and transforms this literal into an integer\n",
    "representing the literal.  If the literal is a negated variable, the integer is negative, else it is positive.\n",
    "`Var2Int` is a dictionary mapping propositional variables to natural numbers."
   ]
  },
  {
   "cell_type": "code",
   "execution_count": null,
   "metadata": {},
   "outputs": [],
   "source": [
    "def literal2int(literal, Var2Int):\n",
    "    match literal:\n",
    "        case ('¬', var): return -Var2Int[var]\n",
    "        case var       : return  Var2Int[var]"
   ]
  },
  {
   "cell_type": "markdown",
   "metadata": {},
   "source": [
    "The function `clause2pyco(Clause, Var2Int)` transforms a set of literals into a list of integers.\n",
    "`Var2Int` is a dictionary mapping the propositional variables to integers."
   ]
  },
  {
   "cell_type": "code",
   "execution_count": null,
   "metadata": {},
   "outputs": [],
   "source": [
    "def clause2pyco(Clause, Var2Int):\n",
    "    return [literal2int(literal, Var2Int) for literal in Clause]"
   ]
  },
  {
   "cell_type": "markdown",
   "metadata": {},
   "source": [
    "The function `clauses2pyco(Clauses, Var2Int)` transforms a set of `Clauses` into a list of lists of integers.\n",
    "`Var2Int` is a dictionary mapping the propositional variables to integers."
   ]
  },
  {
   "cell_type": "code",
   "execution_count": null,
   "metadata": {},
   "outputs": [],
   "source": [
    "def clauses2pyco(Clauses, Var2Int):\n",
    "    return [clause2pyco(clause, Var2Int) for clause in Clauses ]"
   ]
  },
  {
   "cell_type": "markdown",
   "metadata": {},
   "source": [
    "The function `int2var(Numbers, Int2Var)` takes a list of numbers representing a set of literals\n",
    "and returns the associated list of literals."
   ]
  },
  {
   "cell_type": "code",
   "execution_count": null,
   "metadata": {},
   "outputs": [],
   "source": [
    "def int2var(Numbers, Int2Var):\n",
    "    Result = set()\n",
    "    for n in Numbers:\n",
    "        if n > 0:\n",
    "            Result |= {frozenset({Int2Var[n]})}\n",
    "        else: \n",
    "            Result |= {frozenset({ ('¬', Int2Var[-n]) })}\n",
    "    return Result"
   ]
  },
  {
   "cell_type": "markdown",
   "metadata": {},
   "source": [
    "## Sudoku"
   ]
  },
  {
   "cell_type": "markdown",
   "metadata": {},
   "source": [
    "The finish mathematician Arto Inkala claims to have created the [hardest sudoku](https://abcnews.go.com/blogs/headlines/2012/06/can-you-solve-the-hardest-ever-sudoku) ever.  It is defined below."
   ]
  },
  {
   "cell_type": "code",
   "execution_count": null,
   "metadata": {},
   "outputs": [],
   "source": [
    "def create_puzzle():\n",
    "    return [ [ 8 , \"*\", \"*\", \"*\", \"*\", \"*\", \"*\", \"*\", \"*\"], \n",
    "             [\"*\", \"*\",  3 ,  6 , \"*\", \"*\", \"*\", \"*\", \"*\"],\n",
    "             [\"*\",  7 , \"*\", \"*\",  9 , \"*\",  2 , \"*\", \"*\"],\n",
    "             [\"*\",  5 , \"*\", \"*\", \"*\",  7 , \"*\", \"*\", \"*\"],\n",
    "             [\"*\", \"*\", \"*\", \"*\",  4 ,  5 ,  7 , \"*\", \"*\"],\n",
    "             [\"*\", \"*\", \"*\",  1 , \"*\", \"*\", \"*\",  3 , \"*\"],\n",
    "             [\"*\", \"*\",  1 , \"*\", \"*\", \"*\", \"*\",  6 ,  8 ],\n",
    "             [\"*\", \"*\",  8 ,  5 , \"*\", \"*\", \"*\",  1 , \"*\"],\n",
    "             [\"*\",  9 , \"*\", \"*\", \"*\", \"*\",  4 , \"*\", \"*\"]\n",
    "           ]"
   ]
  },
  {
   "cell_type": "markdown",
   "metadata": {},
   "source": [
    "We will solve this Sudoku using the Davis-Putnam algorithm.  We use the following variables:\n",
    "* `Q<r,c,d>` is a Boolean variable stating that the field in row `r` and column `c` holds the digit `d`.\n",
    "  Here, `r`, `c`, `d` are all elements from the set $\\{1,\\cdots,9\\}$.\n",
    "    \n",
    "The function `var(row, col, digit)` returns a formated string that is interpreted as a variable name."
   ]
  },
  {
   "cell_type": "code",
   "execution_count": null,
   "metadata": {},
   "outputs": [],
   "source": [
    "def var(row, col, digit):\n",
    "    return f'Q<{row},{col},{digit}>'"
   ]
  },
  {
   "cell_type": "code",
   "execution_count": null,
   "metadata": {},
   "outputs": [],
   "source": [
    "var(1,2,3)"
   ]
  },
  {
   "cell_type": "markdown",
   "metadata": {},
   "source": [
    "The function `atMostOne(S)` takes a set `S` of propositional variables as its argument.  It returns a set of clauses\n",
    "expressing the fact that at most one of the variables of `S` is true."
   ]
  },
  {
   "cell_type": "code",
   "execution_count": null,
   "metadata": {},
   "outputs": [],
   "source": [
    "def atMostOne(S): \n",
    "    return { frozenset({('¬', p), ('¬', q)}) for p in S\n",
    "                                             for q in S \n",
    "                                             if  p < q \n",
    "           }"
   ]
  },
  {
   "cell_type": "markdown",
   "metadata": {},
   "source": [
    "The function `atLeastOne(S)` takes a set `S` of propositional variables as its argument.  It returns a set of clauses\n",
    "expressing the fact that at least one of the variables of `S` is true."
   ]
  },
  {
   "cell_type": "code",
   "execution_count": null,
   "metadata": {},
   "outputs": [],
   "source": [
    "def atLeastOne(S):\n",
    "    return { frozenset(S) }"
   ]
  },
  {
   "cell_type": "markdown",
   "metadata": {},
   "source": [
    "The function `exactlyOne(S)` takes a set `S` of propositional variables as its argument.  It returns a set of clauses\n",
    "expressing the fact that exactly one of the variables of `S` is true."
   ]
  },
  {
   "cell_type": "code",
   "execution_count": null,
   "metadata": {},
   "outputs": [],
   "source": [
    "def exactlyOne(S):\n",
    "    return atMostOne(S) | atLeastOne(S)"
   ]
  },
  {
   "cell_type": "code",
   "execution_count": null,
   "metadata": {},
   "outputs": [],
   "source": [
    "exactlyOne({'a', 'b', 'c'})"
   ]
  },
  {
   "cell_type": "markdown",
   "metadata": {},
   "source": [
    "The function `allDifferent` takes a list `L` of pairs of indices as its argument.  The elements of `L` are pairs of the form\n",
    "`(row, col)`, where both `row` and `col` are elements of the set $\\{1, \\cdots, 9\\}$.\n",
    "It returns a set of formulas expressing that all Sudoku fields specified by the coordinate pairs in `L` take different digits as values."
   ]
  },
  {
   "cell_type": "code",
   "execution_count": null,
   "metadata": {},
   "outputs": [],
   "source": [
    "def allDifferent(L):\n",
    "    Clauses = set()\n",
    "    for digit in range(1, 10):\n",
    "        Clauses |= exactlyOne({ var(row, col, digit)  for col, row in L })\n",
    "    return Clauses                                                         "
   ]
  },
  {
   "cell_type": "code",
   "execution_count": null,
   "metadata": {},
   "outputs": [],
   "source": [
    "allDifferent([(1,c) for c in range(1,10)])"
   ]
  },
  {
   "cell_type": "markdown",
   "metadata": {},
   "source": [
    "The function `exactlyOneDigit(row, col)` takes integers `row` and `col` as arguments.  These specify the row and column of a field in a Sudoku.  The function returns a set of clauses specifying that exactly one of the variables\n",
    "\n",
    "* `Q<row,col,1>`, `Q<row,col,2>`, $\\cdots$, `Q<row,col,9>`\n",
    "\n",
    "is `True`."
   ]
  },
  {
   "cell_type": "code",
   "execution_count": null,
   "metadata": {},
   "outputs": [],
   "source": [
    "def exactlyOneDigit(row, col):\n",
    "    return exactlyOne({ var(row, col, digit) for digit in range(1, 10) })"
   ]
  },
  {
   "cell_type": "code",
   "execution_count": null,
   "metadata": {},
   "outputs": [],
   "source": [
    "exactlyOneDigit(1, 1)"
   ]
  },
  {
   "cell_type": "markdown",
   "metadata": {},
   "source": [
    "The function `constraints_from_puzzle`  returns a set of clauses stating that the variables corresponding to numbers that are already given in the Sudoku puzzle take the values that are specified."
   ]
  },
  {
   "cell_type": "code",
   "execution_count": null,
   "metadata": {},
   "outputs": [],
   "source": [
    "def constraints_from_puzzle():\n",
    "    Puzzle = create_puzzle()\n",
    "    Variables = [ var(row + 1, col + 1, Puzzle[row][col]) for row in range(9)\n",
    "                                                          for col in range(9)\n",
    "                                                          if  Puzzle[row][col] != '*'\n",
    "                ]\n",
    "    return { frozenset({ var }) for var in Variables }"
   ]
  },
  {
   "cell_type": "code",
   "execution_count": null,
   "metadata": {},
   "outputs": [],
   "source": [
    "constraints_from_puzzle()"
   ]
  },
  {
   "cell_type": "markdown",
   "metadata": {},
   "source": [
    "The function `all_constraints` returns a CSP that encodes the given sudoku as a CSP."
   ]
  },
  {
   "cell_type": "code",
   "execution_count": null,
   "metadata": {},
   "outputs": [],
   "source": [
    "def all_constraints(): \n",
    "    L = [1, 2, 3, 4, 5, 6, 7, 8, 9]\n",
    "    # the constraints from the puzzle have to be satisfied\n",
    "    Clauses = constraints_from_puzzle()\n",
    "    # there is exactly one digit in every field\n",
    "    for row in L:\n",
    "        for col in L:\n",
    "            Clauses |= exactlyOneDigit(row, col) \n",
    "    # all entries in a row are unique\n",
    "    for row in L:\n",
    "        Clauses |= allDifferent([ (row, col) for col in L ]) \n",
    "    # all entries in a column are unique\n",
    "    for col in L:\n",
    "        Clauses |= allDifferent([ (row, col) for row in L ])\n",
    "    # all entries in a 3x3 square are unique    \n",
    "    for r in range(3):\n",
    "        for c in range(3):\n",
    "            S = [ (r * 3 + row, c * 3 + col) for row in range(1, 4)\n",
    "                                             for col in range(1, 4) \n",
    "                ]\n",
    "            Clauses |= allDifferent(S)\n",
    "    return Clauses"
   ]
  },
  {
   "cell_type": "code",
   "execution_count": null,
   "metadata": {},
   "outputs": [],
   "source": [
    "for Clause in all_constraints():\n",
    "    if len(Clause) == 1:\n",
    "        print(set(Clause))\n",
    "for Clause in all_constraints():\n",
    "    if len(Clause) == 9:\n",
    "        print(set(Clause))"
   ]
  },
  {
   "cell_type": "code",
   "execution_count": null,
   "metadata": {},
   "outputs": [],
   "source": [
    "len(all_constraints())"
   ]
  },
  {
   "cell_type": "markdown",
   "metadata": {},
   "source": [
    "The function `solve(Constraints, Variables)` receives two arguments:\n",
    "- `Constraints` is a set of formulas representing a constraint satisfaction problem.\n",
    "- `Variables`   is the set of variables that occur in this formulas.\n",
    "\n",
    "The function computes a solution to the given problem and returns this solution."
   ]
  },
  {
   "cell_type": "code",
   "execution_count": null,
   "metadata": {},
   "outputs": [],
   "source": [
    "def sudoku():\n",
    "    Clauses  = all_constraints()\n",
    "    V2I, I2V = numberVariables(Clauses)\n",
    "    Clauses  = clauses2pyco(Clauses, V2I)\n",
    "    Solution = pycosat.solve(Clauses)\n",
    "    if Solution != []:\n",
    "        return int2var(Solution, I2V)\n",
    "    else:\n",
    "        print(f'The problem is not solvable!')\n",
    "        return None"
   ]
  },
  {
   "cell_type": "code",
   "execution_count": null,
   "metadata": {},
   "outputs": [],
   "source": [
    "9**3"
   ]
  },
  {
   "cell_type": "markdown",
   "metadata": {},
   "source": [
    "Even though this Sudoku is modelled using $9^3 = 729$ propositional variables and we have 10551 clauses, PicoSat uses less than 40 milliseconds to solve the problem. "
   ]
  },
  {
   "cell_type": "code",
   "execution_count": null,
   "metadata": {},
   "outputs": [],
   "source": [
    "%%time\n",
    "Solution = sudoku()"
   ]
  },
  {
   "cell_type": "markdown",
   "metadata": {},
   "source": [
    "The function `remove_negative` removes the negative literals from the given solution `S` and returns the set of variables that have to be `True`.  "
   ]
  },
  {
   "cell_type": "code",
   "execution_count": null,
   "metadata": {},
   "outputs": [],
   "source": [
    "def remove_negative(S):\n",
    "    return { l for C in S for l in C if not l[0] == '¬'}"
   ]
  },
  {
   "cell_type": "code",
   "execution_count": null,
   "metadata": {},
   "outputs": [],
   "source": [
    "Solution = remove_negative(Solution)"
   ]
  },
  {
   "cell_type": "code",
   "execution_count": null,
   "metadata": {},
   "outputs": [],
   "source": [
    "Solution"
   ]
  },
  {
   "cell_type": "markdown",
   "metadata": {},
   "source": [
    "## Graphical Representation"
   ]
  },
  {
   "cell_type": "markdown",
   "metadata": {},
   "source": [
    "The following line needs to be executed once to install the package `problem_visuals`."
   ]
  },
  {
   "cell_type": "code",
   "execution_count": null,
   "metadata": {},
   "outputs": [],
   "source": [
    "!pip install git+https://github.com/reclinarka/problem_visuals"
   ]
  },
  {
   "cell_type": "code",
   "execution_count": null,
   "metadata": {},
   "outputs": [],
   "source": [
    "from problem_visuals.games.sudoku.grid import Grid"
   ]
  },
  {
   "cell_type": "code",
   "execution_count": null,
   "metadata": {},
   "outputs": [],
   "source": [
    "def arb(S):\n",
    "    for x in S:\n",
    "        return S"
   ]
  },
  {
   "cell_type": "code",
   "execution_count": null,
   "metadata": {},
   "outputs": [],
   "source": [
    "def transform_solution(Solution):\n",
    "    Result = {}\n",
    "    for variable in Solution:\n",
    "        row   = int(variable[2:3])\n",
    "        col   = int(variable[4:5])\n",
    "        digit = int(variable[6:7])\n",
    "        Result[f'V{row}{col}'] = digit\n",
    "    return Result"
   ]
  },
  {
   "cell_type": "code",
   "execution_count": null,
   "metadata": {},
   "outputs": [],
   "source": [
    "transform_solution(Solution)"
   ]
  },
  {
   "cell_type": "code",
   "execution_count": null,
   "metadata": {},
   "outputs": [],
   "source": [
    "def show_solution(Solution, width='50%'):\n",
    "    Solution = transform_solution(Solution)\n",
    "    Sudoku = create_puzzle()\n",
    "    for row in range(9):\n",
    "        for col in range(9):\n",
    "            if Sudoku[row][col] != '*':\n",
    "                del Solution[f'V{row+1}{col+1}']\n",
    "    return Grid(state=Sudoku, assigned=Solution, html_width=width)"
   ]
  },
  {
   "cell_type": "code",
   "execution_count": null,
   "metadata": {},
   "outputs": [],
   "source": [
    "show_solution(Solution)"
   ]
  },
  {
   "cell_type": "code",
   "execution_count": null,
   "metadata": {},
   "outputs": [],
   "source": []
  }
 ],
 "metadata": {
  "kernelspec": {
   "display_name": "Python 3 (ipykernel)",
   "language": "python",
   "name": "python3"
  },
  "language_info": {
   "codemirror_mode": {
    "name": "ipython",
    "version": 3
   },
   "file_extension": ".py",
   "mimetype": "text/x-python",
   "name": "python",
   "nbconvert_exporter": "python",
   "pygments_lexer": "ipython3",
   "version": "3.13.2"
  },
  "toc": {
   "base_numbering": 1,
   "nav_menu": {},
   "number_sections": true,
   "sideBar": true,
   "skip_h1_title": false,
   "title_cell": "Table of Contents",
   "title_sidebar": "Contents",
   "toc_cell": false,
   "toc_position": {},
   "toc_section_display": true,
   "toc_window_display": false
  },
  "varInspector": {
   "cols": {
    "lenName": 16,
    "lenType": 16,
    "lenVar": 40
   },
   "kernels_config": {
    "python": {
     "delete_cmd_postfix": "",
     "delete_cmd_prefix": "del ",
     "library": "var_list.py",
     "varRefreshCmd": "print(var_dic_list())"
    },
    "r": {
     "delete_cmd_postfix": ") ",
     "delete_cmd_prefix": "rm(",
     "library": "var_list.r",
     "varRefreshCmd": "cat(var_dic_list()) "
    }
   },
   "types_to_exclude": [
    "module",
    "function",
    "builtin_function_or_method",
    "instance",
    "_Feature"
   ],
   "window_display": false
  }
 },
 "nbformat": 4,
 "nbformat_minor": 4
}
