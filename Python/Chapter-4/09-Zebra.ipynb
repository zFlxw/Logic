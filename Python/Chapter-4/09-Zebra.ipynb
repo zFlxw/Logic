{
 "cells": [
  {
   "cell_type": "code",
   "execution_count": null,
   "metadata": {},
   "outputs": [],
   "source": [
    "from IPython.display import HTML\n",
    "HTML(open('../style.css', 'r').read())"
   ]
  },
  {
   "cell_type": "markdown",
   "metadata": {},
   "source": [
    "# The [Zebra Puzzle](https://en.wikipedia.org/wiki/Zebra_Puzzle)"
   ]
  },
  {
   "cell_type": "markdown",
   "metadata": {},
   "source": [
    "The following puzzle appeared in the magazine *Life International* on the 17th of December in the year 1962:\n",
    "* There are five houses.\n",
    "* The Englishman lives in the red house.\n",
    "* The Spaniard owns the dog.\n",
    "* Coffee is drunk in the green house.\n",
    "* The Ukrainian drinks tea.\n",
    "* The green house is immediately to the right of the ivory house.\n",
    "* The Old Gold smoker owns snails.\n",
    "* Kools are smoked in the yellow house.\n",
    "* Milk is drunk in the middle house.\n",
    "* The Norwegian lives in the first house.\n",
    "* The man who smokes Chesterfields lives in the house next to the man with the fox.\n",
    "* Kools are smoked in the house next to the house where the horse is kept.\n",
    "* The Lucky Strike smoker drinks orange juice.\n",
    "* The Japanese smokes Parliaments.\n",
    "* The Norwegian lives next to the blue house.\n",
    "\n",
    "Furthermore, each of the five houses is painted in a different colour, their inhabitants are of different nationalities, own different pets, drink different beverages, and smoke different brands of cigarettes.\n",
    "\n",
    "Our task is to answers the following questions: \n",
    "1. *Who drinks water?*\n",
    "2. *Who owns the zebra?*"
   ]
  },
  {
   "cell_type": "markdown",
   "metadata": {},
   "source": [
    "## Choosing the Appropriate Variables"
   ]
  },
  {
   "cell_type": "markdown",
   "metadata": {},
   "source": [
    "In order to solve this problem we use the following propositional variables, where the counter $i$ ranges from $1$ to $5$.  \n",
    "\n",
    "* $\\texttt{English}\\langle i \\rangle$ expresses the fact\n",
    "  that the Englishman lives in house number $i$.\n",
    "  \n",
    "  The remaining nationalities are coded using the variables\n",
    "  $\\texttt{Spanish}\\langle i \\rangle$, $\\texttt{Ukrainian}\\langle i \\rangle$,\n",
    "  $\\texttt{Norwegian}\\langle i \\rangle$, and $\\texttt{Japanese}\\langle i \\rangle$.\n",
    "* $\\mathtt{Red}\\langle i \\rangle$ expresses that house number $i$ is red.\n",
    "  \n",
    "  We use the variables $\\texttt{Green}\\langle i \\rangle$, $\\texttt{Ivory}\\langle i \\rangle$,\n",
    "  $\\texttt{Yellow}\\langle i \\rangle$, and $\\texttt{Blue}\\langle i \\rangle$ to encode the remaining\n",
    "  colors.\n",
    "* $\\texttt{OldGold}\\langle i \\rangle$ expresses that the inhabitant of house number $i$ smokes cigarettes of the brand \"Old Gold\".\n",
    "  \n",
    "  We use the variables $\\texttt{Kools}\\langle i \\rangle$,\n",
    "  $\\texttt{Chesterfields}\\langle i \\rangle$, $\\texttt{LuckyStrike}\\langle i \\rangle$, and\n",
    "  $\\texttt{Parliaments}\\langle i \\rangle$ to encode the cigarette brands.\n",
    "* $\\texttt{Dog}\\langle i \\rangle$ expresses the fact that the inhabitant of house number\n",
    "  $i$ keeps a dog as his pet.\n",
    "\n",
    "  We use the variables $\\texttt{Snails}\\langle i \\rangle$, $\\texttt{Fox}\\langle i \\rangle$,\n",
    "  $\\texttt{Horse}\\langle i \\rangle$, and $\\texttt{Zebra}\\langle i \\rangle$ to encode the\n",
    "  remaining pets.\n",
    "* $\\texttt{Coffee}\\langle i \\rangle$ expresses the fact the the inhabitant of house number $i$\n",
    "  drinks coffee.\n",
    "\n",
    "  We use the variables $\\texttt{Milk}\\langle i \\rangle$,\n",
    "  $\\texttt{OrangeJuice}\\langle i \\rangle$, $\\texttt{Tea}\\langle i \\rangle$, \n",
    "  and $\\texttt{Water}\\langle i \\rangle$ to encode the remaining drinks.\n",
    "\n",
    "We are using the angular brackets \"$\\langle$\" and \"$\\rangle$\" as part of the variable names \n",
    "because our parser for propositional logic accepts these symbols as part of variable names.  The parser would be confused if we would use parentheses."
   ]
  },
  {
   "cell_type": "markdown",
   "metadata": {},
   "source": [
    "## Importing the Necessary Modules"
   ]
  },
  {
   "cell_type": "markdown",
   "metadata": {},
   "source": [
    "Our goal is to solve this puzzle by first coding it as a solvability problem of propositional logic and then to solve the resulting set of clauses using the algorithm of Davis and Putnam."
   ]
  },
  {
   "cell_type": "code",
   "execution_count": null,
   "metadata": {},
   "outputs": [],
   "source": [
    "%%capture \n",
    "%run 07-Davis-Putnam-JW.ipynb"
   ]
  },
  {
   "cell_type": "markdown",
   "metadata": {},
   "source": [
    "In order to be able to transform formulas from propositional logic into sets of clauses we import the module <tt>cnf</tt> which implements the function <tt>normalize</tt> that takes a formula and transforms it into a set of clauses."
   ]
  },
  {
   "cell_type": "code",
   "execution_count": null,
   "metadata": {},
   "outputs": [],
   "source": [
    "%%capture\n",
    "%run 04-CNF.ipynb"
   ]
  },
  {
   "cell_type": "markdown",
   "metadata": {},
   "source": [
    "In order to write formulas conveniently, we use the parser for propositional logic."
   ]
  },
  {
   "cell_type": "code",
   "execution_count": null,
   "metadata": {},
   "outputs": [],
   "source": [
    "%%capture\n",
    "%run Propositional-Logic-Parser.ipynb"
   ]
  },
  {
   "cell_type": "markdown",
   "metadata": {},
   "source": [
    "Using the parser and the module <tt>cnf</tt> we can impement a function $\\texttt{parseKNF}(s)$ that takes a string $s$ representing a formula and transforms $s$ into an equivalent set of clauses."
   ]
  },
  {
   "cell_type": "code",
   "execution_count": null,
   "metadata": {},
   "outputs": [],
   "source": [
    "def parseKNF(s):\n",
    "    nestedTuple = parse(s)\n",
    "    Clauses     = normalize(nestedTuple)\n",
    "    return Clauses"
   ]
  },
  {
   "cell_type": "markdown",
   "metadata": {},
   "source": [
    "## Auxiliary Functions"
   ]
  },
  {
   "cell_type": "markdown",
   "metadata": {},
   "source": [
    "In order to succinctly express the constraints that all houses have different colours, the inhabitants have different nationalities etc., it is convenient to implement a function $\\texttt{atMostOne}(V)$ that takes a set of variables $V$ and returns a set of formulas that is true if and only if all the variables from $V$ have different values."
   ]
  },
  {
   "cell_type": "code",
   "execution_count": null,
   "metadata": {},
   "outputs": [],
   "source": [
    "def atMostOne(V):\n",
    "    return { frozenset({('¬',p), ('¬', q)}) for p in V\n",
    "                                            for q in V \n",
    "                                            if  p != q \n",
    "           }"
   ]
  },
  {
   "cell_type": "markdown",
   "metadata": {},
   "source": [
    "Given a name $f$ and an index $i \\in\\{1,2,3,4,5\\}$, the function $\\texttt{var}(i)$ creates the string \n",
    "$f\\langle i \\rangle$, e.g. the call `var(\"Japanese\", 2)` the following string:\n",
    "```\n",
    "Japanese<2>\n",
    "```"
   ]
  },
  {
   "cell_type": "code",
   "execution_count": null,
   "metadata": {},
   "outputs": [],
   "source": [
    "def var(f, i):\n",
    "    return f\"{f}<{str(i)}>\" "
   ]
  },
  {
   "cell_type": "code",
   "execution_count": null,
   "metadata": {},
   "outputs": [],
   "source": [
    "var(\"Japanese\", 2)"
   ]
  },
  {
   "cell_type": "markdown",
   "metadata": {},
   "source": [
    "A call of the form $\\texttt{somewhere}(x)$ will return a clause that specifies that the person with property $x$ has to live in one of the houses from $1$ to $5$.  In order to be able to insert this clause into a set, we have to make sure that we return a `frozenset`."
   ]
  },
  {
   "cell_type": "code",
   "execution_count": null,
   "metadata": {},
   "outputs": [],
   "source": [
    "def somewhere(x):\n",
    "    return frozenset({ var(x, i) for i in range(1, 5+1) })"
   ]
  },
  {
   "cell_type": "code",
   "execution_count": null,
   "metadata": {},
   "outputs": [],
   "source": [
    "somewhere('Japanese')"
   ]
  },
  {
   "cell_type": "markdown",
   "metadata": {},
   "source": [
    "Given an exclusive set of properties $S$ and a house number $i$, the function $\\texttt{atMostOne}(S, i)$ returns a set of clauses that specifies that the person living in house number $i$ has at most one of the properties from the set $S$.  For example, if \n",
    "$S = \\{\\texttt{\"Japanese\"}, \\texttt{\"Englishman\"}, \\texttt{\"Spaniard\"}, \\texttt{\"Norwegian\"}, \\texttt{\"Ukranian\"}\\}$, \n",
    "then $\\texttt{atMostOne}(S, 3)$ specifies that the inhabitant of house number 3 has at most one of the nationalities from the set $S$."
   ]
  },
  {
   "cell_type": "code",
   "execution_count": null,
   "metadata": {},
   "outputs": [],
   "source": [
    "def atMostOneAt(S, i):\n",
    "    return atMostOne({var(x, i) for x in S})"
   ]
  },
  {
   "cell_type": "code",
   "execution_count": null,
   "metadata": {},
   "outputs": [],
   "source": [
    "atMostOneAt({\"A\", \"B\", \"C\"}, 1)"
   ]
  },
  {
   "cell_type": "markdown",
   "metadata": {},
   "source": [
    "The function $\\texttt{onePerHouse}(S)$ is called as follows:\n",
    "$$\\texttt{onePerHouse}(\\{\\texttt{\"Japanese\"},\n",
    "       \\texttt{\"English\"}, \n",
    "       \\texttt{\"Spanish\"}, \\texttt{\"Norwegian\"}, \n",
    "       \\texttt{\"Ukrainian\"}\\})\n",
    "$$\n",
    "This function creates a set of clauses that expresses that there has to be a house where the Japanese lives, a house where the Englishman lives, a house where the Spaniard lives, a house where the Norwegian lives, and a house\n",
    "where the Ukranian lives.  Furthermore, the set of clauses would contain clauses that express that these five persons live in **different** houses."
   ]
  },
  {
   "cell_type": "code",
   "execution_count": null,
   "metadata": {},
   "outputs": [],
   "source": [
    "def onePerHouse(S):\n",
    "    Clauses  = { somewhere(x) for x in S } \n",
    "    Clauses |= { C for i in range(1, 5+1) for C in atMostOneAt(S, i) }\n",
    "    return Clauses"
   ]
  },
  {
   "cell_type": "code",
   "execution_count": null,
   "metadata": {},
   "outputs": [],
   "source": [
    "onePerHouse({\"A\", \"B\"})"
   ]
  },
  {
   "cell_type": "markdown",
   "metadata": {},
   "source": [
    "Given two properties $a$ and $b$ the function $\\texttt{sameHouse}(a, b)$ computes a set of clauses that specifies that if the inhabitant of house number $i$ has the property $a$, then he also has the the property $b$ and vice versa.  For example, $\\texttt{sameHouse}(\\texttt{\"Japanese\"}, \\texttt{\"Dog\"})$ specifies that the Japanese guy keeps a dog."
   ]
  },
  {
   "cell_type": "code",
   "execution_count": null,
   "metadata": {},
   "outputs": [],
   "source": [
    "def sameHouse(a, b):\n",
    "    return { C for i in range(1,5+1)\n",
    "               for C in parseKNF(f\"{var(a, i)} ↔ {var(b, i)}\") \n",
    "           }"
   ]
  },
  {
   "cell_type": "code",
   "execution_count": null,
   "metadata": {},
   "outputs": [],
   "source": [
    "sameHouse(\"Red\", \"Tea\")"
   ]
  },
  {
   "cell_type": "markdown",
   "metadata": {},
   "source": [
    "Given to properties $a$ and $b$ the function $\\texttt{nextTo}(a, b)$ computes a set of clauses that specifies that the inhabitants with properties $a$ and $b$ are direct neighbours.  For example, $\\texttt{nextTo}(\\texttt{'Japanese'}, \\texttt{'Dog'})$ specifies that the Japanese guy lives next to the guy who keeps a dog."
   ]
  },
  {
   "cell_type": "code",
   "execution_count": null,
   "metadata": {},
   "outputs": [],
   "source": [
    "def nextTo(a, b):\n",
    "    Result  = parseKNF(f\"{var(a,1)} → {var(b,2)}\")\n",
    "    Result |= { C for i in [2,3,4] for C in parseKNF(f\"{var(a,i)} → {var(b,i-1)} ∨ {var(b,i+1)}\") }\n",
    "    Result |= parseKNF(f\"{var(a,5)} → {var(b,4)}\")\n",
    "    return Result"
   ]
  },
  {
   "cell_type": "code",
   "execution_count": null,
   "metadata": {},
   "outputs": [],
   "source": [
    "nextTo('A', 'B')"
   ]
  },
  {
   "cell_type": "markdown",
   "metadata": {},
   "source": [
    "Given to properties $a$ and $b$ the function $\\texttt{leftTo}(a, b)$ computes a list of clauses that specifies that the inhabitants with properties $a$ lives in the house to the left of the inhabitant who has property $b$.  For example, $\\texttt{livesTo}(\\texttt{'Japanese'}, \\texttt{'Dog'})$ specifies that the Japanese guy lives in the house to the left of the house where there is a dog."
   ]
  },
  {
   "cell_type": "code",
   "execution_count": null,
   "metadata": {},
   "outputs": [],
   "source": [
    "def leftTo(a, b):\n",
    "    Result  = { C for i in range(1, 5) for C in parseKNF(f\"{var(a,i)} ↔ {var(b,i+1)}\") }\n",
    "    Result |= parseKNF(f\"¬{var(a,5)}\")\n",
    "    return Result"
   ]
  },
  {
   "cell_type": "code",
   "execution_count": null,
   "metadata": {},
   "outputs": [],
   "source": [
    "leftTo('A', 'B')"
   ]
  },
  {
   "cell_type": "code",
   "execution_count": null,
   "metadata": {},
   "outputs": [],
   "source": [
    "Nations  = { \"English\", \"Spanish\", \"Ukrainian\", \"Norwegian\", \"Japanese\" }\n",
    "Drinks   = { \"Coffee\", \"Tea\", \"Milk\", \"OrangeJuice\", \"Water\" }\n",
    "Pets     = { \"Dog\", \"Snails\", \"Horse\", \"Fox\", \"Zebra\" }\n",
    "Brands   = { \"LuckyStrike\", \"Parliaments\", \"Kools\", \"Chesterfields\", \"OldGold\" }\n",
    "Colours  = { \"Red\", \"Green\", \"Ivory\", \"Yellow\", \"Blue\" }"
   ]
  },
  {
   "cell_type": "markdown",
   "metadata": {},
   "source": [
    "The function `allClauses` returns a set of clauses describing the problem."
   ]
  },
  {
   "cell_type": "code",
   "execution_count": null,
   "metadata": {},
   "outputs": [],
   "source": [
    "def allClauses():\n",
    "    # Every house has exactly one inhabitant.  This inhabitant has exactly one\n",
    "    # nationality, one pet, smokes one brand of cigarettes, and has one type\n",
    "    # of drink.  Furthermore, every house has exactly one color.\n",
    "    Clauses  = onePerHouse(Nations)\n",
    "    Clauses |= onePerHouse(Drinks)\n",
    "    Clauses |= onePerHouse(Pets)\n",
    "    Clauses |= onePerHouse(Brands)\n",
    "    Clauses |= onePerHouse(Colours)\n",
    "    # The Englishman lives in the red house.\n",
    "    Clauses |= sameHouse(\"English\", \"Red\")\n",
    "    # The Spaniard owns the dog.\n",
    "    Clauses |= sameHouse(\"Spanish\", \"Dog\")\n",
    "    # Coffee is drunk in the green house.\n",
    "    Clauses |= sameHouse(\"Coffee\", \"Green\")\n",
    "    # The Ukrainian drinks tea.\n",
    "    Clauses |= sameHouse(\"Ukrainian\", \"Tea\")\n",
    "    # The green house is immediately to the right of the ivory house.\n",
    "    Clauses |= leftTo(\"Ivory\", \"Green\")\n",
    "    # The Old Gold smoker owns snails.\n",
    "    Clauses |= sameHouse(\"OldGold\", \"Snails\")\n",
    "    # Kools are smoked in the yellow house.\n",
    "    Clauses |= sameHouse(\"Kools\", \"Yellow\")\n",
    "    # Milk is drunk in the middle house.\n",
    "    Clauses |= parseKNF(\"Milk<3>\")\n",
    "    # The Norwegian lives in the first house.\n",
    "    Clauses |= parseKNF(\"Norwegian<1>\")\n",
    "    # The man who smokes Chesterfields lives in the house next \n",
    "    # to the man with the fox.\n",
    "    Clauses |= nextTo(\"Chesterfields\", \"Fox\")\n",
    "    # Kools are smoked in the house next to the house where the horse is kept.\n",
    "    Clauses |= nextTo(\"Kools\", \"Horse\")\n",
    "    # The Lucky Strike smoker drinks orange juice.\n",
    "    Clauses |= sameHouse(\"LuckyStrike\", \"OrangeJuice\")\n",
    "    # The Japanese smokes Parliaments.\n",
    "    Clauses |= sameHouse(\"Japanese\", \"Parliaments\")\n",
    "    # The Norwegian lives next to the blue house.\n",
    "    Clauses |= nextTo(\"Norwegian\", \"Blue\")\n",
    "    return Clauses"
   ]
  },
  {
   "cell_type": "code",
   "execution_count": null,
   "metadata": {},
   "outputs": [],
   "source": [
    "Clauses = allClauses()\n",
    "Clauses"
   ]
  },
  {
   "cell_type": "code",
   "execution_count": null,
   "metadata": {},
   "outputs": [],
   "source": [
    "len(Clauses)"
   ]
  },
  {
   "cell_type": "code",
   "execution_count": null,
   "metadata": {},
   "outputs": [],
   "source": [
    "def main():\n",
    "    Clauses = allClauses()\n",
    "    return solve(Clauses)"
   ]
  },
  {
   "cell_type": "markdown",
   "metadata": {},
   "source": [
    "Solving the problem takes about 0.1 seconds on my computer."
   ]
  },
  {
   "cell_type": "code",
   "execution_count": null,
   "metadata": {},
   "outputs": [],
   "source": [
    "%unload_ext nb_mypy"
   ]
  },
  {
   "cell_type": "code",
   "execution_count": null,
   "metadata": {},
   "outputs": [],
   "source": [
    "%%time\n",
    "Solution = main()"
   ]
  },
  {
   "cell_type": "markdown",
   "metadata": {},
   "source": [
    "## Functions to PrettyPrint the Solution"
   ]
  },
  {
   "cell_type": "code",
   "execution_count": null,
   "metadata": {},
   "outputs": [],
   "source": [
    "def arb(S):\n",
    "    for x in S:\n",
    "        return x"
   ]
  },
  {
   "cell_type": "code",
   "execution_count": null,
   "metadata": {},
   "outputs": [],
   "source": [
    "def extractAssignment(Solution):\n",
    "    Assignment = {}\n",
    "    for Unit in Solution:\n",
    "        Literal = arb(Unit)\n",
    "        if isinstance(Literal, str):\n",
    "            number = int(Literal[-2])\n",
    "            name   = Literal[:-3]\n",
    "            Assignment[name] = number\n",
    "    return Assignment"
   ]
  },
  {
   "cell_type": "code",
   "execution_count": null,
   "metadata": {},
   "outputs": [],
   "source": [
    "extractAssignment(Solution) # type: ignore"
   ]
  },
  {
   "cell_type": "markdown",
   "metadata": {},
   "source": [
    "We need to import the functions `display` and `HTML` from `IPython.display` in order to be able to present the solution graphically. "
   ]
  },
  {
   "cell_type": "code",
   "execution_count": null,
   "metadata": {},
   "outputs": [],
   "source": [
    "from IPython.display import display, HTML"
   ]
  },
  {
   "cell_type": "code",
   "execution_count": null,
   "metadata": {},
   "outputs": [],
   "source": [
    "def showHTML(Solution):\n",
    "    Assignment = extractAssignment(Solution)\n",
    "    result  = '<table style=\"border:2px solid blue\">\\n'\n",
    "    result += '<tr>'\n",
    "    for name in ['House', 'Nationality',  'Drink', 'Animal', 'Brand', 'Colour']:\n",
    "        result += '<th style=\"color:gold; background-color:blue\">' + name + '</th>'\n",
    "    result += '</tr>\\n'\n",
    "    for chair in range(1, 5+1):\n",
    "        result += '<tr><td style=\"border:1px solid green\">' + str(chair) + '</td>'\n",
    "        for Class in [Nations, Drinks, Pets, Brands, Colours]:\n",
    "            for x in Class:\n",
    "                if Assignment[x] == chair:\n",
    "                    result += '<td  style=\"border:1px solid green\">' + x + '</td>'\n",
    "        result += '</tr>\\n'\n",
    "    result += '</table>'\n",
    "    display(HTML(result))"
   ]
  },
  {
   "cell_type": "code",
   "execution_count": null,
   "metadata": {},
   "outputs": [],
   "source": [
    "showHTML(Solution)"
   ]
  },
  {
   "cell_type": "markdown",
   "metadata": {},
   "source": [
    "## Checking the Uniqueness of the Solution"
   ]
  },
  {
   "cell_type": "markdown",
   "metadata": {},
   "source": [
    "Given a set of unit clauses $U$, the function $\\texttt{negateSolution}(U)$ returns a clause that is the logical negation of $U$."
   ]
  },
  {
   "cell_type": "code",
   "execution_count": null,
   "metadata": {},
   "outputs": [],
   "source": [
    "Solution"
   ]
  },
  {
   "cell_type": "code",
   "execution_count": null,
   "metadata": {},
   "outputs": [],
   "source": [
    "def negateSolution(UnitClauses):\n",
    "    return { complement(arb(unit)) for unit in UnitClauses }"
   ]
  },
  {
   "cell_type": "code",
   "execution_count": null,
   "metadata": {},
   "outputs": [],
   "source": [
    "negateSolution({frozenset({'a'}), frozenset({('¬', 'b')})})"
   ]
  },
  {
   "cell_type": "code",
   "execution_count": null,
   "metadata": {},
   "outputs": [],
   "source": [
    "def checkUniqueness(Solution, Clauses):\n",
    "    negation = negateSolution(Solution)\n",
    "    Clauses.add(frozenset(negation))\n",
    "    alternative = solve(Clauses)\n",
    "    if alternative == { frozenset() }:\n",
    "        print(\"The solution is unique!\")\n",
    "    else:\n",
    "        print(\"ERROR: The solution is not unique!\")"
   ]
  },
  {
   "cell_type": "code",
   "execution_count": null,
   "metadata": {},
   "outputs": [],
   "source": [
    "%%time\n",
    "checkUniqueness(Solution, Clauses)"
   ]
  },
  {
   "cell_type": "code",
   "execution_count": null,
   "metadata": {},
   "outputs": [],
   "source": []
  }
 ],
 "metadata": {
  "hide_input": false,
  "kernelspec": {
   "display_name": "Python 3 (ipykernel)",
   "language": "python",
   "name": "python3"
  },
  "language_info": {
   "codemirror_mode": {
    "name": "ipython",
    "version": 3
   },
   "file_extension": ".py",
   "mimetype": "text/x-python",
   "name": "python",
   "nbconvert_exporter": "python",
   "pygments_lexer": "ipython3",
   "version": "3.13.2"
  },
  "toc": {
   "base_numbering": 1,
   "nav_menu": {},
   "number_sections": true,
   "sideBar": true,
   "skip_h1_title": false,
   "title_cell": "Table of Contents",
   "title_sidebar": "Contents",
   "toc_cell": false,
   "toc_position": {},
   "toc_section_display": true,
   "toc_window_display": false
  },
  "varInspector": {
   "cols": {
    "lenName": 16,
    "lenType": 16,
    "lenVar": 40
   },
   "kernels_config": {
    "python": {
     "delete_cmd_postfix": "",
     "delete_cmd_prefix": "del ",
     "library": "var_list.py",
     "varRefreshCmd": "print(var_dic_list())"
    },
    "r": {
     "delete_cmd_postfix": ") ",
     "delete_cmd_prefix": "rm(",
     "library": "var_list.r",
     "varRefreshCmd": "cat(var_dic_list()) "
    }
   },
   "types_to_exclude": [
    "module",
    "function",
    "builtin_function_or_method",
    "instance",
    "_Feature"
   ],
   "window_display": false
  }
 },
 "nbformat": 4,
 "nbformat_minor": 4
}
