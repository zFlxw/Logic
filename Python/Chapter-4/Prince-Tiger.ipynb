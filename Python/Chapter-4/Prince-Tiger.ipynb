{
 "cells": [
  {
   "cell_type": "code",
   "execution_count": null,
   "metadata": {},
   "outputs": [],
   "source": [
    "from IPython.display import HTML\n",
    "HTML(open('../style.css', 'r').read())"
   ]
  },
  {
   "cell_type": "markdown",
   "metadata": {},
   "source": [
    "# The Prince and the Tiger"
   ]
  },
  {
   "cell_type": "markdown",
   "metadata": {},
   "source": [
    "Once upon a time, there was a king who wanted to marry his daughter to a prince. He had it proclaimed throughout the land that he was seeking a husband for his daughter. One day, a prince came by to apply for the position.\n",
    "\n",
    "Since the king did not want to marry his daughter to some dullard, he led the prince into a room with nine doors. The king told the prince that the princess was in one of the rooms, but that there were other rooms behind which hungry tigers were waiting. Some rooms were also empty. If the prince opened a door with a tiger behind it, it would probably be his last mistake.\n",
    "\n",
    "The king went on to say that there were signs on all the doors with statements on them. These statements behave as follows:\n",
    "\n",
    "* In the rooms where there is a tiger, the statement on the sign is false.\n",
    "* In the room where the princess is, the statement is true.\n",
    "* With regards to the the empty rooms, the situation is a bit more complicated, because there are two possibilities:\n",
    "    - Either **all** the inscriptions on the empty rooms are true,\n",
    "    - or **all** the inscriptions on the empty rooms are false.\n",
    "\n",
    "The prince then read the inscriptions. These were as follows:\n",
    "\n",
    "1. Room: The princess is in a room with an odd number.\n",
    "   There is no tiger in the rooms with an even number.\n",
    "2. Room: This room is empty.\n",
    "3. Room: The inscription on Room No. 5 is true, the inscription on Room No. 7 is false,\n",
    "   and there is a tiger in Room No. 3.\n",
    "4. Room: The inscription on Room No. 1 is false, there is no tiger in Room No. 8,\n",
    "   and the inscription on Room No. 9 is true.\n",
    "5. Room: If the inscription on Room No. 2 or on Room No. 4 is true,\n",
    "   then there is no tiger in Room No. 1.\n",
    "6. Room: The inscription on Room No. 3 is false, the princess is in Room No. 2,\n",
    "   and there is no tiger in Room No. 2.\n",
    "7. Room: The princess is in Room No. 1 and the inscription on Room No. 5 is true.\n",
    "8. Room: There is no tiger in this room and Room No. 9 is empty.\n",
    "9. Room: Neither in this room nor in Room No. 1 is there a tiger, and moreover, the\n",
    "   inscription on Room No. 6 is true."
   ]
  },
  {
   "cell_type": "markdown",
   "metadata": {},
   "source": [
    "## Setting up the Required Modules"
   ]
  },
  {
   "cell_type": "markdown",
   "metadata": {},
   "source": [
    "We will use the parser for propositional logic which is implemented in the module <tt>propLogParser</tt>."
   ]
  },
  {
   "cell_type": "code",
   "execution_count": null,
   "metadata": {},
   "outputs": [],
   "source": [
    "%%capture\n",
    "%run Propositional-Logic-Parser.ipynb"
   ]
  },
  {
   "cell_type": "markdown",
   "metadata": {},
   "source": [
    "We will also need a function that turns a formula given as a nested tuple into *conjunctive normal form*.  Therefore we import the module <tt>cnf</tt>."
   ]
  },
  {
   "cell_type": "code",
   "execution_count": null,
   "metadata": {},
   "outputs": [],
   "source": [
    "%%capture\n",
    "%run 04-CNF.ipynb"
   ]
  },
  {
   "cell_type": "markdown",
   "metadata": {},
   "source": [
    "The function $\\texttt{parseKNF}(s)$ takes a string $s$ that represents a formula from propositional logic, parses this string as a propositional formula and then turns this formula into a set of clauses.  We have used this function already when discussing the Zebra problem."
   ]
  },
  {
   "cell_type": "code",
   "execution_count": null,
   "metadata": {},
   "outputs": [],
   "source": [
    "def parseKNF(s):\n",
    "    nestedTuple = parse(s)\n",
    "    Clauses     = normalize(nestedTuple)\n",
    "    return Clauses"
   ]
  },
  {
   "cell_type": "code",
   "execution_count": null,
   "metadata": {},
   "outputs": [],
   "source": [
    "parseKNF('(p ∧ ¬q → r) ↔ ¬r ∨ p ∨ q')"
   ]
  },
  {
   "cell_type": "markdown",
   "metadata": {},
   "source": [
    "Finally, we use the Davis-Putnam algorithm to find a solution for a given set of clauses.  This algorithm is provided by the module <tt>davisPutnam</tt>."
   ]
  },
  {
   "cell_type": "code",
   "execution_count": null,
   "metadata": {},
   "outputs": [],
   "source": [
    "%%capture\n",
    "%run 07-Davis-Putnam-JW.ipynb"
   ]
  },
  {
   "cell_type": "markdown",
   "metadata": {},
   "source": [
    "## Auxilliary Functions"
   ]
  },
  {
   "cell_type": "markdown",
   "metadata": {},
   "source": [
    "The functions defined below make it convenient to create the propositional variables $\\texttt{Prinzessin<}i\\texttt{>}$, $\\texttt{Tiger<}i\\texttt{>}$, and $\\texttt{Zimmer<}i\\texttt{>}$ for $i \\in \\{1,\\cdots,n\\}$."
   ]
  },
  {
   "cell_type": "markdown",
   "metadata": {},
   "source": [
    "In order to satisfy the following constraint:\n",
    "\n",
    "  * Either **all** the inscriptions on the empty rooms are true,\n",
    "  * or **all** the inscriptions on the empty rooms are false.\n",
    "\n",
    "you need another propositional variable."
   ]
  },
  {
   "cell_type": "code",
   "execution_count": null,
   "metadata": {},
   "outputs": [],
   "source": [
    "def P(i):\n",
    "    \"Return the string 'Pi'\"\n",
    "    return f'P{i}'"
   ]
  },
  {
   "cell_type": "code",
   "execution_count": null,
   "metadata": {},
   "outputs": [],
   "source": [
    "P(1)"
   ]
  },
  {
   "cell_type": "code",
   "execution_count": null,
   "metadata": {},
   "outputs": [],
   "source": [
    "parseKNF(f'{P(1)} ∨ {P(2)}')"
   ]
  },
  {
   "cell_type": "code",
   "execution_count": null,
   "metadata": {},
   "outputs": [],
   "source": [
    "def T(i):\n",
    "    \"Return the string 'Ti'\"\n",
    "    return f'T{i}'"
   ]
  },
  {
   "cell_type": "code",
   "execution_count": null,
   "metadata": {},
   "outputs": [],
   "source": [
    "T(2)"
   ]
  },
  {
   "cell_type": "code",
   "execution_count": null,
   "metadata": {},
   "outputs": [],
   "source": [
    "def Z(i):\n",
    "    \"Return the string 'Zi'\"\n",
    "    return f'Z{i}'"
   ]
  },
  {
   "cell_type": "code",
   "execution_count": null,
   "metadata": {},
   "outputs": [],
   "source": [
    "Z(3)"
   ]
  },
  {
   "cell_type": "markdown",
   "metadata": {},
   "source": [
    "Given a set of propositional variables $S$, the function $\\texttt{atMostOne}(S)$ computes a set of clauses expressing the fact that at most one of the variables of $S$ is <tt>True</tt>."
   ]
  },
  {
   "cell_type": "code",
   "execution_count": null,
   "metadata": {},
   "outputs": [],
   "source": [
    "def atMostOne(S): \n",
    "    return { frozenset({('¬',p), ('¬', q)}) for p in S\n",
    "                                            for q in S \n",
    "                                            if  p != q \n",
    "           }"
   ]
  },
  {
   "cell_type": "markdown",
   "metadata": {},
   "source": [
    "## Generating the set of Clauses describing the Problem"
   ]
  },
  {
   "cell_type": "markdown",
   "metadata": {},
   "source": [
    "##### Below, you might need the following symbols: ¬ ∧ ∨ → ↔"
   ]
  },
  {
   "cell_type": "markdown",
   "metadata": {},
   "source": [
    "The function $\\texttt{computeClauses}$ computes the set of clauses that encode the given problem."
   ]
  },
  {
   "cell_type": "code",
   "execution_count": null,
   "metadata": {},
   "outputs": [],
   "source": [
    "def computeClauses():\n",
    "    # The princess has to be somewhere, i.e. there is a room containing the princess.\n",
    "    Clauses  = 'your code here'\n",
    "    # There is just one princess.\n",
    "    Clauses |= 'your code here'\n",
    "    for i in range(1, 9+1):\n",
    "        # In the room containing the princess, the label at the door is true.\n",
    "        Clauses |= parseKNF(f'your code here')\n",
    "        # In thoses rooms where there are tigers, the label is false.\n",
    "        Clauses |= parseKNF(f'your code here')\n",
    "        # Either all labels of empty rooms are true or all those labels are false.\n",
    "        #Clauses |= parseKNF(f'your code here')\n",
    "        Clauses |= parseKNF(f'your code here')\n",
    "    # Room Nr.1: The princess is in a room with an odd room number.\n",
    "    #            The rooms with even numbers do not have tigers.\n",
    "    Clauses |= parseKNF('a long formula here')\n",
    "    # Room Nr.2: This room is empty.\n",
    "    Clauses |= parseKNF('your code here')\n",
    "    # Room Nr.3: The label at room number 5 is true, the label at room number 7 is false \n",
    "    #            and there is a tiger in room number 3\n",
    "    Clauses |= parseKNF('your code here')\n",
    "    # Room Nr.4: The label at room number 1 is false, there is no tiger in room number 8\n",
    "    #            and the label at room number 9 is true.\n",
    "    Clauses |= parseKNF('your code here')\n",
    "    # Room Nr.5: If the label at room number 2 or room number 4 is true, \n",
    "    #            then there is no tiger in room number 1.\n",
    "    Clauses |= parseKNF('your code here')\n",
    "    # Room Nr.6: The label on room number 3 is false, the princess is in room number 2\n",
    "    #            and there is no tiger in room number 2.\n",
    "    Clauses |= parseKNF('your code here')\n",
    "    # Room Nr.7: The princess is in room number 1 and the label of room number 5 is true.\n",
    "    Clauses |= parseKNF('your code here')\n",
    "    # Room Nr.8: There is no tiger in this room and room number 9 is empty.\n",
    "    Clauses |= parseKNF('your code here')\n",
    "    # Room Nr.9: Neither this room nor room number 1 has a tiger and \n",
    "    #            the label of room number 6 is true.\n",
    "    Clauses |= parseKNF('your code here')\n",
    "    return Clauses"
   ]
  },
  {
   "cell_type": "code",
   "execution_count": null,
   "metadata": {},
   "outputs": [],
   "source": [
    "Clauses = computeClauses()\n",
    "Clauses"
   ]
  },
  {
   "cell_type": "markdown",
   "metadata": {},
   "source": [
    "There are 110 clauses."
   ]
  },
  {
   "cell_type": "code",
   "execution_count": null,
   "metadata": {},
   "outputs": [],
   "source": [
    "len(Clauses)"
   ]
  },
  {
   "cell_type": "markdown",
   "metadata": {},
   "source": [
    "Finally, we call the function <tt>solve</tt> from the module <tt>davisPutnam</tt> to solve the problem."
   ]
  },
  {
   "cell_type": "code",
   "execution_count": null,
   "metadata": {},
   "outputs": [],
   "source": [
    "%%time\n",
    "solution = solve(Clauses)"
   ]
  },
  {
   "cell_type": "code",
   "execution_count": null,
   "metadata": {},
   "outputs": [],
   "source": [
    "solution"
   ]
  },
  {
   "cell_type": "markdown",
   "metadata": {},
   "source": [
    "The function $\\texttt{getSolution}(S)$ takes a set of unit clauses representing the solution of the problem and returns the room where the princess is located."
   ]
  },
  {
   "cell_type": "code",
   "execution_count": null,
   "metadata": {},
   "outputs": [],
   "source": [
    "def getSolution(S):\n",
    "    \"Print only the positive literals from the set S.\"\n",
    "    for Unit in S:\n",
    "        for l in Unit:\n",
    "            if isinstance(l, str) and l[0] == 'P':\n",
    "                return l"
   ]
  },
  {
   "cell_type": "markdown",
   "metadata": {},
   "source": [
    "We print the solution."
   ]
  },
  {
   "cell_type": "code",
   "execution_count": null,
   "metadata": {},
   "outputs": [],
   "source": [
    "princess = getSolution(solution)\n",
    "princess"
   ]
  },
  {
   "cell_type": "code",
   "execution_count": null,
   "metadata": {},
   "outputs": [],
   "source": [
    "print(f'Die Prinzessin ist im Zimmer Nummer {princess[1]}.')"
   ]
  },
  {
   "cell_type": "markdown",
   "metadata": {},
   "source": [
    "Finally, we check whether the solution is unique.  If the solution is not unique, then you have missed to code some of the requirements."
   ]
  },
  {
   "cell_type": "code",
   "execution_count": null,
   "metadata": {},
   "outputs": [],
   "source": [
    "def checkUniqueness(Clauses, princess):\n",
    "    Clauses.add(frozenset({('¬', princess)}))\n",
    "    alternative = solve(Clauses)\n",
    "    if alternative == { frozenset() }:\n",
    "        print('The solution is unique.')\n",
    "    else:\n",
    "        print('ERROR: The solution is not unique.')"
   ]
  },
  {
   "cell_type": "code",
   "execution_count": null,
   "metadata": {},
   "outputs": [],
   "source": [
    "checkUniqueness(Clauses, princess)"
   ]
  },
  {
   "cell_type": "code",
   "execution_count": null,
   "metadata": {},
   "outputs": [],
   "source": []
  }
 ],
 "metadata": {
  "hide_input": false,
  "kernelspec": {
   "display_name": "Python 3 (ipykernel)",
   "language": "python",
   "name": "python3"
  },
  "language_info": {
   "codemirror_mode": {
    "name": "ipython",
    "version": 3
   },
   "file_extension": ".py",
   "mimetype": "text/x-python",
   "name": "python",
   "nbconvert_exporter": "python",
   "pygments_lexer": "ipython3",
   "version": "3.13.2"
  },
  "toc": {
   "base_numbering": 1,
   "nav_menu": {},
   "number_sections": true,
   "sideBar": true,
   "skip_h1_title": false,
   "title_cell": "Table of Contents",
   "title_sidebar": "Contents",
   "toc_cell": false,
   "toc_position": {},
   "toc_section_display": true,
   "toc_window_display": false
  },
  "varInspector": {
   "cols": {
    "lenName": 16,
    "lenType": 16,
    "lenVar": 40
   },
   "kernels_config": {
    "python": {
     "delete_cmd_postfix": "",
     "delete_cmd_prefix": "del ",
     "library": "var_list.py",
     "varRefreshCmd": "print(var_dic_list())"
    },
    "r": {
     "delete_cmd_postfix": ") ",
     "delete_cmd_prefix": "rm(",
     "library": "var_list.r",
     "varRefreshCmd": "cat(var_dic_list()) "
    }
   },
   "types_to_exclude": [
    "module",
    "function",
    "builtin_function_or_method",
    "instance",
    "_Feature"
   ],
   "window_display": false
  }
 },
 "nbformat": 4,
 "nbformat_minor": 4
}
