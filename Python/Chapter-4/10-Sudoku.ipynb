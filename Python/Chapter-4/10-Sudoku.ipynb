{
 "cells": [
  {
   "cell_type": "code",
   "execution_count": 1,
   "metadata": {},
   "outputs": [
    {
     "data": {
      "text/html": [
       "<link href='http://fonts.googleapis.com/css?family=Alegreya+Sans:100,300,400,500,700,800,900,100italic,300italic,400italic,500italic,700italic,800italic,900italic' rel='stylesheet' type='text/css'>\n",
       "<link href='http://fonts.googleapis.com/css?family=Arvo:400,700,400italic' rel='stylesheet' type='text/css'>\n",
       "<link href='http://fonts.googleapis.com/css?family=PT+Mono' rel='stylesheet' type='text/css'>\n",
       "<link href='http://fonts.googleapis.com/css?family=Shadows+Into+Light' rel='stylesheet' type='text/css'>\n",
       "<link href='http://fonts.googleapis.com/css?family=Philosopher:400,700,400italic,700italic' rel='stylesheet' type='text/css'>\n",
       "\n",
       "<style>\n",
       "\n",
       "@font-face {\n",
       "    font-family: \"Computer Modern\";\n",
       "    src: url('http://mirrors.ctan.org/fonts/cm-unicode/fonts/otf/cmunss.otf');\n",
       "}\n",
       "\n",
       ".container { width: 100% }\n",
       "\n",
       "/* Formatting for header cells */\n",
       ".text_cell_render h1 {\n",
       "    font-family: 'Philosopher', sans-serif;\n",
       "    font-weight: 400;\n",
       "    font-size: 2.2em;\n",
       "    line-height: 100%;\n",
       "    color: rgb(0, 80, 120);\n",
       "    margin-bottom: 0.1em;\n",
       "    margin-top: 0.1em;\n",
       "    display: block;\n",
       "}\t\n",
       ".text_cell_render h2 {\n",
       "    font-family: 'Philosopher', serif;\n",
       "    font-weight: 400;\n",
       "    font-size: 1.9em;\n",
       "    line-height: 100%;\n",
       "    color: rgb(200,100,0);\n",
       "    margin-bottom: 0.1em;\n",
       "    margin-top: 0.1em;\n",
       "    display: block;\n",
       "}\t\n",
       "\n",
       ".text_cell_render h3 {\n",
       "    font-family: 'Philosopher', serif;\n",
       "    margin-top:12px;\n",
       "    margin-bottom: 3px;\n",
       "    font-style: italic;\n",
       "    color: rgb(94,127,192);\n",
       "}\n",
       "\n",
       ".text_cell_render h4 {\n",
       "    font-family: 'Philosopher', serif;\n",
       "}\n",
       "\n",
       ".text_cell_render h5 {\n",
       "    font-family: 'Alegreya Sans', sans-serif;\n",
       "    font-weight: 300;\n",
       "    font-size: 16pt;\n",
       "    color: grey;\n",
       "    font-style: italic;\n",
       "    margin-bottom: .1em;\n",
       "    margin-top: 0.1em;\n",
       "    display: block;\n",
       "}\n",
       "\n",
       ".text_cell_render h6 {\n",
       "    font-family: 'PT Mono', sans-serif;\n",
       "    font-weight: 300;\n",
       "    font-size: 10pt;\n",
       "    color: grey;\n",
       "    margin-bottom: 1px;\n",
       "    margin-top: 1px;\n",
       "}\n",
       "\n",
       ".text_cell_render em {\n",
       "    font-family: 'Philosopher', sans-serif;\n",
       "    color:        blue;\n",
       "    background-color: rgb(255,220,180);\n",
       "    font-size:    110%;\n",
       "    margin-left:   2px;\n",
       "    margin-right:  2px;\n",
       "    font-weight:   100;\n",
       "}\n",
       "\n",
       ".text_cell_render b {\n",
       "    color:            rgb(255,195,195);\n",
       "    background-color: rgb(0,0,0);\n",
       "    font-size:    110%;\n",
       "    margin-left:   2px;\n",
       "    margin-right:  2px;\n",
       "    font-weight:   650;\n",
       "}\n",
       "\n",
       ".text_cell_render tt {\n",
       "    font-size:    120%;\n",
       "    margin-left:   2px;\n",
       "    margin-right:  2px;\n",
       "    font-weight:   150;\n",
       "}\n",
       "\n",
       ".Codemirror {\n",
       "    font-family: \"PT Mono\";\n",
       "    font-size: 100%;\n",
       "}\n",
       "\n",
       "</style>\n",
       "\n"
      ],
      "text/plain": [
       "<IPython.core.display.HTML object>"
      ]
     },
     "execution_count": 1,
     "metadata": {},
     "output_type": "execute_result"
    }
   ],
   "source": [
    "from IPython.display import HTML\n",
    "HTML(open('../style.css').read())"
   ]
  },
  {
   "cell_type": "markdown",
   "metadata": {},
   "source": [
    "# Sudoku"
   ]
  },
  {
   "cell_type": "code",
   "execution_count": 2,
   "metadata": {},
   "outputs": [],
   "source": [
    "%%capture\n",
    "%run 06-Davis-Putnam.ipynb"
   ]
  },
  {
   "cell_type": "markdown",
   "metadata": {},
   "source": [
    "The Finnish mathematician Arto Inkala claims to have created the [hardest sudoku](https://abcnews.go.com/blogs/headlines/2012/06/can-you-solve-the-hardest-ever-sudoku) ever.  It is defined below."
   ]
  },
  {
   "cell_type": "code",
   "execution_count": 3,
   "metadata": {},
   "outputs": [],
   "source": [
    "def create_puzzle():\n",
    "    return [ [ 8 , \"*\", \"*\", \"*\", \"*\", \"*\", \"*\", \"*\", \"*\"], \n",
    "             [\"*\", \"*\",  3 ,  6 , \"*\", \"*\", \"*\", \"*\", \"*\"],\n",
    "             [\"*\",  7 , \"*\", \"*\",  9 , \"*\",  2 , \"*\", \"*\"],\n",
    "             [\"*\",  5 , \"*\", \"*\", \"*\",  7 , \"*\", \"*\", \"*\"],\n",
    "             [\"*\", \"*\", \"*\", \"*\",  4 ,  5 ,  7 , \"*\", \"*\"],\n",
    "             [\"*\", \"*\", \"*\",  1 , \"*\", \"*\", \"*\",  3 , \"*\"],\n",
    "             [\"*\", \"*\",  1 , \"*\", \"*\", \"*\", \"*\",  6 ,  8 ],\n",
    "             [\"*\", \"*\",  8 ,  5 , \"*\", \"*\", \"*\",  1 , \"*\"],\n",
    "             [\"*\",  9 , \"*\", \"*\", \"*\", \"*\",  4 , \"*\", \"*\"]\n",
    "           ]"
   ]
  },
  {
   "cell_type": "markdown",
   "metadata": {},
   "source": [
    "We will solve this Sudoku using the Davis-Putnam algorithm.  We use the following variables:\n",
    "* `Q<r,c,d>` is a Boolean variable stating that the field in row `r` and column `c` holds the digit `d`.\n",
    "  Here, `r`, `c`, `d` are all elements from the set $\\{1,\\cdots,9\\}$.\n",
    "    \n",
    "The function `var(row, col, digit)` returns a formated string that is interpreted as a variable name."
   ]
  },
  {
   "cell_type": "code",
   "execution_count": 4,
   "metadata": {},
   "outputs": [],
   "source": [
    "def var(row, col, digit):\n",
    "    return f'Q<{row},{col},{digit}>'"
   ]
  },
  {
   "cell_type": "code",
   "execution_count": null,
   "metadata": {},
   "outputs": [],
   "source": [
    "var(1,2,3)"
   ]
  },
  {
   "cell_type": "markdown",
   "metadata": {},
   "source": [
    "The function `atMostOne(S)` takes a set `S` of propositional variables as its argument.  It returns a set of clauses\n",
    "expressing the fact that at most one of the variables of `S` is true."
   ]
  },
  {
   "cell_type": "code",
   "execution_count": null,
   "metadata": {},
   "outputs": [],
   "source": [
    "def atMostOne(S): \n",
    "    return { frozenset({('¬', p), ('¬', q)}) for p in S\n",
    "                                             for q in S \n",
    "                                             if  p < q \n",
    "           }"
   ]
  },
  {
   "cell_type": "markdown",
   "metadata": {},
   "source": [
    "The function `atLeastOne(S)` takes a set `S` of propositional variables as its argument.  It returns a set of clauses\n",
    "expressing the fact that at least one of the variables of `S` is true."
   ]
  },
  {
   "cell_type": "code",
   "execution_count": null,
   "metadata": {},
   "outputs": [],
   "source": [
    "def atLeastOne(S):\n",
    "    return { frozenset(S) }"
   ]
  },
  {
   "cell_type": "markdown",
   "metadata": {},
   "source": [
    "The function `exactlyOne(S)` takes a set `S` of propositional variables as its argument.  It returns a set of clauses\n",
    "expressing the fact that exactly one of the variables of `S` is true."
   ]
  },
  {
   "cell_type": "code",
   "execution_count": null,
   "metadata": {},
   "outputs": [],
   "source": [
    "def exactlyOne(S):\n",
    "    return atMostOne(S) | atLeastOne(S)"
   ]
  },
  {
   "cell_type": "code",
   "execution_count": null,
   "metadata": {},
   "outputs": [],
   "source": [
    "exactlyOne({'a', 'b', 'c'})"
   ]
  },
  {
   "cell_type": "markdown",
   "metadata": {},
   "source": [
    "The function `exactlyOnce` takes a list `L` of pairs of indices as its argument.  The elements of `L` are pairs of the form\n",
    "`(row, col)`, where both `row` and `col` are elements of the set $\\{1, \\cdots, 9\\}$.\n",
    "It returns a set of formulas expressing that all Sudoku fields specified by the coordinate pairs in `L` take different digits as values."
   ]
  },
  {
   "cell_type": "code",
   "execution_count": null,
   "metadata": {},
   "outputs": [],
   "source": [
    "def exactlyOnce(L):\n",
    "    Clauses = set()\n",
    "    for digit in range(1, 10):\n",
    "        Clauses |= exactlyOne({ var(row, col, digit)  for row, col in L })\n",
    "    return Clauses                                                         "
   ]
  },
  {
   "cell_type": "code",
   "execution_count": null,
   "metadata": {
    "scrolled": true
   },
   "outputs": [],
   "source": [
    "exactlyOnce([(1,c) for c in range(1,10)])"
   ]
  },
  {
   "cell_type": "markdown",
   "metadata": {},
   "source": [
    "The function `exactlyOneDigit(row, col)` takes integers `row` and `col` as arguments.  These specify the row and column of a field in a Sudoku.  The function returns a set of clauses specifying that exactly one of the variables\n",
    "\n",
    "* `Q<row,col,1>`, `Q<row,col,2>`, $\\cdots$, `Q<row,col,9>`\n",
    "\n",
    "is `True`."
   ]
  },
  {
   "cell_type": "code",
   "execution_count": null,
   "metadata": {},
   "outputs": [],
   "source": [
    "def exactlyOneDigit(row, col):\n",
    "    return exactlyOne({ var(row, col, digit) for digit in range(1, 10) })"
   ]
  },
  {
   "cell_type": "code",
   "execution_count": null,
   "metadata": {},
   "outputs": [],
   "source": [
    "exactlyOneDigit(1, 1)"
   ]
  },
  {
   "cell_type": "markdown",
   "metadata": {},
   "source": [
    "The function `constraints_from_puzzle`  returns a set of clauses stating that the variables corresponding to numbers that are already given in the Sudoku puzzle take the values that are specified."
   ]
  },
  {
   "cell_type": "code",
   "execution_count": null,
   "metadata": {},
   "outputs": [],
   "source": [
    "def constraints_from_puzzle():\n",
    "    Puzzle = create_puzzle()\n",
    "    Variables = [ var(row + 1, col + 1, Puzzle[row][col]) for row in range(9)\n",
    "                                                          for col in range(9)\n",
    "                                                          if  Puzzle[row][col] != '*'\n",
    "                ]\n",
    "    return { frozenset({ var }) for var in Variables }"
   ]
  },
  {
   "cell_type": "code",
   "execution_count": null,
   "metadata": {},
   "outputs": [],
   "source": [
    "constraints_from_puzzle()"
   ]
  },
  {
   "cell_type": "markdown",
   "metadata": {},
   "source": [
    "The function `all_constraints` returns a CSP that encodes the given sudoku as a CSP."
   ]
  },
  {
   "cell_type": "code",
   "execution_count": null,
   "metadata": {},
   "outputs": [],
   "source": [
    "def all_constraints(): \n",
    "    L = [1, 2, 3, 4, 5, 6, 7, 8, 9]\n",
    "    # the constraints from the puzzle have to be satisfied\n",
    "    Clauses = constraints_from_puzzle()\n",
    "    # there is exactly one digit in every field\n",
    "    for row in L:\n",
    "        for col in L:\n",
    "            Clauses |= exactlyOneDigit(row, col) \n",
    "    # all entries in a row are unique\n",
    "    for row in L:\n",
    "        Clauses |= exactlyOnce([ (row, col) for col in L ]) \n",
    "    # all entries in a column are unique\n",
    "    for col in L:\n",
    "        Clauses |= exactlyOnce([ (row, col) for row in L ])\n",
    "    # all entries in a 3x3 square are unique    \n",
    "    for r in range(3):\n",
    "        for c in range(3):\n",
    "            S = [ (r * 3 + row, c * 3 + col) for row in range(1, 4)\n",
    "                                             for col in range(1, 4) \n",
    "                ]\n",
    "            Clauses |= exactlyOnce(S)\n",
    "    return Clauses"
   ]
  },
  {
   "cell_type": "code",
   "execution_count": null,
   "metadata": {},
   "outputs": [],
   "source": [
    "for Clause in all_constraints():\n",
    "    if len(Clause) == 1:\n",
    "        print(set(Clause))\n",
    "for Clause in all_constraints():\n",
    "    if len(Clause) == 9:\n",
    "        print(set(Clause))"
   ]
  },
  {
   "cell_type": "code",
   "execution_count": null,
   "metadata": {},
   "outputs": [],
   "source": [
    "len(all_constraints())"
   ]
  },
  {
   "cell_type": "markdown",
   "metadata": {},
   "source": [
    "The function `solve(Constraints, Variables)` receives two arguments:\n",
    "- `Constraints` is a set of formulas representing a constraint satisfaction problem.\n",
    "- `Variables`   is the set of variables that occur in this formulas.\n",
    "\n",
    "The function computes a solution to the given problem and returns this solution."
   ]
  },
  {
   "cell_type": "code",
   "execution_count": null,
   "metadata": {},
   "outputs": [],
   "source": [
    "def sudoku():\n",
    "    Clauses  = all_constraints()\n",
    "    Solution = solve(Clauses)\n",
    "    if Solution != { frozenset() }:\n",
    "        return Solution\n",
    "    else:\n",
    "        print(f'The problem is not solvable!')\n",
    "        return None"
   ]
  },
  {
   "cell_type": "code",
   "execution_count": null,
   "metadata": {},
   "outputs": [],
   "source": [
    "%%time\n",
    "Solution = sudoku()"
   ]
  },
  {
   "cell_type": "markdown",
   "metadata": {},
   "source": [
    "## Graphical Representation"
   ]
  },
  {
   "cell_type": "markdown",
   "metadata": {},
   "source": [
    "The following line needs to be executed once to install the package `problem_visuals`."
   ]
  },
  {
   "cell_type": "code",
   "execution_count": null,
   "metadata": {},
   "outputs": [],
   "source": [
    "!pip install git+https://github.com/reclinarka/problem_visuals"
   ]
  },
  {
   "cell_type": "code",
   "execution_count": null,
   "metadata": {},
   "outputs": [],
   "source": [
    "from problem_visuals.games.sudoku.grid import Grid"
   ]
  },
  {
   "cell_type": "code",
   "execution_count": null,
   "metadata": {},
   "outputs": [],
   "source": [
    "def transform_solution(Solution):\n",
    "    Result = {}\n",
    "    for UnitClause in Solution:\n",
    "        literal = arb(UnitClause)\n",
    "        if isinstance(literal, str):\n",
    "            row   = int(literal[2:3])\n",
    "            col   = int(literal[4:5])\n",
    "            digit = int(literal[6:7])\n",
    "            Result[f'V{row}{col}'] = digit\n",
    "    return Result"
   ]
  },
  {
   "cell_type": "code",
   "execution_count": null,
   "metadata": {},
   "outputs": [],
   "source": [
    "def show_solution(Solution, width='50%'):\n",
    "    Solution = transform_solution(Solution)\n",
    "    Sudoku = create_puzzle()\n",
    "    for row in range(9):\n",
    "        for col in range(9):\n",
    "            if Sudoku[row][col] != '*':\n",
    "                del Solution[f'V{row+1}{col+1}']\n",
    "    return Grid(state=Sudoku, assigned=Solution, html_width=width)"
   ]
  },
  {
   "cell_type": "code",
   "execution_count": null,
   "metadata": {},
   "outputs": [],
   "source": [
    "show_solution(Solution)"
   ]
  },
  {
   "cell_type": "code",
   "execution_count": null,
   "metadata": {},
   "outputs": [],
   "source": []
  }
 ],
 "metadata": {
  "kernelspec": {
   "display_name": "Python 3 (ipykernel)",
   "language": "python",
   "name": "python3"
  },
  "language_info": {
   "codemirror_mode": {
    "name": "ipython",
    "version": 3
   },
   "file_extension": ".py",
   "mimetype": "text/x-python",
   "name": "python",
   "nbconvert_exporter": "python",
   "pygments_lexer": "ipython3",
   "version": "3.13.3"
  },
  "toc": {
   "base_numbering": 1,
   "nav_menu": {},
   "number_sections": true,
   "sideBar": true,
   "skip_h1_title": false,
   "title_cell": "Table of Contents",
   "title_sidebar": "Contents",
   "toc_cell": false,
   "toc_position": {},
   "toc_section_display": true,
   "toc_window_display": false
  },
  "varInspector": {
   "cols": {
    "lenName": 16,
    "lenType": 16,
    "lenVar": 40
   },
   "kernels_config": {
    "python": {
     "delete_cmd_postfix": "",
     "delete_cmd_prefix": "del ",
     "library": "var_list.py",
     "varRefreshCmd": "print(var_dic_list())"
    },
    "r": {
     "delete_cmd_postfix": ") ",
     "delete_cmd_prefix": "rm(",
     "library": "var_list.r",
     "varRefreshCmd": "cat(var_dic_list()) "
    }
   },
   "types_to_exclude": [
    "module",
    "function",
    "builtin_function_or_method",
    "instance",
    "_Feature"
   ],
   "window_display": false
  }
 },
 "nbformat": 4,
 "nbformat_minor": 4
}
