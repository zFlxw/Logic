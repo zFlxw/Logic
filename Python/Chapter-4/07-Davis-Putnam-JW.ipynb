{
 "cells": [
  {
   "cell_type": "code",
   "execution_count": null,
   "metadata": {},
   "outputs": [],
   "source": [
    "from IPython.display import HTML\n",
    "HTML(open('../style.css', 'r').read())"
   ]
  },
  {
   "cell_type": "code",
   "execution_count": null,
   "metadata": {},
   "outputs": [],
   "source": [
    "%load_ext nb_mypy"
   ]
  },
  {
   "cell_type": "code",
   "execution_count": null,
   "metadata": {},
   "outputs": [],
   "source": [
    "from typing import TypeVar"
   ]
  },
  {
   "cell_type": "code",
   "execution_count": null,
   "metadata": {},
   "outputs": [],
   "source": [
    "Variable = str\n",
    "Literal  = Variable | tuple[str, Variable]\n",
    "Clause   = frozenset[Literal]"
   ]
  },
  {
   "cell_type": "markdown",
   "metadata": {},
   "source": [
    "# The <a href=\"https://en.wikipedia.org/wiki/DPLL_algorithm\">Davis-Putnam Algorithm</a> with the Jeroslow-Wang Heuristic"
   ]
  },
  {
   "cell_type": "markdown",
   "metadata": {},
   "source": [
    "This notebook implements the algorithm of Davis and Putnam.  Further details about this algorithm are provided in the lecture notes."
   ]
  },
  {
   "cell_type": "markdown",
   "metadata": {},
   "source": [
    "The function `complement(l)` computes the complement of a literal `l`.\n",
    "If $p$ is a propositional variable, we have the following: \n",
    "* $\\texttt{complement}(p) = \\neg p$,\n",
    "* $\\texttt{complement}(\\neg p) = p$.\n",
    "\n",
    "As we are working with clauses that result form transforming given formulas into *conjunctive normal form* and these clauses do not contain $\\top$ or $\\bot$, we don't have to bother with $\\top$ or $\\bot$ in this function."
   ]
  },
  {
   "cell_type": "code",
   "execution_count": null,
   "metadata": {},
   "outputs": [],
   "source": [
    "def complement(l: Literal) -> Literal:\n",
    "    'Compute the complement of the literal L.'\n",
    "    match l:\n",
    "        case ('¬', p): return p\n",
    "        case p       : return ('¬', p) # type: ignore"
   ]
  },
  {
   "cell_type": "markdown",
   "metadata": {},
   "source": [
    "The function `extractVariable(l)` extracts the variable from the literal `l`.\n",
    "If $p$ is a propositional variable, we have the following: \n",
    "* $\\texttt{extractVariable}(p) = p$,\n",
    "* $\\texttt{extractVariable}(\\neg p) = p$."
   ]
  },
  {
   "cell_type": "code",
   "execution_count": null,
   "metadata": {},
   "outputs": [],
   "source": [
    "def extractVariable(l: Literal) -> Variable:\n",
    "    'Extract the propositional variable from the literal l.'\n",
    "    match l:\n",
    "        case ('¬', p): return p\n",
    "        case p       : return p # type: ignore"
   ]
  },
  {
   "cell_type": "markdown",
   "metadata": {},
   "source": [
    "The function `arb(S)` returns an arbitrary element from the set `S`."
   ]
  },
  {
   "cell_type": "code",
   "execution_count": null,
   "metadata": {},
   "outputs": [],
   "source": [
    "Element = TypeVar('Element')"
   ]
  },
  {
   "cell_type": "code",
   "execution_count": null,
   "metadata": {},
   "outputs": [],
   "source": [
    "def arb(S: set[Element] | frozenset[Element]) -> Element:\n",
    "    'Return some member from the set S.'\n",
    "    for x in S: \n",
    "        return x\n",
    "    return None # type: ignore"
   ]
  },
  {
   "cell_type": "markdown",
   "metadata": {},
   "source": [
    "The function `selectLiteral(Clauses, Forbidden)`\n",
    "returns a literal from a clause from the set `Clauses` such that the variable of this literal does not occur in the set `Forbidden`.  It uses the *Jereslow-Wang heuristic* to choose the literal. The Jereslow-Wang heuristic $\\texttt{JW}(l)$ of a literal $l$ in a set of clauses is defined as follows:\n",
    "$$ \\texttt{JW}(\\textrm{Clauses}, l) = \\sum\\limits_{\\{\\,C \\in \\texttt{Clauses}\\;\\mid\\; l \\in C\\;\\}} \\frac{1}{\\;2^{|C|}\\;} $$ \n",
    "Here, $|C|$ denotes the number of literals in the clause $C$.  The idea is to choose a literal that occurs in many clauses and therefore subsumes a lot of clauses."
   ]
  },
  {
   "cell_type": "code",
   "execution_count": null,
   "metadata": {},
   "outputs": [],
   "source": [
    "def selectLiteral(Clauses  : set[Clause], \n",
    "                  Variables: set[Variable], \n",
    "                  UsedVars : set[Variable]) -> Literal:\n",
    "    Scores: dict[Literal, float] = {} \n",
    "    for var in Variables:\n",
    "        if var not in UsedVars:\n",
    "            cmp = ('¬', var)\n",
    "            Scores[var] = 0.0\n",
    "            Scores[cmp] = 0.0\n",
    "            for C in Clauses:\n",
    "                if cmp in C:\n",
    "                    Scores[cmp] += 2 ** -len(C)\n",
    "                if var in C: \n",
    "                    Scores[var] += 2 ** -len(C)\n",
    "    return max(Scores, key=Scores.get) # type: ignore"
   ]
  },
  {
   "cell_type": "code",
   "execution_count": null,
   "metadata": {},
   "outputs": [],
   "source": [
    "D = { 'a': 3, 'b': 5, 'c': 1}\n",
    "max(D, key=D.get) # type: ignore"
   ]
  },
  {
   "cell_type": "markdown",
   "metadata": {},
   "source": [
    "Given a set of clauses `Clauses` and a literal `l`, the procedure `reduce(Clauses, l)` performs all unit cuts and all unit subsumptions on clauses of of the set `Clauses` that are possible using the unit clause $\\{\\mathtt{l}\\}$.  The resulting set of clauses is returned.  Mathematically, the function `reduce` is defined as follows:\n",
    "$$\\texttt{reduce}(\\texttt{Clauses},l)  := \n",
    " \\Bigl\\{\\, C \\backslash \\bigl\\{\\overline{\\,l\\,}\\bigr\\} \\;|\\; C \\in \\texttt{Clauses} \\wedge \\overline{\\,l\\,} \\in C \\,\\Bigr\\} \n",
    "       \\,\\cup\\, \\Bigl\\{\\, C \\in \\texttt{Clauses} \\mid \\overline{\\,l\\,} \\not\\in C \\wedge l \\not\\in C \\Bigr\\} \\cup \\bigl\\{\\{l\\}\\bigr\\}.\n",
    "$$\n",
    "This function should only be called if the unit clause $\\{l\\}$ is an element of the set `Clauses`."
   ]
  },
  {
   "cell_type": "code",
   "execution_count": null,
   "metadata": {},
   "outputs": [],
   "source": [
    "def reduce(Clauses: set[Clause], l: Literal) -> set[Clause]:\n",
    "    lBar = complement(l)  \n",
    "    return   { C - { lBar } for C in Clauses if lBar     in C                }  \\\n",
    "           | { C            for C in Clauses if lBar not in C and l not in C }  \\\n",
    "           | { frozenset({l}) }"
   ]
  },
  {
   "cell_type": "markdown",
   "metadata": {},
   "source": [
    "`Clauses` is a set of clauses.  The call `saturate(Clauses)` computes the set of those clauses that can be derived from `Clauses` via repeated applications of unit cuts or unit subsumptions."
   ]
  },
  {
   "cell_type": "code",
   "execution_count": null,
   "metadata": {},
   "outputs": [],
   "source": [
    "def saturate(Clauses: set[Clause]) -> set[Clause]:\n",
    "    S     = Clauses.copy()\n",
    "    Units = { C for C in S if len(C) == 1 } # set of unit clauses occurring in C\n",
    "    Used  = set()                           # remember which unit clauses have already been used\n",
    "    while len(Units) > 0:  # iterate as long as we derive new unit clauses\n",
    "        unit  = Units.pop()\n",
    "        Used |= { unit }\n",
    "        l     = arb(unit)\n",
    "        S     = reduce(S, l)\n",
    "        Units = { C for C in S if len(C) == 1 } - Used        \n",
    "    return S"
   ]
  },
  {
   "cell_type": "markdown",
   "metadata": {},
   "source": [
    "The function `solve(Clauses)` takes a set of clauses  as input.  The function tries to compute a variable assignment that satisfies all clauses in `Clauses`.  If this is successful, a set of unit clauses is returned.  This set of unit clauses does not contain  any complementary literals and therefore corresponds to a variable assignment satisfying all clauses.  If the set `Clauses` is unsatisfiable, then the set `{{}}` is returned instead.\n",
    "\n",
    "The real work is done by the function `solve_recursive`.  This function takes two additional arguments:\n",
    "* `Variables` is the set of all variables occurring in `Clauses`.\n",
    "* `UsedVars`  is the set of those variables that have already been used in case distinctions."
   ]
  },
  {
   "cell_type": "code",
   "execution_count": null,
   "metadata": {},
   "outputs": [],
   "source": [
    "def solve_recursive(Clauses: set[Clause], Variables: set[Variable], UsedVars: set[Variable]) -> set[Clause]:\n",
    "    S  = saturate(Clauses)\n",
    "    Empty: frozenset[Literal] = frozenset()\n",
    "    Falsum = { Empty }\n",
    "    if Empty in S:                  # S is inconsistent\n",
    "        return Falsum           \n",
    "    if all(len(C) == 1 for C in S): # S is trivial\n",
    "        return S\n",
    "    # use the Jereslow-Wang heuristic to select the most promising literal l\n",
    "    l       = selectLiteral(S, Variables, UsedVars)\n",
    "    lBar    = complement(l)\n",
    "    p       = extractVariable(l)\n",
    "    newUsed = UsedVars | { p }\n",
    "    Result  = solve_recursive(S | { frozenset({l}) }, Variables, newUsed)\n",
    "    if Result != Falsum:\n",
    "        return Result\n",
    "    return solve_recursive(S | { frozenset({lBar}) }, Variables, newUsed)"
   ]
  },
  {
   "cell_type": "code",
   "execution_count": null,
   "metadata": {},
   "outputs": [],
   "source": [
    "def solve(Clauses: set[Clause]) -> set[Clause]:\n",
    "    Variables = { extractVariable(l) for C in Clauses for l in C }\n",
    "    return solve_recursive(Clauses, Variables, set())"
   ]
  },
  {
   "cell_type": "markdown",
   "metadata": {},
   "source": [
    "The function $\\texttt{toString}(S)$ takes a set $S$ as input.  The set $S$ is a set of frozensets and the function converts $S$ into a string that looks like a set of sets.  This is only used for pretty printing."
   ]
  },
  {
   "cell_type": "code",
   "execution_count": null,
   "metadata": {},
   "outputs": [],
   "source": [
    "def literal_to_str(C: Clause) -> str:\n",
    "    'Convert a unit clause to a string.'\n",
    "    l = arb(C)\n",
    "    if l[0] == '¬':\n",
    "        return f'{str(l[1])} ↦ False' \n",
    "    else:\n",
    "        return f'{str(l)} ↦ True'\n",
    "    \n",
    "def toString(S: set[Clause], Simplified: set[Clause]) -> str:\n",
    "    'Convert the set S of frozen sets to a string where frozen sets are written as sets.'\n",
    "    if len(Simplified) == 1:\n",
    "        Clause = arb(Simplified)\n",
    "        if len(Clause) == 0:\n",
    "            return f'{prettify(S)} is unsolvable'\n",
    "    else:\n",
    "        result = '{ ' + ', '.join({ literal_to_str(C) for C in Simplified }) + ' }'\n",
    "        return result\n",
    "    return None # type: ignore\n",
    "\n",
    "def prettify(Clauses: set[Clause]) -> str:\n",
    "    return ', '.join({str(set(C)) for C in Clauses})"
   ]
  },
  {
   "cell_type": "code",
   "execution_count": null,
   "metadata": {},
   "outputs": [],
   "source": [
    "c1: Clause = frozenset({ 'r', 'p', 's' })\n",
    "c2: Clause = frozenset({ 'r', 's' })\n",
    "c3: Clause = frozenset({ 'p', 'q', 's' })\n",
    "c4: Clause = frozenset({ ('¬', 'p'), ('¬', 'q') })\n",
    "c5: Clause = frozenset({ ('¬', 'p'), 's', ('¬', 'r') })\n",
    "c6: Clause = frozenset({ 'p', ('¬', 'q'), 'r'})\n",
    "c7: Clause = frozenset({ ('¬', 'r'), ('¬', 's'), 'q' })\n",
    "c8: Clause = frozenset({ ('¬', 'p'), ('¬', 's')})\n",
    "c9: Clause = frozenset({ 'p', ('¬', 'r'), ('¬', 'q') })\n",
    "c0: Clause = frozenset({ ('¬', 'p'), 'r', 'q', ('¬', 's') })\n",
    "S  = { c0, c1, c2, c3, c4, c5, c6, c7, c8, c9 }\n",
    "print(toString(S, solve(S)))"
   ]
  },
  {
   "cell_type": "code",
   "execution_count": null,
   "metadata": {},
   "outputs": [],
   "source": [
    "c11: Clause = frozenset({ 'p', 'r', 'q', ('¬', 's') })\n",
    "S   = { c0, c1, c2, c3, c4, c5, c6, c7, c8, c9, c11 }\n",
    "print(toString(S, solve(S)))"
   ]
  },
  {
   "cell_type": "code",
   "execution_count": null,
   "metadata": {},
   "outputs": [],
   "source": [
    "c1: Clause = frozenset({ 'r', 'p', 's' })\n",
    "c2: Clause = frozenset({ 'r', 's' })\n",
    "c3: Clause = frozenset({ 'q', 'p', 's' })\n",
    "c4: Clause = frozenset({ ('¬', 'p'), ('¬', 'q') })\n",
    "c5: Clause = frozenset({ ('¬', 'p'), 's', ('¬', 'r') })\n",
    "c6: Clause = frozenset({ 'p', ('¬', 'q'), 'r' })\n",
    "c7: Clause = frozenset({ ('¬', 'r'), ('¬', 's'), 'q' })\n",
    "c8: Clause = frozenset({ 'p', 'q', 'r', 's' })\n",
    "c9: Clause = frozenset({ 'r', ('¬', 's'), 'q' })\n",
    "c10: Clause = frozenset({ 's', ('¬', 'r'), ('¬', 'q') })\n",
    "c11: Clause = frozenset({ 's', ('¬', 'r') })\n",
    "c12: Clause = frozenset({ 'r', ('¬', 's') })\n",
    "S  = {c1, c2, c3, c4, c5, c6, c7, c8, c9, c10, c11, c12}\n",
    "solve(S)"
   ]
  },
  {
   "cell_type": "code",
   "execution_count": null,
   "metadata": {},
   "outputs": [],
   "source": []
  }
 ],
 "metadata": {
  "hide_input": false,
  "kernelspec": {
   "display_name": "Python 3 (ipykernel)",
   "language": "python",
   "name": "python3"
  },
  "language_info": {
   "codemirror_mode": {
    "name": "ipython",
    "version": 3
   },
   "file_extension": ".py",
   "mimetype": "text/x-python",
   "name": "python",
   "nbconvert_exporter": "python",
   "pygments_lexer": "ipython3",
   "version": "3.13.2"
  },
  "toc": {
   "base_numbering": 1,
   "nav_menu": {},
   "number_sections": true,
   "sideBar": true,
   "skip_h1_title": false,
   "title_cell": "Table of Contents",
   "title_sidebar": "Contents",
   "toc_cell": false,
   "toc_position": {},
   "toc_section_display": true,
   "toc_window_display": false
  },
  "varInspector": {
   "cols": {
    "lenName": 16,
    "lenType": 16,
    "lenVar": 40
   },
   "kernels_config": {
    "python": {
     "delete_cmd_postfix": "",
     "delete_cmd_prefix": "del ",
     "library": "var_list.py",
     "varRefreshCmd": "print(var_dic_list())"
    },
    "r": {
     "delete_cmd_postfix": ") ",
     "delete_cmd_prefix": "rm(",
     "library": "var_list.r",
     "varRefreshCmd": "cat(var_dic_list()) "
    }
   },
   "types_to_exclude": [
    "module",
    "function",
    "builtin_function_or_method",
    "instance",
    "_Feature"
   ],
   "window_display": false
  }
 },
 "nbformat": 4,
 "nbformat_minor": 4
}
