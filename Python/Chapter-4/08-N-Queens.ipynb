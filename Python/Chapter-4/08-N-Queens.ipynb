{
 "cells": [
  {
   "cell_type": "code",
   "execution_count": null,
   "metadata": {},
   "outputs": [],
   "source": [
    "from IPython.display import HTML\n",
    "HTML(open('../style.css', 'r').read())"
   ]
  },
  {
   "cell_type": "code",
   "execution_count": null,
   "metadata": {},
   "outputs": [],
   "source": [
    "%load_ext nb_mypy"
   ]
  },
  {
   "cell_type": "code",
   "execution_count": null,
   "metadata": {},
   "outputs": [],
   "source": [
    "from typing import TypeVar"
   ]
  },
  {
   "cell_type": "code",
   "execution_count": null,
   "metadata": {},
   "outputs": [],
   "source": [
    "Variable = str\n",
    "Literal  = Variable | tuple[str, Variable]\n",
    "Clause   = frozenset[Literal]"
   ]
  },
  {
   "cell_type": "markdown",
   "metadata": {},
   "source": [
    "The <a href=\"https://en.wikipedia.org/wiki/Eight_queens_puzzle\">eight queens puzzle</a> is the problem of placing eight chess queens on a chessboard so that no two queens can attack each other.  In <a href=\"https://en.wikipedia.org/wiki/Chess\">chess</a> a queen can attack another piece if this piece is either\n",
    "<ol>\n",
    "    <li>in the same row,</li>\n",
    "    <li>in the same column, or</li>\n",
    "    <li>in the same diagonal.</li>\n",
    "</ol>\n",
    "The image below shows a queen in row 3, column 4.  All the locations where a piece can be captured by this queen are marked with an arrow.\n",
    "\n",
    "<img src=\"queen-captures.png\">\n",
    "\n",
    "We will solve this puzzle by coding it as a formula of propositional logic.  This formula will be solvable iff the eight queens puzzle has a solution.  We will use the algorithm of *Davis and Putnam* to compute the solution of this formula."
   ]
  },
  {
   "cell_type": "code",
   "execution_count": null,
   "metadata": {},
   "outputs": [],
   "source": [
    "def solve(Clauses: set[Clause]) -> set[Clause]: # forward declaration for type checker\n",
    "    return None # type: ignore"
   ]
  },
  {
   "cell_type": "code",
   "execution_count": null,
   "metadata": {
    "scrolled": true
   },
   "outputs": [],
   "source": [
    "%%capture\n",
    "%run 07-Davis-Putnam-JW.ipynb"
   ]
  },
  {
   "cell_type": "markdown",
   "metadata": {},
   "source": [
    "The function $\\texttt{var}(r, c)$ takes a row $r$ and a column $c$ and returns the string $\\texttt{'Q<}r\\texttt{,}c\\texttt{>'}$.  This string is interpreted as a propositional variable specifying that there is a queen in row $r$ and column $c$.  The image below shows how theses variables correspond to the positions on a chess board.\n",
    "\n",
    "<img src=\"queens-vars.png\">"
   ]
  },
  {
   "cell_type": "markdown",
   "metadata": {},
   "source": [
    "The function `var(row, col)` takes two integers `row` and `col` as its argument and returns a string of the form `f'Q<{row},{col}>`.\n",
    "This string is interpreted as a propositional variable.  This variable is `True` iff there is a queen in the given row and column on the board."
   ]
  },
  {
   "cell_type": "code",
   "execution_count": null,
   "metadata": {
    "scrolled": true
   },
   "outputs": [],
   "source": [
    "def var(row: int, col: int) -> Variable:\n",
    "    return f'Q<{row},{col}>'"
   ]
  },
  {
   "cell_type": "code",
   "execution_count": null,
   "metadata": {},
   "outputs": [],
   "source": [
    "var(11,3)"
   ]
  },
  {
   "cell_type": "markdown",
   "metadata": {},
   "source": [
    "Given a set of propositional variables $S$, the function $\\texttt{atMostOne}(S)$ returns a set containing clauses that expresses the fact that **at most one** of the variables in $S$ is `True`."
   ]
  },
  {
   "cell_type": "code",
   "execution_count": null,
   "metadata": {
    "scrolled": true
   },
   "outputs": [],
   "source": [
    "def atMostOne(S: set[Variable]) -> set[Clause]: \n",
    "    return { frozenset({('¬', p), ('¬', q)}) for p in S\n",
    "                                             for q in S \n",
    "                                             if  p < q \n",
    "           }"
   ]
  },
  {
   "cell_type": "code",
   "execution_count": null,
   "metadata": {
    "scrolled": true
   },
   "outputs": [],
   "source": [
    "atMostOne({'a', 'b', 'c'})"
   ]
  },
  {
   "cell_type": "markdown",
   "metadata": {},
   "source": [
    "Given a `row` and the size of the board `n`, the procedure `atMostOneInRow(row, n)` computes a set of clauses that is `True` if and only there is at most one queen in the\n",
    "given row."
   ]
  },
  {
   "cell_type": "code",
   "execution_count": null,
   "metadata": {
    "scrolled": true
   },
   "outputs": [],
   "source": [
    "def atMostOneInRow(row: int, n: int) -> set[Clause]:\n",
    "    VarsInRow = { var(row, col) for col in range(1,n+1) }\n",
    "    return atMostOne(VarsInRow)"
   ]
  },
  {
   "cell_type": "code",
   "execution_count": null,
   "metadata": {
    "scrolled": true
   },
   "outputs": [],
   "source": [
    "atMostOneInRow(3, 4)"
   ]
  },
  {
   "cell_type": "markdown",
   "metadata": {},
   "source": [
    "Given a column `col` and the size of the board `n`, the procedure `oneInColumn(col, n)` computes a set of clauses that is true if and only if there is at least one queen in the given column."
   ]
  },
  {
   "cell_type": "code",
   "execution_count": null,
   "metadata": {
    "scrolled": true
   },
   "outputs": [],
   "source": [
    "def oneInColumn(col: int, n: int) -> set[Clause]:\n",
    "    VarsInColumn = { var(row, col) for row in range(1,n+1) }\n",
    "    return { frozenset(VarsInColumn) }"
   ]
  },
  {
   "cell_type": "code",
   "execution_count": null,
   "metadata": {
    "scrolled": true
   },
   "outputs": [],
   "source": [
    "oneInColumn(2, 4)"
   ]
  },
  {
   "cell_type": "markdown",
   "metadata": {},
   "source": [
    "Given a number `k` and the size of the board `n`, the procedure `atMostOneInFallingDiagonal(k, n)` computes a set of clauses that is `True` if and only if there \n",
    "is at most one queen in the falling diagonal specified by the equation\n",
    "```\n",
    "     row - col = k.\n",
    "```"
   ]
  },
  {
   "cell_type": "code",
   "execution_count": null,
   "metadata": {
    "scrolled": true
   },
   "outputs": [],
   "source": [
    "def atMostOneInFallingDiagonal(k: int, n: int) -> set[Clause]:\n",
    "    VarsInDiagonal = { var(row, col) for row in range(1, n+1)\n",
    "                                     for col in range(1, n+1) \n",
    "                                     if  row - col == k \n",
    "                     }\n",
    "    return atMostOne(VarsInDiagonal)"
   ]
  },
  {
   "cell_type": "code",
   "execution_count": null,
   "metadata": {
    "scrolled": true
   },
   "outputs": [],
   "source": [
    "atMostOneInFallingDiagonal(0, 4)"
   ]
  },
  {
   "cell_type": "markdown",
   "metadata": {},
   "source": [
    "Given a number `k` and the size of the board `n`, the procedure `atMostOneInRisingDiagonal(k, n)` computes a set of clauses that is `True` \n",
    "if and only if there is at most one queen in the rising diagonal specified by the equation\n",
    "```\n",
    "    row + col = k. \n",
    "```"
   ]
  },
  {
   "cell_type": "code",
   "execution_count": null,
   "metadata": {
    "scrolled": true
   },
   "outputs": [],
   "source": [
    "def atMostOneInRisingDiagonal(k: int, n: int) -> set[Clause]:\n",
    "    VarsInDiagonal = { var(row, col) for row in range(1, n+1)\n",
    "                                     for col in range(1, n+1) \n",
    "                                     if  row + col == k \n",
    "                     }\n",
    "    return atMostOne(VarsInDiagonal)"
   ]
  },
  {
   "cell_type": "code",
   "execution_count": null,
   "metadata": {
    "scrolled": true
   },
   "outputs": [],
   "source": [
    "atMostOneInRisingDiagonal(5, 4)"
   ]
  },
  {
   "cell_type": "markdown",
   "metadata": {},
   "source": [
    "The function `allClauses(n)` takes the size of the board $n$ and computes a set of clauses that specify that\n",
    "* there is at most one queen in every row,\n",
    "* there is at most one queen in every rising diagonal,\n",
    "* there is at most one queen in every falling diagonal, and\n",
    "* there is at least one queen in every column."
   ]
  },
  {
   "cell_type": "code",
   "execution_count": null,
   "metadata": {
    "scrolled": true
   },
   "outputs": [],
   "source": [
    "def allClauses(n: int) -> set[Clause]:\n",
    "    All = [ atMostOneInRow(row, n)           for row in range(1, n+1)        ] \\\n",
    "        + [ atMostOneInRisingDiagonal(k, n)  for k in range(3, (2*n-1)+1)    ] \\\n",
    "        + [ atMostOneInFallingDiagonal(k, n) for k in range(-(n-2), (n-2)+1) ] \\\n",
    "        + [ oneInColumn(col, n)              for col in range(1, n+1)        ]\n",
    "    return { clause for S in All for clause in S }"
   ]
  },
  {
   "cell_type": "code",
   "execution_count": null,
   "metadata": {
    "scrolled": true
   },
   "outputs": [],
   "source": [
    "for C in allClauses(16):\n",
    "    print(set(C))"
   ]
  },
  {
   "cell_type": "markdown",
   "metadata": {},
   "source": [
    "The set of all clauses contains 512 clauses.  There are 64 variables.  "
   ]
  },
  {
   "cell_type": "code",
   "execution_count": null,
   "metadata": {
    "scrolled": true
   },
   "outputs": [],
   "source": [
    "len(allClauses(16))"
   ]
  },
  {
   "cell_type": "markdown",
   "metadata": {},
   "source": [
    "The function $\\texttt{queens}(n)$ solves the *n queens problem*."
   ]
  },
  {
   "cell_type": "code",
   "execution_count": null,
   "metadata": {
    "scrolled": true
   },
   "outputs": [],
   "source": [
    "def queens(n: int) -> set[Clause] | None:\n",
    "    \"Solve the n queens problem.\"\n",
    "    Clauses  = allClauses(n)\n",
    "    Solution = solve(Clauses)\n",
    "    if Solution != { frozenset() }:\n",
    "        return Solution\n",
    "    else:\n",
    "        print(f'The problem is not solvable for {n} queens!')\n",
    "        return None"
   ]
  },
  {
   "cell_type": "code",
   "execution_count": null,
   "metadata": {},
   "outputs": [],
   "source": [
    "Solution: set[Clause]"
   ]
  },
  {
   "cell_type": "markdown",
   "metadata": {},
   "source": [
    "The *8 queens problem* can be solved in less than a tenth of a second using the \n",
    "pure *Davis Putnam algorithm* that does not use the Jereslow-Wang heuristic. If we want to solve the *16 queens problem*, we need to use the Jereslow-Wang heuristic.  With this heuristic, the *16 queens problem* is then solved in roughly 4 seconds on my Mac Studio from 2023."
   ]
  },
  {
   "cell_type": "code",
   "execution_count": null,
   "metadata": {},
   "outputs": [],
   "source": [
    "%%time\n",
    "Solution = queens(16)\n",
    "Solution"
   ]
  },
  {
   "cell_type": "markdown",
   "metadata": {},
   "source": [
    "# Visualization"
   ]
  },
  {
   "cell_type": "markdown",
   "metadata": {},
   "source": [
    "The following code requires that you install `chess-problem-visuals`, which is a package provided by *Philipp Polland*.  This package can be installed into the environment  with the following command:\n",
    "```\n",
    "pip install git+https://github.com/reclinarka/chess-problem-visuals\n",
    "```\n",
    "The following line performs this installation inside the jupyter notebook.\n",
    "Once you have executed this line once, you can comment it."
   ]
  },
  {
   "cell_type": "code",
   "execution_count": null,
   "metadata": {},
   "outputs": [],
   "source": [
    "!pip install git+https://github.com/reclinarka/chess-problem-visuals"
   ]
  },
  {
   "cell_type": "markdown",
   "metadata": {},
   "source": [
    "Next, we have to import the package `chess_problem_visuals` that was installed in the previous cell."
   ]
  },
  {
   "cell_type": "code",
   "execution_count": null,
   "metadata": {},
   "outputs": [],
   "source": [
    "import chess_problem_visuals as cpv"
   ]
  },
  {
   "cell_type": "markdown",
   "metadata": {},
   "source": [
    "The function `remove_negative_literals` takes one input:\n",
    "* `Solution` is a set of unit clauses.\n",
    "\n",
    "The function returns the set of all those unit clauses in `Solution` that do not contain negative literals."
   ]
  },
  {
   "cell_type": "code",
   "execution_count": null,
   "metadata": {},
   "outputs": [],
   "source": [
    "def remove_negative_literals(Solution):\n",
    "    Result = set()\n",
    "    for Clause in Solution:\n",
    "        for literal in Clause:\n",
    "            if isinstance(literal, str):\n",
    "                Result.add(literal)\n",
    "    return Result"
   ]
  },
  {
   "cell_type": "markdown",
   "metadata": {},
   "source": [
    "The function `extract_row_col` takes one argument:\n",
    "* `var_name` is a string of the form `f'Q<{row},{col}>'`.\n",
    "\n",
    "It returns the pair `row, col`."
   ]
  },
  {
   "cell_type": "code",
   "execution_count": null,
   "metadata": {},
   "outputs": [],
   "source": [
    "remove_negative_literals({ frozenset({'p'}), frozenset({('¬', 'q')}), frozenset({('¬', 'r')}), frozenset({'s'}) })"
   ]
  },
  {
   "cell_type": "code",
   "execution_count": null,
   "metadata": {},
   "outputs": [],
   "source": [
    "def extract_row_col(var_name):\n",
    "    left  = var_name.find('<')\n",
    "    comma = var_name.find(',')\n",
    "    right = var_name.find('>')\n",
    "    row   = var_name[left+ 1:comma]\n",
    "    col   = var_name[comma+1:right]\n",
    "    return row, col"
   ]
  },
  {
   "cell_type": "code",
   "execution_count": null,
   "metadata": {},
   "outputs": [],
   "source": [
    "extract_row_col('Q<13,9>')"
   ]
  },
  {
   "cell_type": "code",
   "execution_count": null,
   "metadata": {},
   "outputs": [],
   "source": [
    "def transform(Solution):\n",
    "    Solution = remove_negative_literals(Solution)\n",
    "    Result   = {}\n",
    "    for name in Solution:\n",
    "        row, col = extract_row_col(name)\n",
    "        Result[int(row)] = int(col)\n",
    "    return Result"
   ]
  },
  {
   "cell_type": "markdown",
   "metadata": {},
   "source": [
    "The function `show_solution(Solution, width)` takes a dictionary that contains a variable assignment that represents a solution to the n queens puzzle.  It displays this Solution on a chess board.\n",
    "* `Solution` is a dictionary mapping the variables $\\texttt{V}_i$ to numbers.\n",
    "  If $\\texttt{Solution[V}_i\\texttt{]} = k$, then the queen in row $i$ is placed in column $k$.\n",
    "* `width` specifies the size of the board as a percentage of the width of notebook.  "
   ]
  },
  {
   "cell_type": "code",
   "execution_count": null,
   "metadata": {},
   "outputs": [],
   "source": [
    "def show_solution(Solution, width=\"50%\"):\n",
    "    Solution = transform(Solution)\n",
    "    n = len(Solution)\n",
    "    Queens = [None for col in range(n)]\n",
    "    board  = cpv.Board(n, html_width=width)\n",
    "    for row in range(n):\n",
    "        col = Solution.get(row+1, None)\n",
    "        if col != None:\n",
    "            board.add_piece((col-1, row), 'Q')\n",
    "    return board"
   ]
  },
  {
   "cell_type": "code",
   "execution_count": null,
   "metadata": {},
   "outputs": [],
   "source": [
    "Solution "
   ]
  },
  {
   "cell_type": "code",
   "execution_count": null,
   "metadata": {},
   "outputs": [],
   "source": [
    "show_solution(Solution, \"50%\")"
   ]
  },
  {
   "cell_type": "code",
   "execution_count": null,
   "metadata": {},
   "outputs": [],
   "source": []
  }
 ],
 "metadata": {
  "hide_input": false,
  "kernelspec": {
   "display_name": "Python 3 (ipykernel)",
   "language": "python",
   "name": "python3"
  },
  "language_info": {
   "codemirror_mode": {
    "name": "ipython",
    "version": 3
   },
   "file_extension": ".py",
   "mimetype": "text/x-python",
   "name": "python",
   "nbconvert_exporter": "python",
   "pygments_lexer": "ipython3",
   "version": "3.13.2"
  },
  "toc": {
   "base_numbering": 1,
   "nav_menu": {},
   "number_sections": true,
   "sideBar": true,
   "skip_h1_title": false,
   "title_cell": "Table of Contents",
   "title_sidebar": "Contents",
   "toc_cell": false,
   "toc_position": {},
   "toc_section_display": true,
   "toc_window_display": false
  },
  "varInspector": {
   "cols": {
    "lenName": 16,
    "lenType": 16,
    "lenVar": 40
   },
   "kernels_config": {
    "python": {
     "delete_cmd_postfix": "",
     "delete_cmd_prefix": "del ",
     "library": "var_list.py",
     "varRefreshCmd": "print(var_dic_list())"
    },
    "r": {
     "delete_cmd_postfix": ") ",
     "delete_cmd_prefix": "rm(",
     "library": "var_list.r",
     "varRefreshCmd": "cat(var_dic_list()) "
    }
   },
   "types_to_exclude": [
    "module",
    "function",
    "builtin_function_or_method",
    "instance",
    "_Feature"
   ],
   "window_display": false
  }
 },
 "nbformat": 4,
 "nbformat_minor": 4
}
