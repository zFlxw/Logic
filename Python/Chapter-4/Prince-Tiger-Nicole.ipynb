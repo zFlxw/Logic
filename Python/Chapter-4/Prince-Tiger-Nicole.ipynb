{
 "cells": [
  {
   "cell_type": "code",
   "execution_count": 1,
   "metadata": {},
   "outputs": [
    {
     "data": {
      "text/html": [
       "<link href='http://fonts.googleapis.com/css?family=Alegreya+Sans:100,300,400,500,700,800,900,100italic,300italic,400italic,500italic,700italic,800italic,900italic' rel='stylesheet' type='text/css'>\n",
       "<link href='http://fonts.googleapis.com/css?family=Arvo:400,700,400italic' rel='stylesheet' type='text/css'>\n",
       "<link href='http://fonts.googleapis.com/css?family=PT+Mono' rel='stylesheet' type='text/css'>\n",
       "<link href='http://fonts.googleapis.com/css?family=Shadows+Into+Light' rel='stylesheet' type='text/css'>\n",
       "<link href='http://fonts.googleapis.com/css?family=Philosopher:400,700,400italic,700italic' rel='stylesheet' type='text/css'>\n",
       "\n",
       "<style>\n",
       "\n",
       "@font-face {\n",
       "    font-family: \"Computer Modern\";\n",
       "    src: url('http://mirrors.ctan.org/fonts/cm-unicode/fonts/otf/cmunss.otf');\n",
       "}\n",
       "\n",
       ".container { width: 100% }\n",
       "\n",
       "/* Formatting for header cells */\n",
       ".text_cell_render h1 {\n",
       "    font-family: 'Philosopher', sans-serif;\n",
       "    font-weight: 400;\n",
       "    font-size: 2.2em;\n",
       "    line-height: 100%;\n",
       "    color: rgb(0, 80, 120);\n",
       "    margin-bottom: 0.1em;\n",
       "    margin-top: 0.1em;\n",
       "    display: block;\n",
       "}\t\n",
       ".text_cell_render h2 {\n",
       "    font-family: 'Philosopher', serif;\n",
       "    font-weight: 400;\n",
       "    font-size: 1.9em;\n",
       "    line-height: 100%;\n",
       "    color: rgb(200,100,0);\n",
       "    margin-bottom: 0.1em;\n",
       "    margin-top: 0.1em;\n",
       "    display: block;\n",
       "}\t\n",
       "\n",
       ".text_cell_render h3 {\n",
       "    font-family: 'Philosopher', serif;\n",
       "    margin-top:12px;\n",
       "    margin-bottom: 3px;\n",
       "    font-style: italic;\n",
       "    color: rgb(94,127,192);\n",
       "}\n",
       "\n",
       ".text_cell_render h4 {\n",
       "    font-family: 'Philosopher', serif;\n",
       "}\n",
       "\n",
       ".text_cell_render h5 {\n",
       "    font-family: 'Alegreya Sans', sans-serif;\n",
       "    font-weight: 300;\n",
       "    font-size: 16pt;\n",
       "    color: grey;\n",
       "    font-style: italic;\n",
       "    margin-bottom: .1em;\n",
       "    margin-top: 0.1em;\n",
       "    display: block;\n",
       "}\n",
       "\n",
       ".text_cell_render h6 {\n",
       "    font-family: 'PT Mono', sans-serif;\n",
       "    font-weight: 300;\n",
       "    font-size: 10pt;\n",
       "    color: grey;\n",
       "    margin-bottom: 1px;\n",
       "    margin-top: 1px;\n",
       "}\n",
       "\n",
       ".text_cell_render em {\n",
       "    font-family: 'Philosopher', sans-serif;\n",
       "    color:        blue;\n",
       "    background-color: rgb(255,220,180);\n",
       "    font-size:    110%;\n",
       "    margin-left:   2px;\n",
       "    margin-right:  2px;\n",
       "    font-weight:   100;\n",
       "}\n",
       "\n",
       ".text_cell_render b {\n",
       "    color:            rgb(255,195,195);\n",
       "    background-color: rgb(0,0,0);\n",
       "    font-size:    110%;\n",
       "    margin-left:   2px;\n",
       "    margin-right:  2px;\n",
       "    font-weight:   650;\n",
       "}\n",
       "\n",
       ".text_cell_render tt {\n",
       "    font-size:    120%;\n",
       "    margin-left:   2px;\n",
       "    margin-right:  2px;\n",
       "    font-weight:   150;\n",
       "}\n",
       "\n",
       ".Codemirror {\n",
       "    font-family: \"PT Mono\";\n",
       "    font-size: 100%;\n",
       "}\n",
       "\n",
       "</style>\n",
       "\n"
      ],
      "text/plain": [
       "<IPython.core.display.HTML object>"
      ]
     },
     "execution_count": 1,
     "metadata": {},
     "output_type": "execute_result"
    }
   ],
   "source": [
    "from IPython.display import HTML\n",
    "HTML(open('../style.css', 'r').read())"
   ]
  },
  {
   "cell_type": "markdown",
   "metadata": {},
   "source": [
    "# The Prince and the Tiger"
   ]
  },
  {
   "cell_type": "markdown",
   "metadata": {},
   "source": [
    "Once upon a time, there was a king who wanted to marry his daughter to a prince. He had it proclaimed throughout the land that he was seeking a husband for his daughter. One day, a prince came by to apply for the position.\n",
    "\n",
    "Since the king did not want to marry his daughter to some dullard, he led the prince into a room with nine doors. The king told the prince that the princess was in one of the rooms, but that there were other rooms behind which hungry tigers were waiting. Some rooms were also empty. If the prince opened a door with a tiger behind it, it would probably be his last mistake.\n",
    "\n",
    "The king went on to say that there were signs on all the doors with statements on them. These statements behave as follows:\n",
    "\n",
    "* In the rooms where there is a tiger, the statement on the sign is false.\n",
    "* In the room where the princess is, the statement is true.\n",
    "* With regards to the the empty rooms, the situation is a bit more complicated, because there are two possibilities:\n",
    "    - Either **all** the inscriptions on the empty rooms are true,\n",
    "    - or **all** the inscriptions on the empty rooms are false.\n",
    "\n",
    "The prince then read the inscriptions. These were as follows:\n",
    "\n",
    "1. Room: The princess is in a room with an odd number.\n",
    "   There is no tiger in the rooms with an even number.\n",
    "2. Room: This room is empty.\n",
    "3. Room: The inscription on Room No. 5 is true, the inscription on Room No. 7 is false,\n",
    "   and there is a tiger in Room No. 3.\n",
    "4. Room: The inscription on Room No. 1 is false, there is no tiger in Room No. 8,\n",
    "   and the inscription on Room No. 9 is true.\n",
    "5. Room: If the inscription on Room No. 2 or on Room No. 4 is true,\n",
    "   then there is no tiger in Room No. 1.\n",
    "6. Room: The inscription on Room No. 3 is false, the princess is in Room No. 2,\n",
    "   and there is no tiger in Room No. 2.\n",
    "7. Room: The princess is in Room No. 1 and the inscription on Room No. 5 is true.\n",
    "8. Room: There is no tiger in this room and Room No. 9 is empty.\n",
    "9. Room: Neither in this room nor in Room No. 1 is there a tiger, and moreover, the\n",
    "   inscription on Room No. 6 is true."
   ]
  },
  {
   "cell_type": "markdown",
   "metadata": {},
   "source": [
    "## Setting up the Required Modules"
   ]
  },
  {
   "cell_type": "markdown",
   "metadata": {},
   "source": [
    "We will use the parser for propositional logic which is implemented in the module <tt>propLogParser</tt>."
   ]
  },
  {
   "cell_type": "code",
   "execution_count": 2,
   "metadata": {},
   "outputs": [],
   "source": [
    "%%capture\n",
    "%run Propositional-Logic-Parser.ipynb"
   ]
  },
  {
   "cell_type": "markdown",
   "metadata": {},
   "source": [
    "We will also need a function that turns a formula given as a nested tuple into *conjunctive normal form*.  Therefore we import the module <tt>cnf</tt>."
   ]
  },
  {
   "cell_type": "code",
   "execution_count": 3,
   "metadata": {},
   "outputs": [],
   "source": [
    "%%capture\n",
    "%run 04-CNF.ipynb"
   ]
  },
  {
   "cell_type": "markdown",
   "metadata": {},
   "source": [
    "The function $\\texttt{parseKNF}(s)$ takes a string $s$ that represents a formula from propositional logic, parses this string as a propositional formula and then turns this formula into a set of clauses.  We have used this function already when discussing the Zebra problem."
   ]
  },
  {
   "cell_type": "code",
   "execution_count": 4,
   "metadata": {},
   "outputs": [],
   "source": [
    "def parseKNF(s):\n",
    "    nestedTuple = parse(s)\n",
    "    Clauses     = normalize(nestedTuple)\n",
    "    return Clauses"
   ]
  },
  {
   "cell_type": "code",
   "execution_count": 5,
   "metadata": {},
   "outputs": [
    {
     "data": {
      "text/plain": [
       "{frozenset({('¬', 'p'), 'q', 'r'}), frozenset({('¬', 'r'), 'p', 'q'})}"
      ]
     },
     "execution_count": 5,
     "metadata": {},
     "output_type": "execute_result"
    }
   ],
   "source": [
    "parseKNF('(p ∧ ¬q → r) ↔ ¬r ∨ p ∨ q')"
   ]
  },
  {
   "cell_type": "markdown",
   "metadata": {},
   "source": [
    "Finally, we use the Davis-Putnam algorithm to find a solution for a given set of clauses.  This algorithm is provided by the module <tt>davisPutnam</tt>."
   ]
  },
  {
   "cell_type": "code",
   "execution_count": 6,
   "metadata": {},
   "outputs": [],
   "source": [
    "%%capture\n",
    "%run 07-Davis-Putnam-JW.ipynb"
   ]
  },
  {
   "cell_type": "markdown",
   "metadata": {},
   "source": [
    "## Auxilliary Functions"
   ]
  },
  {
   "cell_type": "markdown",
   "metadata": {},
   "source": [
    "The functions defined below make it convenient to create the propositional variables $\\texttt{Prinzessin<}i\\texttt{>}$, $\\texttt{Tiger<}i\\texttt{>}$, and $\\texttt{Zimmer<}i\\texttt{>}$ for $i \\in \\{1,\\cdots,n\\}$."
   ]
  },
  {
   "cell_type": "markdown",
   "metadata": {},
   "source": [
    "In order to satisfy the following constraint:\n",
    "\n",
    "  * Either **all** the inscriptions on the empty rooms are true,\n",
    "  * or **all** the inscriptions on the empty rooms are false.\n",
    "\n",
    "you need another propositional variable."
   ]
  },
  {
   "cell_type": "code",
   "execution_count": 7,
   "metadata": {},
   "outputs": [],
   "source": [
    "def P(i):\n",
    "    \"Return the string 'Pi'\"\n",
    "    return f'P{i}'"
   ]
  },
  {
   "cell_type": "code",
   "execution_count": 8,
   "metadata": {},
   "outputs": [
    {
     "data": {
      "text/plain": [
       "'P1'"
      ]
     },
     "execution_count": 8,
     "metadata": {},
     "output_type": "execute_result"
    }
   ],
   "source": [
    "P(1)"
   ]
  },
  {
   "cell_type": "code",
   "execution_count": 9,
   "metadata": {},
   "outputs": [
    {
     "data": {
      "text/plain": [
       "{frozenset({'P1', 'P2'})}"
      ]
     },
     "execution_count": 9,
     "metadata": {},
     "output_type": "execute_result"
    }
   ],
   "source": [
    "parseKNF(f'{P(1)} ∨ {P(2)}')"
   ]
  },
  {
   "cell_type": "code",
   "execution_count": 10,
   "metadata": {},
   "outputs": [],
   "source": [
    "def T(i):\n",
    "    \"Return the string 'Ti'\"\n",
    "    return f'T{i}'"
   ]
  },
  {
   "cell_type": "code",
   "execution_count": 11,
   "metadata": {},
   "outputs": [
    {
     "data": {
      "text/plain": [
       "'T2'"
      ]
     },
     "execution_count": 11,
     "metadata": {},
     "output_type": "execute_result"
    }
   ],
   "source": [
    "T(2)"
   ]
  },
  {
   "cell_type": "code",
   "execution_count": 12,
   "metadata": {},
   "outputs": [],
   "source": [
    "def Z(i): #true or false inscription\n",
    "    \"Return the string 'Zi'\"\n",
    "    return f'Z{i}'"
   ]
  },
  {
   "cell_type": "code",
   "execution_count": 13,
   "metadata": {},
   "outputs": [
    {
     "data": {
      "text/plain": [
       "'Z3'"
      ]
     },
     "execution_count": 13,
     "metadata": {},
     "output_type": "execute_result"
    }
   ],
   "source": [
    "Z(3)"
   ]
  },
  {
   "cell_type": "markdown",
   "metadata": {},
   "source": [
    "Given a set of propositional variables $S$, the function $\\texttt{atMostOne}(S)$ computes a set of clauses expressing the fact that at most one of the variables of $S$ is <tt>True</tt>."
   ]
  },
  {
   "cell_type": "code",
   "execution_count": 14,
   "metadata": {},
   "outputs": [],
   "source": [
    "def atMostOne(S): \n",
    "    return { frozenset({('¬',p), ('¬', q)}) for p in S\n",
    "                                            for q in S \n",
    "                                            if  p != q \n",
    "           }"
   ]
  },
  {
   "cell_type": "markdown",
   "metadata": {},
   "source": [
    "## Generating the set of Clauses describing the Problem"
   ]
  },
  {
   "cell_type": "markdown",
   "metadata": {},
   "source": [
    "##### Below, you might need the following symbols: ¬ ∧ ∨ → ↔"
   ]
  },
  {
   "cell_type": "markdown",
   "metadata": {},
   "source": [
    "The function $\\texttt{computeClauses}$ computes the set of clauses that encode the given problem."
   ]
  },
  {
   "cell_type": "code",
   "execution_count": 18,
   "metadata": {},
   "outputs": [],
   "source": [
    "def computeClauses():\n",
    "    # The princess has to be somewhere, i.e. there is a room containing the princess.\n",
    "    Clauses  = {frozenset({P(i) for i in range(1, 9+1)})}\n",
    "    # There is just one princess.\n",
    "    Clauses |= atMostOne({P(i) for i in range(1,10)})\n",
    "    for i in range(1, 9+1):\n",
    "        # There is no room containing the princess as well as the tiger.\n",
    "        #Clauses |= parseKNF(f'¬{P(i)} ∨ ¬{T(i)}')\n",
    "        # In the room containing the princess, the label at the door is true.\n",
    "        Clauses |= parseKNF(f'{P(i)} → {Z(i)}')\n",
    "        # In thoses rooms where there are tigers, the label is false.\n",
    "        Clauses |= parseKNF(f'{T(i)}  → ¬{Z(i)}')\n",
    "        # Either all labels of empty rooms are true or all those labels are false.\n",
    "        Clauses |= parseKNF(f'(¬{P(i)} ∧ ¬{T(i)} ∧ e) → {Z(i)}')         \n",
    "        Clauses |= parseKNF(f'(¬{P(i)} ∧ ¬{T(i)} ∧ ¬e) → ¬{Z(i)}')\n",
    "    # Room Nr.1: The princess is in a room with an odd room number.\n",
    "    #            The rooms with even numbers do not have tigers.\n",
    "    Clauses |= parseKNF('Z1 ↔ ((P1 ∨ P3 ∨ P5 ∨ P7 ∨ P9) ∧ ¬T2 ∧ ¬T4 ∧ ¬T6 ∧ ¬T8)')\n",
    "    # Room Nr.2: This room is empty.\n",
    "    Clauses |= parseKNF('Z2 ↔ (¬P2 ∧ ¬T2)')\n",
    "    # Room Nr.3: The label at room number 5 is true, the label at room number 7 is false \n",
    "    #            and there is a tiger in room number 3\n",
    "    Clauses |= parseKNF('Z3 ↔ (Z5 ∧ ¬Z7 ∧ T3)')\n",
    "    # Room Nr.4: The label at room number 1 is false, there is no tiger in room number 8\n",
    "    #            and the label at room number 9 is true.\n",
    "    Clauses |= parseKNF('Z4 ↔ (¬Z1 ∧ ¬T8 ∧ Z9)')\n",
    "    # Room Nr.5: If the label at room number 2 or room number 4 is true, \n",
    "    #            then there is no tiger in room number 1.\n",
    "    Clauses |= parseKNF('Z5 ↔ ((Z2 ∨ Z4) →  ¬T1)')\n",
    "    # Room Nr.6: The label on room number 3 is false, the princess is in room number 2\n",
    "    #            and there is no tiger in room number 2.\n",
    "    Clauses |= parseKNF('Z6 ↔ (¬Z3 ∧ P2 ∧ ¬T2)')\n",
    "    # Room Nr.7: The princess is in room number 1 and the label of room number 5 is true.\n",
    "    Clauses |= parseKNF('Z7 ↔ (P1 ∧ Z5)')\n",
    "    # Room Nr.8: There is no tiger in this room and room number 9 is empty.\n",
    "    Clauses |= parseKNF('Z8 ↔ (¬T8 ∧ ¬T9 ∧ ¬P9)')\n",
    "    # Room Nr.9: Neither this room nor room number 1 has a tiger and \n",
    "    #            the label of room number 6 is true.\n",
    "    Clauses |= parseKNF('Z9 ↔ (¬T9 ∧ ¬T1 ∧ Z6)')\n",
    "    return Clauses"
   ]
  },
  {
   "cell_type": "code",
   "execution_count": 19,
   "metadata": {},
   "outputs": [
    {
     "data": {
      "text/plain": [
       "{frozenset({('¬', 'P3'), ('¬', 'P8')}),\n",
       " frozenset({('¬', 'T3'), ('¬', 'Z5'), 'Z3', 'Z7'}),\n",
       " frozenset({('¬', 'Z3'), ('¬', 'Z7')}),\n",
       " frozenset({('¬', 'P5'), ('¬', 'P6')}),\n",
       " frozenset({('¬', 'e'), 'P7', 'T7', 'Z7'}),\n",
       " frozenset({('¬', 'Z6'), 'P6', 'T6', 'e'}),\n",
       " frozenset({('¬', 'P3'), 'T2', 'T4', 'T6', 'T8', 'Z1'}),\n",
       " frozenset({('¬', 'P4'), ('¬', 'P8')}),\n",
       " frozenset({('¬', 'T5'), ('¬', 'Z5')}),\n",
       " frozenset({('¬', 'P7'), ('¬', 'P8')}),\n",
       " frozenset({('¬', 'P2'), ('¬', 'P7')}),\n",
       " frozenset({('¬', 'P4'), 'Z4'}),\n",
       " frozenset({('¬', 'e'), 'P6', 'T6', 'Z6'}),\n",
       " frozenset({('¬', 'Z8'), 'P8', 'T8', 'e'}),\n",
       " frozenset({('¬', 'P1'), ('¬', 'Z5'), 'Z7'}),\n",
       " frozenset({('¬', 'P1'), ('¬', 'P6')}),\n",
       " frozenset({('¬', 'e'), 'P4', 'T4', 'Z4'}),\n",
       " frozenset({('¬', 'P4'), ('¬', 'P5')}),\n",
       " frozenset({('¬', 'P2'), ('¬', 'P5')}),\n",
       " frozenset({('¬', 'Z7'), 'P7', 'T7', 'e'}),\n",
       " frozenset({('¬', 'P5'), ('¬', 'P7')}),\n",
       " frozenset({('¬', 'P5'), ('¬', 'P8')}),\n",
       " frozenset({('¬', 'P9'), 'Z9'}),\n",
       " frozenset({'P9', 'T8', 'T9', 'Z8'}),\n",
       " frozenset({('¬', 'e'), 'P1', 'T1', 'Z1'}),\n",
       " frozenset({('¬', 'P2'), ('¬', 'Z2')}),\n",
       " frozenset({('¬', 'e'), 'P5', 'T5', 'Z5'}),\n",
       " frozenset({('¬', 'T4'), ('¬', 'Z4')}),\n",
       " frozenset({('¬', 'e'), 'P8', 'T8', 'Z8'}),\n",
       " frozenset({('¬', 'Z1'), 'P1', 'P3', 'P5', 'P7', 'P9'}),\n",
       " frozenset({('¬', 'T1'), ('¬', 'Z2'), ('¬', 'Z5')}),\n",
       " frozenset({('¬', 'P1'), ('¬', 'P4')}),\n",
       " frozenset({('¬', 'e'), 'P9', 'T9', 'Z9'}),\n",
       " frozenset({('¬', 'Z6'), 'T1', 'T9', 'Z9'}),\n",
       " frozenset({('¬', 'T4'), ('¬', 'Z1')}),\n",
       " frozenset({('¬', 'P2'), ('¬', 'P8')}),\n",
       " frozenset({('¬', 'P1'), ('¬', 'P8')}),\n",
       " frozenset({('¬', 'P9'), 'T2', 'T4', 'T6', 'T8', 'Z1'}),\n",
       " frozenset({('¬', 'P1'), ('¬', 'P2')}),\n",
       " frozenset({('¬', 'Z1'), ('¬', 'Z4')}),\n",
       " frozenset({('¬', 'T2'), ('¬', 'Z6')}),\n",
       " frozenset({('¬', 'T1'), ('¬', 'Z4'), ('¬', 'Z5')}),\n",
       " frozenset({('¬', 'P3'), ('¬', 'P4')}),\n",
       " frozenset({('¬', 'P7'), ('¬', 'P9')}),\n",
       " frozenset({('¬', 'P2'), ('¬', 'P9')}),\n",
       " frozenset({('¬', 'T7'), ('¬', 'Z7')}),\n",
       " frozenset({('¬', 'T9'), ('¬', 'Z9')}),\n",
       " frozenset({('¬', 'P9'), ('¬', 'Z8')}),\n",
       " frozenset({('¬', 'P1'), ('¬', 'P5')}),\n",
       " frozenset({('¬', 'T2'), ('¬', 'Z1')}),\n",
       " frozenset({('¬', 'e'), 'P2', 'T2', 'Z2'}),\n",
       " frozenset({'Z2', 'Z4', 'Z5'}),\n",
       " frozenset({('¬', 'Z6'), 'P2'}),\n",
       " frozenset({('¬', 'T8'), ('¬', 'Z8')}),\n",
       " frozenset({('¬', 'P2'), ('¬', 'P4')}),\n",
       " frozenset({('¬', 'Z3'), ('¬', 'Z6')}),\n",
       " frozenset({('¬', 'P3'), ('¬', 'P9')}),\n",
       " frozenset({('¬', 'P4'), ('¬', 'P7')}),\n",
       " frozenset({('¬', 'P8'), 'Z8'}),\n",
       " frozenset({('¬', 'Z3'), 'P3', 'T3', 'e'}),\n",
       " frozenset({('¬', 'Z9'), 'Z6'}),\n",
       " frozenset({('¬', 'P1'), ('¬', 'P7')}),\n",
       " frozenset({('¬', 'P7'), 'Z7'}),\n",
       " frozenset({('¬', 'Z9'), 'P9', 'T9', 'e'}),\n",
       " frozenset({('¬', 'Z3'), 'Z5'}),\n",
       " frozenset({('¬', 'P6'), ('¬', 'P9')}),\n",
       " frozenset({('¬', 'Z1'), 'P1', 'T1', 'e'}),\n",
       " frozenset({('¬', 'Z2'), 'P2', 'T2', 'e'}),\n",
       " frozenset({('¬', 'T1'), ('¬', 'Z1')}),\n",
       " frozenset({('¬', 'P2'), 'T2', 'Z3', 'Z6'}),\n",
       " frozenset({'T1', 'Z5'}),\n",
       " frozenset({('¬', 'P3'), 'Z3'}),\n",
       " frozenset({('¬', 'P1'), ('¬', 'P9')}),\n",
       " frozenset({('¬', 'P1'), 'T2', 'T4', 'T6', 'T8', 'Z1'}),\n",
       " frozenset({('¬', 'Z5'), 'P5', 'T5', 'e'}),\n",
       " frozenset({('¬', 'P1'), ('¬', 'P3')}),\n",
       " frozenset({('¬', 'T8'), ('¬', 'Z1')}),\n",
       " frozenset({('¬', 'Z4'), 'Z9'}),\n",
       " frozenset({('¬', 'Z7'), 'Z5'}),\n",
       " frozenset({('¬', 'P3'), ('¬', 'P6')}),\n",
       " frozenset({('¬', 'P5'), ('¬', 'P9')}),\n",
       " frozenset({('¬', 'P5'), 'T2', 'T4', 'T6', 'T8', 'Z1'}),\n",
       " frozenset({('¬', 'T2'), ('¬', 'Z2')}),\n",
       " frozenset({('¬', 'e'), 'P3', 'T3', 'Z3'}),\n",
       " frozenset({('¬', 'T6'), ('¬', 'Z1')}),\n",
       " frozenset({'P1', 'P2', 'P3', 'P4', 'P5', 'P6', 'P7', 'P8', 'P9'}),\n",
       " frozenset({('¬', 'P1'), 'Z1'}),\n",
       " frozenset({('¬', 'P8'), ('¬', 'P9')}),\n",
       " frozenset({('¬', 'P7'), 'T2', 'T4', 'T6', 'T8', 'Z1'}),\n",
       " frozenset({('¬', 'T9'), ('¬', 'Z8')}),\n",
       " frozenset({('¬', 'Z9'), 'T8', 'Z1', 'Z4'}),\n",
       " frozenset({('¬', 'P4'), ('¬', 'P9')}),\n",
       " frozenset({('¬', 'P3'), ('¬', 'P7')}),\n",
       " frozenset({('¬', 'T6'), ('¬', 'Z6')}),\n",
       " frozenset({('¬', 'T8'), ('¬', 'Z4')}),\n",
       " frozenset({('¬', 'P4'), ('¬', 'P6')}),\n",
       " frozenset({('¬', 'P6'), 'Z6'}),\n",
       " frozenset({('¬', 'P5'), 'Z5'}),\n",
       " frozenset({('¬', 'P2'), 'Z2'}),\n",
       " frozenset({('¬', 'T3'), ('¬', 'Z3')}),\n",
       " frozenset({('¬', 'T1'), ('¬', 'Z9')}),\n",
       " frozenset({('¬', 'P3'), ('¬', 'P5')}),\n",
       " frozenset({('¬', 'Z4'), 'P4', 'T4', 'e'}),\n",
       " frozenset({('¬', 'P6'), ('¬', 'P8')}),\n",
       " frozenset({('¬', 'Z7'), 'P1'}),\n",
       " frozenset({'P2', 'T2', 'Z2'}),\n",
       " frozenset({('¬', 'P2'), ('¬', 'P6')}),\n",
       " frozenset({('¬', 'Z3'), 'T3'}),\n",
       " frozenset({('¬', 'P6'), ('¬', 'P7')}),\n",
       " frozenset({('¬', 'P2'), ('¬', 'P3')})}"
      ]
     },
     "execution_count": 19,
     "metadata": {},
     "output_type": "execute_result"
    }
   ],
   "source": [
    "Clauses = computeClauses()\n",
    "Clauses"
   ]
  },
  {
   "cell_type": "markdown",
   "metadata": {},
   "source": [
    "There are 110 clauses."
   ]
  },
  {
   "cell_type": "code",
   "execution_count": 20,
   "metadata": {},
   "outputs": [
    {
     "data": {
      "text/plain": [
       "110"
      ]
     },
     "execution_count": 20,
     "metadata": {},
     "output_type": "execute_result"
    }
   ],
   "source": [
    "len(Clauses)"
   ]
  },
  {
   "cell_type": "markdown",
   "metadata": {},
   "source": [
    "Finally, we call the function <tt>solve</tt> from the module <tt>davisPutnam</tt> to solve the problem."
   ]
  },
  {
   "cell_type": "code",
   "execution_count": 21,
   "metadata": {},
   "outputs": [
    {
     "name": "stdout",
     "output_type": "stream",
     "text": [
      "CPU times: user 4.59 ms, sys: 948 μs, total: 5.54 ms\n",
      "Wall time: 5.05 ms\n"
     ]
    }
   ],
   "source": [
    "%%time\n",
    "solution = solve(Clauses)"
   ]
  },
  {
   "cell_type": "code",
   "execution_count": 22,
   "metadata": {},
   "outputs": [
    {
     "data": {
      "text/plain": [
       "{frozenset({'P5'}),\n",
       " frozenset({('¬', 'e')}),\n",
       " frozenset({('¬', 'P6')}),\n",
       " frozenset({('¬', 'P4')}),\n",
       " frozenset({('¬', 'P8')}),\n",
       " frozenset({('¬', 'P1')}),\n",
       " frozenset({('¬', 'P9')}),\n",
       " frozenset({('¬', 'Z6')}),\n",
       " frozenset({('¬', 'T5')}),\n",
       " frozenset({('¬', 'Z2')}),\n",
       " frozenset({('¬', 'Z8')}),\n",
       " frozenset({('¬', 'P7')}),\n",
       " frozenset({('¬', 'Z9')}),\n",
       " frozenset({('¬', 'Z7')}),\n",
       " frozenset({('¬', 'Z1')}),\n",
       " frozenset({('¬', 'T3')}),\n",
       " frozenset({('¬', 'P2')}),\n",
       " frozenset({('¬', 'Z4')}),\n",
       " frozenset({'Z5'}),\n",
       " frozenset({'T8'}),\n",
       " frozenset({('¬', 'Z3')}),\n",
       " frozenset({'T2'}),\n",
       " frozenset({('¬', 'P3')})}"
      ]
     },
     "execution_count": 22,
     "metadata": {},
     "output_type": "execute_result"
    }
   ],
   "source": [
    "solution"
   ]
  },
  {
   "cell_type": "markdown",
   "metadata": {},
   "source": [
    "The function $\\texttt{getSolution}(S)$ takes a set of unit clauses representing the solution of the problem and returns the room where the princess is located."
   ]
  },
  {
   "cell_type": "code",
   "execution_count": 23,
   "metadata": {},
   "outputs": [],
   "source": [
    "def getSolution(S):\n",
    "    \"Print only the positive literals from the set S.\"\n",
    "    for Unit in S:\n",
    "        for l in Unit:\n",
    "            if isinstance(l, str) and l[0] == 'P':\n",
    "                return l"
   ]
  },
  {
   "cell_type": "markdown",
   "metadata": {},
   "source": [
    "We print the solution."
   ]
  },
  {
   "cell_type": "code",
   "execution_count": 24,
   "metadata": {},
   "outputs": [
    {
     "data": {
      "text/plain": [
       "'P5'"
      ]
     },
     "execution_count": 24,
     "metadata": {},
     "output_type": "execute_result"
    }
   ],
   "source": [
    "princess = getSolution(solution)\n",
    "princess"
   ]
  },
  {
   "cell_type": "code",
   "execution_count": 25,
   "metadata": {},
   "outputs": [
    {
     "name": "stdout",
     "output_type": "stream",
     "text": [
      "Die Prinzessin ist im Zimmer Nummer 5.\n"
     ]
    }
   ],
   "source": [
    "print(f'Die Prinzessin ist im Zimmer Nummer {princess[1]}.')"
   ]
  },
  {
   "cell_type": "markdown",
   "metadata": {},
   "source": [
    "Finally, we check whether the solution is unique.  If the solution is not unique, then you have missed to code some of the requirements."
   ]
  },
  {
   "cell_type": "code",
   "execution_count": 26,
   "metadata": {},
   "outputs": [],
   "source": [
    "def checkUniqueness(Clauses, princess):\n",
    "    Clauses.add(frozenset({('¬', princess)}))\n",
    "    alternative = solve(Clauses)\n",
    "    if alternative == { frozenset() }:\n",
    "        print('The solution is unique.')\n",
    "    else:\n",
    "        print(alternative)"
   ]
  },
  {
   "cell_type": "code",
   "execution_count": 27,
   "metadata": {},
   "outputs": [
    {
     "name": "stdout",
     "output_type": "stream",
     "text": [
      "The solution is unique.\n"
     ]
    }
   ],
   "source": [
    "checkUniqueness(Clauses, princess)"
   ]
  },
  {
   "cell_type": "code",
   "execution_count": null,
   "metadata": {},
   "outputs": [],
   "source": []
  },
  {
   "cell_type": "code",
   "execution_count": null,
   "metadata": {},
   "outputs": [],
   "source": []
  }
 ],
 "metadata": {
  "hide_input": false,
  "kernelspec": {
   "display_name": "Python 3 (ipykernel)",
   "language": "python",
   "name": "python3"
  },
  "language_info": {
   "codemirror_mode": {
    "name": "ipython",
    "version": 3
   },
   "file_extension": ".py",
   "mimetype": "text/x-python",
   "name": "python",
   "nbconvert_exporter": "python",
   "pygments_lexer": "ipython3",
   "version": "3.13.3"
  },
  "toc": {
   "base_numbering": 1,
   "nav_menu": {},
   "number_sections": true,
   "sideBar": true,
   "skip_h1_title": false,
   "title_cell": "Table of Contents",
   "title_sidebar": "Contents",
   "toc_cell": false,
   "toc_position": {},
   "toc_section_display": true,
   "toc_window_display": false
  },
  "varInspector": {
   "cols": {
    "lenName": 16,
    "lenType": 16,
    "lenVar": 40
   },
   "kernels_config": {
    "python": {
     "delete_cmd_postfix": "",
     "delete_cmd_prefix": "del ",
     "library": "var_list.py",
     "varRefreshCmd": "print(var_dic_list())"
    },
    "r": {
     "delete_cmd_postfix": ") ",
     "delete_cmd_prefix": "rm(",
     "library": "var_list.r",
     "varRefreshCmd": "cat(var_dic_list()) "
    }
   },
   "types_to_exclude": [
    "module",
    "function",
    "builtin_function_or_method",
    "instance",
    "_Feature"
   ],
   "window_display": false
  }
 },
 "nbformat": 4,
 "nbformat_minor": 4
}
