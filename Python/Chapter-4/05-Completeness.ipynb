{
 "cells": [
  {
   "cell_type": "code",
   "execution_count": null,
   "metadata": {},
   "outputs": [],
   "source": [
    "from IPython.display import HTML\n",
    "HTML(open('../style.css').read())"
   ]
  },
  {
   "cell_type": "code",
   "execution_count": null,
   "metadata": {},
   "outputs": [],
   "source": [
    "%load_ext nb_mypy"
   ]
  },
  {
   "cell_type": "code",
   "execution_count": null,
   "metadata": {},
   "outputs": [],
   "source": [
    "Variable = str\n",
    "Literal  = Variable | tuple[str, Variable]\n",
    "Clause   = frozenset[Literal]\n",
    "CNF      = set[Clause]"
   ]
  },
  {
   "cell_type": "markdown",
   "metadata": {},
   "source": [
    "# Refutational Completeness of the Cut Rule"
   ]
  },
  {
   "cell_type": "markdown",
   "metadata": {},
   "source": [
    "This notebook implements a number of procedures that are needed in our proof of the <em style=\"color:blue\">refutational completeness</em> of the cut rule."
   ]
  },
  {
   "cell_type": "markdown",
   "metadata": {},
   "source": [
    "The function $\\texttt{complement}(l)$ computes the *complement* of a literal $l$.\n",
    "As we are only dealing with formulas in CNF that are written in set notation and these formulas do not contain $\\top$ or $\\bot$, a literal is either \n",
    "a propositional variable or the negation of a propositional variable.\n",
    "Therefore, if $p$ is a propositional variable, we have the following: \n",
    "* $\\texttt{complement}(p) = \\neg p$,\n",
    "* $\\texttt{complement}(\\neg p) = p$."
   ]
  },
  {
   "cell_type": "code",
   "execution_count": null,
   "metadata": {},
   "outputs": [],
   "source": [
    "def complement(l: Literal) -> Literal:\n",
    "    'Compute the complement of the literal l.'\n",
    "    match l:\n",
    "        case ('¬', p): return p \n",
    "        case p       : return ('¬', p) # type: ignore\n",
    "    return None # type: ignore"
   ]
  },
  {
   "cell_type": "code",
   "execution_count": null,
   "metadata": {},
   "outputs": [],
   "source": [
    "complement('p')"
   ]
  },
  {
   "cell_type": "code",
   "execution_count": null,
   "metadata": {},
   "outputs": [],
   "source": [
    "complement(('¬', 'p'))"
   ]
  },
  {
   "cell_type": "markdown",
   "metadata": {},
   "source": [
    "The function $\\texttt{extractVariable}(l)$ extracts the propositional variable from the literal $l$.\n",
    "If $p$ is a propositional variable, we have the following: \n",
    "<ol>\n",
    "    <li>$\\texttt{extractVariable}(p) = p$,\n",
    "    </li>\n",
    "    <li>$\\texttt{extractVariable}(\\neg p) = p$.\n",
    "    </li>\n",
    "</ol>"
   ]
  },
  {
   "cell_type": "code",
   "execution_count": null,
   "metadata": {},
   "outputs": [],
   "source": [
    "def extractVariable(l: Literal) -> Variable:\n",
    "    'Extract the variable from the literal l.'\n",
    "    match l:\n",
    "        case ('¬', p): return p\n",
    "        case p       : return p # type: ignore          \n",
    "    return None # type: ignore"
   ]
  },
  {
   "cell_type": "code",
   "execution_count": null,
   "metadata": {},
   "outputs": [],
   "source": [
    "extractVariable('p')"
   ]
  },
  {
   "cell_type": "code",
   "execution_count": null,
   "metadata": {},
   "outputs": [],
   "source": [
    "extractVariable(('¬', 'q'))"
   ]
  },
  {
   "cell_type": "markdown",
   "metadata": {},
   "source": [
    "The function $\\texttt{collectsVariables}(M)$ takes a set of clauses $M$ as its input and computes the set of all propositional variables occurring in $M$.  The clauses in $M$ are represented as sets of literals."
   ]
  },
  {
   "cell_type": "code",
   "execution_count": null,
   "metadata": {},
   "outputs": [],
   "source": [
    "def collectVariables(M: set[Clause]) -> set[Variable]:\n",
    "    \"Return the set of all variables occurring in clauses of M.\"\n",
    "    return { extractVariable(l) for Clause in M for l in Clause }"
   ]
  },
  {
   "cell_type": "code",
   "execution_count": null,
   "metadata": {},
   "outputs": [],
   "source": [
    "C1 = frozenset({ 'p', 'q', 'r' })\n",
    "C2 = frozenset({ ('¬', 'p'), ('¬', 'q'), ('¬', 's') })\n",
    "collectVariables({ C1, C2 })"
   ]
  },
  {
   "cell_type": "markdown",
   "metadata": {},
   "source": [
    "Given two clauses $C_1$ and $C_2$ that are represented as sets of literals, the function `cutRule`$(C_1, C_2)$ computes the set of all clauses that can be derived from $C_1$ and $C_2$ using the *cut rule*.  In set notation, the cut rule is the following rule of inference:\n",
    "$$\n",
    "   \\frac{\\displaystyle \\;C_1\\cup \\{l\\} \\quad C_2 \\cup \\bigl\\{\\overline{\\,l\\,}\\bigr\\}}{\\displaystyle C_1 \\cup C_2}\n",
    "$$"
   ]
  },
  {
   "cell_type": "code",
   "execution_count": null,
   "metadata": {},
   "outputs": [],
   "source": [
    "def cutRule(C1: Clause, C2: Clause) -> set[Clause]:\n",
    "    \"Return the set of all clauses that can be deduced by the cut rule from C1 and C2.\"\n",
    "    return { C1 - {l} | C2 - {complement(l)} for l in C1\n",
    "                                             if  complement(l) in C2\n",
    "           }"
   ]
  },
  {
   "cell_type": "code",
   "execution_count": null,
   "metadata": {},
   "outputs": [],
   "source": [
    "C1 = frozenset({ ('¬', 'q'), ('¬', 'r') })\n",
    "C2 = frozenset({ 'q', 'r' })\n",
    "cutRule(C1, C2)"
   ]
  },
  {
   "cell_type": "markdown",
   "metadata": {},
   "source": [
    "In the expression `saturate(Clauses)` below, `Clauses` is a set of *clauses*, where each clause is a set of *literals*.  The call `saturate(Clauses)` computes the set of all clauses that can be derived from clauses in the set `Clauses` using the *cut rule*.  The function keeps applying the cut rule until either no new clauses can be derived, or the empty clause $\\{\\}$ is derived.  The resulting set of clauses is *saturated* in the following sense:  If $C_1$ and $C_2$ are clauses from the set `Clauses` and the clause $D$ can be derived from $C_1$ and $C_2$ via the cut rule, then $D \\in \\texttt{Clauses}$ or $\\{\\} \\in \\texttt{Clauses}$."
   ]
  },
  {
   "cell_type": "code",
   "execution_count": null,
   "metadata": {},
   "outputs": [],
   "source": [
    "def saturate(Clauses: set[Clause]) -> set[Clause]:\n",
    "    while True:\n",
    "        Derived = { C for C1 in Clauses\n",
    "                      for C2 in Clauses\n",
    "                      for C  in cutRule(C1, C2)\n",
    "                  }\n",
    "        if frozenset() in Derived:\n",
    "            return { frozenset() }  # This is the set notation of ⊥ in CNF.\n",
    "        Derived -= Clauses          # Remove clauses that were already present before.\n",
    "        if Derived == set():        # No new clauses have been found.\n",
    "            return Clauses\n",
    "        Clauses |= Derived"
   ]
  },
  {
   "cell_type": "code",
   "execution_count": null,
   "metadata": {},
   "outputs": [],
   "source": [
    "C1 = frozenset({ 'p', 'q' })\n",
    "C2 = frozenset({ ('¬', 'p') })\n",
    "C3 = frozenset({ ('¬', 'p'), ('¬', 'q') })\n",
    "saturate({C1, C2, C3})"
   ]
  },
  {
   "cell_type": "markdown",
   "metadata": {},
   "source": [
    "The function $\\texttt{findValuation}(\\texttt{Clauses})$ takes a set of clauses as input.  The function tries to compute a variable interpretation that makes all of these clauses `True`.  If this attempt is successful, a set of literals is returned.  This set of literals does not contain  any complementary literals and therefore corresponds to a variable assignment satisfying all clauses.  If $\\texttt{Clauses}$ is unsatisfiable, `False` is returned."
   ]
  },
  {
   "cell_type": "code",
   "execution_count": null,
   "metadata": {},
   "outputs": [],
   "source": [
    "def findValuation(Clauses: set[Clause]) -> bool | set[Literal]:\n",
    "    \"Given a set of Clauses, find a propositional valuation satisfying all of these clauses.\"\n",
    "    Variables = collectVariables(Clauses)\n",
    "    Clauses   = saturate(Clauses)\n",
    "    if frozenset() in Clauses:  # The set Clauses is inconsistent.\n",
    "        return False\n",
    "    Literals: set[Literal] = set()\n",
    "    for p in Variables:\n",
    "        if any(C for C in Clauses \n",
    "                 if  p in C and C - {p} <= { complement(l) for l in Literals }\n",
    "              ):\n",
    "            Literals |= { p }\n",
    "        else:\n",
    "            Literals |= { ('¬', p) }\n",
    "    return Literals"
   ]
  },
  {
   "cell_type": "code",
   "execution_count": null,
   "metadata": {},
   "outputs": [],
   "source": [
    "C01: Clause = frozenset({ 'r', 'p', 's' })\n",
    "C02: Clause = frozenset({ 'r', 's' })\n",
    "C03: Clause = frozenset({ 'p', 'q', 's' })\n",
    "C04: Clause = frozenset({ ('¬', 'p'), ('¬', 'q') })\n",
    "C05: Clause = frozenset({ ('¬', 'p'), 's', ('¬', 'r') })\n",
    "C06: Clause = frozenset({ 'p', ('¬', 'q'), 'r'})\n",
    "C07: Clause = frozenset({ ('¬', 'r'), ('¬', 's'), 'q' })\n",
    "C08: Clause = frozenset({ ('¬', 'p'), ('¬', 's')})\n",
    "C09: Clause = frozenset({ 'p', ('¬', 'r'), ('¬', 'q') })\n",
    "C10: Clause = frozenset({ ('¬', 'p'), 'r', 'q', ('¬', 's') })\n",
    "C11: Clause = frozenset({ 'p', 'q', 'r', ('¬', 's') })\n",
    "Clauses: set[Clause] = { C01, C02, C03, C04, C05, C06, C07, C08, C09, C10 }\n",
    "findValuation(Clauses)"
   ]
  },
  {
   "cell_type": "code",
   "execution_count": null,
   "metadata": {},
   "outputs": [],
   "source": [
    "Clauses: set[Clause] = { C01, C02, C03, C04, C05, C06, C07, C08, C09, C10, C11 }\n",
    "findValuation(Clauses)"
   ]
  },
  {
   "cell_type": "code",
   "execution_count": null,
   "metadata": {
    "slideshow": {
     "slide_type": ""
    },
    "tags": []
   },
   "outputs": [],
   "source": [
    "saturate(Clauses)"
   ]
  },
  {
   "cell_type": "code",
   "execution_count": null,
   "metadata": {},
   "outputs": [],
   "source": []
  }
 ],
 "metadata": {
  "hide_input": false,
  "kernelspec": {
   "display_name": "Python 3 (ipykernel)",
   "language": "python",
   "name": "python3"
  },
  "language_info": {
   "codemirror_mode": {
    "name": "ipython",
    "version": 3
   },
   "file_extension": ".py",
   "mimetype": "text/x-python",
   "name": "python",
   "nbconvert_exporter": "python",
   "pygments_lexer": "ipython3",
   "version": "3.13.2"
  },
  "toc": {
   "base_numbering": 1,
   "nav_menu": {},
   "number_sections": true,
   "sideBar": true,
   "skip_h1_title": false,
   "title_cell": "Table of Contents",
   "title_sidebar": "Contents",
   "toc_cell": false,
   "toc_position": {},
   "toc_section_display": true,
   "toc_window_display": false
  },
  "varInspector": {
   "cols": {
    "lenName": 16,
    "lenType": 16,
    "lenVar": 40
   },
   "kernels_config": {
    "python": {
     "delete_cmd_postfix": "",
     "delete_cmd_prefix": "del ",
     "library": "var_list.py",
     "varRefreshCmd": "print(var_dic_list())"
    },
    "r": {
     "delete_cmd_postfix": ") ",
     "delete_cmd_prefix": "rm(",
     "library": "var_list.r",
     "varRefreshCmd": "cat(var_dic_list()) "
    }
   },
   "types_to_exclude": [
    "module",
    "function",
    "builtin_function_or_method",
    "instance",
    "_Feature"
   ],
   "window_display": false
  }
 },
 "nbformat": 4,
 "nbformat_minor": 4
}
