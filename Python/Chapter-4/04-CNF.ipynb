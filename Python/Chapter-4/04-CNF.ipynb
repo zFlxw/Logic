{
 "cells": [
  {
   "cell_type": "code",
   "execution_count": null,
   "metadata": {},
   "outputs": [],
   "source": [
    "from IPython.display import HTML\n",
    "HTML(open('../style.css').read())"
   ]
  },
  {
   "cell_type": "code",
   "execution_count": null,
   "metadata": {},
   "outputs": [],
   "source": [
    "%load_ext nb_mypy"
   ]
  },
  {
   "cell_type": "markdown",
   "metadata": {},
   "source": [
    "# How to Compute the Conjunctive Normal Form"
   ]
  },
  {
   "cell_type": "markdown",
   "metadata": {},
   "source": [
    "Formulas are represented as nested tuples.  In order to convert a string into a nested tuple we use the *parser* that is found in the notebook `Propositional-Logic-Parser.ipynb`."
   ]
  },
  {
   "cell_type": "code",
   "execution_count": null,
   "metadata": {},
   "outputs": [],
   "source": [
    "%%capture\n",
    "%run Propositional-Logic-Parser.ipynb"
   ]
  },
  {
   "cell_type": "code",
   "execution_count": null,
   "metadata": {},
   "outputs": [],
   "source": [
    "from typing import TypeVar"
   ]
  },
  {
   "cell_type": "code",
   "execution_count": null,
   "metadata": {},
   "outputs": [],
   "source": [
    "Variable = str\n",
    "Formula  = TypeVar('Formula')\n",
    "Formula  = Variable | tuple[Formula, ...]\n",
    "Literal  = Variable | tuple[str, Variable]\n",
    "Clause   = frozenset[Literal]\n",
    "CNF      = set[Clause]"
   ]
  },
  {
   "cell_type": "code",
   "execution_count": null,
   "metadata": {},
   "outputs": [],
   "source": [
    "def parse(s: str) -> Formula:\n",
    "    parser = LogicParser(s) # type: ignore\n",
    "    return parser.parse()   # type ignore"
   ]
  },
  {
   "cell_type": "markdown",
   "metadata": {},
   "source": [
    "The function `eliminateBiconditional(f)` takes a formula `f` from propositional logic and eliminates all occurrences of the operator '↔' from this formula.  This is done by using the following equivalence:\n",
    "$$ (g \\leftrightarrow h) \\;\\Leftrightarrow\\; (g \\rightarrow h) \\wedge (h \\rightarrow g) $$"
   ]
  },
  {
   "cell_type": "code",
   "execution_count": null,
   "metadata": {},
   "outputs": [],
   "source": [
    "def eliminateBiconditional(f: Formula) -> Formula:\n",
    "    'Eliminate the logical operator \"↔\" from the formula f.'\n",
    "    match f:\n",
    "        case str(p):        # This case covers variables.\n",
    "            return p\n",
    "        case ('↔', g, h):\n",
    "            return eliminateBiconditional( ('∧', ('→', g, h), ('→', h, g)) )\n",
    "        case ('⊤', ) | ('⊥', ):\n",
    "            return f\n",
    "        case ('¬', g):\n",
    "            return ('¬', eliminateBiconditional(g))\n",
    "        case (op, g, h):   # This case covers '→', '∧', and '∨'.\n",
    "            return (op, eliminateBiconditional(g), eliminateBiconditional(h))\n",
    "    return None # type: ignore"
   ]
  },
  {
   "cell_type": "markdown",
   "metadata": {},
   "source": [
    "The function $\\texttt{eliminateConditional}(f)$ takes a formula $f$ from propositional logic and eliminates all occurrences of the operator '→' from this formula.  This is done by using the following equivalence:\n",
    "$$ (g \\rightarrow h) \\;\\Leftrightarrow\\; (\\neg g \\vee h) $$"
   ]
  },
  {
   "cell_type": "code",
   "execution_count": null,
   "metadata": {},
   "outputs": [],
   "source": [
    "def eliminateConditional(f: Formula) -> Formula:\n",
    "    'Eliminate the logical operator \"→\" from f.'\n",
    "    match f:\n",
    "        case str(p):    # variables\n",
    "            return p\n",
    "        case ('⊤', ) | ('⊥', ):\n",
    "            return f\n",
    "        case ('→', g, h): \n",
    "            return eliminateConditional(('∨', ('¬', g), h))\n",
    "        case ('¬', g):\n",
    "            return ('¬', eliminateConditional(g))\n",
    "        case (op, g, h):      # This case covers '∧' and '∨'.\n",
    "            return (op, eliminateConditional(g), eliminateConditional(h))\n",
    "    return None # type: ignore"
   ]
  },
  {
   "cell_type": "markdown",
   "metadata": {},
   "source": [
    "The function $\\texttt{nnf}(f)$ computes the *negation normal form* of $f$, while $\\texttt{neg}(f)$ computes the *negation normal form* of $\\neg f$.  The expression $\\texttt{nnf}(f)$ is defined recursively as follows:\n",
    "<ol>\n",
    "    <li> $\\texttt{nnf}(\\neg \\texttt{F}) = \\texttt{neg}(\\texttt{F})$, </li>\n",
    "    <li> $\\texttt{nnf}(\\texttt{F}_1 \\wedge \\texttt{F}_2) = \n",
    "          \\texttt{nnf}(\\texttt{F}_1) \\wedge \\texttt{nnf}(\\texttt{F}_2)$,</li>\n",
    "    <li> $\\texttt{nnf}(\\texttt{F}_1 \\vee \\texttt{F}_2) = \n",
    "          \\texttt{nnf}(\\texttt{F}_1) \\vee \\texttt{nnf}(\\texttt{F}_2)$.</li>\n",
    "</ol>\n",
    "The auxiliary function $\\texttt{neg}$ is also defined recursively:\n",
    "<ol>\n",
    "    <li> $\\texttt{neg}(p) = \\texttt{nnf}(\\neg p) = \\neg p$ for all propositional variables $p$,</li>\n",
    "    <li> $\\texttt{neg}(\\neg F) = \\texttt{nnf}(\\neg \\neg F) = \\texttt{nnf}(F)$,</li>\n",
    "    <li> $$\\begin{array}[t]{cl}\n",
    "         & \\texttt{neg}\\bigl(F_1 \\wedge F_2 \\bigr) \\\\[0.1cm]\n",
    "       = & \\texttt{nnf}\\bigl(\\neg(F_1 \\wedge F_2)\\bigr) \\\\[0.1cm]\n",
    "       = & \\texttt{nnf}\\bigl(\\neg F_1 \\vee \\neg F_2\\bigr) \\\\[0.1cm]\n",
    "       = & \\texttt{nnf}\\bigl(\\neg F_1\\bigr) \\vee \\texttt{nnf}\\bigl(\\neg F_2\\bigr) \\\\[0.1cm]\n",
    "       = & \\texttt{neg}(F_1) \\vee \\texttt{neg}(F_2).\n",
    "       \\end{array}\n",
    "      $$\n",
    "      Therefore we have $\\texttt{neg}\\bigl(F_1 \\wedge F_2 \\bigr) = \\texttt{neg}(F_1) \\vee \\texttt{neg}(F_2)$.</li>\n",
    "     <li> $$\\begin{array}[t]{cl}\n",
    "         & \\texttt{neg}\\bigl(F_1 \\vee F_2 \\bigr)        \\\\[0.1cm]\n",
    "       = & \\texttt{nnf}\\bigl(\\neg(F_1 \\vee F_2) \\bigr)  \\\\[0.1cm]\n",
    "       = & \\texttt{nnf}\\bigl(\\neg F_1 \\wedge \\neg F_2 \\bigr)  \\\\[0.1cm]\n",
    "       = & \\texttt{nnf}\\bigl(\\neg F_1\\bigr) \\wedge \\texttt{nnf}\\bigl(\\neg F_2 \\bigr)  \\\\[0.1cm]\n",
    "       = & \\texttt{neg}(F_1) \\wedge \\texttt{neg}(F_2). \n",
    "       \\end{array}\n",
    "      $$\n",
    "      Therefore we have $\\texttt{neg}\\bigl(F_1 \\vee F_2 \\bigr) = \\texttt{neg}(F_1) \\wedge \\texttt{neg}(F_2)$.</li>\n",
    "</ol>"
   ]
  },
  {
   "cell_type": "markdown",
   "metadata": {},
   "source": [
    "The forward declaration for the function `neg` is needed to typecheck the function `nnf`."
   ]
  },
  {
   "cell_type": "code",
   "execution_count": null,
   "metadata": {},
   "outputs": [],
   "source": [
    "def neg(f: Formula) -> Formula:\n",
    "    return None # type: ignore"
   ]
  },
  {
   "cell_type": "code",
   "execution_count": null,
   "metadata": {},
   "outputs": [],
   "source": [
    "def nnf(f: Formula) -> Formula:\n",
    "    'Compute the negation normal form of f.'\n",
    "    match f:\n",
    "        case str(p): \n",
    "            return p\n",
    "        case ('⊤', ) | ('⊥', ):\n",
    "            return f\n",
    "        case ('¬', g):\n",
    "            return neg(g)\n",
    "        case (op, g, h):\n",
    "            return (op, nnf(g), nnf(h))\n",
    "    return None # type: ignore"
   ]
  },
  {
   "cell_type": "code",
   "execution_count": null,
   "metadata": {},
   "outputs": [],
   "source": [
    "def neg(f: Formula) -> Formula:\n",
    "    'Compute the negation normal form of ¬f.'\n",
    "    match f:\n",
    "        case str(p): \n",
    "            return ('¬', p)\n",
    "        case ('⊤', ):\n",
    "            return ('⊥', )\n",
    "        case ('⊥', ):\n",
    "            return ('⊤', )\n",
    "        case ('¬', g):\n",
    "            return nnf(g)\n",
    "        case ('∧', g, h):\n",
    "            return ('∨', neg(g), neg(h))\n",
    "        case ('∨', g, h):\n",
    "            return ('∧', neg(g), neg(h))\n",
    "    return None # type: ignore"
   ]
  },
  {
   "cell_type": "markdown",
   "metadata": {},
   "source": [
    "The function $\\texttt{cnf}(f)$ takes a formula $f$ that is in *negation normal form*, i.e. the negation operator is only applied to propositional variables and returns the *conjunctive normal form* of $f$ in *set notation*.  In order to achieve\n",
    "this it uses the distributive law\n",
    "$$ (f \\wedge g) \\vee (h \\wedge k) \\Leftrightarrow (f \\vee h) \\wedge (f \\vee k) \\wedge (g \\vee h) \\wedge (g \\vee k). $$"
   ]
  },
  {
   "cell_type": "code",
   "execution_count": null,
   "metadata": {},
   "outputs": [],
   "source": [
    "def cnf(f: Formula) -> CNF:\n",
    "    match f:\n",
    "        case str(p):         # f is a variable\n",
    "            return { frozenset({p}) }\n",
    "        case ('⊤', ):\n",
    "            return set()\n",
    "        case ('⊥', ):\n",
    "            return { frozenset() }\n",
    "        case ('¬', p):\n",
    "            return { frozenset({ ('¬', p) }) }  # f is a negative literal\n",
    "        case ('∧', g, h):\n",
    "            return cnf(g) | cnf(h)\n",
    "        case ('∨', g, h):\n",
    "            return { k1 | k2 for k1 in cnf(g) for k2 in cnf(h) }\n",
    "    return None # type: ignore"
   ]
  },
  {
   "cell_type": "markdown",
   "metadata": {},
   "source": [
    "The function $\\texttt{isTrivial}(C)$ checks whether the clause $C$ is *trivial*."
   ]
  },
  {
   "cell_type": "code",
   "execution_count": null,
   "metadata": {},
   "outputs": [],
   "source": [
    "def isTrivial(Clause: Clause) -> bool:\n",
    "    return any(('¬', p) in Clause for p in Clause)"
   ]
  },
  {
   "cell_type": "markdown",
   "metadata": {},
   "source": [
    "The function $\\texttt{simplify}(Cs)$ takes a set of clauses and removes all trivial clauses from $Cs$."
   ]
  },
  {
   "cell_type": "code",
   "execution_count": null,
   "metadata": {},
   "outputs": [],
   "source": [
    "def simplify(Clauses: set[Clause]) -> set[Clause]:\n",
    "    return { C for C in Clauses if not isTrivial(C) }"
   ]
  },
  {
   "cell_type": "markdown",
   "metadata": {},
   "source": [
    "The function $f$ takes a propositional formula $f$ and transforms $f$ into *conjunctive normal form*.  \n",
    "Furthermore, trivial clausues are removed."
   ]
  },
  {
   "cell_type": "code",
   "execution_count": null,
   "metadata": {},
   "outputs": [],
   "source": [
    "def normalize(f: Formula) -> CNF:\n",
    "    n1 = eliminateBiconditional(f)\n",
    "    n2 = eliminateConditional(n1)\n",
    "    n3 = nnf(n2)\n",
    "    n4 = cnf(n3)\n",
    "    return simplify(n4)"
   ]
  },
  {
   "cell_type": "code",
   "execution_count": null,
   "metadata": {},
   "outputs": [],
   "source": [
    "def prettify[E](M: set[frozenset[E]]) -> str:\n",
    "    \"\"\"Turn the set of frozen sets M into a string that looks like a set of sets.\n",
    "       M is assumed to be the power set of some set.\n",
    "    \"\"\"\n",
    "    if M == set():\n",
    "        return '{}'\n",
    "    result = \"{\"\n",
    "    for A in M:\n",
    "        if A == frozenset(): \n",
    "            result += \"{}, \"\n",
    "        else:\n",
    "            result += str(set(A)) + \", \" # A is converted from a frozen set to a set\n",
    "    result = result[:-2] # remove the trailing substring \", \"\n",
    "    result += \"}\"\n",
    "    return result"
   ]
  },
  {
   "cell_type": "code",
   "execution_count": null,
   "metadata": {},
   "outputs": [],
   "source": [
    "def test(s: str) -> str:\n",
    "    f = parse(s)\n",
    "    print(f'The knf of {s} is:')\n",
    "    return prettify(normalize(f))"
   ]
  },
  {
   "cell_type": "code",
   "execution_count": null,
   "metadata": {},
   "outputs": [],
   "source": [
    "test('(¬p → q) → (p → q) → q')"
   ]
  },
  {
   "cell_type": "code",
   "execution_count": null,
   "metadata": {},
   "outputs": [],
   "source": [
    "test('(a → b) ↔ (¬a ∧ ¬b)')"
   ]
  },
  {
   "cell_type": "code",
   "execution_count": null,
   "metadata": {},
   "outputs": [],
   "source": [
    "test('(p ∧ q → r) ∨ ¬r → ¬p')"
   ]
  },
  {
   "cell_type": "code",
   "execution_count": null,
   "metadata": {},
   "outputs": [],
   "source": [
    "test('⊤')"
   ]
  },
  {
   "cell_type": "code",
   "execution_count": null,
   "metadata": {},
   "outputs": [],
   "source": [
    "test('⊥')"
   ]
  },
  {
   "cell_type": "code",
   "execution_count": null,
   "metadata": {},
   "outputs": [],
   "source": [
    "test('(p ∧ q → r) ∨ ¬r → ¬p ↔ ¬p')"
   ]
  },
  {
   "cell_type": "code",
   "execution_count": null,
   "metadata": {},
   "outputs": [],
   "source": []
  }
 ],
 "metadata": {
  "kernelspec": {
   "display_name": "Python 3 (ipykernel)",
   "language": "python",
   "name": "python3"
  },
  "language_info": {
   "codemirror_mode": {
    "name": "ipython",
    "version": 3
   },
   "file_extension": ".py",
   "mimetype": "text/x-python",
   "name": "python",
   "nbconvert_exporter": "python",
   "pygments_lexer": "ipython3",
   "version": "3.13.2"
  },
  "toc": {
   "base_numbering": 1,
   "nav_menu": {},
   "number_sections": true,
   "sideBar": true,
   "skip_h1_title": false,
   "title_cell": "Table of Contents",
   "title_sidebar": "Contents",
   "toc_cell": false,
   "toc_position": {},
   "toc_section_display": true,
   "toc_window_display": false
  },
  "varInspector": {
   "cols": {
    "lenName": 16,
    "lenType": 16,
    "lenVar": 40
   },
   "kernels_config": {
    "python": {
     "delete_cmd_postfix": "",
     "delete_cmd_prefix": "del ",
     "library": "var_list.py",
     "varRefreshCmd": "print(var_dic_list())"
    },
    "r": {
     "delete_cmd_postfix": ") ",
     "delete_cmd_prefix": "rm(",
     "library": "var_list.r",
     "varRefreshCmd": "cat(var_dic_list()) "
    }
   },
   "types_to_exclude": [
    "module",
    "function",
    "builtin_function_or_method",
    "instance",
    "_Feature"
   ],
   "window_display": false
  }
 },
 "nbformat": 4,
 "nbformat_minor": 4
}
