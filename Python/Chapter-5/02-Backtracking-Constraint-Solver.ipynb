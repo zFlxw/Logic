{
 "cells": [
  {
   "cell_type": "code",
   "execution_count": null,
   "metadata": {},
   "outputs": [],
   "source": [
    "from IPython.display import HTML\n",
    "HTML(open('../style.css', 'r').read())"
   ]
  },
  {
   "cell_type": "markdown",
   "metadata": {},
   "source": [
    "# A simple Backtracking Constraint Solver"
   ]
  },
  {
   "cell_type": "markdown",
   "metadata": {},
   "source": [
    "The module `ast` (short for <em><u>a</u>bstract <u>s</u>yntax <u>t</u>ree</em>) implements the method `parse`.  This method can be used to parse arbitrary Python expressions.  This method returns the syntax tree of the given expression.  Via the method `ast.walk` we can visit all nodes of this tree."
   ]
  },
  {
   "cell_type": "code",
   "execution_count": null,
   "metadata": {},
   "outputs": [],
   "source": [
    "import ast"
   ]
  },
  {
   "cell_type": "markdown",
   "metadata": {},
   "source": [
    "The function `collect_variables(expr)` takes a string `expr` that can be interpreted as a Python expression as its input and collects all variables occurring in `expr`.  It takes care to remove the function symbols from the names returned by `collect_variables`."
   ]
  },
  {
   "cell_type": "code",
   "execution_count": null,
   "metadata": {},
   "outputs": [],
   "source": [
    "def collect_variables(expr): \n",
    "    tree = ast.parse(expr)\n",
    "    return { node.id for node in ast.walk(tree) \n",
    "                     if  isinstance(node, ast.Name) \n",
    "                     if  node.id not in dir(__builtins__)\n",
    "           }"
   ]
  },
  {
   "cell_type": "markdown",
   "metadata": {},
   "source": [
    "Below, the predefined function `dir` returns a list containing all predefined variables, functions, and classes. "
   ]
  },
  {
   "cell_type": "code",
   "execution_count": null,
   "metadata": {},
   "outputs": [],
   "source": [
    "dir(__builtins__)"
   ]
  },
  {
   "cell_type": "code",
   "execution_count": null,
   "metadata": {},
   "outputs": [],
   "source": [
    "collect_variables('abs(x - y) + abs(z1 - z2)')"
   ]
  },
  {
   "cell_type": "markdown",
   "metadata": {},
   "source": [
    "The input to the function `solve` is a *constraint satisfaction problem*, i.e. a *CSP*.  \n",
    "The function `solve` tries to compute a solution of this problem via *backtracking*.\n",
    "Its main purpose is to transform the given *CSP* into an *annotated CSP* where all the formulas \n",
    "are *annotated* with their variables, i.e. the third component of the *CSP* is now no longer a set of formulas but rather a set of pairs of the form `(f, V)` where `f` is a formula and `V` is the set of variables occurring in this formula.  The function then calls the auxilliary function `backtrack_search` that recursively solves the *annotated CSP*."
   ]
  },
  {
   "cell_type": "code",
   "execution_count": null,
   "metadata": {},
   "outputs": [],
   "source": [
    "def solve(CSP):\n",
    "    'Compute a solution for the given constraint satisfaction problem.'\n",
    "    Variables, Values, Constraints = CSP\n",
    "    CSP = (Variables,\n",
    "           Values,\n",
    "           [(f, collect_variables(f) & set(Variables)) for f in Constraints]\n",
    "          )\n",
    "    return backtrack_search({}, CSP)"
   ]
  },
  {
   "cell_type": "markdown",
   "metadata": {},
   "source": [
    "Given a **consistent** *partial variable assignment* `Assignment` and a constraint satisfaction problem `CSP`,\n",
    "the function `backtrack_search(Assignment, CSP)` tries to extend the given assignment recursively and thereby produce a solution of the given CSP."
   ]
  },
  {
   "cell_type": "code",
   "execution_count": null,
   "metadata": {},
   "outputs": [],
   "source": [
    "def backtrack_search(Assignment, CSP):\n",
    "    '''\n",
    "    Given a partial variable assignment, this function tries to \n",
    "    complete this assignment towards a solution of the CSP.\n",
    "    '''\n",
    "    Variables, Values, Constraints = CSP\n",
    "    # If all variables are already assigned, then Assignment is a solution\n",
    "    # because it is partially consistent.\n",
    "    if len(Assignment) == len(Variables): \n",
    "        return Assignment\n",
    "    # take first unassigned variable\n",
    "    var = [x for x in Variables if x not in Assignment][0]\n",
    "    # try all values for this variable\n",
    "    for value in Values:\n",
    "        # If the assignment var ↦ value is consistent,\n",
    "        # extend Assignment such that Assignment[var] = value.\n",
    "        if isConsistent(var, value, Assignment, Constraints):\n",
    "            NewAssign      = Assignment.copy()\n",
    "            NewAssign[var] = value\n",
    "            Solution = backtrack_search(NewAssign, CSP)\n",
    "            if Solution != None:\n",
    "                return Solution\n",
    "            # else try next value\n",
    "    # all values tested, but no solution found\n",
    "    return None "
   ]
  },
  {
   "cell_type": "markdown",
   "metadata": {},
   "source": [
    "The function `isConsistent` takes four arguments:\n",
    "- `var` is a variable.\n",
    "- `value` is a value that is to be assigned to the variable `var`.\n",
    "- `Assignment` is a partial variable assignment that does not assign a value for `var`\n",
    "  and that is *consistent* with all constraints in the set `Constraints`.\n",
    "- `Constraints` is a set of logical formulas.\n",
    "\n",
    "The function checks whether the assignment \n",
    "$$ \\texttt{Assignment} \\cup \\{\\texttt{var} \\mapsto \\texttt{value}\\}$$\n",
    "violates any of the formulas in `Constraints`.  It assumes that\n",
    "`Assignment` is *consistent*."
   ]
  },
  {
   "cell_type": "code",
   "execution_count": null,
   "metadata": {},
   "outputs": [],
   "source": [
    "def isConsistent(var, value, Assignment, Constraints):\n",
    "    NewA      = Assignment.copy()\n",
    "    NewA[var] = value\n",
    "    return all(eval(f, globals(), NewA) for (f, Vs) in Constraints\n",
    "                                        if var in Vs and Vs <= NewA.keys()\n",
    "              )"
   ]
  },
  {
   "cell_type": "markdown",
   "metadata": {},
   "source": [
    "The predefined function `eval` takes a Python expression and a \n",
    "variable assignment and evaluates the given expression."
   ]
  },
  {
   "cell_type": "code",
   "execution_count": null,
   "metadata": {},
   "outputs": [],
   "source": [
    "eval('x + y == 7 * z', globals(), { 'x': 3, 'y': 4, 'z': 1 })"
   ]
  },
  {
   "cell_type": "markdown",
   "metadata": {},
   "source": [
    "The function `globals` returns a dictionary containing all the variables and functions that are defined globally."
   ]
  },
  {
   "cell_type": "code",
   "execution_count": null,
   "metadata": {},
   "outputs": [],
   "source": [
    "globals()"
   ]
  },
  {
   "cell_type": "code",
   "execution_count": null,
   "metadata": {},
   "outputs": [],
   "source": []
  }
 ],
 "metadata": {
  "kernelspec": {
   "display_name": "Python 3 (ipykernel)",
   "language": "python",
   "name": "python3"
  },
  "language_info": {
   "codemirror_mode": {
    "name": "ipython",
    "version": 3
   },
   "file_extension": ".py",
   "mimetype": "text/x-python",
   "name": "python",
   "nbconvert_exporter": "python",
   "pygments_lexer": "ipython3",
   "version": "3.13.2"
  }
 },
 "nbformat": 4,
 "nbformat_minor": 4
}
