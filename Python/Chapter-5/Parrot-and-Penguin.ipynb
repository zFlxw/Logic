{
 "cells": [
  {
   "cell_type": "code",
   "execution_count": null,
   "id": "eb23f94b",
   "metadata": {},
   "outputs": [],
   "source": [
    "from IPython.display import HTML\n",
    "HTML(open('../style.css', 'r').read())"
   ]
  },
  {
   "cell_type": "markdown",
   "id": "db7d38ac",
   "metadata": {},
   "source": [
    "# Introducing Z3\n",
    "\n",
    "In this notebook we are going to solve the following exercise using the constraint solver `Z3`.\n",
    "\n",
    "- A Japanese deli offers both\n",
    "  [penguins](https://www.discovermagazine.com/health/hearty-penguin-steaks-the-old-school-explorers-salve-for-scurvy)\n",
    "     and [parrots](http://fancytoast.blogspot.com/2007/04/parrot-three-ways.html). \n",
    "- A parrot and a penguin together cost 666 bucks.\n",
    "- The penguin costs 600 dollars more than the parrot.\n",
    "- **What is the price of the parrot?**"
   ]
  },
  {
   "cell_type": "markdown",
   "id": "7d71ee68",
   "metadata": {},
   "source": [
    "The following command installs `Z3`."
   ]
  },
  {
   "cell_type": "code",
   "execution_count": null,
   "id": "b07bb0f0",
   "metadata": {},
   "outputs": [],
   "source": [
    "!pip install z3-solver"
   ]
  },
  {
   "cell_type": "markdown",
   "id": "c4bbf097",
   "metadata": {},
   "source": [
    "Next, we import the Python API of `Z3`. "
   ]
  },
  {
   "cell_type": "code",
   "execution_count": null,
   "id": "174da55b",
   "metadata": {},
   "outputs": [],
   "source": [
    "import z3"
   ]
  },
  {
   "cell_type": "markdown",
   "id": "7337a62e",
   "metadata": {},
   "source": [
    "In `Z3`, every variable has to be declared.  In this case, all our variables are integer valued.  The function `Int(v)` declares a variable with the name `v`.\n",
    "We will use two variables:\n",
    " - `parrot` is the price of the parrot,\n",
    " - `penguin` is the price of the penguin."
   ]
  },
  {
   "cell_type": "code",
   "execution_count": null,
   "id": "da6dd4d0",
   "metadata": {},
   "outputs": [],
   "source": [
    "parrot  = \"your code here\"\n",
    "penguin = \"your code here\""
   ]
  },
  {
   "cell_type": "markdown",
   "id": "c2625602",
   "metadata": {},
   "source": [
    "Next, we create a *solver* object."
   ]
  },
  {
   "cell_type": "code",
   "execution_count": null,
   "id": "211739d3",
   "metadata": {},
   "outputs": [],
   "source": [
    "S = \"your code here\""
   ]
  },
  {
   "cell_type": "markdown",
   "id": "da3792d0",
   "metadata": {},
   "source": [
    "We can add constraints to this solver object via the method `add`.  We have two constraints:\n",
    "* A parrot and a penguin together cost 666 bucks.\n",
    "* The penguin costs 600 dollars more than the parrot."
   ]
  },
  {
   "cell_type": "code",
   "execution_count": null,
   "id": "60da9c3e",
   "metadata": {},
   "outputs": [],
   "source": [
    "\"your code here\""
   ]
  },
  {
   "cell_type": "markdown",
   "id": "b5c45e51",
   "metadata": {},
   "source": [
    "The method `check` examines whether the given set of constraints is satisfiable.\n",
    "In general, it can return one of the following results:\n",
    "- `sat`   is returned if the problem is solvable, (`sat` is short for *satisfiable*)\n",
    "- `unsat` is returned if the problem is unsatisfiable,\n",
    "- `unknown` is returned if the constraint solver is not powerful enough to solve the given problem."
   ]
  },
  {
   "cell_type": "code",
   "execution_count": null,
   "id": "ae45fd4e",
   "metadata": {},
   "outputs": [],
   "source": [
    "\"your code here\""
   ]
  },
  {
   "cell_type": "markdown",
   "id": "a30cfba0",
   "metadata": {},
   "source": [
    "To extract the solution of the given problem we use the method `model`."
   ]
  },
  {
   "cell_type": "code",
   "execution_count": null,
   "id": "95f5b419",
   "metadata": {},
   "outputs": [],
   "source": [
    "Solution = \"your code here\"\n",
    "Solution"
   ]
  },
  {
   "cell_type": "markdown",
   "id": "dacb4a28",
   "metadata": {},
   "source": [
    "In order to extract the price of the parrot and the price of the penguin we can use the dictionary syntax\n",
    "`solution[parrot]` and `solution[penguin]`.  In order to convert these results into \n",
    "Python integers, we use the method `as_long`."
   ]
  },
  {
   "cell_type": "code",
   "execution_count": null,
   "id": "7406526d",
   "metadata": {},
   "outputs": [],
   "source": [
    "\"your code here\""
   ]
  },
  {
   "cell_type": "code",
   "execution_count": null,
   "id": "e1f0f5eb",
   "metadata": {},
   "outputs": [],
   "source": [
    "print(f'The price of the parrot is {p} bucks.')"
   ]
  },
  {
   "cell_type": "code",
   "execution_count": null,
   "id": "8596c24c",
   "metadata": {},
   "outputs": [],
   "source": []
  }
 ],
 "metadata": {
  "kernelspec": {
   "display_name": "Python 3 (ipykernel)",
   "language": "python",
   "name": "python3"
  },
  "language_info": {
   "codemirror_mode": {
    "name": "ipython",
    "version": 3
   },
   "file_extension": ".py",
   "mimetype": "text/x-python",
   "name": "python",
   "nbconvert_exporter": "python",
   "pygments_lexer": "ipython3",
   "version": "3.13.2"
  }
 },
 "nbformat": 4,
 "nbformat_minor": 5
}
