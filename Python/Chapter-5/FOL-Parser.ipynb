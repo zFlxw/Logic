{
 "cells": [
  {
   "cell_type": "code",
   "execution_count": null,
   "id": "268f1543",
   "metadata": {},
   "outputs": [],
   "source": [
    "from IPython.display import HTML\n",
    "HTML(open('../style.css', 'r').read())"
   ]
  },
  {
   "cell_type": "markdown",
   "id": "6421fed2-2be5-475f-8366-8b07ad3ee33f",
   "metadata": {},
   "source": [
    "# A Parser for First Order Logic "
   ]
  },
  {
   "cell_type": "code",
   "execution_count": null,
   "id": "4f664569-0e0b-4131-87c4-f8faf82e705d",
   "metadata": {},
   "outputs": [],
   "source": [
    "import re"
   ]
  },
  {
   "cell_type": "code",
   "execution_count": null,
   "id": "0954f328-7da5-4f4e-b409-c947d39441b1",
   "metadata": {},
   "outputs": [],
   "source": [
    "def tokenize(s):\n",
    "    \"\"\"\n",
    "    Transform the string s into a list of tokens.  The string s\n",
    "    is supposed to represent a formula from first order logic.\n",
    "    \"\"\"\n",
    "    lexSpec = r\"\"\" ([ ,:\\t]+)          |  # blanks, tabs, separators\n",
    "                   ([a-z][A-Za-z0-9]*) |  # variables\n",
    "                   ([A-Z][A-Za-z0-9]*) |  # function symbols\n",
    "                   ([⊤⊥∧∨¬→↔⊕∀∃()])    |  # junctors, '(', ')'\n",
    "               \"\"\"\n",
    "    scanner   = re.compile(lexSpec, re.VERBOSE)\n",
    "    tokenList = re.findall(scanner, s)\n",
    "    result    = []\n",
    "    for ws, identifier, function, operator in tokenList:\n",
    "        if ws:        # skip blanks and tabs\n",
    "            continue\n",
    "        if identifier:\n",
    "            result += [ identifier ]\n",
    "        if function:\n",
    "            result += [ function ]\n",
    "        if operator:\n",
    "            result += [ operator ]\n",
    "    return result"
   ]
  },
  {
   "cell_type": "markdown",
   "id": "c6c00e4e-f6eb-41d8-b3e0-656fb27bbc0e",
   "metadata": {},
   "source": [
    "Variable names start with a lower case letter."
   ]
  },
  {
   "cell_type": "code",
   "execution_count": null,
   "id": "07abab87-7fea-42b2-9571-108290cf7919",
   "metadata": {},
   "outputs": [],
   "source": [
    "def isVariable(s, Variables):\n",
    "    \"\"\"\n",
    "    Check, whether the string s can be interpreted as a variable. \n",
    "    \"\"\"\n",
    "    if Variables == None:\n",
    "        return re.fullmatch('[a-z][A-Za-z0-9]*', s)\n",
    "    else:\n",
    "        if re.fullmatch('[a-z][A-Za-z0-9]*', s):\n",
    "            if s in Variables:\n",
    "                return True\n",
    "            else:\n",
    "                print(f'Syntax error: {s} is not declared as a variable!')\n",
    "                raise SyntaxError()"
   ]
  },
  {
   "cell_type": "markdown",
   "id": "3d44c96c-9e86-4aa2-9b74-dec222345684",
   "metadata": {},
   "source": [
    "Function names start with an upper case letter. "
   ]
  },
  {
   "cell_type": "code",
   "execution_count": null,
   "id": "8751d933-0129-48c5-9d9d-afa6e65bbfbb",
   "metadata": {},
   "outputs": [],
   "source": [
    "def isFunction(s):\n",
    "    \"\"\"\n",
    "    Check, whether the string s can be interpreted as a function symbol.\n",
    "    Syntactically, we do not distinguish between function symbols and \n",
    "    predicate symbols. \n",
    "    \"\"\"\n",
    "    return re.fullmatch('[A-Z][A-Za-z0-9]*', s)"
   ]
  },
  {
   "cell_type": "code",
   "execution_count": null,
   "id": "f0418996-cd9a-485f-875b-83121fcf8096",
   "metadata": {},
   "outputs": [],
   "source": [
    "class LogicParser:\n",
    "    \"\"\"\n",
    "    This class implements the shunting yard algorithm to parse formulas from\n",
    "    first order logic.  The strings that represent formulas are transformed\n",
    "    into nested tuples that are interpreted as syntax trees representing the \n",
    "    formulae.\n",
    "    \"\"\"\n",
    "    def __init__(self, s, Variables=None):\n",
    "        \"The constructor takes a string s that represents a formula.\"\n",
    "        self._tokens    = list(reversed(tokenize(s)))\n",
    "        self._operators = []\n",
    "        self._arguments = []\n",
    "        self._variables = Variables\n",
    "        \n",
    "    def parse(self):\n",
    "        \"\"\"\n",
    "        Parse the token list and return a syntax tree that is represented as a\n",
    "        nested list.\n",
    "        \"\"\"\n",
    "        while self._tokens != []:\n",
    "            next_op = self._tokens.pop()\n",
    "            if isVariable(next_op, self._variables):\n",
    "                self._arguments.append(next_op)\n",
    "                continue\n",
    "            if isFunction(next_op):\n",
    "                self._operators.append(next_op)\n",
    "                self._arguments.append('(')\n",
    "                continue\n",
    "            if next_op == '⊤' or next_op == '⊥':\n",
    "                self._operators.append(next_op)\n",
    "                continue\n",
    "            if (self._operators == [] or next_op == '('):\n",
    "                self._operators.append(next_op)\n",
    "                continue\n",
    "            stack_op = self._operators[-1]\n",
    "            if stack_op == '(' and next_op == ')':\n",
    "                self._operators.pop()\n",
    "                if len(self._operators) > 0:\n",
    "                    fct = self._operators[-1]\n",
    "                    if isFunction(fct):\n",
    "                        self._pop_and_evaluate()\n",
    "            elif (next_op == ')' or self._eval_before(stack_op, next_op)):\n",
    "                self._pop_and_evaluate()\n",
    "                self._tokens.append(next_op)\n",
    "            else:\n",
    "                self._operators.append(next_op)\n",
    "        while self._operators != []:\n",
    "            self._pop_and_evaluate()\n",
    "        return self._arguments.pop()\n",
    "\n",
    "    def _eval_before(self, stack_op, next_op):\n",
    "        \"\"\"Check if the operator on top of the operator stack should be evaluated\n",
    "           before the next operator from the input list.\n",
    "        \"\"\"\n",
    "        if stack_op == '(':\n",
    "            return False\n",
    "        if isFunction(stack_op):\n",
    "            return True\n",
    "        precedences = { '↔':1, '→':2, '⊕':3, '∨':4, '∧':5,\n",
    "                        '¬':6, '∀':7, '∃':7, '⊤':8, '⊥':8\n",
    "                      }\n",
    "        if precedences[stack_op] > precedences[next_op]:\n",
    "            return True\n",
    "        elif precedences[stack_op] == precedences[next_op]:\n",
    "            if stack_op in { '∀', '∃' } and next_op in {  '∀', '∃' }:\n",
    "                return False\n",
    "            if stack_op == next_op:\n",
    "                return stack_op in { '∧', '∨', '⊕' }\n",
    "            return True\n",
    "        return False\n",
    "\n",
    "    def _pop_and_evaluate(self):\n",
    "        op = self._operators.pop()\n",
    "        if op == '⊤' or op == '⊥':\n",
    "            self._arguments.append( (op,) )\n",
    "            return\n",
    "        if op == '¬':\n",
    "            arg = self._arguments.pop()\n",
    "            self._arguments.append( ('¬', arg) )\n",
    "            return\n",
    "        if isFunction(op):\n",
    "            args = ()\n",
    "            arg  = self._arguments.pop()\n",
    "            while arg != '(':\n",
    "                args = (arg,) + args\n",
    "                arg  = self._arguments.pop()\n",
    "            self._arguments.append( (op,) + args )\n",
    "            return\n",
    "        # op must be a binary operator\n",
    "        rhs = self._arguments.pop()\n",
    "        lhs = self._arguments.pop()\n",
    "        self._arguments.append( (op, lhs, rhs) )\n",
    "\n",
    "    def __str__(self):\n",
    "        \"\"\"Return the current state as a string for pretty printing.\"\"\"\n",
    "        return (self._tokens.__str__()    + ' ' +\n",
    "                self._arguments.__str__() + ' ' +\n",
    "                self._operators.__str__())"
   ]
  },
  {
   "cell_type": "code",
   "execution_count": null,
   "id": "9d927e63-fd6e-4f8b-b1a9-58c68ad5535e",
   "metadata": {},
   "outputs": [],
   "source": [
    "def testParser(s):\n",
    "    p = LogicParser(s)\n",
    "    print('\\n')\n",
    "    print(f'parsing: \"{s}\"')\n",
    "    print(p.parse())"
   ]
  },
  {
   "cell_type": "code",
   "execution_count": null,
   "id": "e5357bdf-1ea1-4c95-8ed2-640f2653ec59",
   "metadata": {},
   "outputs": [],
   "source": [
    "if __name__ == '__main__':\n",
    "    testParser('G(F(x,y),x)')\n",
    "    testParser('P(F(x),G(z))')\n",
    "    testParser('∀x:∃y:P(x,y)')\n",
    "    testParser('∀x:∃y:P(x,y)→∃y:∀x:P(x,y)')\n",
    "    testParser('¬∀x:(Red(x) → Happy(x))')\n",
    "    testParser('∀x:∀y:(¬P(F(x),y)) ∨ ∀u:∀v:(¬P(u,G(v)))')"
   ]
  },
  {
   "cell_type": "code",
   "execution_count": null,
   "id": "d209a474-8f13-4e0e-afdd-674c26255b58",
   "metadata": {},
   "outputs": [],
   "source": []
  }
 ],
 "metadata": {
  "kernelspec": {
   "display_name": "Python 3 (ipykernel)",
   "language": "python",
   "name": "python3"
  },
  "language_info": {
   "codemirror_mode": {
    "name": "ipython",
    "version": 3
   },
   "file_extension": ".py",
   "mimetype": "text/x-python",
   "name": "python",
   "nbconvert_exporter": "python",
   "pygments_lexer": "ipython3",
   "version": "3.13.2"
  }
 },
 "nbformat": 4,
 "nbformat_minor": 5
}
