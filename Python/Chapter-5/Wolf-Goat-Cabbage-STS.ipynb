{
 "cells": [
  {
   "cell_type": "code",
   "execution_count": 1,
   "metadata": {},
   "outputs": [
    {
     "data": {
      "text/html": [
       "<link href='http://fonts.googleapis.com/css?family=Alegreya+Sans:100,300,400,500,700,800,900,100italic,300italic,400italic,500italic,700italic,800italic,900italic' rel='stylesheet' type='text/css'>\n",
       "<link href='http://fonts.googleapis.com/css?family=Arvo:400,700,400italic' rel='stylesheet' type='text/css'>\n",
       "<link href='http://fonts.googleapis.com/css?family=PT+Mono' rel='stylesheet' type='text/css'>\n",
       "<link href='http://fonts.googleapis.com/css?family=Shadows+Into+Light' rel='stylesheet' type='text/css'>\n",
       "<link href='http://fonts.googleapis.com/css?family=Philosopher:400,700,400italic,700italic' rel='stylesheet' type='text/css'>\n",
       "\n",
       "<style>\n",
       "\n",
       "@font-face {\n",
       "    font-family: \"Computer Modern\";\n",
       "    src: url('http://mirrors.ctan.org/fonts/cm-unicode/fonts/otf/cmunss.otf');\n",
       "}\n",
       "\n",
       ".container { width: 100% }\n",
       "\n",
       "/* Formatting for header cells */\n",
       ".text_cell_render h1 {\n",
       "    font-family: 'Philosopher', sans-serif;\n",
       "    font-weight: 400;\n",
       "    font-size: 2.2em;\n",
       "    line-height: 100%;\n",
       "    color: rgb(0, 80, 120);\n",
       "    margin-bottom: 0.1em;\n",
       "    margin-top: 0.1em;\n",
       "    display: block;\n",
       "}\t\n",
       ".text_cell_render h2 {\n",
       "    font-family: 'Philosopher', serif;\n",
       "    font-weight: 400;\n",
       "    font-size: 1.9em;\n",
       "    line-height: 100%;\n",
       "    color: rgb(200,100,0);\n",
       "    margin-bottom: 0.1em;\n",
       "    margin-top: 0.1em;\n",
       "    display: block;\n",
       "}\t\n",
       "\n",
       ".text_cell_render h3 {\n",
       "    font-family: 'Philosopher', serif;\n",
       "    margin-top:12px;\n",
       "    margin-bottom: 3px;\n",
       "    font-style: italic;\n",
       "    color: rgb(94,127,192);\n",
       "}\n",
       "\n",
       ".text_cell_render h4 {\n",
       "    font-family: 'Philosopher', serif;\n",
       "}\n",
       "\n",
       ".text_cell_render h5 {\n",
       "    font-family: 'Alegreya Sans', sans-serif;\n",
       "    font-weight: 300;\n",
       "    font-size: 16pt;\n",
       "    color: grey;\n",
       "    font-style: italic;\n",
       "    margin-bottom: .1em;\n",
       "    margin-top: 0.1em;\n",
       "    display: block;\n",
       "}\n",
       "\n",
       ".text_cell_render h6 {\n",
       "    font-family: 'PT Mono', sans-serif;\n",
       "    font-weight: 300;\n",
       "    font-size: 10pt;\n",
       "    color: grey;\n",
       "    margin-bottom: 1px;\n",
       "    margin-top: 1px;\n",
       "}\n",
       "\n",
       ".text_cell_render em {\n",
       "    font-family: 'Philosopher', sans-serif;\n",
       "    color:        blue;\n",
       "    background-color: rgb(255,220,180);\n",
       "    font-size:    110%;\n",
       "    margin-left:   2px;\n",
       "    margin-right:  2px;\n",
       "    font-weight:   100;\n",
       "}\n",
       "\n",
       ".text_cell_render b {\n",
       "    color:            rgb(255,195,195);\n",
       "    background-color: rgb(0,0,0);\n",
       "    font-size:    110%;\n",
       "    margin-left:   2px;\n",
       "    margin-right:  2px;\n",
       "    font-weight:   650;\n",
       "}\n",
       "\n",
       ".text_cell_render tt {\n",
       "    font-size:    120%;\n",
       "    margin-left:   2px;\n",
       "    margin-right:  2px;\n",
       "    font-weight:   150;\n",
       "}\n",
       "\n",
       ".Codemirror {\n",
       "    font-family: \"PT Mono\";\n",
       "    font-size: 100%;\n",
       "}\n",
       "\n",
       "</style>\n",
       "\n"
      ],
      "text/plain": [
       "<IPython.core.display.HTML object>"
      ]
     },
     "execution_count": 1,
     "metadata": {},
     "output_type": "execute_result"
    }
   ],
   "source": [
    "from IPython.display import HTML\n",
    "HTML(open('../style.css', 'r').read())"
   ]
  },
  {
   "cell_type": "markdown",
   "metadata": {},
   "source": [
    "# Saving the Goat\n",
    "\n",
    "An agricultural economist has to sell a *wolf*, a *goat*, and a *cabbage* on a market place.  In order to\n",
    "reach the market place, she has to cross a river.  The boat that she can use is so small that it can\n",
    "only accommodate either the goat, the wolf, or the cabbage in addition to the agricultural economist herself.\n",
    "Now if the agricultural economist leaves the wolf alone with the goat, the wolf will eat the goat.\n",
    "If, instead, the agricultural economist leaves the goat with the cabbage, the goat will eat the cabbage.\n",
    "Is it possible for the agricultural economist to develop a schedule that allows her to cross the river\n",
    "without either the goat or the cabbage being eaten?\n",
    "\n",
    "You can try to solve the  yourself at: [http://www.mathcats.com/explore/river/crossing.html](http://www.mathcats.com/explore/river/crossing.html)\n",
    "\n",
    "\n",
    "We will encode this problem as a *symbolic transition system* and then solve it with the help of our *constraint solver*.  In order to do so, we assume that the\n",
    "problem can be solved with $n\\in\\mathbb{N}$ crossing of the river.  We use the following variables:\n",
    "* $\\texttt{F}i$ for $i\\in\\{0,\\cdots,n\\}$ is the number of farmers on the western shore after the \n",
    "  $i^{\\textrm{th}}$ crossing.\n",
    "* $\\texttt{W}i$ for $i\\in\\{0,\\cdots,n\\}$ is the number of wolves on the western shore after the \n",
    "  $i^{\\textrm{th}}$ crossing.\n",
    "* $\\texttt{G}i$ for $i\\in\\{0,\\cdots,n\\}$ is the number of goats on the western shore after the \n",
    "  $i^{\\textrm{th}}$ crossing.\n",
    "* $\\texttt{C}i$ for $i\\in\\{0,\\cdots,n\\}$ is the number of cabbages on the western shore after the \n",
    "  $i^{\\textrm{th}}$ crossing."
   ]
  },
  {
   "cell_type": "markdown",
   "metadata": {},
   "source": [
    "## Auxiliary Functions"
   ]
  },
  {
   "cell_type": "markdown",
   "metadata": {},
   "source": [
    "The function `flatten` takes a list of lists `LoL` and returns a list containing all the elements contained in any of the lists in `LoL`."
   ]
  },
  {
   "cell_type": "code",
   "execution_count": 2,
   "metadata": {},
   "outputs": [],
   "source": [
    "def flatten(LoL):\n",
    "    return [x for L in LoL for x in L]"
   ]
  },
  {
   "cell_type": "code",
   "execution_count": 3,
   "metadata": {},
   "outputs": [
    {
     "data": {
      "text/plain": [
       "[1, 2, 3, 4]"
      ]
     },
     "execution_count": 3,
     "metadata": {},
     "output_type": "execute_result"
    }
   ],
   "source": [
    "flatten([[1,2], [3,4]])"
   ]
  },
  {
   "cell_type": "markdown",
   "metadata": {},
   "source": [
    "The function `start` takes four natural numbers as input:\n",
    "* `F` is the number of farmers on the western shore,\n",
    "* `W` is the number of wolves on the western shore,\n",
    "* `G` is the number of goats on the western shore, and\n",
    "* `C` is the number of cabbages on the western shore,\n",
    "\n",
    "It returns `True` in the initial state where everybody is on the western shore."
   ]
  },
  {
   "cell_type": "code",
   "execution_count": 4,
   "metadata": {},
   "outputs": [],
   "source": [
    "def start(F, W, G, C):\n",
    "    return F == 1 and W == 1 and G == 1 and C == 1"
   ]
  },
  {
   "cell_type": "markdown",
   "metadata": {},
   "source": [
    "The function `goal` takes four natural numbers as input:\n",
    "* `F` is the number of farmers on the western shore,\n",
    "* `W` is the number of wolves on the western shore,\n",
    "* `G` is the number of goats on the western shore, and\n",
    "* `C` is the number of cabbages on the western shore.\n",
    "\n",
    "It returns `True` in the state where everybody is on the eastern shore and hence nobody is on the western shore."
   ]
  },
  {
   "cell_type": "code",
   "execution_count": 5,
   "metadata": {},
   "outputs": [],
   "source": [
    "def goal(F, W, C, G):\n",
    "    return F + W + C + G == 0"
   ]
  },
  {
   "cell_type": "markdown",
   "metadata": {},
   "source": [
    "The function `implies(A, B)` takes two Boolean values as its input.  It returns the Boolean value\n",
    "$$ A \\rightarrow B. $$"
   ]
  },
  {
   "cell_type": "code",
   "execution_count": 6,
   "metadata": {},
   "outputs": [],
   "source": [
    "def implies(A, B):\n",
    "    return not A or B"
   ]
  },
  {
   "cell_type": "markdown",
   "metadata": {},
   "source": [
    "The function `invariant` takes four natural numbers as input:\n",
    "* `F` is the number of farmers on the western shore,\n",
    "* `W` is the number of wolves on the western shore,\n",
    "* `G` is the number of goats on the western shore, and\n",
    "* `C` is the number of cabbages on the western shore.\n",
    "\n",
    "It returns `True` if there is no problem on either shore of the river.  There is no problem if on the shore where there is no farmer, the following conditions hold:\n",
    "* If the wolf is on that shore, the goat must be on the opposite shore.\n",
    "* If the goat is on that shore, the cabbage has to be on the opposite shore."
   ]
  },
  {
   "cell_type": "code",
   "execution_count": 7,
   "metadata": {},
   "outputs": [],
   "source": [
    "def invariant(F, W, G, C):\n",
    "    return implies(F != W, F == G) and implies(F != G, F == C)"
   ]
  },
  {
   "cell_type": "markdown",
   "metadata": {},
   "source": [
    "The function `transition` takes 8 arguments:\n",
    "* `F𝛼` is the number of farmers on the western shore before the crossing.\n",
    "* `W𝛼` is the number of wolves on the western shore before the crossing.\n",
    "* `G𝛼` is the number of goats on the western shore before the crossing. \n",
    "* `C𝛼` is the number of cabbages on the western shore before the crossing. \n",
    "* `F𝛽` is the number of farmers on the western shore after the crossing.\n",
    "* `W𝛽` is the number of wolves on the western shore after the crossing.\n",
    "* `G𝛽` is the number of goats on the western shore after the crossing.\n",
    "* `C𝛽` is the number of cabbages on the western shore after the crossing.\n",
    "\n",
    "It returns a `True` if the crossing is admissible, i.e.:\n",
    "* The farmer travels in every crossing.\n",
    "* She takes at most one of her goods with her in the boat.\n",
    "* If the farmer travels from the western shore to the eastern shore,\n",
    "  the number of goods on the western shore stays the same or decreases, otherwise it stays the same or increases. "
   ]
  },
  {
   "cell_type": "code",
   "execution_count": 16,
   "metadata": {},
   "outputs": [],
   "source": [
    "def transition(F𝛼, W𝛼, G𝛼, C𝛼, F𝛽, W𝛽, G𝛽, C𝛽):\n",
    "    if (F𝛼 == F𝛽):\n",
    "        return False\n",
    "    \n",
    "    return implies(W𝛼 != W𝛽, G𝛼 == G𝛽 and C𝛼 == C𝛽) and implies(G𝛼 != G𝛽, W𝛼 == W𝛽 and C𝛼 == C𝛽) and implies(C𝛼 != C𝛽, G𝛼 == G𝛽 and W𝛼 == W𝛽)"
   ]
  },
  {
   "cell_type": "markdown",
   "metadata": {},
   "source": [
    "The function `wgc_CSP` creates a CSP that tries to solve the problem with `n` crossings."
   ]
  },
  {
   "cell_type": "code",
   "execution_count": 17,
   "metadata": {},
   "outputs": [],
   "source": [
    "def wgc_CSP(n):\n",
    "    \"Returns a CSP encoding the problem.\"\n",
    "    Lists        = [[f'F{i}', f'W{i}', f'G{i}', f'C{i}'] for i in range(n+1)]\n",
    "    Variables    = flatten(Lists)\n",
    "    Values       = { 0, 1}\n",
    "    Constraints  = { f'start(F{0}, W{0}, G{0}, C{0})' }\n",
    "    Constraints |= { f'goal(F{n}, W{n}, G{n}, C{n})' }\n",
    "    for i in range(n):\n",
    "        Constraints |= { f'invariant(F{i}, W{i}, G{i}, C{i})' }\n",
    "        Constraints |= { f'transition(F{i}, W{i}, G{i}, C{i}, F{i+1}, W{i+1}, G{i+1}, C{i+1})' }\n",
    "    return Variables, Values, Constraints"
   ]
  },
  {
   "cell_type": "code",
   "execution_count": 18,
   "metadata": {},
   "outputs": [
    {
     "data": {
      "text/plain": [
       "(['F0',\n",
       "  'W0',\n",
       "  'G0',\n",
       "  'C0',\n",
       "  'F1',\n",
       "  'W1',\n",
       "  'G1',\n",
       "  'C1',\n",
       "  'F2',\n",
       "  'W2',\n",
       "  'G2',\n",
       "  'C2',\n",
       "  'F3',\n",
       "  'W3',\n",
       "  'G3',\n",
       "  'C3'],\n",
       " {0, 1},\n",
       " {'goal(F3, W3, G3, C3)',\n",
       "  'invariant(F0, W0, G0, C0)',\n",
       "  'invariant(F1, W1, G1, C1)',\n",
       "  'invariant(F2, W2, G2, C2)',\n",
       "  'start(F0, W0, G0, C0)',\n",
       "  'transition(F0, W0, G0, C0, F1, W1, G1, C1)',\n",
       "  'transition(F1, W1, G1, C1, F2, W2, G2, C2)',\n",
       "  'transition(F2, W2, G2, C2, F3, W3, G3, C3)'})"
      ]
     },
     "execution_count": 18,
     "metadata": {},
     "output_type": "execute_result"
    }
   ],
   "source": [
    "wgc_CSP(3)"
   ]
  },
  {
   "cell_type": "code",
   "execution_count": 19,
   "metadata": {},
   "outputs": [],
   "source": [
    "%run 02-Backtracking-Constraint-Solver.ipynb"
   ]
  },
  {
   "cell_type": "markdown",
   "metadata": {},
   "source": [
    "The function `find_solution` computes a solution to the *wolf-goat-cabbage* problem."
   ]
  },
  {
   "cell_type": "code",
   "execution_count": 20,
   "metadata": {
    "scrolled": true
   },
   "outputs": [],
   "source": [
    "def find_solution():\n",
    "    n = 1\n",
    "    while True:\n",
    "        print(n)\n",
    "        CSP = wgc_CSP(n)\n",
    "        Solution = solve(CSP)\n",
    "        if Solution != None:\n",
    "            return n, Solution\n",
    "        n += 2"
   ]
  },
  {
   "cell_type": "markdown",
   "metadata": {},
   "source": [
    "Solving the problem should take less than a second."
   ]
  },
  {
   "cell_type": "code",
   "execution_count": 21,
   "metadata": {},
   "outputs": [
    {
     "name": "stdout",
     "output_type": "stream",
     "text": [
      "1\n",
      "3\n",
      "5\n",
      "7\n",
      "CPU times: user 18 ms, sys: 1.13 ms, total: 19.1 ms\n",
      "Wall time: 16.5 ms\n"
     ]
    },
    {
     "data": {
      "text/plain": [
       "(7,\n",
       " {'F0': 1,\n",
       "  'W0': 1,\n",
       "  'G0': 1,\n",
       "  'C0': 1,\n",
       "  'F1': 0,\n",
       "  'W1': 1,\n",
       "  'G1': 0,\n",
       "  'C1': 1,\n",
       "  'F2': 1,\n",
       "  'W2': 1,\n",
       "  'G2': 0,\n",
       "  'C2': 1,\n",
       "  'F3': 0,\n",
       "  'W3': 0,\n",
       "  'G3': 0,\n",
       "  'C3': 1,\n",
       "  'F4': 1,\n",
       "  'W4': 0,\n",
       "  'G4': 1,\n",
       "  'C4': 1,\n",
       "  'F5': 0,\n",
       "  'W5': 0,\n",
       "  'G5': 1,\n",
       "  'C5': 0,\n",
       "  'F6': 1,\n",
       "  'W6': 0,\n",
       "  'G6': 1,\n",
       "  'C6': 0,\n",
       "  'F7': 0,\n",
       "  'W7': 0,\n",
       "  'G7': 0,\n",
       "  'C7': 0})"
      ]
     },
     "execution_count": 21,
     "metadata": {},
     "output_type": "execute_result"
    }
   ],
   "source": [
    "%%time\n",
    "n, Solution = find_solution()\n",
    "n, Solution"
   ]
  },
  {
   "cell_type": "code",
   "execution_count": 22,
   "metadata": {},
   "outputs": [],
   "source": [
    "def show_solution(Solution, n):\n",
    "    for i in range(n+1):\n",
    "        F = Solution[f'F{i}']\n",
    "        W = Solution[f'W{i}']\n",
    "        G = Solution[f'G{i}']\n",
    "        C = Solution[f'C{i}']\n",
    "        print('🧑‍🌾'*F + '🐺'*W + '🐐'*G + '🥦'*C + ' ' * 28 + '🧑‍🌾'*(1-F) + '🐺'*(1-W) + '🐐'*(1-G) + '🥦'*(1-C))\n",
    "        if F == 1:\n",
    "            WB = Solution[f'W{i}'] - Solution[f'W{i+1}']\n",
    "            GB = Solution[f'G{i}'] - Solution[f'G{i+1}']\n",
    "            CB = Solution[f'C{i}'] - Solution[f'C{i+1}']\n",
    "            print(' ' * 12 + '>>> 🧑‍🌾' + '🐺'*WB + '🐐'*GB + '🥦'*CB + ' >>>')\n",
    "        elif i + 1 < n:\n",
    "            WB = Solution[f'W{i+1}'] - Solution[f'W{i}']\n",
    "            GB = Solution[f'G{i+1}'] - Solution[f'G{i}']\n",
    "            CB = Solution[f'C{i+1}'] - Solution[f'C{i}']\n",
    "            print(' ' * 12 + '<<< 🧑‍🌾' + '🐺'*WB + '🐐'*GB + '🥦'*CB + ' <<<')"
   ]
  },
  {
   "cell_type": "code",
   "execution_count": 23,
   "metadata": {},
   "outputs": [
    {
     "name": "stdout",
     "output_type": "stream",
     "text": [
      "🧑‍🌾🐺🐐🥦                            \n",
      "            >>> 🧑‍🌾🐐 >>>\n",
      "🐺🥦                            🧑‍🌾🐐\n",
      "            <<< 🧑‍🌾 <<<\n",
      "🧑‍🌾🐺🥦                            🐐\n",
      "            >>> 🧑‍🌾🐺 >>>\n",
      "🥦                            🧑‍🌾🐺🐐\n",
      "            <<< 🧑‍🌾🐐 <<<\n",
      "🧑‍🌾🐐🥦                            🐺\n",
      "            >>> 🧑‍🌾🥦 >>>\n",
      "🐐                            🧑‍🌾🐺🥦\n",
      "            <<< 🧑‍🌾 <<<\n",
      "🧑‍🌾🐐                            🐺🥦\n",
      "            >>> 🧑‍🌾🐐 >>>\n",
      "                            🧑‍🌾🐺🐐🥦\n"
     ]
    }
   ],
   "source": [
    "show_solution(Solution, n)"
   ]
  },
  {
   "cell_type": "code",
   "execution_count": null,
   "metadata": {},
   "outputs": [],
   "source": []
  },
  {
   "cell_type": "code",
   "execution_count": null,
   "metadata": {},
   "outputs": [],
   "source": []
  }
 ],
 "metadata": {
  "hide_input": false,
  "kernelspec": {
   "display_name": "Python 3 (ipykernel)",
   "language": "python",
   "name": "python3"
  },
  "language_info": {
   "codemirror_mode": {
    "name": "ipython",
    "version": 3
   },
   "file_extension": ".py",
   "mimetype": "text/x-python",
   "name": "python",
   "nbconvert_exporter": "python",
   "pygments_lexer": "ipython3",
   "version": "3.13.3"
  },
  "toc": {
   "base_numbering": 1,
   "nav_menu": {},
   "number_sections": true,
   "sideBar": true,
   "skip_h1_title": false,
   "title_cell": "Table of Contents",
   "title_sidebar": "Contents",
   "toc_cell": false,
   "toc_position": {},
   "toc_section_display": true,
   "toc_window_display": false
  },
  "varInspector": {
   "cols": {
    "lenName": 16,
    "lenType": 16,
    "lenVar": 40
   },
   "kernels_config": {
    "python": {
     "delete_cmd_postfix": "",
     "delete_cmd_prefix": "del ",
     "library": "var_list.py",
     "varRefreshCmd": "print(var_dic_list())"
    },
    "r": {
     "delete_cmd_postfix": ") ",
     "delete_cmd_prefix": "rm(",
     "library": "var_list.r",
     "varRefreshCmd": "cat(var_dic_list()) "
    }
   },
   "types_to_exclude": [
    "module",
    "function",
    "builtin_function_or_method",
    "instance",
    "_Feature"
   ],
   "window_display": false
  }
 },
 "nbformat": 4,
 "nbformat_minor": 4
}
