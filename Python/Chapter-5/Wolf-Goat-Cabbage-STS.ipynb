{
 "cells": [
  {
   "cell_type": "code",
   "execution_count": null,
   "metadata": {},
   "outputs": [],
   "source": [
    "from IPython.display import HTML\n",
    "HTML(open('../style.css', 'r').read())"
   ]
  },
  {
   "cell_type": "markdown",
   "metadata": {},
   "source": [
    "# Saving the Goat\n",
    "\n",
    "An agricultural economist has to sell a *wolf*, a *goat*, and a *cabbage* on a market place.  In order to\n",
    "reach the market place, she has to cross a river.  The boat that she can use is so small that it can\n",
    "only accommodate either the goat, the wolf, or the cabbage in addition to the agricultural economist herself.\n",
    "Now if the agricultural economist leaves the wolf alone with the goat, the wolf will eat the goat.\n",
    "If, instead, the agricultural economist leaves the goat with the cabbage, the goat will eat the cabbage.\n",
    "Is it possible for the agricultural economist to develop a schedule that allows her to cross the river\n",
    "without either the goat or the cabbage being eaten?\n",
    "\n",
    "You can try to solve the  yourself at: [http://www.mathcats.com/explore/river/crossing.html](http://www.mathcats.com/explore/river/crossing.html)\n",
    "\n",
    "\n",
    "We will encode this problem as a *symbolic transition system* and then solve it with the help of our *constraint solver*.  In order to do so, we assume that the\n",
    "problem can be solved with $n\\in\\mathbb{N}$ crossing of the river.  We use the following variables:\n",
    "* $\\texttt{F}i$ for $i\\in\\{0,\\cdots,n\\}$ is the number of farmers on the western shore after the \n",
    "  $i^{\\textrm{th}}$ crossing.\n",
    "* $\\texttt{W}i$ for $i\\in\\{0,\\cdots,n\\}$ is the number of wolves on the western shore after the \n",
    "  $i^{\\textrm{th}}$ crossing.\n",
    "* $\\texttt{G}i$ for $i\\in\\{0,\\cdots,n\\}$ is the number of goats on the western shore after the \n",
    "  $i^{\\textrm{th}}$ crossing.\n",
    "* $\\texttt{C}i$ for $i\\in\\{0,\\cdots,n\\}$ is the number of cabbages on the western shore after the \n",
    "  $i^{\\textrm{th}}$ crossing."
   ]
  },
  {
   "cell_type": "markdown",
   "metadata": {},
   "source": [
    "## Auxiliary Functions"
   ]
  },
  {
   "cell_type": "markdown",
   "metadata": {},
   "source": [
    "The function `flatten` takes a list of lists `LoL` and returns a list containing all the elements contained in any of the lists in `LoL`."
   ]
  },
  {
   "cell_type": "code",
   "execution_count": null,
   "metadata": {},
   "outputs": [],
   "source": [
    "def flatten(LoL):\n",
    "    return [x for L in LoL for x in L]"
   ]
  },
  {
   "cell_type": "code",
   "execution_count": null,
   "metadata": {},
   "outputs": [],
   "source": [
    "flatten([[1,2], [3,4]])"
   ]
  },
  {
   "cell_type": "markdown",
   "metadata": {},
   "source": [
    "The function `start` takes four natural numbers as input:\n",
    "* `F` is the number of farmers on the western shore,\n",
    "* `W` is the number of wolves on the western shore,\n",
    "* `G` is the number of goats on the western shore, and\n",
    "* `C` is the number of cabbages on the western shore,\n",
    "\n",
    "It returns `True` in the initial state where everybody is on the western shore."
   ]
  },
  {
   "cell_type": "code",
   "execution_count": null,
   "metadata": {},
   "outputs": [],
   "source": [
    "def start(F, W, G, C):\n",
    "    \"your code here\""
   ]
  },
  {
   "cell_type": "markdown",
   "metadata": {},
   "source": [
    "The function `goal` takes four natural numbers as input:\n",
    "* `F` is the number of farmers on the western shore,\n",
    "* `W` is the number of wolves on the western shore,\n",
    "* `G` is the number of goats on the western shore, and\n",
    "* `C` is the number of cabbages on the western shore.\n",
    "\n",
    "It returns `True` in the state where everybody is on the eastern shore and hence nobody is on the western shore."
   ]
  },
  {
   "cell_type": "code",
   "execution_count": null,
   "metadata": {},
   "outputs": [],
   "source": [
    "def goal(F, W, C, G):\n",
    "    \"your code here\""
   ]
  },
  {
   "cell_type": "markdown",
   "metadata": {},
   "source": [
    "The function `implies(A, B)` takes two Boolean values as its input.  It returns the Boolean value\n",
    "$$ A \\rightarrow B. $$"
   ]
  },
  {
   "cell_type": "code",
   "execution_count": null,
   "metadata": {},
   "outputs": [],
   "source": [
    "def implies(A, B):\n",
    "    return not A or B"
   ]
  },
  {
   "cell_type": "markdown",
   "metadata": {},
   "source": [
    "The function `invariant` takes four natural numbers as input:\n",
    "* `F` is the number of farmers on the western shore,\n",
    "* `W` is the number of wolves on the western shore,\n",
    "* `G` is the number of goats on the western shore, and\n",
    "* `C` is the number of cabbages on the western shore.\n",
    "\n",
    "It returns `True` if there is no problem on either shore of the river.  There is no problem if on the shore where there is no farmer, the following conditions hold:\n",
    "* If the wolf is on that shore, the goat must be on the opposite shore.\n",
    "* If the goat is on that shore, the cabbage has to be on the opposite shore."
   ]
  },
  {
   "cell_type": "code",
   "execution_count": null,
   "metadata": {},
   "outputs": [],
   "source": [
    "def invariant(F, W, G, C):\n",
    "    \"your code here\""
   ]
  },
  {
   "cell_type": "markdown",
   "metadata": {},
   "source": [
    "The function `transition` takes 8 arguments:\n",
    "* `F𝛼` is the number of farmers on the western shore before the crossing.\n",
    "* `W𝛼` is the number of wolves on the western shore before the crossing.\n",
    "* `G𝛼` is the number of goats on the western shore before the crossing. \n",
    "* `C𝛼` is the number of cabbages on the western shore before the crossing. \n",
    "* `F𝛽` is the number of farmers on the western shore after the crossing.\n",
    "* `W𝛽` is the number of wolves on the western shore after the crossing.\n",
    "* `G𝛽` is the number of goats on the western shore after the crossing.\n",
    "* `C𝛽` is the number of cabbages on the western shore after the crossing.\n",
    "\n",
    "It returns a `True` if the crossing is admissible, i.e.:\n",
    "* The farmer travels in every crossing.\n",
    "* She takes at most one of her goods with her in the boat.\n",
    "* If the farmer travels from the western shore to the eastern shore,\n",
    "  the number of goods on the western shore stays the same or decreases, otherwise it stays the same or increases. "
   ]
  },
  {
   "cell_type": "code",
   "execution_count": null,
   "metadata": {},
   "outputs": [],
   "source": [
    "def transition(F𝛼, W𝛼, G𝛼, C𝛼, F𝛽, W𝛽, G𝛽, C𝛽):\n",
    "    \"your code here\""
   ]
  },
  {
   "cell_type": "markdown",
   "metadata": {},
   "source": [
    "The function `wgc_CSP` creates a CSP that tries to solve the problem with `n` crossings."
   ]
  },
  {
   "cell_type": "code",
   "execution_count": null,
   "metadata": {},
   "outputs": [],
   "source": [
    "def wgc_CSP(n):\n",
    "    \"your code here\""
   ]
  },
  {
   "cell_type": "code",
   "execution_count": null,
   "metadata": {},
   "outputs": [],
   "source": [
    "wgc_CSP(3)"
   ]
  },
  {
   "cell_type": "code",
   "execution_count": null,
   "metadata": {},
   "outputs": [],
   "source": [
    "%run 02-Backtracking-Constraint-Solver.ipynb"
   ]
  },
  {
   "cell_type": "markdown",
   "metadata": {},
   "source": [
    "The function `find_solution` computes a solution to the *wolf-goat-cabbage* problem."
   ]
  },
  {
   "cell_type": "code",
   "execution_count": null,
   "metadata": {
    "scrolled": true
   },
   "outputs": [],
   "source": [
    "def find_solution():\n",
    "    n = 1\n",
    "    while True:\n",
    "        print(n)\n",
    "        CSP = wgc_CSP(n)\n",
    "        Solution = solve(CSP)\n",
    "        if Solution != None:\n",
    "            return n, Solution\n",
    "        n += 2"
   ]
  },
  {
   "cell_type": "markdown",
   "metadata": {},
   "source": [
    "Solving the problem should take less than a second."
   ]
  },
  {
   "cell_type": "code",
   "execution_count": null,
   "metadata": {},
   "outputs": [],
   "source": [
    "%%time\n",
    "n, Solution = find_solution()\n",
    "n, Solution"
   ]
  },
  {
   "cell_type": "code",
   "execution_count": null,
   "metadata": {},
   "outputs": [],
   "source": [
    "def show_solution(Solution, n):\n",
    "    for i in range(n+1):\n",
    "        F = Solution[f'F{i}']\n",
    "        W = Solution[f'W{i}']\n",
    "        G = Solution[f'G{i}']\n",
    "        C = Solution[f'C{i}']\n",
    "        print('🧑‍🌾'*F + '🐺'*W + '🐐'*G + '🥦'*C + ' ' * 28 + '🧑‍🌾'*(1-F) + '🐺'*(1-W) + '🐐'*(1-G) + '🥦'*(1-C))\n",
    "        if F == 1:\n",
    "            WB = Solution[f'W{i}'] - Solution[f'W{i+1}']\n",
    "            GB = Solution[f'G{i}'] - Solution[f'G{i+1}']\n",
    "            CB = Solution[f'C{i}'] - Solution[f'C{i+1}']\n",
    "            print(' ' * 12 + '>>> 🧑‍🌾' + '🐺'*WB + '🐐'*GB + '🥦'*CB + ' >>>')\n",
    "        elif i + 1 < n:\n",
    "            WB = Solution[f'W{i+1}'] - Solution[f'W{i}']\n",
    "            GB = Solution[f'G{i+1}'] - Solution[f'G{i}']\n",
    "            CB = Solution[f'C{i+1}'] - Solution[f'C{i}']\n",
    "            print(' ' * 12 + '<<< 🧑‍🌾' + '🐺'*WB + '🐐'*GB + '🥦'*CB + ' <<<')"
   ]
  },
  {
   "cell_type": "code",
   "execution_count": null,
   "metadata": {},
   "outputs": [],
   "source": [
    "show_solution(Solution, n)"
   ]
  },
  {
   "cell_type": "code",
   "execution_count": null,
   "metadata": {},
   "outputs": [],
   "source": []
  }
 ],
 "metadata": {
  "hide_input": false,
  "kernelspec": {
   "display_name": "Python 3 (ipykernel)",
   "language": "python",
   "name": "python3"
  },
  "language_info": {
   "codemirror_mode": {
    "name": "ipython",
    "version": 3
   },
   "file_extension": ".py",
   "mimetype": "text/x-python",
   "name": "python",
   "nbconvert_exporter": "python",
   "pygments_lexer": "ipython3",
   "version": "3.13.2"
  },
  "toc": {
   "base_numbering": 1,
   "nav_menu": {},
   "number_sections": true,
   "sideBar": true,
   "skip_h1_title": false,
   "title_cell": "Table of Contents",
   "title_sidebar": "Contents",
   "toc_cell": false,
   "toc_position": {},
   "toc_section_display": true,
   "toc_window_display": false
  },
  "varInspector": {
   "cols": {
    "lenName": 16,
    "lenType": 16,
    "lenVar": 40
   },
   "kernels_config": {
    "python": {
     "delete_cmd_postfix": "",
     "delete_cmd_prefix": "del ",
     "library": "var_list.py",
     "varRefreshCmd": "print(var_dic_list())"
    },
    "r": {
     "delete_cmd_postfix": ") ",
     "delete_cmd_prefix": "rm(",
     "library": "var_list.r",
     "varRefreshCmd": "cat(var_dic_list()) "
    }
   },
   "types_to_exclude": [
    "module",
    "function",
    "builtin_function_or_method",
    "instance",
    "_Feature"
   ],
   "window_display": false
  }
 },
 "nbformat": 4,
 "nbformat_minor": 4
}
