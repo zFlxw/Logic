{
 "cells": [
  {
   "cell_type": "code",
   "execution_count": 1,
   "metadata": {},
   "outputs": [
    {
     "data": {
      "text/html": [
       "<link href='http://fonts.googleapis.com/css?family=Alegreya+Sans:100,300,400,500,700,800,900,100italic,300italic,400italic,500italic,700italic,800italic,900italic' rel='stylesheet' type='text/css'>\n",
       "<link href='http://fonts.googleapis.com/css?family=Arvo:400,700,400italic' rel='stylesheet' type='text/css'>\n",
       "<link href='http://fonts.googleapis.com/css?family=PT+Mono' rel='stylesheet' type='text/css'>\n",
       "<link href='http://fonts.googleapis.com/css?family=Shadows+Into+Light' rel='stylesheet' type='text/css'>\n",
       "<link href='http://fonts.googleapis.com/css?family=Philosopher:400,700,400italic,700italic' rel='stylesheet' type='text/css'>\n",
       "\n",
       "<style>\n",
       "\n",
       "@font-face {\n",
       "    font-family: \"Computer Modern\";\n",
       "    src: url('http://mirrors.ctan.org/fonts/cm-unicode/fonts/otf/cmunss.otf');\n",
       "}\n",
       "\n",
       ".container { width: 100% }\n",
       "\n",
       "/* Formatting for header cells */\n",
       ".text_cell_render h1 {\n",
       "    font-family: 'Philosopher', sans-serif;\n",
       "    font-weight: 400;\n",
       "    font-size: 2.2em;\n",
       "    line-height: 100%;\n",
       "    color: rgb(0, 80, 120);\n",
       "    margin-bottom: 0.1em;\n",
       "    margin-top: 0.1em;\n",
       "    display: block;\n",
       "}\t\n",
       ".text_cell_render h2 {\n",
       "    font-family: 'Philosopher', serif;\n",
       "    font-weight: 400;\n",
       "    font-size: 1.9em;\n",
       "    line-height: 100%;\n",
       "    color: rgb(200,100,0);\n",
       "    margin-bottom: 0.1em;\n",
       "    margin-top: 0.1em;\n",
       "    display: block;\n",
       "}\t\n",
       "\n",
       ".text_cell_render h3 {\n",
       "    font-family: 'Philosopher', serif;\n",
       "    margin-top:12px;\n",
       "    margin-bottom: 3px;\n",
       "    font-style: italic;\n",
       "    color: rgb(94,127,192);\n",
       "}\n",
       "\n",
       ".text_cell_render h4 {\n",
       "    font-family: 'Philosopher', serif;\n",
       "}\n",
       "\n",
       ".text_cell_render h5 {\n",
       "    font-family: 'Alegreya Sans', sans-serif;\n",
       "    font-weight: 300;\n",
       "    font-size: 16pt;\n",
       "    color: grey;\n",
       "    font-style: italic;\n",
       "    margin-bottom: .1em;\n",
       "    margin-top: 0.1em;\n",
       "    display: block;\n",
       "}\n",
       "\n",
       ".text_cell_render h6 {\n",
       "    font-family: 'PT Mono', sans-serif;\n",
       "    font-weight: 300;\n",
       "    font-size: 10pt;\n",
       "    color: grey;\n",
       "    margin-bottom: 1px;\n",
       "    margin-top: 1px;\n",
       "}\n",
       "\n",
       ".text_cell_render em {\n",
       "    font-family: 'Philosopher', sans-serif;\n",
       "    color:        blue;\n",
       "    background-color: rgb(255,220,180);\n",
       "    font-size:    110%;\n",
       "    margin-left:   2px;\n",
       "    margin-right:  2px;\n",
       "    font-weight:   100;\n",
       "}\n",
       "\n",
       ".text_cell_render b {\n",
       "    color:            rgb(255,195,195);\n",
       "    background-color: rgb(0,0,0);\n",
       "    font-size:    110%;\n",
       "    margin-left:   2px;\n",
       "    margin-right:  2px;\n",
       "    font-weight:   650;\n",
       "}\n",
       "\n",
       ".text_cell_render tt {\n",
       "    font-size:    120%;\n",
       "    margin-left:   2px;\n",
       "    margin-right:  2px;\n",
       "    font-weight:   150;\n",
       "}\n",
       "\n",
       ".Codemirror {\n",
       "    font-family: \"PT Mono\";\n",
       "    font-size: 100%;\n",
       "}\n",
       "\n",
       "</style>\n",
       "\n"
      ],
      "text/plain": [
       "<IPython.core.display.HTML object>"
      ]
     },
     "execution_count": 1,
     "metadata": {},
     "output_type": "execute_result"
    }
   ],
   "source": [
    "from IPython.display import HTML\n",
    "HTML(open('../style.css', 'r').read())"
   ]
  },
  {
   "cell_type": "markdown",
   "metadata": {},
   "source": [
    "# The 8-Queens Problem"
   ]
  },
  {
   "cell_type": "markdown",
   "metadata": {},
   "source": [
    "The <a href=\"https://en.wikipedia.org/wiki/Eight_queens_puzzle\">eight queens puzzle</a> is the problem of placing eight chess queens on a chessboard so that no two queens can capture each other.  In <a href=\"https://en.wikipedia.org/wiki/Chess\">chess</a> a queen can capture another piece if this piece is either\n",
    "<ol>\n",
    "    <li>in the same row,</li>\n",
    "    <li>in the same column, or</li>\n",
    "    <li>in the same diagonal.</li>\n",
    "</ol>\n",
    "The image below shows a queen in row 3, column 4.  All the locations where a piece can be captured by this queen are marked with an arrow.\n",
    "\n",
    "<img src=\"queen-captures.png\">\n",
    "\n",
    "We will solve this puzzle by encoding it as a *constrant satisfaction problem*.\n",
    "- The set of values is $\\{1,\\cdots,8\\}$.  These values are interpreted as columns.\n",
    "- We will use 8 variables $Q_1$, $\\cdots$, $Q_8$.  If $Q_i = j$, then the interpretation \n",
    "  is that there is a queen at the position $(i, j)$, i.e. the queen in row $i$ is \n",
    "  placed in column $j$. \n",
    "- The condition \n",
    "  $$ \\bigl\\{ \\texttt{Q}_i \\not= \\texttt{Q}_j \\;\\bigm|\\; \n",
    "      i \\in \\{1,\\cdots,8\\} \\wedge j \\in \\{1,\\cdots,8\\} \\wedge j < i \\bigr\\} \n",
    "  $$\n",
    "  specifies that there is at most on queen in a given column.\n",
    "- The condition\n",
    "  $$ \\bigl\\{ |\\texttt{Q}_i - \\texttt{Q}_j| \\not= |i - j| \\;\\bigm|\\; \n",
    "     i \\in \\{1,\\cdots,8\\} \\wedge j \\in \\{1,\\cdots,8\\} \\wedge j < i \\bigr\\}\n",
    "  $$\n",
    "  specifies that there is at most one queen in a given diagonal."
   ]
  },
  {
   "cell_type": "code",
   "execution_count": 2,
   "metadata": {},
   "outputs": [],
   "source": [
    "def queens_CSP():\n",
    "        \"Returns a CSP coding the 8 queens problem.\"\n",
    "        S                  = range(1, 8+1)          # used as indices\n",
    "        Variables          = [ f'Q{i}' for i in S ]\n",
    "        Values             = { 1, 2, 3, 4, 5, 6, 7, 8 }\n",
    "        DifferentColumns   = { f'Q{i} != Q{j}' for i in S for j in S if i < j }\n",
    "        DifferentDiagonals = { f'abs(Q{i}-Q{j}) != {i-j}' for i in S for j in S if j < i }\n",
    "        return Variables, Values, DifferentColumns | DifferentDiagonals"
   ]
  },
  {
   "cell_type": "markdown",
   "metadata": {},
   "source": [
    "Execute the next cell if you want to find a single solution to the problem."
   ]
  },
  {
   "cell_type": "code",
   "execution_count": 3,
   "metadata": {},
   "outputs": [],
   "source": [
    "%run 02-Backtracking-Constraint-Solver.ipynb"
   ]
  },
  {
   "cell_type": "markdown",
   "metadata": {},
   "source": [
    "Next, we create a *CSP* that encodes the *8-queens-puzzle*."
   ]
  },
  {
   "cell_type": "code",
   "execution_count": 4,
   "metadata": {
    "scrolled": false
   },
   "outputs": [
    {
     "data": {
      "text/plain": [
       "(['Q1', 'Q2', 'Q3', 'Q4', 'Q5', 'Q6', 'Q7', 'Q8'],\n",
       " {1, 2, 3, 4, 5, 6, 7, 8},\n",
       " {'Q1 != Q2',\n",
       "  'Q1 != Q3',\n",
       "  'Q1 != Q4',\n",
       "  'Q1 != Q5',\n",
       "  'Q1 != Q6',\n",
       "  'Q1 != Q7',\n",
       "  'Q1 != Q8',\n",
       "  'Q2 != Q3',\n",
       "  'Q2 != Q4',\n",
       "  'Q2 != Q5',\n",
       "  'Q2 != Q6',\n",
       "  'Q2 != Q7',\n",
       "  'Q2 != Q8',\n",
       "  'Q3 != Q4',\n",
       "  'Q3 != Q5',\n",
       "  'Q3 != Q6',\n",
       "  'Q3 != Q7',\n",
       "  'Q3 != Q8',\n",
       "  'Q4 != Q5',\n",
       "  'Q4 != Q6',\n",
       "  'Q4 != Q7',\n",
       "  'Q4 != Q8',\n",
       "  'Q5 != Q6',\n",
       "  'Q5 != Q7',\n",
       "  'Q5 != Q8',\n",
       "  'Q6 != Q7',\n",
       "  'Q6 != Q8',\n",
       "  'Q7 != Q8',\n",
       "  'abs(Q2-Q1) != 1',\n",
       "  'abs(Q3-Q1) != 2',\n",
       "  'abs(Q3-Q2) != 1',\n",
       "  'abs(Q4-Q1) != 3',\n",
       "  'abs(Q4-Q2) != 2',\n",
       "  'abs(Q4-Q3) != 1',\n",
       "  'abs(Q5-Q1) != 4',\n",
       "  'abs(Q5-Q2) != 3',\n",
       "  'abs(Q5-Q3) != 2',\n",
       "  'abs(Q5-Q4) != 1',\n",
       "  'abs(Q6-Q1) != 5',\n",
       "  'abs(Q6-Q2) != 4',\n",
       "  'abs(Q6-Q3) != 3',\n",
       "  'abs(Q6-Q4) != 2',\n",
       "  'abs(Q6-Q5) != 1',\n",
       "  'abs(Q7-Q1) != 6',\n",
       "  'abs(Q7-Q2) != 5',\n",
       "  'abs(Q7-Q3) != 4',\n",
       "  'abs(Q7-Q4) != 3',\n",
       "  'abs(Q7-Q5) != 2',\n",
       "  'abs(Q7-Q6) != 1',\n",
       "  'abs(Q8-Q1) != 7',\n",
       "  'abs(Q8-Q2) != 6',\n",
       "  'abs(Q8-Q3) != 5',\n",
       "  'abs(Q8-Q4) != 4',\n",
       "  'abs(Q8-Q5) != 3',\n",
       "  'abs(Q8-Q6) != 2',\n",
       "  'abs(Q8-Q7) != 1'})"
      ]
     },
     "execution_count": 4,
     "metadata": {},
     "output_type": "execute_result"
    }
   ],
   "source": [
    "CSP = queens_CSP()\n",
    "CSP"
   ]
  },
  {
   "cell_type": "markdown",
   "metadata": {},
   "source": [
    "This *CSP* has 8 variables and 56 constraints.  When we solved the same problem using propositional logic and the *Davis-Putnam algorithm*, we had used 64 propositional variables and 512 clauses."
   ]
  },
  {
   "cell_type": "code",
   "execution_count": 5,
   "metadata": {},
   "outputs": [
    {
     "data": {
      "text/plain": [
       "(8, 56)"
      ]
     },
     "execution_count": 5,
     "metadata": {},
     "output_type": "execute_result"
    }
   ],
   "source": [
    "len(CSP[0]), len(CSP[2])"
   ]
  },
  {
   "cell_type": "markdown",
   "metadata": {},
   "source": [
    "On my desktop computer (2023 MacStudio with M2 Max processor) it takes about 50 ms to solve the problem. "
   ]
  },
  {
   "cell_type": "code",
   "execution_count": 6,
   "metadata": {},
   "outputs": [
    {
     "name": "stdout",
     "output_type": "stream",
     "text": [
      "CPU times: user 52.3 ms, sys: 3.49 ms, total: 55.8 ms\n",
      "Wall time: 54 ms\n"
     ]
    },
    {
     "data": {
      "text/plain": [
       "{'Q1': 1, 'Q2': 5, 'Q3': 8, 'Q4': 6, 'Q5': 3, 'Q6': 7, 'Q7': 2, 'Q8': 4}"
      ]
     },
     "execution_count": 6,
     "metadata": {},
     "output_type": "execute_result"
    }
   ],
   "source": [
    "%%time\n",
    "Solution = solve(CSP)\n",
    "Solution"
   ]
  },
  {
   "cell_type": "markdown",
   "metadata": {},
   "source": [
    "The following code requires that you install `chess-problem-visuals`, which is a package provided by *Philipp Polland*.  This package can be installed into the environment `ai` with the following command:\n",
    "```\n",
    "pip install git+https://github.com/reclinarka/chess-problem-visuals\n",
    "```\n",
    "The following line performs this installation inside the jupyter notebook.\n",
    "Once you have executed this line once, you can comment it."
   ]
  },
  {
   "cell_type": "code",
   "execution_count": 7,
   "metadata": {},
   "outputs": [
    {
     "name": "stdout",
     "output_type": "stream",
     "text": [
      "Collecting git+https://github.com/reclinarka/chess-problem-visuals\n",
      "  Cloning https://github.com/reclinarka/chess-problem-visuals to /private/var/folders/q9/qftgdjx91wx4s5jcqkfz5bd00000gn/T/pip-req-build-ht9pb5tk\n",
      "  Running command git clone --filter=blob:none --quiet https://github.com/reclinarka/chess-problem-visuals /private/var/folders/q9/qftgdjx91wx4s5jcqkfz5bd00000gn/T/pip-req-build-ht9pb5tk\n",
      "  Resolved https://github.com/reclinarka/chess-problem-visuals to commit 764a29b376fe9dd3cbb2623ce8740f73c6711fa4\n",
      "  Installing build dependencies ... \u001b[?25ldone\n",
      "\u001b[?25h  Getting requirements to build wheel ... \u001b[?25ldone\n",
      "\u001b[?25h  Preparing metadata (pyproject.toml) ... \u001b[?25ldone\n",
      "\u001b[?25h"
     ]
    }
   ],
   "source": [
    "!pip install git+https://github.com/reclinarka/chess-problem-visuals"
   ]
  },
  {
   "cell_type": "code",
   "execution_count": 8,
   "metadata": {},
   "outputs": [],
   "source": [
    "import chess_problem_visuals as cpv"
   ]
  },
  {
   "cell_type": "markdown",
   "metadata": {},
   "source": [
    "The function `show_solution(Solution, width)` takes a dictionary that contains a variable assignment that represents a solution to the 8-queens puzzle.  It displays this Solution on a chess board.\n",
    "* `Solution` is a dictionary mapping the variables $\\texttt{V}_i$ to numbers.\n",
    "  If $\\texttt{Solution[V}_i\\texttt{]} = k$, then the queen in row $i$ is placed in column $k$.\n",
    "* `width` specifies the size of the board as a percentage of the width of notebook.  "
   ]
  },
  {
   "cell_type": "code",
   "execution_count": 9,
   "metadata": {},
   "outputs": [],
   "source": [
    "def show_solution(Solution, n, width=\"50%\"):\n",
    "    Queens = [None for col in range(n)]\n",
    "    board  = cpv.Board(n, html_width=width)\n",
    "    for row in range(n):\n",
    "        col = Solution.get('Q'+str(row+1), None)\n",
    "        if col != None:\n",
    "            board.add_piece((col-1, row), 'Q')\n",
    "    return board"
   ]
  },
  {
   "cell_type": "code",
   "execution_count": 10,
   "metadata": {},
   "outputs": [
    {
     "data": {
      "text/html": [
       "<div style='width:50%'><svg xmlns=\"http://www.w3.org/2000/svg\" xmlns:xlink=\"http://www.w3.org/1999/xlink\" version=\"1.2\" baseProfile=\"tiny\" viewBox=\"0 0 128 128\"><defs><g id=\"black-bishop\" class=\"black bishop\" fill=\"none\" fill-rule=\"evenodd\" stroke=\"#000\" stroke-width=\"1.5\" stroke-linecap=\"round\" stroke-linejoin=\"round\"><path d=\"M9 36c3.39-.97 10.11.43 13.5-2 3.39 2.43 10.11 1.03 13.5 2 0 0 1.65.54 3 2-.68.97-1.65.99-3 .5-3.39-.97-10.11.46-13.5-1-3.39 1.46-10.11.03-13.5 1-1.354.49-2.323.47-3-.5 1.354-1.94 3-2 3-2zm6-4c2.5 2.5 12.5 2.5 15 0 .5-1.5 0-2 0-2 0-2.5-2.5-4-2.5-4 5.5-1.5 6-11.5-5-15.5-11 4-10.5 14-5 15.5 0 0-2.5 1.5-2.5 4 0 0-.5.5 0 2zM25 8a2.5 2.5 0 1 1-5 0 2.5 2.5 0 1 1 5 0z\" fill=\"#000\" stroke-linecap=\"butt\" /><path d=\"M17.5 26h10M15 30h15m-7.5-14.5v5M20 18h5\" stroke=\"#fff\" stroke-linejoin=\"miter\" /></g><g id=\"black-king\" class=\"black king\" fill=\"none\" fill-rule=\"evenodd\" stroke=\"#000\" stroke-width=\"1.5\" stroke-linecap=\"round\" stroke-linejoin=\"round\"><path d=\"M22.5 11.63V6\" stroke-linejoin=\"miter\" /><path d=\"M22.5 25s4.5-7.5 3-10.5c0 0-1-2.5-3-2.5s-3 2.5-3 2.5c-1.5 3 3 10.5 3 10.5\" fill=\"#000\" stroke-linecap=\"butt\" stroke-linejoin=\"miter\" /><path d=\"M11.5 37c5.5 3.5 15.5 3.5 21 0v-7s9-4.5 6-10.5c-4-6.5-13.5-3.5-16 4V27v-3.5c-3.5-7.5-13-10.5-16-4-3 6 5 10 5 10V37z\" fill=\"#000\" /><path d=\"M20 8h5\" stroke-linejoin=\"miter\" /><path d=\"M32 29.5s8.5-4 6.03-9.65C34.15 14 25 18 22.5 24.5l.01 2.1-.01-2.1C20 18 9.906 14 6.997 19.85c-2.497 5.65 4.853 9 4.853 9M11.5 30c5.5-3 15.5-3 21 0m-21 3.5c5.5-3 15.5-3 21 0m-21 3.5c5.5-3 15.5-3 21 0\" stroke=\"#fff\" /></g><g id=\"black-knight\" class=\"black knight\" fill=\"none\" fill-rule=\"evenodd\" stroke=\"#000\" stroke-width=\"1.5\" stroke-linecap=\"round\" stroke-linejoin=\"round\"><path d=\"M 22,10 C 32.5,11 38.5,18 38,39 L 15,39 C 15,30 25,32.5 23,18\" style=\"fill:#000000; stroke:#000000;\" /><path d=\"M 24,18 C 24.38,20.91 18.45,25.37 16,27 C 13,29 13.18,31.34 11,31 C 9.958,30.06 12.41,27.96 11,28 C 10,28 11.19,29.23 10,30 C 9,30 5.997,31 6,26 C 6,24 12,14 12,14 C 12,14 13.89,12.1 14,10.5 C 13.27,9.506 13.5,8.5 13.5,7.5 C 14.5,6.5 16.5,10 16.5,10 L 18.5,10 C 18.5,10 19.28,8.008 21,7 C 22,7 22,10 22,10\" style=\"fill:#000000; stroke:#000000;\" /><path d=\"M 9.5 25.5 A 0.5 0.5 0 1 1 8.5,25.5 A 0.5 0.5 0 1 1 9.5 25.5 z\" style=\"fill:#ececec; stroke:#ececec;\" /><path d=\"M 15 15.5 A 0.5 1.5 0 1 1 14,15.5 A 0.5 1.5 0 1 1 15 15.5 z\" transform=\"matrix(0.866,0.5,-0.5,0.866,9.693,-5.173)\" style=\"fill:#ececec; stroke:#ececec;\" /><path d=\"M 24.55,10.4 L 24.1,11.85 L 24.6,12 C 27.75,13 30.25,14.49 32.5,18.75 C 34.75,23.01 35.75,29.06 35.25,39 L 35.2,39.5 L 37.45,39.5 L 37.5,39 C 38,28.94 36.62,22.15 34.25,17.66 C 31.88,13.17 28.46,11.02 25.06,10.5 L 24.55,10.4 z \" style=\"fill:#ececec; stroke:none;\" /></g><g id=\"black-pawn\" class=\"black pawn\"><path d=\"M22.5 9c-2.21 0-4 1.79-4 4 0 .89.29 1.71.78 2.38C17.33 16.5 16 18.59 16 21c0 2.03.94 3.84 2.41 5.03-3 1.06-7.41 5.55-7.41 13.47h23c0-7.92-4.41-12.41-7.41-13.47 1.47-1.19 2.41-3 2.41-5.03 0-2.41-1.33-4.5-3.28-5.62.49-.67.78-1.49.78-2.38 0-2.21-1.79-4-4-4z\" fill=\"#000\" stroke=\"#000\" stroke-width=\"1.5\" stroke-linecap=\"round\" /></g><g id=\"black-queen\" class=\"black queen\" fill=\"#000\" fill-rule=\"evenodd\" stroke=\"#000\" stroke-width=\"1.5\" stroke-linecap=\"round\" stroke-linejoin=\"round\"><g fill=\"#000\" stroke=\"none\"><circle cx=\"6\" cy=\"12\" r=\"2.75\" /><circle cx=\"14\" cy=\"9\" r=\"2.75\" /><circle cx=\"22.5\" cy=\"8\" r=\"2.75\" /><circle cx=\"31\" cy=\"9\" r=\"2.75\" /><circle cx=\"39\" cy=\"12\" r=\"2.75\" /></g><path d=\"M9 26c8.5-1.5 21-1.5 27 0l2.5-12.5L31 25l-.3-14.1-5.2 13.6-3-14.5-3 14.5-5.2-13.6L14 25 6.5 13.5 9 26zM9 26c0 2 1.5 2 2.5 4 1 1.5 1 1 .5 3.5-1.5 1-1.5 2.5-1.5 2.5-1.5 1.5.5 2.5.5 2.5 6.5 1 16.5 1 23 0 0 0 1.5-1 0-2.5 0 0 .5-1.5-1-2.5-.5-2.5-.5-2 .5-3.5 1-2 2.5-2 2.5-4-8.5-1.5-18.5-1.5-27 0z\" stroke-linecap=\"butt\" /><path d=\"M11 38.5a35 35 1 0 0 23 0\" fill=\"none\" stroke-linecap=\"butt\" /><path d=\"M11 29a35 35 1 0 1 23 0M12.5 31.5h20M11.5 34.5a35 35 1 0 0 22 0M10.5 37.5a35 35 1 0 0 24 0\" fill=\"none\" stroke=\"#fff\" /></g><g id=\"black-rook\" class=\"black rook\" fill=\"#000\" fill-rule=\"evenodd\" stroke=\"#000\" stroke-width=\"1.5\" stroke-linecap=\"round\" stroke-linejoin=\"round\"><path d=\"M9 39h27v-3H9v3zM12.5 32l1.5-2.5h17l1.5 2.5h-20zM12 36v-4h21v4H12z\" stroke-linecap=\"butt\" /><path d=\"M14 29.5v-13h17v13H14z\" stroke-linecap=\"butt\" stroke-linejoin=\"miter\" /><path d=\"M14 16.5L11 14h23l-3 2.5H14zM11 14V9h4v2h5V9h5v2h5V9h4v5H11z\" stroke-linecap=\"butt\" /><path d=\"M12 35.5h21M13 31.5h19M14 29.5h17M14 16.5h17M11 14h23\" fill=\"none\" stroke=\"#fff\" stroke-width=\"1\" stroke-linejoin=\"miter\" /></g><g id=\"white-bishop\" class=\"white bishop\" fill=\"none\" fill-rule=\"evenodd\" stroke=\"#000\" stroke-width=\"1.5\" stroke-linecap=\"round\" stroke-linejoin=\"round\"><g fill=\"#fff\" stroke-linecap=\"butt\"><path d=\"M9 36c3.39-.97 10.11.43 13.5-2 3.39 2.43 10.11 1.03 13.5 2 0 0 1.65.54 3 2-.68.97-1.65.99-3 .5-3.39-.97-10.11.46-13.5-1-3.39 1.46-10.11.03-13.5 1-1.354.49-2.323.47-3-.5 1.354-1.94 3-2 3-2zM15 32c2.5 2.5 12.5 2.5 15 0 .5-1.5 0-2 0-2 0-2.5-2.5-4-2.5-4 5.5-1.5 6-11.5-5-15.5-11 4-10.5 14-5 15.5 0 0-2.5 1.5-2.5 4 0 0-.5.5 0 2zM25 8a2.5 2.5 0 1 1-5 0 2.5 2.5 0 1 1 5 0z\" /></g><path d=\"M17.5 26h10M15 30h15m-7.5-14.5v5M20 18h5\" stroke-linejoin=\"miter\" /></g><g id=\"white-king\" class=\"white king\" fill=\"none\" fill-rule=\"evenodd\" stroke=\"#000\" stroke-width=\"1.5\" stroke-linecap=\"round\" stroke-linejoin=\"round\"><path d=\"M22.5 11.63V6M20 8h5\" stroke-linejoin=\"miter\" /><path d=\"M22.5 25s4.5-7.5 3-10.5c0 0-1-2.5-3-2.5s-3 2.5-3 2.5c-1.5 3 3 10.5 3 10.5\" fill=\"#fff\" stroke-linecap=\"butt\" stroke-linejoin=\"miter\" /><path d=\"M11.5 37c5.5 3.5 15.5 3.5 21 0v-7s9-4.5 6-10.5c-4-6.5-13.5-3.5-16 4V27v-3.5c-3.5-7.5-13-10.5-16-4-3 6 5 10 5 10V37z\" fill=\"#fff\" /><path d=\"M11.5 30c5.5-3 15.5-3 21 0m-21 3.5c5.5-3 15.5-3 21 0m-21 3.5c5.5-3 15.5-3 21 0\" /></g><g id=\"white-knight\" class=\"white knight\" fill=\"none\" fill-rule=\"evenodd\" stroke=\"#000\" stroke-width=\"1.5\" stroke-linecap=\"round\" stroke-linejoin=\"round\"><path d=\"M 22,10 C 32.5,11 38.5,18 38,39 L 15,39 C 15,30 25,32.5 23,18\" style=\"fill:#ffffff; stroke:#000000;\" /><path d=\"M 24,18 C 24.38,20.91 18.45,25.37 16,27 C 13,29 13.18,31.34 11,31 C 9.958,30.06 12.41,27.96 11,28 C 10,28 11.19,29.23 10,30 C 9,30 5.997,31 6,26 C 6,24 12,14 12,14 C 12,14 13.89,12.1 14,10.5 C 13.27,9.506 13.5,8.5 13.5,7.5 C 14.5,6.5 16.5,10 16.5,10 L 18.5,10 C 18.5,10 19.28,8.008 21,7 C 22,7 22,10 22,10\" style=\"fill:#ffffff; stroke:#000000;\" /><path d=\"M 9.5 25.5 A 0.5 0.5 0 1 1 8.5,25.5 A 0.5 0.5 0 1 1 9.5 25.5 z\" style=\"fill:#000000; stroke:#000000;\" /><path d=\"M 15 15.5 A 0.5 1.5 0 1 1 14,15.5 A 0.5 1.5 0 1 1 15 15.5 z\" transform=\"matrix(0.866,0.5,-0.5,0.866,9.693,-5.173)\" style=\"fill:#000000; stroke:#000000;\" /></g><g id=\"white-pawn\" class=\"white pawn\"><path d=\"M22.5 9c-2.21 0-4 1.79-4 4 0 .89.29 1.71.78 2.38C17.33 16.5 16 18.59 16 21c0 2.03.94 3.84 2.41 5.03-3 1.06-7.41 5.55-7.41 13.47h23c0-7.92-4.41-12.41-7.41-13.47 1.47-1.19 2.41-3 2.41-5.03 0-2.41-1.33-4.5-3.28-5.62.49-.67.78-1.49.78-2.38 0-2.21-1.79-4-4-4z\" fill=\"#fff\" stroke=\"#000\" stroke-width=\"1.5\" stroke-linecap=\"round\" /></g><g id=\"white-queen\" class=\"white queen\" fill=\"#fff\" fill-rule=\"evenodd\" stroke=\"#000\" stroke-width=\"1.5\" stroke-linecap=\"round\" stroke-linejoin=\"round\"><path d=\"M8 12a2 2 0 1 1-4 0 2 2 0 1 1 4 0zM24.5 7.5a2 2 0 1 1-4 0 2 2 0 1 1 4 0zM41 12a2 2 0 1 1-4 0 2 2 0 1 1 4 0zM16 8.5a2 2 0 1 1-4 0 2 2 0 1 1 4 0zM33 9a2 2 0 1 1-4 0 2 2 0 1 1 4 0z\" /><path d=\"M9 26c8.5-1.5 21-1.5 27 0l2-12-7 11V11l-5.5 13.5-3-15-3 15-5.5-14V25L7 14l2 12zM9 26c0 2 1.5 2 2.5 4 1 1.5 1 1 .5 3.5-1.5 1-1.5 2.5-1.5 2.5-1.5 1.5.5 2.5.5 2.5 6.5 1 16.5 1 23 0 0 0 1.5-1 0-2.5 0 0 .5-1.5-1-2.5-.5-2.5-.5-2 .5-3.5 1-2 2.5-2 2.5-4-8.5-1.5-18.5-1.5-27 0z\" stroke-linecap=\"butt\" /><path d=\"M11.5 30c3.5-1 18.5-1 22 0M12 33.5c6-1 15-1 21 0\" fill=\"none\" /></g><g id=\"white-rook\" class=\"white rook\" fill=\"#fff\" fill-rule=\"evenodd\" stroke=\"#000\" stroke-width=\"1.5\" stroke-linecap=\"round\" stroke-linejoin=\"round\"><path d=\"M9 39h27v-3H9v3zM12 36v-4h21v4H12zM11 14V9h4v2h5V9h5v2h5V9h4v5\" stroke-linecap=\"butt\" /><path d=\"M34 14l-3 3H14l-3-3\" /><path d=\"M31 17v12.5H14V17\" stroke-linecap=\"butt\" stroke-linejoin=\"miter\" /><path d=\"M31 29.5l1.5 2.5h-20l1.5-2.5\" /><path d=\"M11 14h23\" fill=\"none\" stroke-linejoin=\"miter\" /></g></defs><rect x=\"0\" y=\"0\" width=\"16\" height=\"16\" class=\"square light\" stroke=\"none\" fill=\"#ffce9e\" opacity=\"1.0\" /><rect x=\"0\" y=\"16\" width=\"16\" height=\"16\" class=\"square dark\" stroke=\"none\" fill=\"#d18b47\" opacity=\"1.0\" /><rect x=\"0\" y=\"32\" width=\"16\" height=\"16\" class=\"square light\" stroke=\"none\" fill=\"#ffce9e\" opacity=\"1.0\" /><rect x=\"0\" y=\"48\" width=\"16\" height=\"16\" class=\"square dark\" stroke=\"none\" fill=\"#d18b47\" opacity=\"1.0\" /><rect x=\"0\" y=\"64\" width=\"16\" height=\"16\" class=\"square light\" stroke=\"none\" fill=\"#ffce9e\" opacity=\"1.0\" /><rect x=\"0\" y=\"80\" width=\"16\" height=\"16\" class=\"square dark\" stroke=\"none\" fill=\"#d18b47\" opacity=\"1.0\" /><rect x=\"0\" y=\"96\" width=\"16\" height=\"16\" class=\"square light\" stroke=\"none\" fill=\"#ffce9e\" opacity=\"1.0\" /><rect x=\"0\" y=\"112\" width=\"16\" height=\"16\" class=\"square dark\" stroke=\"none\" fill=\"#d18b47\" opacity=\"1.0\" /><rect x=\"16\" y=\"0\" width=\"16\" height=\"16\" class=\"square dark\" stroke=\"none\" fill=\"#d18b47\" opacity=\"1.0\" /><rect x=\"16\" y=\"16\" width=\"16\" height=\"16\" class=\"square light\" stroke=\"none\" fill=\"#ffce9e\" opacity=\"1.0\" /><rect x=\"16\" y=\"32\" width=\"16\" height=\"16\" class=\"square dark\" stroke=\"none\" fill=\"#d18b47\" opacity=\"1.0\" /><rect x=\"16\" y=\"48\" width=\"16\" height=\"16\" class=\"square light\" stroke=\"none\" fill=\"#ffce9e\" opacity=\"1.0\" /><rect x=\"16\" y=\"64\" width=\"16\" height=\"16\" class=\"square dark\" stroke=\"none\" fill=\"#d18b47\" opacity=\"1.0\" /><rect x=\"16\" y=\"80\" width=\"16\" height=\"16\" class=\"square light\" stroke=\"none\" fill=\"#ffce9e\" opacity=\"1.0\" /><rect x=\"16\" y=\"96\" width=\"16\" height=\"16\" class=\"square dark\" stroke=\"none\" fill=\"#d18b47\" opacity=\"1.0\" /><rect x=\"16\" y=\"112\" width=\"16\" height=\"16\" class=\"square light\" stroke=\"none\" fill=\"#ffce9e\" opacity=\"1.0\" /><rect x=\"32\" y=\"0\" width=\"16\" height=\"16\" class=\"square light\" stroke=\"none\" fill=\"#ffce9e\" opacity=\"1.0\" /><rect x=\"32\" y=\"16\" width=\"16\" height=\"16\" class=\"square dark\" stroke=\"none\" fill=\"#d18b47\" opacity=\"1.0\" /><rect x=\"32\" y=\"32\" width=\"16\" height=\"16\" class=\"square light\" stroke=\"none\" fill=\"#ffce9e\" opacity=\"1.0\" /><rect x=\"32\" y=\"48\" width=\"16\" height=\"16\" class=\"square dark\" stroke=\"none\" fill=\"#d18b47\" opacity=\"1.0\" /><rect x=\"32\" y=\"64\" width=\"16\" height=\"16\" class=\"square light\" stroke=\"none\" fill=\"#ffce9e\" opacity=\"1.0\" /><rect x=\"32\" y=\"80\" width=\"16\" height=\"16\" class=\"square dark\" stroke=\"none\" fill=\"#d18b47\" opacity=\"1.0\" /><rect x=\"32\" y=\"96\" width=\"16\" height=\"16\" class=\"square light\" stroke=\"none\" fill=\"#ffce9e\" opacity=\"1.0\" /><rect x=\"32\" y=\"112\" width=\"16\" height=\"16\" class=\"square dark\" stroke=\"none\" fill=\"#d18b47\" opacity=\"1.0\" /><rect x=\"48\" y=\"0\" width=\"16\" height=\"16\" class=\"square dark\" stroke=\"none\" fill=\"#d18b47\" opacity=\"1.0\" /><rect x=\"48\" y=\"16\" width=\"16\" height=\"16\" class=\"square light\" stroke=\"none\" fill=\"#ffce9e\" opacity=\"1.0\" /><rect x=\"48\" y=\"32\" width=\"16\" height=\"16\" class=\"square dark\" stroke=\"none\" fill=\"#d18b47\" opacity=\"1.0\" /><rect x=\"48\" y=\"48\" width=\"16\" height=\"16\" class=\"square light\" stroke=\"none\" fill=\"#ffce9e\" opacity=\"1.0\" /><rect x=\"48\" y=\"64\" width=\"16\" height=\"16\" class=\"square dark\" stroke=\"none\" fill=\"#d18b47\" opacity=\"1.0\" /><rect x=\"48\" y=\"80\" width=\"16\" height=\"16\" class=\"square light\" stroke=\"none\" fill=\"#ffce9e\" opacity=\"1.0\" /><rect x=\"48\" y=\"96\" width=\"16\" height=\"16\" class=\"square dark\" stroke=\"none\" fill=\"#d18b47\" opacity=\"1.0\" /><rect x=\"48\" y=\"112\" width=\"16\" height=\"16\" class=\"square light\" stroke=\"none\" fill=\"#ffce9e\" opacity=\"1.0\" /><rect x=\"64\" y=\"0\" width=\"16\" height=\"16\" class=\"square light\" stroke=\"none\" fill=\"#ffce9e\" opacity=\"1.0\" /><rect x=\"64\" y=\"16\" width=\"16\" height=\"16\" class=\"square dark\" stroke=\"none\" fill=\"#d18b47\" opacity=\"1.0\" /><rect x=\"64\" y=\"32\" width=\"16\" height=\"16\" class=\"square light\" stroke=\"none\" fill=\"#ffce9e\" opacity=\"1.0\" /><rect x=\"64\" y=\"48\" width=\"16\" height=\"16\" class=\"square dark\" stroke=\"none\" fill=\"#d18b47\" opacity=\"1.0\" /><rect x=\"64\" y=\"64\" width=\"16\" height=\"16\" class=\"square light\" stroke=\"none\" fill=\"#ffce9e\" opacity=\"1.0\" /><rect x=\"64\" y=\"80\" width=\"16\" height=\"16\" class=\"square dark\" stroke=\"none\" fill=\"#d18b47\" opacity=\"1.0\" /><rect x=\"64\" y=\"96\" width=\"16\" height=\"16\" class=\"square light\" stroke=\"none\" fill=\"#ffce9e\" opacity=\"1.0\" /><rect x=\"64\" y=\"112\" width=\"16\" height=\"16\" class=\"square dark\" stroke=\"none\" fill=\"#d18b47\" opacity=\"1.0\" /><rect x=\"80\" y=\"0\" width=\"16\" height=\"16\" class=\"square dark\" stroke=\"none\" fill=\"#d18b47\" opacity=\"1.0\" /><rect x=\"80\" y=\"16\" width=\"16\" height=\"16\" class=\"square light\" stroke=\"none\" fill=\"#ffce9e\" opacity=\"1.0\" /><rect x=\"80\" y=\"32\" width=\"16\" height=\"16\" class=\"square dark\" stroke=\"none\" fill=\"#d18b47\" opacity=\"1.0\" /><rect x=\"80\" y=\"48\" width=\"16\" height=\"16\" class=\"square light\" stroke=\"none\" fill=\"#ffce9e\" opacity=\"1.0\" /><rect x=\"80\" y=\"64\" width=\"16\" height=\"16\" class=\"square dark\" stroke=\"none\" fill=\"#d18b47\" opacity=\"1.0\" /><rect x=\"80\" y=\"80\" width=\"16\" height=\"16\" class=\"square light\" stroke=\"none\" fill=\"#ffce9e\" opacity=\"1.0\" /><rect x=\"80\" y=\"96\" width=\"16\" height=\"16\" class=\"square dark\" stroke=\"none\" fill=\"#d18b47\" opacity=\"1.0\" /><rect x=\"80\" y=\"112\" width=\"16\" height=\"16\" class=\"square light\" stroke=\"none\" fill=\"#ffce9e\" opacity=\"1.0\" /><rect x=\"96\" y=\"0\" width=\"16\" height=\"16\" class=\"square light\" stroke=\"none\" fill=\"#ffce9e\" opacity=\"1.0\" /><rect x=\"96\" y=\"16\" width=\"16\" height=\"16\" class=\"square dark\" stroke=\"none\" fill=\"#d18b47\" opacity=\"1.0\" /><rect x=\"96\" y=\"32\" width=\"16\" height=\"16\" class=\"square light\" stroke=\"none\" fill=\"#ffce9e\" opacity=\"1.0\" /><rect x=\"96\" y=\"48\" width=\"16\" height=\"16\" class=\"square dark\" stroke=\"none\" fill=\"#d18b47\" opacity=\"1.0\" /><rect x=\"96\" y=\"64\" width=\"16\" height=\"16\" class=\"square light\" stroke=\"none\" fill=\"#ffce9e\" opacity=\"1.0\" /><rect x=\"96\" y=\"80\" width=\"16\" height=\"16\" class=\"square dark\" stroke=\"none\" fill=\"#d18b47\" opacity=\"1.0\" /><rect x=\"96\" y=\"96\" width=\"16\" height=\"16\" class=\"square light\" stroke=\"none\" fill=\"#ffce9e\" opacity=\"1.0\" /><rect x=\"96\" y=\"112\" width=\"16\" height=\"16\" class=\"square dark\" stroke=\"none\" fill=\"#d18b47\" opacity=\"1.0\" /><rect x=\"112\" y=\"0\" width=\"16\" height=\"16\" class=\"square dark\" stroke=\"none\" fill=\"#d18b47\" opacity=\"1.0\" /><rect x=\"112\" y=\"16\" width=\"16\" height=\"16\" class=\"square light\" stroke=\"none\" fill=\"#ffce9e\" opacity=\"1.0\" /><rect x=\"112\" y=\"32\" width=\"16\" height=\"16\" class=\"square dark\" stroke=\"none\" fill=\"#d18b47\" opacity=\"1.0\" /><rect x=\"112\" y=\"48\" width=\"16\" height=\"16\" class=\"square light\" stroke=\"none\" fill=\"#ffce9e\" opacity=\"1.0\" /><rect x=\"112\" y=\"64\" width=\"16\" height=\"16\" class=\"square dark\" stroke=\"none\" fill=\"#d18b47\" opacity=\"1.0\" /><rect x=\"112\" y=\"80\" width=\"16\" height=\"16\" class=\"square light\" stroke=\"none\" fill=\"#ffce9e\" opacity=\"1.0\" /><rect x=\"112\" y=\"96\" width=\"16\" height=\"16\" class=\"square dark\" stroke=\"none\" fill=\"#d18b47\" opacity=\"1.0\" /><rect x=\"112\" y=\"112\" width=\"16\" height=\"16\" class=\"square light\" stroke=\"none\" fill=\"#ffce9e\" opacity=\"1.0\" /><use href=\"#white-queen\" xlink:href=\"#white-queen\" transform=\"translate(0, 0) scale(0.355556)\" /><use href=\"#white-queen\" xlink:href=\"#white-queen\" transform=\"translate(64, 16) scale(0.355556)\" /><use href=\"#white-queen\" xlink:href=\"#white-queen\" transform=\"translate(112, 32) scale(0.355556)\" /><use href=\"#white-queen\" xlink:href=\"#white-queen\" transform=\"translate(80, 48) scale(0.355556)\" /><use href=\"#white-queen\" xlink:href=\"#white-queen\" transform=\"translate(32, 64) scale(0.355556)\" /><use href=\"#white-queen\" xlink:href=\"#white-queen\" transform=\"translate(96, 80) scale(0.355556)\" /><use href=\"#white-queen\" xlink:href=\"#white-queen\" transform=\"translate(16, 96) scale(0.355556)\" /><use href=\"#white-queen\" xlink:href=\"#white-queen\" transform=\"translate(48, 112) scale(0.355556)\" /></svg></div>"
      ],
      "text/plain": [
       "<chess_problem_visuals.board.Board at 0x106d04440>"
      ]
     },
     "execution_count": 10,
     "metadata": {},
     "output_type": "execute_result"
    }
   ],
   "source": [
    "show_solution(Solution, 8)"
   ]
  },
  {
   "cell_type": "markdown",
   "metadata": {},
   "source": [
    "If we would use a brute force approach that checks permutations, we would have to check $8! = 40\\,320$ different configurations.  "
   ]
  },
  {
   "cell_type": "code",
   "execution_count": null,
   "metadata": {},
   "outputs": [],
   "source": [
    "import math"
   ]
  },
  {
   "cell_type": "code",
   "execution_count": null,
   "metadata": {},
   "outputs": [],
   "source": [
    "math.factorial(8)"
   ]
  },
  {
   "cell_type": "code",
   "execution_count": null,
   "metadata": {},
   "outputs": [],
   "source": []
  }
 ],
 "metadata": {
  "hide_input": false,
  "kernelspec": {
   "display_name": "Python 3 (ipykernel)",
   "language": "python",
   "name": "python3"
  },
  "language_info": {
   "codemirror_mode": {
    "name": "ipython",
    "version": 3
   },
   "file_extension": ".py",
   "mimetype": "text/x-python",
   "name": "python",
   "nbconvert_exporter": "python",
   "pygments_lexer": "ipython3",
   "version": "3.13.2"
  },
  "toc": {
   "base_numbering": 1,
   "nav_menu": {},
   "number_sections": true,
   "sideBar": true,
   "skip_h1_title": false,
   "title_cell": "Table of Contents",
   "title_sidebar": "Contents",
   "toc_cell": false,
   "toc_position": {},
   "toc_section_display": true,
   "toc_window_display": false
  },
  "varInspector": {
   "cols": {
    "lenName": 16,
    "lenType": 16,
    "lenVar": 40
   },
   "kernels_config": {
    "python": {
     "delete_cmd_postfix": "",
     "delete_cmd_prefix": "del ",
     "library": "var_list.py",
     "varRefreshCmd": "print(var_dic_list())"
    },
    "r": {
     "delete_cmd_postfix": ") ",
     "delete_cmd_prefix": "rm(",
     "library": "var_list.r",
     "varRefreshCmd": "cat(var_dic_list()) "
    }
   },
   "types_to_exclude": [
    "module",
    "function",
    "builtin_function_or_method",
    "instance",
    "_Feature"
   ],
   "window_display": false
  }
 },
 "nbformat": 4,
 "nbformat_minor": 4
}
