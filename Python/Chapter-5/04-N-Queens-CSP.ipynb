{
 "cells": [
  {
   "cell_type": "code",
   "execution_count": null,
   "metadata": {},
   "outputs": [],
   "source": [
    "from IPython.display import HTML\n",
    "HTML(open('../style.css', 'r').read())"
   ]
  },
  {
   "cell_type": "markdown",
   "metadata": {},
   "source": [
    "# The 8-Queens Problem"
   ]
  },
  {
   "cell_type": "markdown",
   "metadata": {},
   "source": [
    "The <a href=\"https://en.wikipedia.org/wiki/Eight_queens_puzzle\">eight queens puzzle</a> is the problem of placing eight chess queens on a chessboard so that no two queens can capture each other.  In <a href=\"https://en.wikipedia.org/wiki/Chess\">chess</a> a queen can capture another piece if this piece is either\n",
    "<ol>\n",
    "    <li>in the same row,</li>\n",
    "    <li>in the same column, or</li>\n",
    "    <li>in the same diagonal.</li>\n",
    "</ol>\n",
    "The image below shows a queen in row 3, column 4.  All the locations where a piece can be captured by this queen are marked with an arrow.\n",
    "\n",
    "<img src=\"queen-captures.png\">\n",
    "\n",
    "We will solve this puzzle by encoding it as a *constrant satisfaction problem*.\n",
    "- The set of values is $\\{1,\\cdots,8\\}$.  These values are interpreted as columns.\n",
    "- We will use 8 variables $Q_1$, $\\cdots$, $Q_8$.  If $Q_i = j$, then the interpretation \n",
    "  is that there is a queen at the position $(i, j)$, i.e. the queen in row $i$ is \n",
    "  placed in column $j$. \n",
    "- The condition \n",
    "  $$ \\bigl\\{ \\texttt{Q}_i \\not= \\texttt{Q}_j \\;\\bigm|\\; \n",
    "      i \\in \\{1,\\cdots,8\\} \\wedge j \\in \\{1,\\cdots,8\\} \\wedge j < i \\bigr\\} \n",
    "  $$\n",
    "  specifies that there is at most on queen in a given column.\n",
    "- The condition\n",
    "  $$ \\bigl\\{ |\\texttt{Q}_i - \\texttt{Q}_j| \\not= |i - j| \\;\\bigm|\\; \n",
    "     i \\in \\{1,\\cdots,8\\} \\wedge j \\in \\{1,\\cdots,8\\} \\wedge j < i \\bigr\\}\n",
    "  $$\n",
    "  specifies that there is at most one queen in a given diagonal."
   ]
  },
  {
   "cell_type": "code",
   "execution_count": null,
   "metadata": {},
   "outputs": [],
   "source": [
    "def queens_CSP():\n",
    "        \"Returns a CSP coding the 8 queens problem.\"\n",
    "        S                  = range(1, 8+1)          # used as indices\n",
    "        Variables          = [ f'Q{i}' for i in S ]\n",
    "        Values             = { 1, 2, 3, 4, 5, 6, 7, 8 }\n",
    "        DifferentColumns   = { f'Q{i} != Q{j}' for i in S for j in S if i < j }\n",
    "        DifferentDiagonals = { f'abs(Q{i}-Q{j}) != {i-j}' for i in S for j in S if j < i }\n",
    "        return Variables, Values, DifferentColumns | DifferentDiagonals"
   ]
  },
  {
   "cell_type": "markdown",
   "metadata": {},
   "source": [
    "Execute the next cell if you want to find a single solution to the problem."
   ]
  },
  {
   "cell_type": "code",
   "execution_count": null,
   "metadata": {},
   "outputs": [],
   "source": [
    "%run 02-Backtracking-Constraint-Solver.ipynb"
   ]
  },
  {
   "cell_type": "markdown",
   "metadata": {},
   "source": [
    "Next, we create a *CSP* that encodes the *8-queens-puzzle*."
   ]
  },
  {
   "cell_type": "code",
   "execution_count": null,
   "metadata": {
    "scrolled": false
   },
   "outputs": [],
   "source": [
    "CSP = queens_CSP()\n",
    "CSP"
   ]
  },
  {
   "cell_type": "markdown",
   "metadata": {},
   "source": [
    "This *CSP* has 8 variables and 56 constraints.  When we solved the same problem using propositional logic and the *Davis-Putnam algorithm*, we had used 64 propositional variables and 512 clauses."
   ]
  },
  {
   "cell_type": "code",
   "execution_count": null,
   "metadata": {},
   "outputs": [],
   "source": [
    "len(CSP[0]), len(CSP[2])"
   ]
  },
  {
   "cell_type": "markdown",
   "metadata": {},
   "source": [
    "On my desktop computer (2023 MacStudio with M2 Max processor) it takes about 50 ms to solve the problem. "
   ]
  },
  {
   "cell_type": "code",
   "execution_count": null,
   "metadata": {},
   "outputs": [],
   "source": [
    "%%time\n",
    "Solution = solve(CSP)\n",
    "Solution"
   ]
  },
  {
   "cell_type": "markdown",
   "metadata": {},
   "source": [
    "The following code requires that you install `chess-problem-visuals`, which is a package provided by *Philipp Polland*.  This package can be installed into the environment `ai` with the following command:\n",
    "```\n",
    "pip install git+https://github.com/reclinarka/chess-problem-visuals\n",
    "```\n",
    "The following line performs this installation inside the jupyter notebook.\n",
    "Once you have executed this line once, you can comment it."
   ]
  },
  {
   "cell_type": "code",
   "execution_count": null,
   "metadata": {},
   "outputs": [],
   "source": [
    "!pip install git+https://github.com/reclinarka/chess-problem-visuals"
   ]
  },
  {
   "cell_type": "code",
   "execution_count": null,
   "metadata": {},
   "outputs": [],
   "source": [
    "import chess_problem_visuals as cpv"
   ]
  },
  {
   "cell_type": "markdown",
   "metadata": {},
   "source": [
    "The function `show_solution(Solution, width)` takes a dictionary that contains a variable assignment that represents a solution to the 8-queens puzzle.  It displays this Solution on a chess board.\n",
    "* `Solution` is a dictionary mapping the variables $\\texttt{V}_i$ to numbers.\n",
    "  If $\\texttt{Solution[V}_i\\texttt{]} = k$, then the queen in row $i$ is placed in column $k$.\n",
    "* `width` specifies the size of the board as a percentage of the width of notebook.  "
   ]
  },
  {
   "cell_type": "code",
   "execution_count": null,
   "metadata": {},
   "outputs": [],
   "source": [
    "def show_solution(Solution, n, width=\"50%\"):\n",
    "    Queens = [None for col in range(n)]\n",
    "    board  = cpv.Board(n, html_width=width)\n",
    "    for row in range(n):\n",
    "        col = Solution.get('Q'+str(row+1), None)\n",
    "        if col != None:\n",
    "            board.add_piece((col-1, row), 'Q')\n",
    "    return board"
   ]
  },
  {
   "cell_type": "code",
   "execution_count": null,
   "metadata": {},
   "outputs": [],
   "source": [
    "show_solution(Solution, 8)"
   ]
  },
  {
   "cell_type": "markdown",
   "metadata": {},
   "source": [
    "If we would use a brute force approach that checks permutations, we would have to check $8! = 40\\,320$ different configurations.  "
   ]
  },
  {
   "cell_type": "code",
   "execution_count": null,
   "metadata": {},
   "outputs": [],
   "source": [
    "import math"
   ]
  },
  {
   "cell_type": "code",
   "execution_count": null,
   "metadata": {},
   "outputs": [],
   "source": [
    "math.factorial(8)"
   ]
  },
  {
   "cell_type": "code",
   "execution_count": null,
   "metadata": {},
   "outputs": [],
   "source": []
  }
 ],
 "metadata": {
  "hide_input": false,
  "kernelspec": {
   "display_name": "Python 3 (ipykernel)",
   "language": "python",
   "name": "python3"
  },
  "language_info": {
   "codemirror_mode": {
    "name": "ipython",
    "version": 3
   },
   "file_extension": ".py",
   "mimetype": "text/x-python",
   "name": "python",
   "nbconvert_exporter": "python",
   "pygments_lexer": "ipython3",
   "version": "3.13.2"
  },
  "toc": {
   "base_numbering": 1,
   "nav_menu": {},
   "number_sections": true,
   "sideBar": true,
   "skip_h1_title": false,
   "title_cell": "Table of Contents",
   "title_sidebar": "Contents",
   "toc_cell": false,
   "toc_position": {},
   "toc_section_display": true,
   "toc_window_display": false
  },
  "varInspector": {
   "cols": {
    "lenName": 16,
    "lenType": 16,
    "lenVar": 40
   },
   "kernels_config": {
    "python": {
     "delete_cmd_postfix": "",
     "delete_cmd_prefix": "del ",
     "library": "var_list.py",
     "varRefreshCmd": "print(var_dic_list())"
    },
    "r": {
     "delete_cmd_postfix": ") ",
     "delete_cmd_prefix": "rm(",
     "library": "var_list.r",
     "varRefreshCmd": "cat(var_dic_list()) "
    }
   },
   "types_to_exclude": [
    "module",
    "function",
    "builtin_function_or_method",
    "instance",
    "_Feature"
   ],
   "window_display": false
  }
 },
 "nbformat": 4,
 "nbformat_minor": 4
}
