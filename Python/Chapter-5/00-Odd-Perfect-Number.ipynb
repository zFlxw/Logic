{
 "cells": [
  {
   "cell_type": "code",
   "execution_count": null,
   "id": "06fcd38b",
   "metadata": {},
   "outputs": [],
   "source": [
    "from IPython.display import HTML\n",
    "HTML(open('../style.css', 'r').read())"
   ]
  },
  {
   "cell_type": "code",
   "execution_count": null,
   "id": "78d4711f-fc5c-4abe-9c3d-797b98cbfee3",
   "metadata": {},
   "outputs": [],
   "source": [
    "%load_ext nb_mypy"
   ]
  },
  {
   "cell_type": "markdown",
   "id": "c4a06281-f6e6-44ef-aa73-8140c49a2df3",
   "metadata": {},
   "source": [
    "A natural number $n$ is perfect if $n$ is equal to the sum of its proper divisors:\n",
    "$$ \\sum \\bigl\\{t \\mid t \\in \\{1,\\cdots, n-1\\} \\wedge n \\;\\%\\; t = 0 \\bigr\\}  = n $$\n",
    "For example, $6$ is perfect, because $6 = 1 + 2 + 3$, but $8$ is not perfect, because \n",
    "$1 + 2 + 4 = 7 \\not= 8$."
   ]
  },
  {
   "cell_type": "code",
   "execution_count": null,
   "id": "03a6a7c6-7937-47c1-a4e2-0520dd39e6d4",
   "metadata": {},
   "outputs": [],
   "source": [
    "def perfect(n: int) -> bool:\n",
    "    return sum({ t for t in range(1, n) if n % t == 0 }) == n "
   ]
  },
  {
   "cell_type": "code",
   "execution_count": null,
   "id": "83d52349-713f-4725-b2ee-c9102bc509a7",
   "metadata": {},
   "outputs": [],
   "source": [
    "perfect(6)"
   ]
  },
  {
   "cell_type": "code",
   "execution_count": null,
   "id": "8802287a-f419-4a4f-a74a-1c38da54ced5",
   "metadata": {},
   "outputs": [],
   "source": [
    "perfect(8)"
   ]
  },
  {
   "cell_type": "code",
   "execution_count": null,
   "id": "a26c335b-b382-4063-a586-eb7978c3905b",
   "metadata": {},
   "outputs": [],
   "source": [
    "def findOddPerfect() -> int | None:\n",
    "    n = 1\n",
    "    while True:\n",
    "        if perfect(n):\n",
    "            return n\n",
    "        if n % 1000 == 1:\n",
    "            print(n)\n",
    "        n += 2"
   ]
  },
  {
   "cell_type": "code",
   "execution_count": null,
   "id": "9a4e6771-7323-4075-9360-b8c986f3df28",
   "metadata": {},
   "outputs": [],
   "source": [
    "findOddPerfect()"
   ]
  },
  {
   "cell_type": "code",
   "execution_count": null,
   "id": "94a51661-cf49-4334-8c37-51bdcb8fea62",
   "metadata": {},
   "outputs": [],
   "source": []
  }
 ],
 "metadata": {
  "kernelspec": {
   "display_name": "Python 3 (ipykernel)",
   "language": "python",
   "name": "python3"
  },
  "language_info": {
   "codemirror_mode": {
    "name": "ipython",
    "version": 3
   },
   "file_extension": ".py",
   "mimetype": "text/x-python",
   "name": "python",
   "nbconvert_exporter": "python",
   "pygments_lexer": "ipython3",
   "version": "3.13.2"
  }
 },
 "nbformat": 4,
 "nbformat_minor": 5
}
