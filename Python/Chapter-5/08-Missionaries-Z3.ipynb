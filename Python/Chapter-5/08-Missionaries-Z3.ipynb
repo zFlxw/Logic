{
 "cells": [
  {
   "cell_type": "code",
   "execution_count": null,
   "metadata": {},
   "outputs": [],
   "source": [
    "from IPython.display import HTML\n",
    "HTML(open('../style.css', 'r').read())"
   ]
  },
  {
   "cell_type": "markdown",
   "metadata": {},
   "source": [
    "# Saving the Infidels\n",
    "\n",
    "In this notebook we want so solve a famous search problem, which is usually known as the\n",
    "[missionaries and cannibals problem](https://en.wikipedia.org/wiki/Missionaries_and_cannibals_problem):\n",
    "Three missionaries and three infidels have to cross a river in order to get to a church where the infidels can be baptized.  In order to cross the river, they have to take a small boat that can take at most two passengers.  If at any moments at any shore there are more infidels than missionaries, then the missionaries have a problem, since the infidels have a diet that includes human flesh.\n",
    "\n",
    "We will encode this problem as a *constraint satisfaction problem*.  In order to do so, we assume that the\n",
    "problem can be solved with $n\\in\\mathbb{N}$ crossing of the river.  We use the following variables:\n",
    "* $\\texttt{M}i$ for $i\\in\\{0,\\cdots,n\\}$ is the number of missionaries on the western shore after the \n",
    "  $i^{\\textrm{th}}$ crossing.\n",
    "* $\\texttt{C}i$ for $i\\in\\{0,\\cdots,n\\}$ is the number of infidels on the western shore after the \n",
    "  $i^{\\textrm{th}}$ crossing.\n",
    "* $\\texttt{B}i$ for $i\\in\\{0,\\cdots,n\\}$ is the number of boats on the western shore after the \n",
    "  $i^{\\textrm{th}}$ crossing."
   ]
  },
  {
   "cell_type": "code",
   "execution_count": null,
   "metadata": {},
   "outputs": [],
   "source": [
    "!pip install z3-solver"
   ]
  },
  {
   "cell_type": "code",
   "execution_count": null,
   "metadata": {},
   "outputs": [],
   "source": [
    "import z3"
   ]
  },
  {
   "cell_type": "markdown",
   "metadata": {},
   "source": [
    "## Auxiliary Functions"
   ]
  },
  {
   "cell_type": "markdown",
   "metadata": {},
   "source": [
    "The symbolic transition system uses 3 variables.\n",
    "* `M` is the number of missionaries on the left side of the river,\n",
    "* `C` is the number of infidels on the left side of the river,\n",
    "* `B` is the number of boats on the left side of the river:"
   ]
  },
  {
   "cell_type": "code",
   "execution_count": null,
   "metadata": {},
   "outputs": [],
   "source": [
    "M = z3.Int('M')\n",
    "C = z3.Int('C')\n",
    "B = z3.Int('B')"
   ]
  },
  {
   "cell_type": "markdown",
   "metadata": {},
   "source": [
    "The function `start` takes three `Z3` variables as input:\n",
    "* `M` is the number of missionaries on the western shore,\n",
    "* `C` is the number of infidels on the western shore,\n",
    "* `B` is the number of boats on the western shore.\n",
    "\n",
    "It returns a formula that specifies that everybody is on the western shore."
   ]
  },
  {
   "cell_type": "code",
   "execution_count": null,
   "metadata": {},
   "outputs": [],
   "source": [
    "def start(M, C, B):\n",
    "    return z3.And(M == 3, C == 3, B == 1)"
   ]
  },
  {
   "cell_type": "code",
   "execution_count": null,
   "metadata": {},
   "outputs": [],
   "source": [
    "start(M, C, B)"
   ]
  },
  {
   "cell_type": "markdown",
   "metadata": {},
   "source": [
    "The function `goal` takes three `Z3` variables as input:\n",
    "* `M` is the number of missionaries on the western shore,\n",
    "* `C` is the number of infidels on the western shore,\n",
    "* `B` is the number of boats on the western shore.\n",
    "\n",
    "It returns a formual that specifies that everybody is on the eastern shore."
   ]
  },
  {
   "cell_type": "code",
   "execution_count": null,
   "metadata": {},
   "outputs": [],
   "source": [
    "def goal(M, C, B):\n",
    "    return z3.And(M == 0, C == 0, B == 0)"
   ]
  },
  {
   "cell_type": "markdown",
   "metadata": {},
   "source": [
    "The function `invariant` takes three `Z3` variables as input:\n",
    "* `M` is the number of missionaries on the western shore,\n",
    "* `C` is the number of infidels on the western shore,\n",
    "* `B` is the number of boats on the western shore.\n",
    "\n",
    "It returns a formula that is `True` if there is no problem on either shore of the river.  There is no problem if any of the following conditions is true:\n",
    "* There are no missionaries on the western side of the shore, i.e. \n",
    "  $\\texttt{M} = 0$.  \n",
    "  Then all missionaries are on the eastern side of the shore.\n",
    "* All missionaries are on the western side of the shore, i.e. $\\texttt{M} = 3$.\n",
    "  Then there are no missionaries on the eastern side of the shore.\n",
    "* The number of missionaries on the western side is the same as the number of \n",
    "  infidels on that side, i.e. $\\texttt{M} = \\texttt{C}$.  Then the numbers of \n",
    "  missionaries and infidels have to match on the eastern shore as well."
   ]
  },
  {
   "cell_type": "code",
   "execution_count": null,
   "metadata": {},
   "outputs": [],
   "source": [
    "def invariant(M, C, B):\n",
    "    return { z3.Or(M == 0, M == 3, M == C),\n",
    "             0 <= M, M <= 3,\n",
    "             0 <= C, C <= 3,\n",
    "             0 <= B, B <= 1 }"
   ]
  },
  {
   "cell_type": "code",
   "execution_count": null,
   "metadata": {},
   "outputs": [],
   "source": [
    "for constraint in invariant(M, C, B):\n",
    "    print(repr(constraint))"
   ]
  },
  {
   "cell_type": "markdown",
   "metadata": {},
   "source": [
    "The function `transition` takes 6 arguments:\n",
    "* `M𝛼` is the number of missionaries on the eastern shore before the crossing.\n",
    "* `C𝛼` is the number of infidels on the eastern shore before the crossing.\n",
    "* `B𝛼` is the number of boats on the eastern shore before the crossing. \n",
    "* `M𝛽` is the number of missionaries on the eastern shore after the crossing.\n",
    "* `C𝛽` is the number of infidels on the eastern shore after the crossing.\n",
    "* `B𝛽` is the number of infidels on the eastern shore after the crossing.\n",
    "\n",
    "The function returns a set of formulas that is `True` if the missionaries starting on one shore arrive at the opposite  shore after the $i^{\\textrm{th}}$ crossing.  Note that if $i$ is odd, then during the $i^{\\textrm{th}}$ crossing the boat travels from the western shore to the eastern shore.  If $i$ is even, the boat travels from the eastern shore to the western shore."
   ]
  },
  {
   "cell_type": "code",
   "execution_count": null,
   "metadata": {},
   "outputs": [],
   "source": [
    "def boatOK(M𝛼, C𝛼, B𝛼, M𝛽, C𝛽, B𝛽):\n",
    "    return { z3.Implies(B𝛼 == 1, z3.And(1 <= M𝛼 - M𝛽 + C𝛼 - C𝛽, \n",
    "                                        2 >= M𝛼 - M𝛽 + C𝛼 - C𝛽,\n",
    "                                        M𝛽 <= M𝛼, \n",
    "                                        C𝛽 <= C𝛼)\n",
    "                       ) \n",
    "           }"
   ]
  },
  {
   "cell_type": "code",
   "execution_count": null,
   "metadata": {},
   "outputs": [],
   "source": [
    "MX = z3.Int('MX')\n",
    "CX = z3.Int('CX')\n",
    "BX = z3.Int('BX')\n",
    "boatOK(M, C, B, MX, CX, BX)"
   ]
  },
  {
   "cell_type": "code",
   "execution_count": null,
   "metadata": {},
   "outputs": [],
   "source": [
    "def transition(M𝛼, C𝛼, B𝛼, M𝛽, C𝛽, B𝛽):\n",
    "    Formulas  = { B𝛽 == 1 - B𝛼 }\n",
    "    Formulas |= boatOK(M𝛼, C𝛼, B𝛼, M𝛽, C𝛽, B𝛽) | boatOK(M𝛽, C𝛽, B𝛽, M𝛼, C𝛼, B𝛼)\n",
    "    return Formulas"
   ]
  },
  {
   "cell_type": "code",
   "execution_count": null,
   "metadata": {},
   "outputs": [],
   "source": [
    "transition(M, C, B, MX, CX, BX)"
   ]
  },
  {
   "cell_type": "markdown",
   "metadata": {},
   "source": [
    "The function `missionaries_CSP` creates a CSP that tries to solve the problem with `n` crossings."
   ]
  },
  {
   "cell_type": "code",
   "execution_count": null,
   "metadata": {},
   "outputs": [],
   "source": [
    "def missionaries_CSP(n):\n",
    "    S = z3.Solver()\n",
    "    Ms = [z3.Int(f'M{i}') for i in range(n+1)]\n",
    "    Is = [z3.Int(f'C{i}') for i in range(n+1)]\n",
    "    Bs = [z3.Int(f'B{i}') for i in range(n+1)]\n",
    "    Constraints  = { start(Ms[0], Is[0], Bs[0]) }  # start state\n",
    "    Constraints |= { goal( Ms[n], Is[n], Bs[n]) }  # goal state\n",
    "    for i in range(n):\n",
    "        Constraints |= invariant(Ms[i], Is[i], Bs[i]) \n",
    "        Constraints |= transition(Ms[i  ], Is[i  ], Bs[i  ], \n",
    "                                  Ms[i+1], Is[i+1], Bs[i+1])\n",
    "    S.add(Constraints)\n",
    "    result = str(S.check())\n",
    "    if result == 'sat':\n",
    "        Model = S.model()\n",
    "        Solution = (   { f'M{i}': Model[Ms[i]] for i in range(n+1) }\n",
    "                     | { f'C{i}': Model[Is[i]] for i in range(n+1) }\n",
    "                     | { f'B{i}': Model[Bs[i]] for i in range(n+1) }\n",
    "                   )\n",
    "        return { key: Solution[key].as_long() for key in Solution }            "
   ]
  },
  {
   "cell_type": "markdown",
   "metadata": {},
   "source": [
    "The function `find_solution` computes a solution to the problem of saving the infidels."
   ]
  },
  {
   "cell_type": "code",
   "execution_count": null,
   "metadata": {
    "scrolled": true
   },
   "outputs": [],
   "source": [
    "def find_solution():\n",
    "    n = 1\n",
    "    while True:\n",
    "        print(n)\n",
    "        Solution = missionaries_CSP(n)\n",
    "        if Solution != None:\n",
    "            return n, Solution\n",
    "        n += 2"
   ]
  },
  {
   "cell_type": "markdown",
   "metadata": {},
   "source": [
    "On my desktop computer (2017 iMac with 3.4 GHz Quad-Core Intel i5) it takes about 2 seconds to solve the problem. "
   ]
  },
  {
   "cell_type": "code",
   "execution_count": null,
   "metadata": {},
   "outputs": [],
   "source": [
    "%%time\n",
    "n, Solution = find_solution()\n",
    "n, Solution"
   ]
  },
  {
   "cell_type": "code",
   "execution_count": null,
   "metadata": {},
   "outputs": [],
   "source": [
    "def show_solution(Solution, n):\n",
    "    for i in range(n+1):\n",
    "        M = Solution[f'M{i}']\n",
    "        C = Solution[f'C{i}']\n",
    "        B = Solution[f'B{i}']\n",
    "        print('😇' * M + '🥷' * C + ' ' * 28 + '😇' * (3 - M) + '🥷' * (3 - C))\n",
    "        if B == 1:\n",
    "            MB = Solution[f'M{i}'] - Solution[f'M{i+1}']\n",
    "            CB = Solution[f'C{i}'] - Solution[f'C{i+1}']\n",
    "            print(' ' * 12 + '>>> ' + '😇'*MB + '🥷'*CB + ' >>>')\n",
    "        elif i + 1 < n:\n",
    "            MB = Solution[f'M{i+1}'] - Solution[f'M{i}']\n",
    "            CB = Solution[f'C{i+1}'] - Solution[f'C{i}']\n",
    "            print(' ' * 12 + '<<< ' + '😇'*MB + '🥷'*CB + ' <<<')"
   ]
  },
  {
   "cell_type": "code",
   "execution_count": null,
   "metadata": {},
   "outputs": [],
   "source": [
    "show_solution(Solution, n)"
   ]
  },
  {
   "cell_type": "code",
   "execution_count": null,
   "metadata": {},
   "outputs": [],
   "source": []
  }
 ],
 "metadata": {
  "hide_input": false,
  "kernelspec": {
   "display_name": "Python 3 (ipykernel)",
   "language": "python",
   "name": "python3"
  },
  "language_info": {
   "codemirror_mode": {
    "name": "ipython",
    "version": 3
   },
   "file_extension": ".py",
   "mimetype": "text/x-python",
   "name": "python",
   "nbconvert_exporter": "python",
   "pygments_lexer": "ipython3",
   "version": "3.13.2"
  },
  "toc": {
   "base_numbering": 1,
   "nav_menu": {},
   "number_sections": true,
   "sideBar": true,
   "skip_h1_title": false,
   "title_cell": "Table of Contents",
   "title_sidebar": "Contents",
   "toc_cell": false,
   "toc_position": {},
   "toc_section_display": true,
   "toc_window_display": false
  },
  "varInspector": {
   "cols": {
    "lenName": 16,
    "lenType": 16,
    "lenVar": 40
   },
   "kernels_config": {
    "python": {
     "delete_cmd_postfix": "",
     "delete_cmd_prefix": "del ",
     "library": "var_list.py",
     "varRefreshCmd": "print(var_dic_list())"
    },
    "r": {
     "delete_cmd_postfix": ") ",
     "delete_cmd_prefix": "rm(",
     "library": "var_list.r",
     "varRefreshCmd": "cat(var_dic_list()) "
    }
   },
   "types_to_exclude": [
    "module",
    "function",
    "builtin_function_or_method",
    "instance",
    "_Feature"
   ],
   "window_display": false
  }
 },
 "nbformat": 4,
 "nbformat_minor": 4
}
