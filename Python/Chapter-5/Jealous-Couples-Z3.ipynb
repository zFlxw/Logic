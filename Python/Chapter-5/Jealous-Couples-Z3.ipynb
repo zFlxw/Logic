{
 "cells": [
  {
   "cell_type": "code",
   "execution_count": null,
   "metadata": {},
   "outputs": [],
   "source": [
    "from IPython.display import HTML\n",
    "HTML(open('../style.css').read())"
   ]
  },
  {
   "cell_type": "markdown",
   "metadata": {},
   "source": [
    "# Jealous Couples\n",
    "\n",
    "\n",
    "Three couples need to cross a river.  They have to follow the following rules: \n",
    "- The boat can only carry two persons.\n",
    "- At least one person has to be on the boat on every crossing.\n",
    "- The husbands know their wives well and would never leave them with another man, unless they are  present themselves."
   ]
  },
  {
   "cell_type": "markdown",
   "metadata": {},
   "source": [
    "We are going to formulate this problem as a *symbolic transition system*.\n",
    "Then, we can solve the problem using the constraint solver `Z3`.\n",
    "\n",
    "We assume the first couple is called `Anton` and `Doris`, the names of the second couple are\n",
    "`Brian` and `Eliza`, while the last couple is called `Charly` and `Freya`.  Hence we\n",
    "will use the following variables to encode the problem:\n",
    "* `A` equals `1` if `Anton` is on the western shore,\n",
    "* `B` equals `1` if `Brian` is on the western shore,\n",
    "* `C` equals `1` if `Charly` is on the western shore,\n",
    "* `D` equals `1` if `Doris` is on the western shore,\n",
    "* `E` equals `1` if `Eliza` is on the western shore,\n",
    "* `F` equals `1` if `Freya` is on the western shore,\n",
    "* `S` equals `1` if the ship is on the westen shore."
   ]
  },
  {
   "cell_type": "code",
   "execution_count": null,
   "metadata": {},
   "outputs": [],
   "source": [
    "import z3"
   ]
  },
  {
   "cell_type": "code",
   "execution_count": null,
   "metadata": {},
   "outputs": [],
   "source": [
    "A = z3.Int('A')\n",
    "B = z3.Int('B')\n",
    "C = z3.Int('C')\n",
    "D = z3.Int('D')\n",
    "E = z3.Int('E')\n",
    "F = z3.Int('F')\n",
    "S = z3.Int('S')"
   ]
  },
  {
   "cell_type": "markdown",
   "metadata": {},
   "source": [
    "The function `start` returns a set of constrained that describe the initial state."
   ]
  },
  {
   "cell_type": "code",
   "execution_count": null,
   "metadata": {},
   "outputs": [],
   "source": [
    "def start(A, B, C, D, E, F, S):\n",
    "    \"your code here\""
   ]
  },
  {
   "cell_type": "code",
   "execution_count": null,
   "metadata": {},
   "outputs": [],
   "source": [
    "start(A, B, C, D, E, F, S)"
   ]
  },
  {
   "cell_type": "markdown",
   "metadata": {},
   "source": [
    "The function `goal` returns a set of constrained that describe the final state."
   ]
  },
  {
   "cell_type": "code",
   "execution_count": null,
   "metadata": {},
   "outputs": [],
   "source": [
    "def goal(A, B, C, D, E, F, S):\n",
    "    \"your code here\""
   ]
  },
  {
   "cell_type": "code",
   "execution_count": null,
   "metadata": {},
   "outputs": [],
   "source": [
    "goal(A, B, C, D, E, F, S)"
   ]
  },
  {
   "cell_type": "markdown",
   "metadata": {},
   "source": [
    "The function `invariant` returns a set of formulas that need to be true after every transition."
   ]
  },
  {
   "cell_type": "code",
   "execution_count": null,
   "metadata": {},
   "outputs": [],
   "source": [
    "def invariant(A, B, C, D, E, F, S):\n",
    "    \"your code here\""
   ]
  },
  {
   "cell_type": "code",
   "execution_count": null,
   "metadata": {},
   "outputs": [],
   "source": [
    "invariant(A, B, C, D, E, F, S)"
   ]
  },
  {
   "cell_type": "markdown",
   "metadata": {},
   "source": [
    "The function `transition` returns a set of formulas that describe the transitions."
   ]
  },
  {
   "cell_type": "code",
   "execution_count": null,
   "metadata": {},
   "outputs": [],
   "source": [
    "def transition(A, B, C, D, E, F, S, Ax, Bx, Cx, Dx, Ex, Fx, Sx):\n",
    "    \"your code here\""
   ]
  },
  {
   "cell_type": "code",
   "execution_count": null,
   "metadata": {},
   "outputs": [],
   "source": [
    "def jealous_CSP(n):\n",
    "    S = z3.Solver()\n",
    "    As = [z3.Int(f'A{i}') for i in range(n+1)]\n",
    "    Bs = [z3.Int(f'B{i}') for i in range(n+1)]\n",
    "    Cs = [z3.Int(f'C{i}') for i in range(n+1)]\n",
    "    Ds = [z3.Int(f'D{i}') for i in range(n+1)]\n",
    "    Es = [z3.Int(f'E{i}') for i in range(n+1)]\n",
    "    Fs = [z3.Int(f'F{i}') for i in range(n+1)]\n",
    "    Ss = [z3.Int(f'S{i}') for i in range(n+1)]\n",
    "    Cts  = start(As[0], Bs[0], Cs[0], Ds[0], Es[0], Fs[0], Ss[0])\n",
    "    Cts |= goal( As[n], Bs[n], Cs[n], Ds[n], Es[n], Fs[n], Ss[n])\n",
    "    for i in range(n):\n",
    "        j = i+1\n",
    "        Cts |= invariant( As[i], Bs[i], Cs[i], Ds[i], Es[i], Fs[i], Ss[i])\n",
    "        Cts |= transition(As[i], Bs[i], Cs[i], Ds[i], Es[i], Fs[i], Ss[i],\n",
    "                          As[j], Bs[j], Cs[j], Ds[j], Es[j], Fs[j], Ss[j])\n",
    "        Cts.add(0 <= As[i])\n",
    "        Cts.add(0 <= Bs[i])\n",
    "        Cts.add(0 <= Cs[i])\n",
    "        Cts.add(0 <= Ds[i])\n",
    "        Cts.add(0 <= Es[i])\n",
    "        Cts.add(0 <= Fs[i])\n",
    "        Cts.add(0 <= Ss[i])\n",
    "        Cts.add(As[i] <= 1) \n",
    "        Cts.add(Bs[i] <= 1)\n",
    "        Cts.add(Cs[i] <= 1)\n",
    "        Cts.add(Ds[i] <= 1)\n",
    "        Cts.add(Es[i] <= 1)\n",
    "        Cts.add(Fs[i] <= 1)\n",
    "        Cts.add(Ss[i] <= 1)\n",
    "    S.add(Cts)\n",
    "    result = str(S.check())\n",
    "    if result == 'sat':\n",
    "        Model = S.model()\n",
    "        Solution = (   { f'A{i}': Model[As[i]] for i in range(n+1) }\n",
    "                     | { f'B{i}': Model[Bs[i]] for i in range(n+1) }\n",
    "                     | { f'C{i}': Model[Cs[i]] for i in range(n+1) }\n",
    "                     | { f'D{i}': Model[Ds[i]] for i in range(n+1) }\n",
    "                     | { f'E{i}': Model[Es[i]] for i in range(n+1) }\n",
    "                     | { f'F{i}': Model[Fs[i]] for i in range(n+1) }\n",
    "                   )\n",
    "        return { key: Solution[key].as_long() for key in Solution }\n",
    "    else:\n",
    "        return None"
   ]
  },
  {
   "cell_type": "code",
   "execution_count": null,
   "metadata": {},
   "outputs": [],
   "source": [
    "def find_solution():\n",
    "    n = 1\n",
    "    while True:\n",
    "        print(n)\n",
    "        Solution = jealous_CSP(n)\n",
    "        if Solution != None:\n",
    "            return n, Solution\n",
    "        n += 2"
   ]
  },
  {
   "cell_type": "code",
   "execution_count": null,
   "metadata": {
    "scrolled": false
   },
   "outputs": [],
   "source": [
    "%%time\n",
    "n, Solution = find_solution()\n",
    "n, Solution"
   ]
  },
  {
   "cell_type": "markdown",
   "metadata": {},
   "source": [
    "## Auxiliary Code for Pretty Printing"
   ]
  },
  {
   "cell_type": "markdown",
   "metadata": {},
   "source": [
    "The following code is used for printing the path that has been found.  We won't discuss the details of these functions."
   ]
  },
  {
   "cell_type": "code",
   "execution_count": null,
   "metadata": {},
   "outputs": [],
   "source": [
    "def show_solution(Solution, n):\n",
    "    for i in range(n+1):\n",
    "        A = Solution[f'A{i}']\n",
    "        B = Solution[f'B{i}']\n",
    "        C = Solution[f'C{i}']\n",
    "        D = Solution[f'D{i}']\n",
    "        E = Solution[f'E{i}']\n",
    "        F = Solution[f'F{i}']\n",
    "        print('👨'*A+'👨🏼'*B+'👨🏿'*C+'👩'*D+'👩🏼'*E+'👩🏿'*F + ' '*42 + \\\n",
    "              '👨'*(1-A)+'👨🏼'*(1-B)+'👨🏿'*(1-C)+'👩'*(1-D)+'👩🏼'*(1-E)+'👩🏿'*(1-F))\n",
    "        if i % 2 == 0:\n",
    "            AS = Solution[f'A{i}'] - Solution[f'A{i+1}']\n",
    "            BS = Solution[f'B{i}'] - Solution[f'B{i+1}']\n",
    "            CS = Solution[f'C{i}'] - Solution[f'C{i+1}']\n",
    "            DS = Solution[f'D{i}'] - Solution[f'D{i+1}']\n",
    "            ES = Solution[f'E{i}'] - Solution[f'E{i+1}']\n",
    "            FS = Solution[f'F{i}'] - Solution[f'F{i+1}']\n",
    "            print(' '*24+'>>>'+'👨'*AS+'👨🏼'*BS+'👨🏿'*CS+'👩'*DS+'👩🏼'*ES+'👩🏿'*FS+'>>>')\n",
    "        elif i + 1 < n:\n",
    "            AS = Solution[f'A{i+1}'] - Solution[f'A{i}']\n",
    "            BS = Solution[f'B{i+1}'] - Solution[f'B{i}']\n",
    "            CS = Solution[f'C{i+1}'] - Solution[f'C{i}']\n",
    "            DS = Solution[f'D{i+1}'] - Solution[f'D{i}']\n",
    "            ES = Solution[f'E{i+1}'] - Solution[f'E{i}']\n",
    "            FS = Solution[f'F{i+1}'] - Solution[f'F{i}']\n",
    "            print(' '*24+'<<<'+'👨'*AS+'👨🏼'*BS+'👨🏿'*CS+'👩'*DS+'👩🏼'*ES+'👩🏿'*FS+'<<<')"
   ]
  },
  {
   "cell_type": "code",
   "execution_count": null,
   "metadata": {},
   "outputs": [],
   "source": [
    "show_solution(Solution, n)"
   ]
  },
  {
   "cell_type": "code",
   "execution_count": null,
   "metadata": {},
   "outputs": [],
   "source": []
  }
 ],
 "metadata": {
  "kernelspec": {
   "display_name": "Python 3 (ipykernel)",
   "language": "python",
   "name": "python3"
  },
  "language_info": {
   "codemirror_mode": {
    "name": "ipython",
    "version": 3
   },
   "file_extension": ".py",
   "mimetype": "text/x-python",
   "name": "python",
   "nbconvert_exporter": "python",
   "pygments_lexer": "ipython3",
   "version": "3.13.2"
  },
  "toc": {
   "base_numbering": 1,
   "nav_menu": {},
   "number_sections": true,
   "sideBar": true,
   "skip_h1_title": false,
   "title_cell": "Table of Contents",
   "title_sidebar": "Contents",
   "toc_cell": false,
   "toc_position": {},
   "toc_section_display": true,
   "toc_window_display": false
  },
  "varInspector": {
   "cols": {
    "lenName": 16,
    "lenType": 16,
    "lenVar": 40
   },
   "kernels_config": {
    "python": {
     "delete_cmd_postfix": "",
     "delete_cmd_prefix": "del ",
     "library": "var_list.py",
     "varRefreshCmd": "print(var_dic_list())"
    },
    "r": {
     "delete_cmd_postfix": ") ",
     "delete_cmd_prefix": "rm(",
     "library": "var_list.r",
     "varRefreshCmd": "cat(var_dic_list()) "
    }
   },
   "types_to_exclude": [
    "module",
    "function",
    "builtin_function_or_method",
    "instance",
    "_Feature"
   ],
   "window_display": false
  }
 },
 "nbformat": 4,
 "nbformat_minor": 2
}
