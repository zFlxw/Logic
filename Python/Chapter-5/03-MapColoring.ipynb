{
 "cells": [
  {
   "cell_type": "code",
   "execution_count": null,
   "metadata": {},
   "outputs": [],
   "source": [
    "from IPython.display import HTML\n",
    "HTML(open('../style.css', 'r').read())"
   ]
  },
  {
   "cell_type": "markdown",
   "metadata": {},
   "source": [
    "# Map Coloring\n",
    "\n",
    "This short notebook shows how *map coloring* can be formulated as a *constraint satisfaction problem*.\n",
    "In map coloring, the goal is to color the states shown in a given map such that no two bordering states \n",
    "share the same color.  As an example, consider the map of Australia that is shown below.  Australia\n",
    "has seven different states:\n",
    "* [Western Australia](https://en.wikipedia.org/wiki/Western_Australia),\n",
    "* [Northern Territory](https://en.wikipedia.org/wiki/Northern_Territory),\n",
    "* [South Australia](https://en.wikipedia.org/wiki/South_Australia),\n",
    "* [Queensland](https://en.wikipedia.org/wiki/Queensland),\n",
    "* [New South Wales](https://en.wikipedia.org/wiki/New_South_Wales),\n",
    "* [Victoria](https://en.wikipedia.org/wiki/Victoria_(Australia)), and\n",
    "* [Tasmania](https://en.wikipedia.org/wiki/Tasmania).\n",
    "\n",
    "As Tasmania is an island that does not share a border with any of the other states, it can be colored with any given color.\n",
    "\n",
    "<img src=\"australia.png\" alt=\"map of australia\" width=\"500\">"
   ]
  },
  {
   "cell_type": "markdown",
   "metadata": {},
   "source": [
    "The function $\\texttt{map_coloring_csp}()$ returns a CSP that encodes the *map coloring problem* for Australia."
   ]
  },
  {
   "cell_type": "code",
   "execution_count": null,
   "metadata": {},
   "outputs": [],
   "source": [
    "def map_coloring_csp(): \n",
    "    Variables   = [ 'WA', 'NSW', 'T', 'V', 'NT', 'SA', 'Q' ]\n",
    "    Values      = { 'red', 'blue', 'green' }\n",
    "    Constraints = { 'WA != NT', 'WA != SA', \n",
    "                    'NT != SA', 'NT != Q', \n",
    "                    'SA != Q',  'SA != NSW',  'SA != V',\n",
    "                    'Q != NSW', 'NSW != V'\n",
    "                  }\n",
    "    return Variables, Values, Constraints"
   ]
  },
  {
   "cell_type": "code",
   "execution_count": null,
   "metadata": {},
   "outputs": [],
   "source": [
    "csp = map_coloring_csp()\n",
    "csp"
   ]
  },
  {
   "cell_type": "markdown",
   "metadata": {},
   "source": [
    "As there are $3$ different values and $7$ different variables, there are $3^7 = 2187$ different ways to assign values to the variables."
   ]
  },
  {
   "cell_type": "code",
   "execution_count": null,
   "metadata": {},
   "outputs": [],
   "source": [
    "print(3 ** 7)"
   ]
  },
  {
   "cell_type": "markdown",
   "metadata": {},
   "source": [
    "## Visualization"
   ]
  },
  {
   "cell_type": "markdown",
   "metadata": {},
   "source": [
    "The following line needs to be executed once to install the package `problem_visuals`."
   ]
  },
  {
   "cell_type": "code",
   "execution_count": null,
   "metadata": {},
   "outputs": [],
   "source": [
    "!pip install git+https://github.com/reclinarka/problem_visuals"
   ]
  },
  {
   "cell_type": "code",
   "execution_count": null,
   "metadata": {},
   "outputs": [],
   "source": [
    "from problem_visuals.puzzles.coloring.map import Australia"
   ]
  },
  {
   "cell_type": "markdown",
   "metadata": {},
   "source": [
    "The function `show_solution` takes two parameters:\n",
    " * `Solution` is a partial variable assignment, i.e. it is a dictionary\n",
    "   mapping some of the variables to the colors.\n",
    " * `width` specifies the width of the image that will be created,"
   ]
  },
  {
   "cell_type": "code",
   "execution_count": null,
   "metadata": {},
   "outputs": [],
   "source": [
    "def show_solution(Solution, width=\"100%\"):\n",
    "    return Australia(Solution=Solution, html_width=width)"
   ]
  },
  {
   "cell_type": "code",
   "execution_count": null,
   "metadata": {},
   "outputs": [],
   "source": [
    "%run Backtrack-Solver-Animate.ipynb"
   ]
  },
  {
   "cell_type": "code",
   "execution_count": null,
   "metadata": {
    "scrolled": false
   },
   "outputs": [],
   "source": [
    "solve(csp)"
   ]
  },
  {
   "cell_type": "markdown",
   "metadata": {},
   "source": [
    "Below, we have changed the ordering of the variables.  With this new, the constraint solver never needs to backtrack. "
   ]
  },
  {
   "cell_type": "code",
   "execution_count": null,
   "metadata": {},
   "outputs": [],
   "source": [
    "def map_coloring_csp(): \n",
    "    Variables = [ 'WA', 'NT', 'SA', 'Q', 'NSW', 'V', 'T']\n",
    "    Values    = { 'red', 'blue', 'green' }\n",
    "    Constraints = { 'WA != NT', 'WA != SA', \n",
    "                    'NT != SA', 'NT != Q', \n",
    "                    'SA != Q',  'SA != NSW',  'SA != V',\n",
    "                    'Q != NSW', 'NSW != V'\n",
    "                  }\n",
    "    return Variables, Values, Constraints"
   ]
  },
  {
   "cell_type": "code",
   "execution_count": null,
   "metadata": {},
   "outputs": [],
   "source": [
    "csp = map_coloring_csp()\n",
    "solve(csp)"
   ]
  },
  {
   "cell_type": "code",
   "execution_count": null,
   "metadata": {},
   "outputs": [],
   "source": []
  }
 ],
 "metadata": {
  "kernelspec": {
   "display_name": "Python 3 (ipykernel)",
   "language": "python",
   "name": "python3"
  },
  "language_info": {
   "codemirror_mode": {
    "name": "ipython",
    "version": 3
   },
   "file_extension": ".py",
   "mimetype": "text/x-python",
   "name": "python",
   "nbconvert_exporter": "python",
   "pygments_lexer": "ipython3",
   "version": "3.13.2"
  },
  "toc": {
   "base_numbering": 1,
   "nav_menu": {},
   "number_sections": true,
   "sideBar": true,
   "skip_h1_title": false,
   "title_cell": "Table of Contents",
   "title_sidebar": "Contents",
   "toc_cell": false,
   "toc_position": {},
   "toc_section_display": true,
   "toc_window_display": false
  },
  "varInspector": {
   "cols": {
    "lenName": 16,
    "lenType": 16,
    "lenVar": 40
   },
   "kernels_config": {
    "python": {
     "delete_cmd_postfix": "",
     "delete_cmd_prefix": "del ",
     "library": "var_list.py",
     "varRefreshCmd": "print(var_dic_list())"
    },
    "r": {
     "delete_cmd_postfix": ") ",
     "delete_cmd_prefix": "rm(",
     "library": "var_list.r",
     "varRefreshCmd": "cat(var_dic_list()) "
    }
   },
   "types_to_exclude": [
    "module",
    "function",
    "builtin_function_or_method",
    "instance",
    "_Feature"
   ],
   "window_display": false
  }
 },
 "nbformat": 4,
 "nbformat_minor": 4
}
