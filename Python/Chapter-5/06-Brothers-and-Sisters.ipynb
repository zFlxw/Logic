{
 "cells": [
  {
   "cell_type": "code",
   "execution_count": null,
   "id": "01b2a6b2",
   "metadata": {},
   "outputs": [],
   "source": [
    "from IPython.display import HTML\n",
    "HTML(open('../style.css', 'r').read())"
   ]
  },
  {
   "cell_type": "markdown",
   "id": "db7d38ac",
   "metadata": {},
   "source": [
    "# Introducing Z3\n",
    "\n",
    "In this notebook we are going to solve the following exercise using the constraint solver `Z3`.\n",
    "\n",
    "<p>\n",
    "<center style=\"color:blue; background-color:#FED8B1; font-family: Philosopher; font-size:20px; padding: 8px\">\n",
    "    I have as many brothers as I have sisters, but my sister has twice as many brothers as she has sisters.\n",
    "    How many children does my father have?\n",
    "</center>\n",
    "</p>"
   ]
  },
  {
   "cell_type": "markdown",
   "id": "2dc680f6",
   "metadata": {},
   "source": [
    "First, we have to install `Z3`.  This can be achieved via the following command:"
   ]
  },
  {
   "cell_type": "code",
   "execution_count": 1,
   "id": "6aa5bfbd",
   "metadata": {},
   "outputs": [
    {
     "name": "stdout",
     "output_type": "stream",
     "text": [
      "Requirement already satisfied: z3-solver in /Users/stroetmann/anaconda3/envs/logic/lib/python3.12/site-packages (4.13.0.0)\n"
     ]
    }
   ],
   "source": [
    "!pip install z3-solver"
   ]
  },
  {
   "cell_type": "markdown",
   "id": "c4bbf097",
   "metadata": {},
   "source": [
    "Next, we import the Python API of `Z3`. "
   ]
  },
  {
   "cell_type": "code",
   "execution_count": 2,
   "id": "174da55b",
   "metadata": {},
   "outputs": [],
   "source": [
    "import z3"
   ]
  },
  {
   "cell_type": "markdown",
   "id": "7337a62e",
   "metadata": {},
   "source": [
    "In `Z3`, every variable has to be declared.  In this case, all our variables are integer valued.  The function `Int(v)` declares a variable with the name `v`.\n",
    "The object `z3.Int('boys')` is the `Z3` representation of a constraint variable.  We assign this object to the Python variable `boys`. "
   ]
  },
  {
   "cell_type": "code",
   "execution_count": 3,
   "id": "da6dd4d0",
   "metadata": {},
   "outputs": [],
   "source": [
    "boys  = z3.Int('boys')\n",
    "girls = z3.Int('girls')"
   ]
  },
  {
   "cell_type": "markdown",
   "id": "c2625602",
   "metadata": {},
   "source": [
    "Next, we create a *solver* object.  This is a constraint solver capable of solving constraint satisfaction problems."
   ]
  },
  {
   "cell_type": "code",
   "execution_count": 4,
   "id": "211739d3",
   "metadata": {},
   "outputs": [],
   "source": [
    "S = z3.Solver()"
   ]
  },
  {
   "cell_type": "markdown",
   "id": "da3792d0",
   "metadata": {},
   "source": [
    "We can add constraints to this solver object via the method `add`.\n",
    "We will use two variables:\n",
    " - `boys` is the number of my father's sons,\n",
    " - `girls` is the number of my father's daughters.\n",
    " \n",
    "Note that the number of my brothers is `boys - 1` as I am not my own brother.  Similarly, the number of my sister's sisters is `sisters - 1`.\n",
    "So the statement that I have as many brothers as sisters, but my sister has twice as many brothers as she has sisters is formalized as follows:"
   ]
  },
  {
   "cell_type": "code",
   "execution_count": 5,
   "id": "60da9c3e",
   "metadata": {},
   "outputs": [],
   "source": [
    "S.add(boys - 1 == girls)\n",
    "S.add(2 * (girls - 1) == boys)"
   ]
  },
  {
   "cell_type": "markdown",
   "id": "b5c45e51",
   "metadata": {},
   "source": [
    "The method `check` examines whether the given set of constraints is satisfiable.\n",
    "In general, it can return one of the following results:\n",
    "- `sat`   is returned if the problem is solvable, (`sat` is short for *satisfiable*)\n",
    "- `unsat` is returned if the problem is unsatisfiable,\n",
    "- `unknown` is returned if the constraint solver is not powerful enough to solve the given problem.\n",
    "\n",
    "  In contrast to *ChatGPT*, `Z3` does not start to halucinate if it is unable to solve a given problem, but instead clearly states that it was unable to solve the problem."
   ]
  },
  {
   "cell_type": "code",
   "execution_count": 6,
   "id": "ae45fd4e",
   "metadata": {},
   "outputs": [
    {
     "name": "stdout",
     "output_type": "stream",
     "text": [
      "satisfiable\n"
     ]
    }
   ],
   "source": [
    "if str(S.check()) == 'sat':\n",
    "    print('satisfiable')"
   ]
  },
  {
   "cell_type": "markdown",
   "id": "a30cfba0",
   "metadata": {},
   "source": [
    "To extract the solution of the given problem we use the method `model`."
   ]
  },
  {
   "cell_type": "code",
   "execution_count": 7,
   "id": "95f5b419",
   "metadata": {},
   "outputs": [
    {
     "data": {
      "text/html": [
       "[boys = 4, girls = 3]"
      ],
      "text/plain": [
       "[boys = 4, girls = 3]"
      ]
     },
     "execution_count": 7,
     "metadata": {},
     "output_type": "execute_result"
    }
   ],
   "source": [
    "Solution = S.model()\n",
    "Solution"
   ]
  },
  {
   "cell_type": "markdown",
   "id": "dacb4a28",
   "metadata": {},
   "source": [
    "In order to extract the number of boys and girls we can use the dictionary syntax\n",
    "`Solution[boys]` and `Solution[girls]`.  In order to convert these results into \n",
    "Python integers, we use the mehod `as_long`."
   ]
  },
  {
   "cell_type": "code",
   "execution_count": 8,
   "id": "7fd3fe8c",
   "metadata": {},
   "outputs": [],
   "source": [
    "b = Solution[boys ].as_long()\n",
    "g = Solution[girls].as_long()"
   ]
  },
  {
   "cell_type": "code",
   "execution_count": 9,
   "id": "e1f0f5eb",
   "metadata": {},
   "outputs": [
    {
     "name": "stdout",
     "output_type": "stream",
     "text": [
      "My father has 7 children: 4 boys and 3 girls.\n",
      "I have 4 - 1 = 3 brother and 3 sisters.\n",
      "My sister has 3 - 1 = 2 sisters and 4 = 2 * 2  brothers.\n"
     ]
    }
   ],
   "source": [
    "print(f'My father has {b + g} children: {b} boys and {g} girls.')\n",
    "print(f'I have {b} - 1 = {b-1} brother and {g} sisters.')\n",
    "print(f'My sister has {g} - 1 = {g-1} sisters and {b} = 2 * {g-1}  brothers.')"
   ]
  },
  {
   "cell_type": "code",
   "execution_count": null,
   "id": "8596c24c",
   "metadata": {},
   "outputs": [],
   "source": []
  }
 ],
 "metadata": {
  "kernelspec": {
   "display_name": "Python 3 (ipykernel)",
   "language": "python",
   "name": "python3"
  },
  "language_info": {
   "codemirror_mode": {
    "name": "ipython",
    "version": 3
   },
   "file_extension": ".py",
   "mimetype": "text/x-python",
   "name": "python",
   "nbconvert_exporter": "python",
   "pygments_lexer": "ipython3",
   "version": "3.13.2"
  }
 },
 "nbformat": 4,
 "nbformat_minor": 5
}
