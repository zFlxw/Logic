{
 "cells": [
  {
   "cell_type": "code",
   "execution_count": 1,
   "metadata": {},
   "outputs": [
    {
     "data": {
      "text/html": [
       "<link href='http://fonts.googleapis.com/css?family=Alegreya+Sans:100,300,400,500,700,800,900,100italic,300italic,400italic,500italic,700italic,800italic,900italic' rel='stylesheet' type='text/css'>\n",
       "<link href='http://fonts.googleapis.com/css?family=Arvo:400,700,400italic' rel='stylesheet' type='text/css'>\n",
       "<link href='http://fonts.googleapis.com/css?family=PT+Mono' rel='stylesheet' type='text/css'>\n",
       "<link href='http://fonts.googleapis.com/css?family=Shadows+Into+Light' rel='stylesheet' type='text/css'>\n",
       "<link href='http://fonts.googleapis.com/css?family=Philosopher:400,700,400italic,700italic' rel='stylesheet' type='text/css'>\n",
       "\n",
       "<style>\n",
       "\n",
       "@font-face {\n",
       "    font-family: \"Computer Modern\";\n",
       "    src: url('http://mirrors.ctan.org/fonts/cm-unicode/fonts/otf/cmunss.otf');\n",
       "}\n",
       "\n",
       ".container { width: 100% }\n",
       "\n",
       "/* Formatting for header cells */\n",
       ".text_cell_render h1 {\n",
       "    font-family: 'Philosopher', sans-serif;\n",
       "    font-weight: 400;\n",
       "    font-size: 2.2em;\n",
       "    line-height: 100%;\n",
       "    color: rgb(0, 80, 120);\n",
       "    margin-bottom: 0.1em;\n",
       "    margin-top: 0.1em;\n",
       "    display: block;\n",
       "}\t\n",
       ".text_cell_render h2 {\n",
       "    font-family: 'Philosopher', serif;\n",
       "    font-weight: 400;\n",
       "    font-size: 1.9em;\n",
       "    line-height: 100%;\n",
       "    color: rgb(200,100,0);\n",
       "    margin-bottom: 0.1em;\n",
       "    margin-top: 0.1em;\n",
       "    display: block;\n",
       "}\t\n",
       "\n",
       ".text_cell_render h3 {\n",
       "    font-family: 'Philosopher', serif;\n",
       "    margin-top:12px;\n",
       "    margin-bottom: 3px;\n",
       "    font-style: italic;\n",
       "    color: rgb(94,127,192);\n",
       "}\n",
       "\n",
       ".text_cell_render h4 {\n",
       "    font-family: 'Philosopher', serif;\n",
       "}\n",
       "\n",
       ".text_cell_render h5 {\n",
       "    font-family: 'Alegreya Sans', sans-serif;\n",
       "    font-weight: 300;\n",
       "    font-size: 16pt;\n",
       "    color: grey;\n",
       "    font-style: italic;\n",
       "    margin-bottom: .1em;\n",
       "    margin-top: 0.1em;\n",
       "    display: block;\n",
       "}\n",
       "\n",
       ".text_cell_render h6 {\n",
       "    font-family: 'PT Mono', sans-serif;\n",
       "    font-weight: 300;\n",
       "    font-size: 10pt;\n",
       "    color: grey;\n",
       "    margin-bottom: 1px;\n",
       "    margin-top: 1px;\n",
       "}\n",
       "\n",
       ".text_cell_render em {\n",
       "    font-family: 'Philosopher', sans-serif;\n",
       "    color:        blue;\n",
       "    background-color: rgb(255,220,180);\n",
       "    font-size:    110%;\n",
       "    margin-left:   2px;\n",
       "    margin-right:  2px;\n",
       "    font-weight:   100;\n",
       "}\n",
       "\n",
       ".text_cell_render b {\n",
       "    color:            rgb(255,195,195);\n",
       "    background-color: rgb(0,0,0);\n",
       "    font-size:    110%;\n",
       "    margin-left:   2px;\n",
       "    margin-right:  2px;\n",
       "    font-weight:   650;\n",
       "}\n",
       "\n",
       ".text_cell_render tt {\n",
       "    font-size:    120%;\n",
       "    margin-left:   2px;\n",
       "    margin-right:  2px;\n",
       "    font-weight:   150;\n",
       "}\n",
       "\n",
       ".Codemirror {\n",
       "    font-family: \"PT Mono\";\n",
       "    font-size: 100%;\n",
       "}\n",
       "\n",
       "</style>\n",
       "\n"
      ],
      "text/plain": [
       "<IPython.core.display.HTML object>"
      ]
     },
     "execution_count": 1,
     "metadata": {},
     "output_type": "execute_result"
    }
   ],
   "source": [
    "from IPython.display import HTML\n",
    "HTML(open('../style.css').read())"
   ]
  },
  {
   "cell_type": "markdown",
   "metadata": {},
   "source": [
    "# The Bridge and the Torch\n",
    "\n",
    "In the darkness of the night, a group of four individuals encounters a river. A slender bridge stretches before them, capable of accommodating just two people simultaneously. Equipped with a single torch, they must rely on its flickering light to navigate the bridge. Each person possesses a distinct crossing time: Ariela takes 1 minute, Brian takes 2 minutes, Charly takes 5 minutes, and Dumpy takes 8 minutes. It is crucial to note that when two people cross together, they must synchronize their steps with the slower individual's pace. Given the torch's limited lifespan of 15 minutes, the pressing question arises: can all four individuals successfully traverse the bridge?\n",
    "\n",
    "You can find an animation here:\n",
    "http://www.youtube.com/watch?v=7yDmGnA8Hw0\n",
    "\n"
   ]
  },
  {
   "cell_type": "code",
   "execution_count": 2,
   "metadata": {},
   "outputs": [],
   "source": [
    "import z3"
   ]
  },
  {
   "cell_type": "markdown",
   "metadata": {},
   "source": [
    "We need the following variables to encode the problem:\n",
    "* `A` equals `1` if Ariela is on the left shore,\n",
    "* `B` equals `1` if Brian  is on the left shore,\n",
    "* `C` equals `1` if Charly is on the left shore,\n",
    "* `D` equals `1` if Dumpy  is on the left shore,\n",
    "* `T` equals the time that has passed."
   ]
  },
  {
   "cell_type": "markdown",
   "metadata": {},
   "source": [
    "`start` returns a set of constraints that specify that everybody is on the left side of the river."
   ]
  },
  {
   "cell_type": "code",
   "execution_count": 3,
   "metadata": {},
   "outputs": [],
   "source": [
    "def start(A, B, C, D, T):\n",
    "    return z3.And(A == 1, B == 1, C == 1, D == 1, T == 0)"
   ]
  },
  {
   "cell_type": "markdown",
   "metadata": {},
   "source": [
    "`goal` returns a set of constraints that specify that everybody is on the right side of the river."
   ]
  },
  {
   "cell_type": "code",
   "execution_count": 4,
   "metadata": {},
   "outputs": [],
   "source": [
    "def goal(A, B, C, D, T):\n",
    "    return z3.And(A == 0, B == 0, C == 0, D == 0, T == 15)"
   ]
  },
  {
   "cell_type": "markdown",
   "metadata": {},
   "source": [
    "`transition` returns a set of constraints that describe the crossings of the bridge.\n",
    "The variable `i` specifies the number of the crossing.  The first crossing has `i == 0`."
   ]
  },
  {
   "cell_type": "code",
   "execution_count": 6,
   "metadata": {},
   "outputs": [],
   "source": [
    "\n",
    "\n",
    "def transition(A, B, C, D, T, Ax, Bx, Cx, Dx, Tx, i):\n",
    "    \n",
    "    # helper: did X move this step?\n",
    "    movedA = z3.If(A != Ax, 1, 0)\n",
    "    movedB = z3.If(B != Bx, 1, 0)\n",
    "    movedC = z3.If(C != Cx, 1, 0)\n",
    "    movedD = z3.If(D != Dx, 1, 0)\n",
    "\n",
    "    # how many actually moved?\n",
    "    movers = movedA + movedB + movedC + movedD\n",
    "\n",
    "    # direction = +1 for L→R, -1 for R→L\n",
    "    left_to_right = (i % 2 == 0)\n",
    "\n",
    "    # legal-move skeleton shared by all cases\n",
    "    base = lambda: z3.And(\n",
    "        # variables stay Boolean\n",
    "        *(v >= 0 for v in (A,B,C,D,Ax,Bx,Cx,Dx)),\n",
    "        *(v <= 1 for v in (A,B,C,D,Ax,Bx,Cx,Dx)),\n",
    "        # correct number of travellers\n",
    "        movers == (2 if left_to_right else 1)\n",
    "    )\n",
    "\n",
    "    # *** build concrete cases ************************************************\n",
    "    cases = []\n",
    "\n",
    "    # list of people present on the *correct* starting shore\n",
    "    present_left  = [(A,Ax,'A'), (B,Bx,'B'), (C,Cx,'C'), (D,Dx,'D')]\n",
    "    present_right = [(1-a,1-ax,n) for (a,ax,n) in present_left]  # mirror\n",
    "\n",
    "    start_side = present_left  if left_to_right else present_right\n",
    "\n",
    "    for idx1 in range(4):\n",
    "        p1, p1x, n1 = start_side[idx1]\n",
    "        # single-traveller cases (allowed only when torch is on the right)\n",
    "        if not left_to_right:\n",
    "            time = times[n1]\n",
    "            cases.append(z3.And(\n",
    "                base(),\n",
    "                # he really moved\n",
    "                p1 != p1x,\n",
    "                # others stayed\n",
    "                *(q == qx for j,(q,qx,_) in enumerate(start_side) if j!=idx1),\n",
    "                Tx == T + time\n",
    "            ))\n",
    "\n",
    "        # two-traveller cases (allowed only when torch is on the left)\n",
    "        if left_to_right:\n",
    "            for idx2 in range(idx1+1, 4):\n",
    "                p2, p2x, n2 = start_side[idx2]\n",
    "                time = max(times[n1], times[n2])\n",
    "                cases.append(z3.And(\n",
    "                    base(),\n",
    "                    p1 != p1x,  p2 != p2x,                   # these two move\n",
    "                    *(q == qx for j,(q,qx,_) in enumerate(start_side)\n",
    "                       if j not in (idx1, idx2)),           # rest stay\n",
    "                    Tx == T + time\n",
    "                ))\n",
    "\n",
    "    return z3.Or(*cases) \n",
    "        "
   ]
  },
  {
   "cell_type": "raw",
   "metadata": {},
   "source": [
    "`bridge_CSP` tries to solve the problem using `n` crossings of the bridge.\n",
    "If this is possible, a solution is returned that is a dictionary mapping the variables \n",
    "to their values.  Otherwise, `None` is returned."
   ]
  },
  {
   "cell_type": "code",
   "execution_count": 7,
   "metadata": {},
   "outputs": [],
   "source": [
    "def bridge_CSP(n):\n",
    "    S = z3.Solver()\n",
    "    A = [z3.Int(f'A{i}') for i in range(n+1)]\n",
    "    B = [z3.Int(f'B{i}') for i in range(n+1)]\n",
    "    C = [z3.Int(f'C{i}') for i in range(n+1)]\n",
    "    D = [z3.Int(f'D{i}') for i in range(n+1)]\n",
    "    T = [z3.Int(f'T{i}') for i in range(n+1)]\n",
    "    Cts  = start(A[0], B[0], C[0], D[0], T[0])\n",
    "    Cts |= goal( A[n], B[n], C[n], D[n], T[n])\n",
    "    for i in range(n):\n",
    "        j = i+1\n",
    "        Cts |= transition(A[i], B[i], C[i], D[i], T[i],\n",
    "                          A[j], B[j], C[j], D[j], T[j],\n",
    "                          i)\n",
    "        Cts.add(0 <= A[i])\n",
    "        Cts.add(0 <= B[i])\n",
    "        Cts.add(0 <= C[i])\n",
    "        Cts.add(0 <= D[i])\n",
    "        Cts.add(0 <= T[i])\n",
    "        Cts.add(A[i] <= 1) \n",
    "        Cts.add(B[i] <= 1)\n",
    "        Cts.add(C[i] <= 1)\n",
    "        Cts.add(D[i] <= 1)\n",
    "    S.add(Cts)\n",
    "    result = str(S.check())\n",
    "    if result == 'sat':\n",
    "        Model = S.model()\n",
    "        Solution = (   { f'A{i}': Model[A[i]] for i in range(n+1) }\n",
    "                     | { f'B{i}': Model[B[i]] for i in range(n+1) }\n",
    "                     | { f'C{i}': Model[D[i]] for i in range(n+1) }\n",
    "                     | { f'D{i}': Model[C[i]] for i in range(n+1) }\n",
    "                     | { f'T{i}': Model[T[i]] for i in range(n+1) }\n",
    "                   )\n",
    "        return { key: Solution[key].as_long() for key in Solution }\n",
    "    else:\n",
    "        return None"
   ]
  },
  {
   "cell_type": "code",
   "execution_count": 8,
   "metadata": {},
   "outputs": [],
   "source": [
    "def find_solution():\n",
    "    n = 1\n",
    "    while True:\n",
    "        print(n)\n",
    "        Solution = bridge_CSP(n)\n",
    "        if Solution is not None:\n",
    "            return n, Solution\n",
    "        n += 2"
   ]
  },
  {
   "cell_type": "code",
   "execution_count": 9,
   "metadata": {},
   "outputs": [
    {
     "name": "stdout",
     "output_type": "stream",
     "text": [
      "1\n"
     ]
    },
    {
     "ename": "NameError",
     "evalue": "name 'times' is not defined",
     "output_type": "error",
     "traceback": [
      "\u001b[0;31m---------------------------------------------------------------------------\u001b[0m",
      "\u001b[0;31mNameError\u001b[0m                                 Traceback (most recent call last)",
      "File \u001b[0;32m<timed exec>:1\u001b[0m\n",
      "Cell \u001b[0;32mIn[8], line 5\u001b[0m, in \u001b[0;36mfind_solution\u001b[0;34m()\u001b[0m\n\u001b[1;32m      3\u001b[0m \u001b[38;5;28;01mwhile\u001b[39;00m \u001b[38;5;28;01mTrue\u001b[39;00m:\n\u001b[1;32m      4\u001b[0m     \u001b[38;5;28mprint\u001b[39m(n)\n\u001b[0;32m----> 5\u001b[0m     Solution \u001b[38;5;241m=\u001b[39m \u001b[43mbridge_CSP\u001b[49m\u001b[43m(\u001b[49m\u001b[43mn\u001b[49m\u001b[43m)\u001b[49m\n\u001b[1;32m      6\u001b[0m     \u001b[38;5;28;01mif\u001b[39;00m Solution \u001b[38;5;129;01mis\u001b[39;00m \u001b[38;5;129;01mnot\u001b[39;00m \u001b[38;5;28;01mNone\u001b[39;00m:\n\u001b[1;32m      7\u001b[0m         \u001b[38;5;28;01mreturn\u001b[39;00m n, Solution\n",
      "Cell \u001b[0;32mIn[7], line 12\u001b[0m, in \u001b[0;36mbridge_CSP\u001b[0;34m(n)\u001b[0m\n\u001b[1;32m     10\u001b[0m \u001b[38;5;28;01mfor\u001b[39;00m i \u001b[38;5;129;01min\u001b[39;00m \u001b[38;5;28mrange\u001b[39m(n):\n\u001b[1;32m     11\u001b[0m     j \u001b[38;5;241m=\u001b[39m i\u001b[38;5;241m+\u001b[39m\u001b[38;5;241m1\u001b[39m\n\u001b[0;32m---> 12\u001b[0m     Cts \u001b[38;5;241m|\u001b[39m\u001b[38;5;241m=\u001b[39m \u001b[43mtransition\u001b[49m\u001b[43m(\u001b[49m\u001b[43mA\u001b[49m\u001b[43m[\u001b[49m\u001b[43mi\u001b[49m\u001b[43m]\u001b[49m\u001b[43m,\u001b[49m\u001b[43m \u001b[49m\u001b[43mB\u001b[49m\u001b[43m[\u001b[49m\u001b[43mi\u001b[49m\u001b[43m]\u001b[49m\u001b[43m,\u001b[49m\u001b[43m \u001b[49m\u001b[43mC\u001b[49m\u001b[43m[\u001b[49m\u001b[43mi\u001b[49m\u001b[43m]\u001b[49m\u001b[43m,\u001b[49m\u001b[43m \u001b[49m\u001b[43mD\u001b[49m\u001b[43m[\u001b[49m\u001b[43mi\u001b[49m\u001b[43m]\u001b[49m\u001b[43m,\u001b[49m\u001b[43m \u001b[49m\u001b[43mT\u001b[49m\u001b[43m[\u001b[49m\u001b[43mi\u001b[49m\u001b[43m]\u001b[49m\u001b[43m,\u001b[49m\n\u001b[1;32m     13\u001b[0m \u001b[43m                      \u001b[49m\u001b[43mA\u001b[49m\u001b[43m[\u001b[49m\u001b[43mj\u001b[49m\u001b[43m]\u001b[49m\u001b[43m,\u001b[49m\u001b[43m \u001b[49m\u001b[43mB\u001b[49m\u001b[43m[\u001b[49m\u001b[43mj\u001b[49m\u001b[43m]\u001b[49m\u001b[43m,\u001b[49m\u001b[43m \u001b[49m\u001b[43mC\u001b[49m\u001b[43m[\u001b[49m\u001b[43mj\u001b[49m\u001b[43m]\u001b[49m\u001b[43m,\u001b[49m\u001b[43m \u001b[49m\u001b[43mD\u001b[49m\u001b[43m[\u001b[49m\u001b[43mj\u001b[49m\u001b[43m]\u001b[49m\u001b[43m,\u001b[49m\u001b[43m \u001b[49m\u001b[43mT\u001b[49m\u001b[43m[\u001b[49m\u001b[43mj\u001b[49m\u001b[43m]\u001b[49m\u001b[43m,\u001b[49m\n\u001b[1;32m     14\u001b[0m \u001b[43m                      \u001b[49m\u001b[43mi\u001b[49m\u001b[43m)\u001b[49m\n\u001b[1;32m     15\u001b[0m     Cts\u001b[38;5;241m.\u001b[39madd(\u001b[38;5;241m0\u001b[39m \u001b[38;5;241m<\u001b[39m\u001b[38;5;241m=\u001b[39m A[i])\n\u001b[1;32m     16\u001b[0m     Cts\u001b[38;5;241m.\u001b[39madd(\u001b[38;5;241m0\u001b[39m \u001b[38;5;241m<\u001b[39m\u001b[38;5;241m=\u001b[39m B[i])\n",
      "Cell \u001b[0;32mIn[6], line 51\u001b[0m, in \u001b[0;36mtransition\u001b[0;34m(A, B, C, D, T, Ax, Bx, Cx, Dx, Tx, i)\u001b[0m\n\u001b[1;32m     49\u001b[0m         \u001b[38;5;28;01mfor\u001b[39;00m idx2 \u001b[38;5;129;01min\u001b[39;00m \u001b[38;5;28mrange\u001b[39m(idx1\u001b[38;5;241m+\u001b[39m\u001b[38;5;241m1\u001b[39m, \u001b[38;5;241m4\u001b[39m):\n\u001b[1;32m     50\u001b[0m             p2, p2x, n2 \u001b[38;5;241m=\u001b[39m start_side[idx2]\n\u001b[0;32m---> 51\u001b[0m             time \u001b[38;5;241m=\u001b[39m \u001b[38;5;28mmax\u001b[39m(\u001b[43mtimes\u001b[49m[n1], times[n2])\n\u001b[1;32m     52\u001b[0m             cases\u001b[38;5;241m.\u001b[39mappend(z3\u001b[38;5;241m.\u001b[39mAnd(\n\u001b[1;32m     53\u001b[0m                 base(),\n\u001b[1;32m     54\u001b[0m                 p1 \u001b[38;5;241m!=\u001b[39m p1x,  p2 \u001b[38;5;241m!=\u001b[39m p2x,                   \u001b[38;5;66;03m# these two move\u001b[39;00m\n\u001b[0;32m   (...)\u001b[0m\n\u001b[1;32m     57\u001b[0m                 Tx \u001b[38;5;241m==\u001b[39m T \u001b[38;5;241m+\u001b[39m time\n\u001b[1;32m     58\u001b[0m             ))\n\u001b[1;32m     60\u001b[0m \u001b[38;5;28;01mreturn\u001b[39;00m z3\u001b[38;5;241m.\u001b[39mOr(\u001b[38;5;241m*\u001b[39mcases)\n",
      "\u001b[0;31mNameError\u001b[0m: name 'times' is not defined"
     ]
    }
   ],
   "source": [
    "%%time\n",
    "n, Solution = find_solution()\n",
    "n, Solution"
   ]
  },
  {
   "cell_type": "code",
   "execution_count": null,
   "metadata": {},
   "outputs": [],
   "source": [
    "def show_solution(Solution, n):\n",
    "    for i in range(n+1):\n",
    "        A = Solution[f'A{i}']\n",
    "        B = Solution[f'B{i}']\n",
    "        C = Solution[f'C{i}']\n",
    "        D = Solution[f'D{i}']\n",
    "        T = Solution[f'T{i}']\n",
    "        print('🏃‍♀️'*A+'🏃🏽‍♂️'*B+'🚶🏽‍♂️'*C+'👨‍🦽'*D + ' '*42 + \\\n",
    "              '🏃‍♀️'*(1-A)+'🏃🏽‍♂️'*(1-B)+'🚶🏽‍♂️'*(1-C)+'👨‍🦽'*(1-D))\n",
    "        print(f'🕰️{T}')\n",
    "        if i % 2 == 0:\n",
    "            PS = Solution[f'A{i}'] - Solution[f'A{i+1}']\n",
    "            BS = Solution[f'B{i}'] - Solution[f'B{i+1}']\n",
    "            CS = Solution[f'C{i}'] - Solution[f'C{i+1}']\n",
    "            FS = Solution[f'D{i}'] - Solution[f'D{i+1}']\n",
    "            TS = Solution[f'T{i+1}']\n",
    "            print(' '*24+'>> '+'🏃‍♀️'*PS+'🏃🏽‍♂️'*BS+'🚶🏽‍♂️'*CS+'👨‍🦽'*FS+' >>')\n",
    "        elif i + 1 < n:\n",
    "            PS = Solution[f'A{i+1}'] - Solution[f'A{i}']\n",
    "            BS = Solution[f'B{i+1}'] - Solution[f'B{i}']\n",
    "            CS = Solution[f'C{i+1}'] - Solution[f'C{i}']\n",
    "            FS = Solution[f'D{i+1}'] - Solution[f'D{i}']\n",
    "            TS = Solution[f'T{i}']\n",
    "            print(' '*24+'<< '+'🏃‍♀️'*PS+'🏃🏽‍♂️'*BS+'🚶🏽‍♂️'*CS+'👨‍🦽'*FS+' <<')"
   ]
  },
  {
   "cell_type": "code",
   "execution_count": null,
   "metadata": {},
   "outputs": [],
   "source": [
    "show_solution(Solution, n)"
   ]
  },
  {
   "cell_type": "code",
   "execution_count": null,
   "metadata": {},
   "outputs": [],
   "source": []
  }
 ],
 "metadata": {
  "kernelspec": {
   "display_name": "Python 3 (ipykernel)",
   "language": "python",
   "name": "python3"
  },
  "language_info": {
   "codemirror_mode": {
    "name": "ipython",
    "version": 3
   },
   "file_extension": ".py",
   "mimetype": "text/x-python",
   "name": "python",
   "nbconvert_exporter": "python",
   "pygments_lexer": "ipython3",
   "version": "3.13.3"
  }
 },
 "nbformat": 4,
 "nbformat_minor": 4
}
