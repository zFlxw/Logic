{
 "cells": [
  {
   "cell_type": "code",
   "execution_count": null,
   "metadata": {},
   "outputs": [],
   "source": [
    "from IPython.display import HTML\n",
    "HTML(open('../style.css', 'r').read())"
   ]
  },
  {
   "cell_type": "markdown",
   "metadata": {},
   "source": [
    "# The Bridge and the Torch\n",
    "\n",
    "In the darkness of the night, a group of four individuals encounters a river. A slender bridge stretches before them, capable of accommodating just two people simultaneously. Equipped with a single torch, they must rely on its flickering light to navigate the bridge. Each person possesses a distinct crossing time: Ariela takes 1 minute, Brian takes 2 minutes, Charly takes 5 minutes, and Dumpy takes 8 minutes. It is crucial to note that when two people cross together, they must synchronize their steps with the slower individual's pace. Given the torch's limited lifespan of 15 minutes, the pressing question arises: can all four individuals successfully traverse the bridge?"
   ]
  },
  {
   "cell_type": "code",
   "execution_count": null,
   "metadata": {},
   "outputs": [],
   "source": [
    "import z3"
   ]
  },
  {
   "cell_type": "markdown",
   "metadata": {},
   "source": [
    "We need the following variables to encode the problem:\n",
    "* `A` equals `1` if Ariela is on the left shore,\n",
    "* `B` equals `1` if Brian  is on the left shore,\n",
    "* `C` equals `1` if Charly is on the left shore,\n",
    "* `D` equals `1` if Dumpy  is on the left shore,\n",
    "* `T` equals the time that has passed."
   ]
  },
  {
   "cell_type": "markdown",
   "metadata": {},
   "source": [
    "`start` returns a set of constraints that specify that everybody is on the left side of the river."
   ]
  },
  {
   "cell_type": "code",
   "execution_count": null,
   "metadata": {},
   "outputs": [],
   "source": [
    "def start(A, B, C, D, T):\n",
    "    \"your code here\""
   ]
  },
  {
   "cell_type": "markdown",
   "metadata": {},
   "source": [
    "`goal` returns a set of constraints that specify that everybody is on the right side of the river."
   ]
  },
  {
   "cell_type": "code",
   "execution_count": null,
   "metadata": {},
   "outputs": [],
   "source": [
    "def goal(A, B, C, D, T):\n",
    "    \"your code here\""
   ]
  },
  {
   "cell_type": "markdown",
   "metadata": {},
   "source": [
    "`transition` returns a set of constraints that describe the crossings of the bridge.\n",
    "The variable `i` specifies the number of the crossing.  The first crossing has `i == 0`."
   ]
  },
  {
   "cell_type": "code",
   "execution_count": null,
   "metadata": {},
   "outputs": [],
   "source": [
    "def transition(A, B, C, D, T, Ax, Bx, Cx, Dx, Tx, i):\n",
    "    \"your code here\""
   ]
  },
  {
   "cell_type": "markdown",
   "metadata": {},
   "source": [
    "`bridge_CSP` tries to solve the problem using `n` crossings of the bridge.\n",
    "If this is possible, a solution is returned that is a dictionary mapping the variables \n",
    "to their values.  Otherwise, `None` is returned."
   ]
  },
  {
   "cell_type": "code",
   "execution_count": null,
   "metadata": {},
   "outputs": [],
   "source": [
    "def bridge_CSP(n):\n",
    "    S = z3.Solver()\n",
    "    A = [z3.Int(f'A{i}') for i in range(n+1)]\n",
    "    B = [z3.Int(f'B{i}') for i in range(n+1)]\n",
    "    C = [z3.Int(f'C{i}') for i in range(n+1)]\n",
    "    D = [z3.Int(f'D{i}') for i in range(n+1)]\n",
    "    T = [z3.Int(f'T{i}') for i in range(n+1)]\n",
    "    Cts  = start(A[0], B[0], C[0], D[0], T[0])\n",
    "    Cts |= goal( A[n], B[n], C[n], D[n], T[n])\n",
    "    for i in range(n):\n",
    "        j = i+1\n",
    "        Cts |= transition(A[i], B[i], C[i], D[i], T[i],\n",
    "                          A[j], B[j], C[j], D[j], T[j],\n",
    "                          i)\n",
    "        Cts.add(0 <= A[i])\n",
    "        Cts.add(0 <= B[i])\n",
    "        Cts.add(0 <= C[i])\n",
    "        Cts.add(0 <= D[i])\n",
    "        Cts.add(0 <= T[i])\n",
    "        Cts.add(A[i] <= 1) \n",
    "        Cts.add(B[i] <= 1)\n",
    "        Cts.add(C[i] <= 1)\n",
    "        Cts.add(D[i] <= 1)\n",
    "    S.add(Cts)\n",
    "    result = str(S.check())\n",
    "    if result == 'sat':\n",
    "        Model = S.model()\n",
    "        Solution = (   { f'A{i}': Model[A[i]] for i in range(n+1) }\n",
    "                     | { f'B{i}': Model[B[i]] for i in range(n+1) }\n",
    "                     | { f'C{i}': Model[D[i]] for i in range(n+1) }\n",
    "                     | { f'D{i}': Model[C[i]] for i in range(n+1) }\n",
    "                     | { f'T{i}': Model[T[i]] for i in range(n+1) }\n",
    "                   )\n",
    "        return { key: Solution[key].as_long() for key in Solution }\n",
    "    else:\n",
    "        return None"
   ]
  },
  {
   "cell_type": "code",
   "execution_count": null,
   "metadata": {},
   "outputs": [],
   "source": [
    "def find_solution():\n",
    "    n = 1\n",
    "    while True:\n",
    "        print(n)\n",
    "        Solution = bridge_CSP(n)\n",
    "        if Solution is not None:\n",
    "            return n, Solution\n",
    "        n += 2"
   ]
  },
  {
   "cell_type": "code",
   "execution_count": null,
   "metadata": {},
   "outputs": [],
   "source": [
    "%%time\n",
    "n, Solution = find_solution()\n",
    "n, Solution"
   ]
  },
  {
   "cell_type": "code",
   "execution_count": null,
   "metadata": {},
   "outputs": [],
   "source": [
    "def show_solution(Solution, n):\n",
    "    for i in range(n+1):\n",
    "        A = Solution[f'A{i}']\n",
    "        B = Solution[f'B{i}']\n",
    "        C = Solution[f'C{i}']\n",
    "        D = Solution[f'D{i}']\n",
    "        T = Solution[f'T{i}']\n",
    "        print('🏃‍♀️'*A+'🏃🏽‍♂️'*B+'🚶🏽‍♂️'*C+'👨‍🦽'*D + ' '*42 + \\\n",
    "              '🏃‍♀️'*(1-A)+'🏃🏽‍♂️'*(1-B)+'🚶🏽‍♂️'*(1-C)+'👨‍🦽'*(1-D))\n",
    "        print(f'🕰️{T}')\n",
    "        if i % 2 == 0:\n",
    "            PS = Solution[f'A{i}'] - Solution[f'A{i+1}']\n",
    "            BS = Solution[f'B{i}'] - Solution[f'B{i+1}']\n",
    "            CS = Solution[f'C{i}'] - Solution[f'C{i+1}']\n",
    "            FS = Solution[f'D{i}'] - Solution[f'D{i+1}']\n",
    "            TS = Solution[f'T{i+1}']\n",
    "            print(' '*24+'>> '+'🏃‍♀️'*PS+'🏃🏽‍♂️'*BS+'🚶🏽‍♂️'*CS+'👨‍🦽'*FS+' >>')\n",
    "        elif i + 1 < n:\n",
    "            PS = Solution[f'A{i+1}'] - Solution[f'A{i}']\n",
    "            BS = Solution[f'B{i+1}'] - Solution[f'B{i}']\n",
    "            CS = Solution[f'C{i+1}'] - Solution[f'C{i}']\n",
    "            FS = Solution[f'D{i+1}'] - Solution[f'D{i}']\n",
    "            TS = Solution[f'T{i}']\n",
    "            print(' '*24+'<< '+'🏃‍♀️'*PS+'🏃🏽‍♂️'*BS+'🚶🏽‍♂️'*CS+'👨‍🦽'*FS+' <<')"
   ]
  },
  {
   "cell_type": "code",
   "execution_count": null,
   "metadata": {},
   "outputs": [],
   "source": [
    "show_solution(Solution, n)"
   ]
  },
  {
   "cell_type": "code",
   "execution_count": null,
   "metadata": {},
   "outputs": [],
   "source": []
  }
 ],
 "metadata": {
  "kernelspec": {
   "display_name": "Python 3 (ipykernel)",
   "language": "python",
   "name": "python3"
  },
  "language_info": {
   "codemirror_mode": {
    "name": "ipython",
    "version": 3
   },
   "file_extension": ".py",
   "mimetype": "text/x-python",
   "name": "python",
   "nbconvert_exporter": "python",
   "pygments_lexer": "ipython3",
   "version": "3.13.2"
  }
 },
 "nbformat": 4,
 "nbformat_minor": 4
}
