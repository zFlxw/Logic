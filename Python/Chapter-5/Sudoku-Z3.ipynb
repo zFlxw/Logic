{
 "cells": [
  {
   "cell_type": "code",
   "execution_count": null,
   "metadata": {},
   "outputs": [],
   "source": [
    "from IPython.display import HTML\n",
    "HTML(open('../style.css', 'r').read())"
   ]
  },
  {
   "cell_type": "markdown",
   "metadata": {},
   "source": [
    "# Sudoku"
   ]
  },
  {
   "cell_type": "markdown",
   "metadata": {},
   "source": [
    "The sudoku we want to solve is shown below:\n",
    "    <img src=\"sudoku.png\" width=\"60%\">\n",
    "I have taken it from https://sudoku.zeit.de/sudoku-hoellisch.\n",
    "\n",
    "The function `create_puzzle` returns a representation of this puzzle as a list of lists."
   ]
  },
  {
   "cell_type": "code",
   "execution_count": null,
   "metadata": {},
   "outputs": [],
   "source": [
    "def create_puzzle():\n",
    "    return [ [\"*\",  3 ,  9 , \"*\", \"*\", \"*\", \"*\", \"*\",  7 ], \n",
    "             [\"*\", \"*\", \"*\",  7 , \"*\", \"*\",  4 ,  9 ,  2 ],\n",
    "             [\"*\", \"*\", \"*\", \"*\",  6 ,  5 , \"*\",  8 ,  3 ],\n",
    "             [\"*\", \"*\", \"*\",  6 , \"*\",  3 ,  2 ,  7 , \"*\"],\n",
    "             [\"*\", \"*\", \"*\", \"*\",  4 , \"*\",  8 , \"*\", \"*\"],\n",
    "             [ 5 ,  6 , \"*\", \"*\", \"*\", \"*\", \"*\", \"*\", \"*\"],\n",
    "             [\"*\", \"*\",  5 ,  2 , \"*\",  9 , \"*\", \"*\",  1 ],\n",
    "             [\"*\",  2 ,  1 , \"*\", \"*\", \"*\", \"*\",  4 , \"*\"],\n",
    "             [ 7 , \"*\", \"*\", \"*\", \"*\", \"*\",  5 , \"*\", \"*\"]\n",
    "           ]"
   ]
  },
  {
   "cell_type": "markdown",
   "metadata": {},
   "source": [
    "We are going to solve this puzzle with the help of the constraint solver `Z3`."
   ]
  },
  {
   "cell_type": "code",
   "execution_count": null,
   "metadata": {},
   "outputs": [],
   "source": [
    "!pip install z3-solver"
   ]
  },
  {
   "cell_type": "code",
   "execution_count": null,
   "metadata": {},
   "outputs": [],
   "source": [
    "import z3"
   ]
  },
  {
   "cell_type": "markdown",
   "metadata": {},
   "source": [
    "The function `allDifferent` takes a list `L` of `Z3` variables as its argument. \n",
    "It returns a set of formulas expressing that all variables from `L` take different values."
   ]
  },
  {
   "cell_type": "code",
   "execution_count": null,
   "metadata": {},
   "outputs": [],
   "source": [
    "def allDifferent(L):\n",
    "    return { x != y for x in L \n",
    "                    for y in L\n",
    "                    if  str(x) < str(y)\n",
    "           }"
   ]
  },
  {
   "cell_type": "markdown",
   "metadata": {},
   "source": [
    "The function `constraints_from_puzzle` takes one argument:\n",
    "* `Variables` is a matrix of `Z3` variables.  \n",
    "\n",
    "   For `row`$\\in \\{0,8\\}$ and `col`$\\in \\{0,8\\}$ the variable `Variables[row][col]` specifies the number that is placed in the specified row and column.\n",
    "\n",
    "It returns a set of constraints specifying that the variables corresponding to numbers that are already set in the given Sudoku take the specified values."
   ]
  },
  {
   "cell_type": "code",
   "execution_count": null,
   "metadata": {},
   "outputs": [],
   "source": [
    "def constraints_from_puzzle(Variables):\n",
    "    Puzzle = create_puzzle()\n",
    "    return { \n",
    "             \"your code here\"\n",
    "           }"
   ]
  },
  {
   "cell_type": "code",
   "execution_count": null,
   "metadata": {},
   "outputs": [],
   "source": [
    "Variables = [[z3.Int(f'V{row+1}{col+1}') for col in range(8+1)] for row in range(8+1)]\n",
    "Variables"
   ]
  },
  {
   "cell_type": "markdown",
   "metadata": {},
   "source": [
    "The ouput of the next cell should be similar to the following set of formulas:\n",
    "```\n",
    "{V12 == 3,\n",
    " V13 == 9,\n",
    " V19 == 7,\n",
    " V24 == 7,\n",
    " V27 == 4,\n",
    " V28 == 9,\n",
    " V29 == 2,\n",
    " V35 == 6,\n",
    " V36 == 5,\n",
    " V38 == 8,\n",
    " V39 == 3,\n",
    " V44 == 6,\n",
    " V46 == 3,\n",
    " V47 == 2,\n",
    " V48 == 7,\n",
    " V55 == 4,\n",
    " V57 == 8,\n",
    " V61 == 5,\n",
    " V62 == 6,\n",
    " V73 == 5,\n",
    " V74 == 2,\n",
    " V76 == 9,\n",
    " V79 == 1,\n",
    " V82 == 2,\n",
    " V83 == 1,\n",
    " V88 == 4,\n",
    " V91 == 7,\n",
    " V97 == 5}\n",
    "```"
   ]
  },
  {
   "cell_type": "code",
   "execution_count": null,
   "metadata": {},
   "outputs": [],
   "source": [
    "constraints_from_puzzle(Variables)"
   ]
  },
  {
   "cell_type": "markdown",
   "metadata": {},
   "source": [
    "The function `all_constraints` returns a CSP that encodes the given sudoku as a CSP."
   ]
  },
  {
   "cell_type": "code",
   "execution_count": null,
   "metadata": {},
   "outputs": [],
   "source": [
    "def all_constraints(Variables): \n",
    "    L           = range(0, 8+1)\n",
    "    Constraints = constraints_from_puzzle(Variables)\n",
    "    # all entries in a row are unique\n",
    "    # all entries in a column are unique\n",
    "    # all entries in a 3x3 square are unique    \n",
    "    # all numbers are between 0 and 10\n",
    "    \"your code here\"\n",
    "    return Constraints"
   ]
  },
  {
   "cell_type": "code",
   "execution_count": null,
   "metadata": {},
   "outputs": [],
   "source": [
    "len(all_constraints(Variables))"
   ]
  },
  {
   "cell_type": "markdown",
   "metadata": {},
   "source": [
    "The function `solve()` receives no arguments.\n",
    "\n",
    "The function computes a solution to the given problem and returns this solution."
   ]
  },
  {
   "cell_type": "code",
   "execution_count": null,
   "metadata": {},
   "outputs": [],
   "source": [
    "def solve():\n",
    "    Variables = [[z3.Int(f'V{row+1}{col+1}') for col in range(8+1)] \n",
    "                                             for row in range(8+1)]\n",
    "    S = z3.Solver()\n",
    "    S.add(all_constraints(Variables))\n",
    "    result = str(S.check())\n",
    "    if result == 'sat':\n",
    "        M = S.model()\n",
    "        Solution = { f'V{row+1}{col+1}': M[Variables[row][col]] for row in range(8+1)\n",
    "                                                                for col in range(8+1)\n",
    "                   }\n",
    "        return Solution\n",
    "    elif result == 'unsat':\n",
    "        print('The problem is not solvable.')\n",
    "    else: # result == 'unknown'\n",
    "        print('Z3 cannot determine whether the problem is solvable.')"
   ]
  },
  {
   "cell_type": "code",
   "execution_count": null,
   "metadata": {},
   "outputs": [],
   "source": [
    "%%time\n",
    "Solution = solve()\n",
    "Solution"
   ]
  },
  {
   "cell_type": "markdown",
   "metadata": {},
   "source": [
    "## Graphical Representation"
   ]
  },
  {
   "cell_type": "markdown",
   "metadata": {},
   "source": [
    "The following line needs to be executed once to install the package `problem_visuals`."
   ]
  },
  {
   "cell_type": "code",
   "execution_count": null,
   "metadata": {},
   "outputs": [],
   "source": [
    "!pip install git+https://github.com/reclinarka/problem_visuals"
   ]
  },
  {
   "cell_type": "code",
   "execution_count": null,
   "metadata": {},
   "outputs": [],
   "source": [
    "from problem_visuals.games.sudoku.grid import Grid"
   ]
  },
  {
   "cell_type": "code",
   "execution_count": null,
   "metadata": {},
   "outputs": [],
   "source": [
    "def show_solution(Solution, width='50%'):\n",
    "    Sudoku = create_puzzle()\n",
    "    for row in range(9):\n",
    "        for col in range(9):\n",
    "            if Sudoku[row][col] != '*':\n",
    "                del Solution[f'V{row+1}{col+1}']\n",
    "    return Grid(state=Sudoku, assigned=Solution,html_width=width)"
   ]
  },
  {
   "cell_type": "code",
   "execution_count": null,
   "metadata": {},
   "outputs": [],
   "source": [
    "show_solution(Solution)"
   ]
  },
  {
   "cell_type": "code",
   "execution_count": null,
   "metadata": {},
   "outputs": [],
   "source": []
  }
 ],
 "metadata": {
  "kernelspec": {
   "display_name": "Python 3 (ipykernel)",
   "language": "python",
   "name": "python3"
  },
  "language_info": {
   "codemirror_mode": {
    "name": "ipython",
    "version": 3
   },
   "file_extension": ".py",
   "mimetype": "text/x-python",
   "name": "python",
   "nbconvert_exporter": "python",
   "pygments_lexer": "ipython3",
   "version": "3.13.2"
  },
  "toc": {
   "base_numbering": 1,
   "nav_menu": {},
   "number_sections": true,
   "sideBar": true,
   "skip_h1_title": false,
   "title_cell": "Table of Contents",
   "title_sidebar": "Contents",
   "toc_cell": false,
   "toc_position": {},
   "toc_section_display": true,
   "toc_window_display": false
  },
  "varInspector": {
   "cols": {
    "lenName": 16,
    "lenType": 16,
    "lenVar": 40
   },
   "kernels_config": {
    "python": {
     "delete_cmd_postfix": "",
     "delete_cmd_prefix": "del ",
     "library": "var_list.py",
     "varRefreshCmd": "print(var_dic_list())"
    },
    "r": {
     "delete_cmd_postfix": ") ",
     "delete_cmd_prefix": "rm(",
     "library": "var_list.r",
     "varRefreshCmd": "cat(var_dic_list()) "
    }
   },
   "types_to_exclude": [
    "module",
    "function",
    "builtin_function_or_method",
    "instance",
    "_Feature"
   ],
   "window_display": false
  }
 },
 "nbformat": 4,
 "nbformat_minor": 4
}
