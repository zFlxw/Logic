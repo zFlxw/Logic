{
 "cells": [
  {
   "cell_type": "code",
   "execution_count": null,
   "id": "9e030972",
   "metadata": {},
   "outputs": [],
   "source": [
    "from IPython.display import HTML\n",
    "HTML(open('../style.css', 'r').read())"
   ]
  },
  {
   "cell_type": "markdown",
   "id": "04a66319",
   "metadata": {},
   "source": [
    "# The Knight's Tour\n",
    "\n",
    "This notebook computes a solution to the [knight's tour](https://en.wikipedia.org/wiki/Knight%27s_tour) using the constraint solver `Z3`.  "
   ]
  },
  {
   "cell_type": "code",
   "execution_count": null,
   "id": "64b503b6",
   "metadata": {},
   "outputs": [],
   "source": [
    "import z3"
   ]
  },
  {
   "cell_type": "markdown",
   "id": "7c198b8b",
   "metadata": {},
   "source": [
    "Given an integer from the set $\\{0, 1, \\cdots, 63\\}$, the function `row(i)` computes the name of the variable that specifies the *row* of the knight after its $i^{\\textrm{th}}$ move."
   ]
  },
  {
   "cell_type": "code",
   "execution_count": null,
   "id": "9ec0ad9d",
   "metadata": {},
   "outputs": [],
   "source": [
    "def row(i):\n",
    "    return f'R{i}'"
   ]
  },
  {
   "cell_type": "markdown",
   "id": "2d2c51a2",
   "metadata": {},
   "source": [
    "Given an integer from the set $\\{0, 1, \\cdots, 63\\}$, the function `col(i)` computes the name of the variable that specifies the *column* of the knight after its $i^{\\textrm{th}}$ move."
   ]
  },
  {
   "cell_type": "code",
   "execution_count": null,
   "id": "efeb28b3",
   "metadata": {},
   "outputs": [],
   "source": [
    "def col(i):\n",
    "    return f'C{i}'"
   ]
  },
  {
   "cell_type": "markdown",
   "id": "ddb0863a",
   "metadata": {},
   "source": [
    "The function `is_knight_move(row, col, rowX, colX)` takes three arguments:\n",
    "* `row` is a `Z3` variable that specifies the row of the position of the knight before the move.\n",
    "* `col` is a `Z3` variable that specifies the column of the position of the knight before the move.\n",
    "* `rowX` is a `Z3` variable that specifies the row of the position of the knight after the move.\n",
    "* `colX` is a `Z3` variable that specifies the column of the position of the knight after the move.\n",
    "\n",
    "It returns a formula that specifies that the specified position represents a legal move for a knight.\n",
    "\n",
    "In order to form the *conjunction* of two formulas we use the function `z3.And`, \n",
    "while the *disjunction* is build with the function `z3.Or`.  Note that these functions can be called with \n",
    "any number of arguments.\n",
    "\n",
    "The figure below shows the moves of a knight:  The knight on `e4` can jump to all red squares.\n",
    "<img src=\"knight-moves.png\" width=\"50%\">"
   ]
  },
  {
   "cell_type": "code",
   "execution_count": null,
   "id": "06ada6d8-870a-4d70-8ff6-172addfe12f6",
   "metadata": {},
   "outputs": [],
   "source": [
    "S = {1, 2, -1, -2}\n",
    "{(x, y) for x in S for y in S if abs(x) != abs(y)}"
   ]
  },
  {
   "cell_type": "code",
   "execution_count": null,
   "id": "7c8ff1e0",
   "metadata": {},
   "outputs": [],
   "source": [
    "def is_knight_move(row, col, rowX, colX):\n",
    "    Formulas = set()\n",
    "    S = {1, 2, -1, -2}\n",
    "    DeltaSet = {(x, y) for x in S for y in S if abs(x) != abs(y)}\n",
    "    for delta_r, delta_c in DeltaSet:\n",
    "        Formulas.add(z3.And(rowX == row + delta_r, colX == col + delta_c))\n",
    "    return z3.Or(Formulas)"
   ]
  },
  {
   "cell_type": "markdown",
   "id": "1de6df39",
   "metadata": {},
   "source": [
    "The function `all_different` takes two arguments:\n",
    "* `Rows` is a list of `Z3` variables. The variable `Rows[i]` specifies the row of the position of the knight after the $i^{\\textrm{th}}$ move.\n",
    "* `Cols` is a list of `Z3` variables. The variable `Cols[i]` specifies the column of the position of the knight after the $i^{\\textrm{th}}$ move.\n",
    "\n",
    "The function returns a set of formulas stating that for $i \\not= j$ the positions after the $i^{\\textrm{th}}$ move\n",
    "differs from the position after the $j^{\\textrm{th}}$ move."
   ]
  },
  {
   "cell_type": "code",
   "execution_count": null,
   "id": "83b77b18",
   "metadata": {},
   "outputs": [],
   "source": [
    "def all_different(Rows, Cols):\n",
    "    Result = set()\n",
    "    for i in range(62+1):\n",
    "        for j in range (i+1, 63+1):\n",
    "            Result.add(z3.Or(Rows[i] != Rows[j], Cols[i] != Cols[j]))\n",
    "    return Result"
   ]
  },
  {
   "cell_type": "markdown",
   "id": "500543b6",
   "metadata": {},
   "source": [
    "The function `all_constraints` takes two arguments:\n",
    "* `Rows` is a list of `Z3` variables. The variable `Rows[i]` specifies the row of the position of the knight after the $i^{\\textrm{th}}$ move.\n",
    "* `Cols` is a list of `Z3` variables. The variable `Cols[i]` specifies the column of the position of the knight after the $i^{\\textrm{th}}$ move.\n",
    "\n",
    "`all_constraints` returns a set containing all constraints of the problem."
   ]
  },
  {
   "cell_type": "code",
   "execution_count": null,
   "id": "e6c93b7f",
   "metadata": {},
   "outputs": [],
   "source": [
    "def all_constraints(Rows, Cols):\n",
    "    Constraints = all_different(Rows, Cols)\n",
    "    Constraints.add(Rows[0] == 0)\n",
    "    Constraints.add(Cols[0] == 0)\n",
    "    for i in range(62+1):\n",
    "        Constraints.add(is_knight_move(Rows[i], Cols[i], Rows[i+1], Cols[i+1]))\n",
    "    for i in range(63+1):\n",
    "        Constraints.add(Rows[i] >= 0) \n",
    "        Constraints.add(Cols[i] >= 0) \n",
    "    return Constraints"
   ]
  },
  {
   "cell_type": "markdown",
   "id": "f59d865d",
   "metadata": {},
   "source": [
    "The function `solve()` computes a solution of the knight's problem and returns this solution."
   ]
  },
  {
   "cell_type": "code",
   "execution_count": null,
   "id": "8b7ddd17",
   "metadata": {},
   "outputs": [],
   "source": [
    "def solve():\n",
    "    Rows = [z3.BitVec(row(i), 4) for i in range(63+1)]\n",
    "    Cols = [z3.BitVec(col(i), 4) for i in range(63+1)]\n",
    "    Constraints = all_constraints(Rows, Cols)\n",
    "    S = z3.Solver()\n",
    "    S.add(Constraints)\n",
    "    result = str(S.check())\n",
    "    if result == 'sat':\n",
    "        Model    = S.model()\n",
    "        Solution = (  { row(i): Model[Rows[i]] for i in range(63+1) } \n",
    "                    | { col(i): Model[Cols[i]] for i in range(63+1) })\n",
    "        return Solution\n",
    "    elif result == 'unsat':\n",
    "        print('The problem is not solvable.')\n",
    "    else:\n",
    "        print('Z3 cannot determine whether the problem is solvable.')"
   ]
  },
  {
   "cell_type": "markdown",
   "id": "caa181ac",
   "metadata": {},
   "source": [
    "Unfortunately, the execution time of the following cell varies greatly between\n",
    "different runs.  Sometimes the cell runs in less one minute and 28 seconds, sometimes \n",
    "it might take 30 minutes."
   ]
  },
  {
   "cell_type": "code",
   "execution_count": null,
   "id": "fa4dd09b",
   "metadata": {
    "scrolled": false
   },
   "outputs": [],
   "source": [
    "%%time\n",
    "Solution = solve()\n",
    "Solution"
   ]
  },
  {
   "cell_type": "markdown",
   "id": "903ead7e",
   "metadata": {},
   "source": [
    "The function `create_board(Solution)` returns a matrix `Board` of size $8\\times 8$.\n",
    "The following holds:\n",
    "$$ \\texttt{Board}[\\texttt{R}i][\\texttt{C}i] = i $$\n",
    "Therefore, if `Board[r][c] == i`, then at the beginning of the $i^{\\textrm{th}}$ move the knight is located in row `r` and column `c`. "
   ]
  },
  {
   "cell_type": "code",
   "execution_count": null,
   "id": "e6e0d40f",
   "metadata": {},
   "outputs": [],
   "source": [
    "def create_board(Solution):\n",
    "    Board = [[0 for _ in range(8)] for _ in range(8)]\n",
    "    for i in range(1, 63+1):\n",
    "        r = Solution[row(i)].as_long()\n",
    "        c = Solution[col(i)].as_long()\n",
    "        Board[r][c] = i\n",
    "    return Board"
   ]
  },
  {
   "cell_type": "code",
   "execution_count": null,
   "id": "b97bfed0",
   "metadata": {},
   "outputs": [],
   "source": [
    "create_board(Solution)"
   ]
  },
  {
   "cell_type": "markdown",
   "id": "0c7fcc3d",
   "metadata": {},
   "source": [
    "The function `print_board` prints the given `Board`."
   ]
  },
  {
   "cell_type": "code",
   "execution_count": null,
   "id": "afa11e70",
   "metadata": {},
   "outputs": [],
   "source": [
    "def print_board(Board):\n",
    "    n = len(Board)\n",
    "    # Determine the width of the widest element in the matrix\n",
    "    width = max([ len(str(element)) for row in Board\n",
    "                                    for element in row\n",
    "                ])\n",
    "    # Create the top and bottom of the matrix\n",
    "    top_line = '╔'\n",
    "    for i in range(n - 1):\n",
    "        top_line += '═' * (width + 2) + '╦'\n",
    "    top_line += '═' * (width + 2) + '╗'\n",
    "    mid_line = '╠'\n",
    "    for i in range(n - 1):\n",
    "        mid_line += '═' * (width + 2) + '╬'\n",
    "    mid_line += '═' * (width + 2) + '╣'    \n",
    "    bot_line = '╚'\n",
    "    for i in range(n - 1):\n",
    "        bot_line += '═' * (width + 2) + '╩'\n",
    "    bot_line += '═' * (width + 2) + '╝'\n",
    "    # Print the top of the matrix\n",
    "    print(top_line)\n",
    "    # Iterate through the rows and columns of the matrix, and print\n",
    "    # each element with proper padding\n",
    "    for i, row in enumerate(Board):\n",
    "        line = '\\u2551'\n",
    "        for element in row:\n",
    "            line += f' {element:>{width}} ║'\n",
    "        print(line)\n",
    "        # Print a horizontal line\n",
    "        if i < len(Board) - 1:\n",
    "            print(mid_line)\n",
    "    # Print the bottom of the matrix\n",
    "    print(bot_line)"
   ]
  },
  {
   "cell_type": "code",
   "execution_count": null,
   "id": "96e3cda7",
   "metadata": {},
   "outputs": [],
   "source": [
    "print_board(create_board(Solution))"
   ]
  },
  {
   "cell_type": "markdown",
   "id": "f402f17d",
   "metadata": {},
   "source": [
    "# Visualization"
   ]
  },
  {
   "cell_type": "markdown",
   "id": "8c31e606",
   "metadata": {},
   "source": [
    "If you have not yet installed `chess-problem-visuals` you have to uncomment the following line."
   ]
  },
  {
   "cell_type": "code",
   "execution_count": null,
   "id": "30f1bf4d",
   "metadata": {},
   "outputs": [],
   "source": [
    "!pip install git+https://github.com/reclinarka/chess-problem-visuals"
   ]
  },
  {
   "cell_type": "code",
   "execution_count": null,
   "id": "85fbf01a",
   "metadata": {},
   "outputs": [],
   "source": [
    "from chess_problem_visuals import problem_board"
   ]
  },
  {
   "cell_type": "markdown",
   "id": "650a79db",
   "metadata": {},
   "source": [
    "The function `show_solution` displays the given solution on a chessboard.\n",
    "The solution `Board` is represented as a list of lists.  We have `Board[row][col] == k` if the $k^\\textrm{th}$ move leads the knight to the position `(row, col)`."
   ]
  },
  {
   "cell_type": "code",
   "execution_count": null,
   "id": "49dcea4a",
   "metadata": {},
   "outputs": [],
   "source": [
    "def show_solution(Board, width=\"50%\"):\n",
    "    n         = len(Board)\n",
    "    Positions = {}\n",
    "    for row in range(n):\n",
    "        for col in range(n):\n",
    "            k = Board[row][col]\n",
    "            Positions[k] = (col, row)\n",
    "    start = (0, 0)\n",
    "    Path  = [start]\n",
    "    for k in range(1, n*n):\n",
    "        Path.append(Positions[k])\n",
    "    Visual = problem_board(n, K_start=start, K_path=Path, \n",
    "                           html_width=width, \n",
    "                           arrow_color=\"darkblue\",\n",
    "                           arrow_width=0.2)\n",
    "    return Visual"
   ]
  },
  {
   "cell_type": "code",
   "execution_count": null,
   "id": "af845106",
   "metadata": {},
   "outputs": [],
   "source": [
    "show_solution(create_board(Solution))"
   ]
  },
  {
   "cell_type": "code",
   "execution_count": null,
   "id": "0eb8d8aa",
   "metadata": {},
   "outputs": [],
   "source": []
  }
 ],
 "metadata": {
  "kernelspec": {
   "display_name": "Python 3 (ipykernel)",
   "language": "python",
   "name": "python3"
  },
  "language_info": {
   "codemirror_mode": {
    "name": "ipython",
    "version": 3
   },
   "file_extension": ".py",
   "mimetype": "text/x-python",
   "name": "python",
   "nbconvert_exporter": "python",
   "pygments_lexer": "ipython3",
   "version": "3.13.2"
  }
 },
 "nbformat": 4,
 "nbformat_minor": 5
}
