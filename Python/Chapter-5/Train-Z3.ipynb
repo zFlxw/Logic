{
 "cells": [
  {
   "cell_type": "code",
   "execution_count": null,
   "id": "a4088787",
   "metadata": {},
   "outputs": [],
   "source": [
    "from IPython.display import HTML\n",
    "HTML(open('../style.css', 'r').read())"
   ]
  },
  {
   "cell_type": "markdown",
   "id": "939d0df0",
   "metadata": {},
   "source": [
    "# Solving a Quadratic Equation with `Z3`.\n",
    "\n",
    "In this notebook we are going to solve the following exercise using the constraint solver `Z3`.\n",
    "*  A train travels at a uniform speed for 360 miles.  \n",
    "*  The train would have taken 48 minutes less to travel the same distance \n",
    "   if it had been faster by 5 miles per hour.\n",
    "\n",
    "**Find the speed of the train!**"
   ]
  },
  {
   "cell_type": "markdown",
   "id": "db7d38ac",
   "metadata": {},
   "source": [
    "**Hints**\n",
    "\n",
    "* As the speed is a real number you should declare this variable via the `Z3` function `Real` instead of using\n",
    "  the function `Int`.\n",
    "* When you formulate the information given above, you will get a system of *non-linear* equations,\n",
    "  which is equivalent to a quadratic equation.  This quadratic equation has two different solutions.\n",
    "  One of these solutions is negative.  In order to exclude the negative solution you need to add a\n",
    "  constraint stating that the speed of the train has to be greater than zero."
   ]
  },
  {
   "cell_type": "code",
   "execution_count": null,
   "id": "82c55835",
   "metadata": {},
   "outputs": [],
   "source": [
    "!pip install z3-solver"
   ]
  },
  {
   "cell_type": "markdown",
   "id": "c4bbf097",
   "metadata": {},
   "source": [
    "Next, we import the Python API of `Z3`. "
   ]
  },
  {
   "cell_type": "code",
   "execution_count": null,
   "id": "174da55b",
   "metadata": {},
   "outputs": [],
   "source": [
    "import z3"
   ]
  },
  {
   "cell_type": "markdown",
   "id": "7337a62e",
   "metadata": {},
   "source": [
    "In `Z3`, every variable has to be declared.  In this case, all our variables are integer valued.  The function `Real(v)` declares a variable with the name `v` that can take real numbers as values. "
   ]
  },
  {
   "cell_type": "code",
   "execution_count": null,
   "id": "da6dd4d0",
   "metadata": {},
   "outputs": [],
   "source": [
    "\"your code here\""
   ]
  },
  {
   "cell_type": "markdown",
   "id": "c2625602",
   "metadata": {},
   "source": [
    "Next, we create a *solver* object."
   ]
  },
  {
   "cell_type": "code",
   "execution_count": null,
   "id": "211739d3",
   "metadata": {},
   "outputs": [],
   "source": [
    "S = z3.Solver()"
   ]
  },
  {
   "cell_type": "markdown",
   "id": "da3792d0",
   "metadata": {},
   "source": [
    "We can add constraints to this solver object via the method `add`.  There are two constraints:\n",
    "* A train travels at a uniform speed for 360 miles.  \n",
    "*  The train would have taken 48 minutes less to travel the same distance \n",
    "   if it had been faster by 5 miles per hour."
   ]
  },
  {
   "cell_type": "code",
   "execution_count": null,
   "id": "60da9c3e",
   "metadata": {},
   "outputs": [],
   "source": [
    "\"your code here\""
   ]
  },
  {
   "cell_type": "markdown",
   "id": "b5c45e51",
   "metadata": {},
   "source": [
    "The method `check` examines whether the given set of constraints is satisfiable.\n",
    "In general, it can return one of the following results:\n",
    "- `sat`   is returned if the problem is solvable, (`sat` is short for *satisfiable*)\n",
    "- `unsat` is returned if the problem is unsatisfiable,\n",
    "- `unknown` is returned if the constraint solver is not powerful enough to solve the given problem."
   ]
  },
  {
   "cell_type": "code",
   "execution_count": null,
   "id": "ae45fd4e",
   "metadata": {},
   "outputs": [],
   "source": [
    "S.check()"
   ]
  },
  {
   "cell_type": "markdown",
   "id": "a30cfba0",
   "metadata": {},
   "source": [
    "To extract the solution of the given problem we use the method `model`."
   ]
  },
  {
   "cell_type": "code",
   "execution_count": null,
   "id": "95f5b419",
   "metadata": {},
   "outputs": [],
   "source": [
    "solution = S.model()\n",
    "solution"
   ]
  },
  {
   "cell_type": "code",
   "execution_count": null,
   "id": "7406526d",
   "metadata": {},
   "outputs": [],
   "source": [
    "s = solution[speed]"
   ]
  },
  {
   "cell_type": "code",
   "execution_count": null,
   "id": "e1f0f5eb",
   "metadata": {},
   "outputs": [],
   "source": [
    "print(f'The speed of the train is {s} miles per hour.')"
   ]
  },
  {
   "cell_type": "code",
   "execution_count": null,
   "id": "8596c24c",
   "metadata": {},
   "outputs": [],
   "source": []
  }
 ],
 "metadata": {
  "kernelspec": {
   "display_name": "Python 3 (ipykernel)",
   "language": "python",
   "name": "python3"
  },
  "language_info": {
   "codemirror_mode": {
    "name": "ipython",
    "version": 3
   },
   "file_extension": ".py",
   "mimetype": "text/x-python",
   "name": "python",
   "nbconvert_exporter": "python",
   "pygments_lexer": "ipython3",
   "version": "3.13.2"
  }
 },
 "nbformat": 4,
 "nbformat_minor": 5
}
