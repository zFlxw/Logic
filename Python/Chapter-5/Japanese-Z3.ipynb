{
 "cells": [
  {
   "cell_type": "code",
   "execution_count": 1,
   "metadata": {},
   "outputs": [
    {
     "data": {
      "text/html": [
       "<link href='http://fonts.googleapis.com/css?family=Alegreya+Sans:100,300,400,500,700,800,900,100italic,300italic,400italic,500italic,700italic,800italic,900italic' rel='stylesheet' type='text/css'>\n",
       "<link href='http://fonts.googleapis.com/css?family=Arvo:400,700,400italic' rel='stylesheet' type='text/css'>\n",
       "<link href='http://fonts.googleapis.com/css?family=PT+Mono' rel='stylesheet' type='text/css'>\n",
       "<link href='http://fonts.googleapis.com/css?family=Shadows+Into+Light' rel='stylesheet' type='text/css'>\n",
       "<link href='http://fonts.googleapis.com/css?family=Philosopher:400,700,400italic,700italic' rel='stylesheet' type='text/css'>\n",
       "\n",
       "<style>\n",
       "\n",
       "@font-face {\n",
       "    font-family: \"Computer Modern\";\n",
       "    src: url('http://mirrors.ctan.org/fonts/cm-unicode/fonts/otf/cmunss.otf');\n",
       "}\n",
       "\n",
       ".container { width: 100% }\n",
       "\n",
       "/* Formatting for header cells */\n",
       ".text_cell_render h1 {\n",
       "    font-family: 'Philosopher', sans-serif;\n",
       "    font-weight: 400;\n",
       "    font-size: 2.2em;\n",
       "    line-height: 100%;\n",
       "    color: rgb(0, 80, 120);\n",
       "    margin-bottom: 0.1em;\n",
       "    margin-top: 0.1em;\n",
       "    display: block;\n",
       "}\t\n",
       ".text_cell_render h2 {\n",
       "    font-family: 'Philosopher', serif;\n",
       "    font-weight: 400;\n",
       "    font-size: 1.9em;\n",
       "    line-height: 100%;\n",
       "    color: rgb(200,100,0);\n",
       "    margin-bottom: 0.1em;\n",
       "    margin-top: 0.1em;\n",
       "    display: block;\n",
       "}\t\n",
       "\n",
       ".text_cell_render h3 {\n",
       "    font-family: 'Philosopher', serif;\n",
       "    margin-top:12px;\n",
       "    margin-bottom: 3px;\n",
       "    font-style: italic;\n",
       "    color: rgb(94,127,192);\n",
       "}\n",
       "\n",
       ".text_cell_render h4 {\n",
       "    font-family: 'Philosopher', serif;\n",
       "}\n",
       "\n",
       ".text_cell_render h5 {\n",
       "    font-family: 'Alegreya Sans', sans-serif;\n",
       "    font-weight: 300;\n",
       "    font-size: 16pt;\n",
       "    color: grey;\n",
       "    font-style: italic;\n",
       "    margin-bottom: .1em;\n",
       "    margin-top: 0.1em;\n",
       "    display: block;\n",
       "}\n",
       "\n",
       ".text_cell_render h6 {\n",
       "    font-family: 'PT Mono', sans-serif;\n",
       "    font-weight: 300;\n",
       "    font-size: 10pt;\n",
       "    color: grey;\n",
       "    margin-bottom: 1px;\n",
       "    margin-top: 1px;\n",
       "}\n",
       "\n",
       ".text_cell_render em {\n",
       "    font-family: 'Philosopher', sans-serif;\n",
       "    color:        blue;\n",
       "    background-color: rgb(255,220,180);\n",
       "    font-size:    110%;\n",
       "    margin-left:   2px;\n",
       "    margin-right:  2px;\n",
       "    font-weight:   100;\n",
       "}\n",
       "\n",
       ".text_cell_render b {\n",
       "    color:            rgb(255,195,195);\n",
       "    background-color: rgb(0,0,0);\n",
       "    font-size:    110%;\n",
       "    margin-left:   2px;\n",
       "    margin-right:  2px;\n",
       "    font-weight:   650;\n",
       "}\n",
       "\n",
       ".text_cell_render tt {\n",
       "    font-size:    120%;\n",
       "    margin-left:   2px;\n",
       "    margin-right:  2px;\n",
       "    font-weight:   150;\n",
       "}\n",
       "\n",
       ".Codemirror {\n",
       "    font-family: \"PT Mono\";\n",
       "    font-size: 100%;\n",
       "}\n",
       "\n",
       "</style>\n",
       "\n"
      ],
      "text/plain": [
       "<IPython.core.display.HTML object>"
      ]
     },
     "execution_count": 1,
     "metadata": {},
     "output_type": "execute_result"
    }
   ],
   "source": [
    "from IPython.display import HTML\n",
    "HTML(open('../style.css', 'r').read())"
   ]
  },
  {
   "cell_type": "markdown",
   "metadata": {},
   "source": [
    "# Japanese IQ Test\n",
    "\n",
    "The following puzzle is part of a recruitment test in Japan.\n",
    "\n",
    "---\n",
    "\n",
    "A policeman, a convict, a father and his two sons Anton and Bruno, and a mother with her two daughters Cindy and Doris have to cross a river.  On the boat there is only room for two passengers.\n",
    "\n",
    "During the crossing, the following conditions have to be observed:\n",
    "* The father is not allowed to be on a shore with one of the daughters \n",
    "  if the mother is on the other shore. \n",
    "* The mother is not allowed to be on a shore with one of the sons \n",
    "  if the father is on the other shore.\n",
    "* If the criminal is not alone, then the policeman must watch him.\n",
    "\n",
    "  However the convict can be alone on a shore, as his shackles prevent him from running away. \n",
    "* Only the father, the mother, and the policeman are able to steer the boat.\n",
    "\n",
    "Here is the link to try it yourself:\n",
    "https://flashmuseum.org/iq-%E9%81%8E%E6%B2%B3%E9%81%8A%E6%88%B2/"
   ]
  },
  {
   "cell_type": "markdown",
   "metadata": {},
   "source": [
    "We are going to formulate this problem as a *symbolic transition problem*.\n",
    "Then, we can solve the problem using our constraint solver."
   ]
  },
  {
   "cell_type": "code",
   "execution_count": 2,
   "metadata": {},
   "outputs": [],
   "source": [
    "import z3"
   ]
  },
  {
   "cell_type": "markdown",
   "metadata": {},
   "source": [
    "We will use the following variables to encode the problem:\n",
    "* `P` equals `1` if the policeman is on the western shore,\n",
    "* `V` equals `1` if the villain is on the western shore,\n",
    "* `M` equals `1` if the mother is on the western shore,\n",
    "* `F` equals `1` if the father is on the western shore,\n",
    "* `B` is the number of boys on the western shore,\n",
    "* `G` is the number of girls on the western shore."
   ]
  },
  {
   "cell_type": "code",
   "execution_count": 3,
   "metadata": {},
   "outputs": [],
   "source": [
    "P  = z3.Int('P')\n",
    "V  = z3.Int('V')\n",
    "M  = z3.Int('M')\n",
    "F  = z3.Int('F')\n",
    "B  = z3.Int('B')\n",
    "G  = z3.Int('G')\n",
    "PX = z3.Int('PX')\n",
    "VX = z3.Int('VX')\n",
    "MX = z3.Int('MX')\n",
    "FX = z3.Int('FX')\n",
    "BX = z3.Int('BX')\n",
    "GX = z3.Int('GX')"
   ]
  },
  {
   "cell_type": "code",
   "execution_count": 10,
   "metadata": {},
   "outputs": [],
   "source": [
    "def start(P, V, M, F, B, G):\n",
    "    return z3.And(P == 0, V == 0, M == 0, F == 0, B == 2, G == 2)"
   ]
  },
  {
   "cell_type": "code",
   "execution_count": 11,
   "metadata": {},
   "outputs": [
    {
     "data": {
      "text/html": [
       "P = 0 &and; V = 0 &and; M = 0 &and; F = 0 &and; B = 2 &and; G = 2"
      ],
      "text/plain": [
       "And(P == 0, V == 0, M == 0, F == 0, B == 2, G == 2)"
      ]
     },
     "execution_count": 11,
     "metadata": {},
     "output_type": "execute_result"
    }
   ],
   "source": [
    "start(P, V, M, F, B, G)"
   ]
  },
  {
   "cell_type": "code",
   "execution_count": 14,
   "metadata": {},
   "outputs": [],
   "source": [
    "def goal(P, V, M, F, B, G):\n",
    "    return z3.And(P == 0, V == 0, M == 0, F == 0, B == 0, G == 0)"
   ]
  },
  {
   "cell_type": "code",
   "execution_count": 15,
   "metadata": {},
   "outputs": [
    {
     "data": {
      "text/html": [
       "P = 0 &and; V = 0 &and; M = 0 &and; F = 0 &and; B = 0 &and; G = 0"
      ],
      "text/plain": [
       "And(P == 0, V == 0, M == 0, F == 0, B == 0, G == 0)"
      ]
     },
     "execution_count": 15,
     "metadata": {},
     "output_type": "execute_result"
    }
   ],
   "source": [
    "goal(P, V, M, F, B, G)"
   ]
  },
  {
   "cell_type": "markdown",
   "metadata": {},
   "source": [
    "Define the condition that has to be true in every state:\n",
    "* The policeman has to watch the villain (unless the villain is alone)\n",
    "* The boys  must not be alone with the mother.\n",
    "* The girls must not be alone with the father."
   ]
  },
  {
   "cell_type": "code",
   "execution_count": null,
   "metadata": {},
   "outputs": [],
   "source": [
    "def invariant(P, V, M, F, B, G):\n",
    "    return z3.Or(z3.And(P == 0, V == 0))"
   ]
  },
  {
   "cell_type": "code",
   "execution_count": null,
   "metadata": {},
   "outputs": [],
   "source": [
    "invariant(P, V, M, F, B, G)"
   ]
  },
  {
   "cell_type": "markdown",
   "metadata": {},
   "source": [
    "The function `BoatOK(P𝛼, V𝛼, M𝛼, F𝛼, B𝛼, G𝛼, P𝛽, V𝛽, M𝛽, F𝛽, B𝛽, G𝛽)` returns a formula that \n",
    "describes a crossing of the boat from the left shore to the right shore.  \n",
    "\n",
    "It takes the following parameters:\n",
    "* `P𝛼` is the number of police men on the left shore before the croosing,\n",
    "* `V𝛼` is the number of villains   on the left shore before the croosing,\n",
    "* `M𝛼` is the number of mothers    on the left shore before the croosing,\n",
    "* `F𝛼` is the number of fathers    on the left shore before the croosing,\n",
    "* `B𝛼` is the number of boys       on the left shore before the croosing,\n",
    "* `G𝛼` is the number of girls      on the left shore before the croosing,\n",
    "* `P𝛽` is the number of police men on the left shore after  the croosing,\n",
    "* `V𝛽` is the number of villains   on the left shore after  the croosing,\n",
    "* `M𝛽` is the number of mothers    on the left shore after  the croosing,\n",
    "* `F𝛽` is the number of fathers    on the left shore after  the croosing,\n",
    "* `B𝛽` is the number of boys       on the left shore after  the croosing,\n",
    "* `G𝛽` is the number of girls      on the left shore after  the croosing.\n",
    "\n",
    "The formula has to ensure that:\n",
    "* The people move from the left shore to the right shore,\n",
    "* only the policeman, the father, or the mother can steer the boat,\n",
    "* there can be at most two persons on the boat."
   ]
  },
  {
   "cell_type": "code",
   "execution_count": null,
   "metadata": {},
   "outputs": [],
   "source": [
    "def boatOK(P𝛼, V𝛼, M𝛼, F𝛼, B𝛼, G𝛼, P𝛽, V𝛽, M𝛽, F𝛽, B𝛽, G𝛽):\n",
    "    \"your code here, going left to right\"     "
   ]
  },
  {
   "cell_type": "code",
   "execution_count": null,
   "metadata": {},
   "outputs": [],
   "source": [
    "boatOK(P, V, M, F, B, G, PX, VX, MX, FX, BX, GX)"
   ]
  },
  {
   "cell_type": "markdown",
   "metadata": {},
   "source": [
    "The function `transition(P𝛼, V𝛼, M𝛼, F𝛼, B𝛼, G𝛼, P𝛽, V𝛽, M𝛽, F𝛽, B𝛽, G𝛽, i)` returns a formula\n",
    "describing the $i^{\\mathrm{th}}$ crossing of the river, where $i$ starts counting from $0$.\n",
    "The last parameter `i` of the function `transistion` specifies the number of the crossing.\n",
    "\n",
    "You should use of the function `boatOK`."
   ]
  },
  {
   "cell_type": "code",
   "execution_count": null,
   "metadata": {},
   "outputs": [],
   "source": [
    "def transition(P𝛼, V𝛼, M𝛼, F𝛼, B𝛼, G𝛼,\n",
    "               P𝛽, V𝛽, M𝛽, F𝛽, B𝛽, G𝛽,\n",
    "               i\n",
    "              ):\n",
    "    if i % 2 == 0:\n",
    "        \"your code here, we are going form the left shore to the right shore\"\n",
    "    else:\n",
    "        \"your code here, we are going from the right shore to the left shore\"\n",
    "    return Formulas"
   ]
  },
  {
   "cell_type": "code",
   "execution_count": null,
   "metadata": {},
   "outputs": [],
   "source": [
    "transition(P, V, M, F, B, G, PX, VX, MX, FX, BX, GX, 0)"
   ]
  },
  {
   "cell_type": "code",
   "execution_count": null,
   "metadata": {},
   "outputs": [],
   "source": [
    "transition(PX, VX, MX, FX, BX, GX, P, V, M, F, B, G, 1)"
   ]
  },
  {
   "cell_type": "code",
   "execution_count": null,
   "metadata": {},
   "outputs": [],
   "source": [
    "def japanese_CSP(n):\n",
    "    S = z3.Solver()\n",
    "    \"\"\"\n",
    "    define all variables\n",
    "    define the invariants\n",
    "    define the transitions\n",
    "    restrict the values of the variables\n",
    "    \"\"\"\n",
    "    result = str(S.check())\n",
    "    if result == 'sat':\n",
    "        Model = S.model()\n",
    "        Solution = (   { f'P{i}': Model[Ps[i]] for i in range(n+1) }\n",
    "                     | { f'V{i}': Model[Vs[i]] for i in range(n+1) }\n",
    "                     | { f'M{i}': Model[Ms[i]] for i in range(n+1) }\n",
    "                     | { f'F{i}': Model[Fs[i]] for i in range(n+1) }\n",
    "                     | { f'B{i}': Model[Bs[i]] for i in range(n+1) }\n",
    "                     | { f'G{i}': Model[Gs[i]] for i in range(n+1) }\n",
    "                   )\n",
    "        return { key: Solution[key].as_long() for key in Solution }\n",
    "    else:\n",
    "        return None"
   ]
  },
  {
   "cell_type": "code",
   "execution_count": null,
   "metadata": {},
   "outputs": [],
   "source": [
    "def find_solution():\n",
    "    n = 1\n",
    "    while True:\n",
    "        print(n)\n",
    "        Solution = japanese_CSP(n)\n",
    "        if Solution != None:\n",
    "            return n, Solution\n",
    "        n += 2"
   ]
  },
  {
   "cell_type": "code",
   "execution_count": null,
   "metadata": {},
   "outputs": [],
   "source": [
    "%%time\n",
    "n, Solution = find_solution()\n",
    "n, Solution"
   ]
  },
  {
   "cell_type": "markdown",
   "metadata": {},
   "source": [
    "## Auxiliary Code for Pretty Printing"
   ]
  },
  {
   "cell_type": "markdown",
   "metadata": {},
   "source": [
    "The following code is used for printing the path that has been found.  We won't discuss the details of these functions."
   ]
  },
  {
   "cell_type": "code",
   "execution_count": null,
   "metadata": {},
   "outputs": [],
   "source": [
    "def show_solution(Solution, n):\n",
    "    for i in range(n+1):\n",
    "        P = Solution[f'P{i}']\n",
    "        V = Solution[f'V{i}']\n",
    "        M = Solution[f'M{i}']\n",
    "        F = Solution[f'F{i}']\n",
    "        B = Solution[f'B{i}']\n",
    "        G = Solution[f'G{i}']\n",
    "        print('👮'*P+'🦹'*V+'👩'*M+'👨🏿'*F+'👦'*B+'👧🏾'*G + ' '*42 + \\\n",
    "              '👮'*(1-P)+'🦹'*(1-V)+'👩'*(1-M)+'👨🏿'*(1-F)+'👦'*(2-B)+'👧🏾'*(2-G))\n",
    "        if i % 2 == 0:\n",
    "            PS = Solution[f'P{i}'] - Solution[f'P{i+1}']\n",
    "            VS = Solution[f'V{i}'] - Solution[f'V{i+1}']\n",
    "            MS = Solution[f'M{i}'] - Solution[f'M{i+1}']\n",
    "            FS = Solution[f'F{i}'] - Solution[f'F{i+1}']\n",
    "            BS = Solution[f'B{i}'] - Solution[f'B{i+1}']\n",
    "            GS = Solution[f'G{i}'] - Solution[f'G{i+1}']\n",
    "            print(' '*24+'>>>'+'👮'*PS+'🦹'*VS+'👩'*MS+'👨🏿'*FS+'👦'*BS+'👧🏾'*GS+'>>>')\n",
    "        elif i + 1 < n:\n",
    "            PS = Solution[f'P{i+1}'] - Solution[f'P{i}']\n",
    "            VS = Solution[f'V{i+1}'] - Solution[f'V{i}']\n",
    "            MS = Solution[f'M{i+1}'] - Solution[f'M{i}']\n",
    "            FS = Solution[f'F{i+1}'] - Solution[f'F{i}']\n",
    "            BS = Solution[f'B{i+1}'] - Solution[f'B{i}']\n",
    "            GS = Solution[f'G{i+1}'] - Solution[f'G{i}']\n",
    "            print(' '*24+'<<<'+'👮'*PS+'🦹'*VS+'👩'*MS+'👨🏿'*FS+'👦'*BS+'👧🏾'*GS+'<<<')"
   ]
  },
  {
   "cell_type": "code",
   "execution_count": null,
   "metadata": {},
   "outputs": [],
   "source": [
    "show_solution(Solution, n)"
   ]
  },
  {
   "cell_type": "code",
   "execution_count": null,
   "metadata": {},
   "outputs": [],
   "source": []
  }
 ],
 "metadata": {
  "kernelspec": {
   "display_name": "Python 3 (ipykernel)",
   "language": "python",
   "name": "python3"
  },
  "language_info": {
   "codemirror_mode": {
    "name": "ipython",
    "version": 3
   },
   "file_extension": ".py",
   "mimetype": "text/x-python",
   "name": "python",
   "nbconvert_exporter": "python",
   "pygments_lexer": "ipython3",
   "version": "3.13.3"
  },
  "toc": {
   "base_numbering": 1,
   "nav_menu": {},
   "number_sections": true,
   "sideBar": true,
   "skip_h1_title": false,
   "title_cell": "Table of Contents",
   "title_sidebar": "Contents",
   "toc_cell": false,
   "toc_position": {},
   "toc_section_display": true,
   "toc_window_display": false
  },
  "varInspector": {
   "cols": {
    "lenName": 16,
    "lenType": 16,
    "lenVar": 40
   },
   "kernels_config": {
    "python": {
     "delete_cmd_postfix": "",
     "delete_cmd_prefix": "del ",
     "library": "var_list.py",
     "varRefreshCmd": "print(var_dic_list())"
    },
    "r": {
     "delete_cmd_postfix": ") ",
     "delete_cmd_prefix": "rm(",
     "library": "var_list.r",
     "varRefreshCmd": "cat(var_dic_list()) "
    }
   },
   "types_to_exclude": [
    "module",
    "function",
    "builtin_function_or_method",
    "instance",
    "_Feature"
   ],
   "window_display": false
  }
 },
 "nbformat": 4,
 "nbformat_minor": 4
}
